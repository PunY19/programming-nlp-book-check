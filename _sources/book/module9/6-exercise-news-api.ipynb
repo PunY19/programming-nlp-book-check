{
 "cells": [
  {
   "cell_type": "markdown",
   "metadata": {
    "id": "w4eEPtzu2g34"
   },
   "source": [
    "# แบบฝึกหัดการเรียก API\n",
    "\n",
    "## News API\n",
    "Explore the [News API](https://newsapi.org/) website. It is different from the Poke API in the previous exercise in a way that you now need to register for an account before retrieving any data from the website.\n",
    "\n",
    "Go ahead and register for an account.\n",
    "\n",
    "After that, an **API Key** will be shown. Copy it and save it in a variable because you will need to use it quite often."
   ]
  },
  {
   "cell_type": "code",
   "execution_count": null,
   "metadata": {
    "id": "b1SS-JWL2g3-"
   },
   "outputs": [],
   "source": [
    "api_key = ''"
   ]
  },
  {
   "cell_type": "markdown",
   "metadata": {
    "id": "VJvFWSPU2g4A"
   },
   "source": [
    "Next, go to your account page. You will see that you are registered for the Developer plan. It's fine for our use here. Below, you will see how many requests you have made. You are limited to 1,000 requests per 30 minutes, so don't waste them!"
   ]
  },
  {
   "cell_type": "markdown",
   "metadata": {
    "id": "D1qjg7os2g4A"
   },
   "source": [
    "## API Documentation\n",
    "[Documentation](https://newsapi.org/docs) is a good source to look for reference on how to use the API. Different data sources (website) have different API specs, so spend some time in the Documentation section to learn how to use the API."
   ]
  },
  {
   "cell_type": "markdown",
   "metadata": {
    "id": "HvC9PcgJ2g4C"
   },
   "source": [
    "## Sample API Call - Curated Headline\n",
    "Let's make our first API call. We will get the lastest headlines from the API. Go to the [Get the current top headlines for a country or category](https://newsapi.org/docs/get-started#top-headlines) section. You will see on the right side the URL format that you need to construct\n",
    "\n",
    "```\n",
    "GET https://newsapi.org/v2/top-headlines?country=us&apiKey=API_KEY\n",
    "``` \n",
    "\n",
    "The first word (`GET`) simply tells you what kind of API endpoint it is. Most of the time, you will see two kinds of API endpoint \n",
    "* `GET` is an endpoint from where you retrieve data such as retrieving news headlines\n",
    "* `POST` is an endpoint to where you submit data such as posting a message to Twitter\n",
    "This keyword tells you which function in the `requests` module to call `requests.get` or `requests.post`\n",
    "\n",
    "The second part is the URL. Notice that there are parameters you can or must adjust\n",
    "* `country`\n",
    "* `apiKey`\n",
    "The sample URL specify \"us\" as the country. However, it left the `apiKey` as a placeholder, so you have to put your API key here."
   ]
  },
  {
   "cell_type": "code",
   "execution_count": null,
   "metadata": {
    "id": "GGERK7_n2g4C"
   },
   "outputs": [],
   "source": [
    "# Use f-string to help construct the URL\n",
    "url = f\"https://newsapi.org/v2/top-headlines?country=us&apiKey={api_key}\""
   ]
  },
  {
   "cell_type": "markdown",
   "metadata": {
    "id": "6vrVRX0b2g4D"
   },
   "source": [
    "Now, we are ready to \"GET\" the data."
   ]
  },
  {
   "cell_type": "code",
   "execution_count": null,
   "metadata": {
    "id": "O_2-vgqc2g4E"
   },
   "outputs": [],
   "source": [
    "import requests\n",
    "response = requests.get(url)\n",
    "print(response.text)"
   ]
  },
  {
   "cell_type": "markdown",
   "metadata": {
    "id": "kX39MTqI2g4F"
   },
   "source": [
    "Since the response is in JSON format, we can use the JSON module to help convert it into python dictionary."
   ]
  },
  {
   "cell_type": "code",
   "execution_count": null,
   "metadata": {
    "id": "ZtVWPT_02g4G"
   },
   "outputs": [],
   "source": [
    "import json\n",
    "data = json.loads(response.text)\n",
    "print(data)"
   ]
  },
  {
   "cell_type": "markdown",
   "metadata": {
    "id": "wlWM-4Jw2g4H"
   },
   "source": [
    "### Exercise 1. Get Thailand's headlines\n",
    "Reconstruct the url to retrieve headlines from Thailand."
   ]
  },
  {
   "cell_type": "code",
   "execution_count": null,
   "metadata": {
    "id": "F20KlPCa2g4I"
   },
   "outputs": [],
   "source": [
    "# Your implementation here"
   ]
  },
  {
   "cell_type": "markdown",
   "metadata": {
    "id": "iei6op8b2g4I"
   },
   "source": [
    "## Authentication\n",
    "Next, let's look at the [authentication section](https://newsapi.org/docs/authentication) of the documentation. Since you have limited number of requests you can make, you have to manage your credential carefully so that other people (hackers!) cannot steal your precious resources.\n",
    "\n",
    "Previously, we simply put the our API key in the URL. This is not ideal because hackers can sniff your traffic (especially when you use free public wi-fi) and steal your API key. We will put our API key in the request header instead (the last method mentioned in the documentation.)"
   ]
  },
  {
   "cell_type": "code",
   "execution_count": null,
   "metadata": {
    "id": "W73Hr4F62g4J"
   },
   "outputs": [],
   "source": [
    "# note that we no longer put the API key in the URL\n",
    "url = f\"https://newsapi.org/v2/top-headlines?country=us\"\n",
    "\n",
    "# construct header as a dictionary\n",
    "# use the key as specified in the documentation (case-sensitive)\n",
    "header = {\n",
    "    'Authorization': api_key\n",
    "}\n",
    "\n",
    "# adjust the function call\n",
    "# pass our dictionary as a parameter to the function\n",
    "response = requests.get(url, headers=header)\n",
    "\n",
    "print(response.text)"
   ]
  },
  {
   "cell_type": "code",
   "execution_count": null,
   "metadata": {
    "id": "bLi6a84a2g4K"
   },
   "outputs": [],
   "source": [
    "# Convert the response into JSON\n",
    "# Your implementation here"
   ]
  },
  {
   "cell_type": "markdown",
   "metadata": {
    "id": "iGOaboGI2g4L"
   },
   "source": [
    "## Endpoints\n",
    "Let's explore what else the News API offer at the [Endpoints](https://newsapi.org/docs/endpoints) section."
   ]
  },
  {
   "cell_type": "markdown",
   "metadata": {
    "id": "65eCBwu02g4M"
   },
   "source": [
    "## Exercises"
   ]
  },
  {
   "cell_type": "markdown",
   "metadata": {
    "id": "zV8miwpT2g4M"
   },
   "source": [
    "### Exercises 2 - News Sources\n",
    "List all the news sources available in Thailand"
   ]
  },
  {
   "cell_type": "code",
   "execution_count": null,
   "metadata": {
    "id": "9Gh-P19S2g4N"
   },
   "outputs": [],
   "source": [
    "# Your implementation here"
   ]
  },
  {
   "cell_type": "markdown",
   "metadata": {
    "id": "2nktmZab2g4N"
   },
   "source": [
    "### Exercises 3 - News Search\n",
    "Find all the news about \"APEC\" (on `everything` endpoint)"
   ]
  },
  {
   "cell_type": "code",
   "execution_count": null,
   "metadata": {
    "id": "Y3eoxSI32g4O"
   },
   "outputs": [],
   "source": [
    "# Your implementation here"
   ]
  },
  {
   "cell_type": "markdown",
   "metadata": {
    "id": "OLDX53oq2g4P"
   },
   "source": [
    "### Exercises 4 - News Sentiment\n",
    "Based on exercises 3, group the news by each news source. Does each news source present different sentiment about \"APEC\"?"
   ]
  },
  {
   "cell_type": "code",
   "execution_count": null,
   "metadata": {
    "id": "19lG-dF62g4P"
   },
   "outputs": [],
   "source": [
    "# Your implementation here"
   ]
  }
 ],
 "metadata": {
  "colab": {
   "collapsed_sections": [],
   "name": "2 - News API Exercises.ipynb",
   "provenance": []
  },
  "kernelspec": {
   "display_name": "Python 3.8.12",
   "language": "python",
   "name": "python3"
  },
  "language_info": {
   "codemirror_mode": {
    "name": "ipython",
    "version": 3
   },
   "file_extension": ".py",
   "mimetype": "text/x-python",
   "name": "python",
   "nbconvert_exporter": "python",
   "pygments_lexer": "ipython3",
   "version": "3.8.12"
  },
  "vscode": {
   "interpreter": {
    "hash": "34368ba4908ea1be08ba769dfb7764ab7f8ead2384ebb5604cb86637573696f7"
   }
  }
 },
 "nbformat": 4,
 "nbformat_minor": 4
}
