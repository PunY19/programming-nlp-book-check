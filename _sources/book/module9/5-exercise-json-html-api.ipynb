{
 "cells": [
  {
   "cell_type": "markdown",
   "metadata": {
    "id": "jQ3_rpyQOIqo"
   },
   "source": [
    "# แบบฝึกหัด JSON Serialization และการเรียก API \n",
    "## JSON File (xxx.json) I/O\n",
    "\n",
    "JSON array เป็น **format หนึ่ง** ซึ่งหน้าตาเหมือน string (มีรายละเอียดในสไลด์)\n",
    "\n",
    "ส่วน JSON file เป็นไฟล์ที่บันทึกแล้ว\n",
    "\n",
    "ถ้า API ให้ผลเป็น json ตอนที่ส่ง request มันเป็น **json array**\n",
    "\n",
    "เวลา dump เป็น JSON file ถ้าอยากดูไฟล์ที่มีตัวที่ไม่ใช่อักษรโรมันใส่ `ensure_ascii=False`\n",
    "\n",
    "|input --> output| คำสั่ง| |\n",
    "|:--|:-:|:--|\n",
    "|1. JSON file --> dictionary, list | `json.load(file)`| ใช้บ่อย |\n",
    "|2. dictionary, list --> JSON file | `json.dump(data, file)` | ใช้บ่อย |\n",
    "|3. JSON Array string --> dictionary, list | `json.loads(string)` | ตอน scraping เป็นต้น |\n",
    "|4. dictionary, list --> JSON Array string | `json.dumps(data)` | ตอนทำเว็บไซต์ เป็นต้น |"
   ]
  },
  {
   "cell_type": "code",
   "execution_count": null,
   "metadata": {
    "id": "UOJtkn8lNMnP"
   },
   "outputs": [],
   "source": [
    "# 1.\n",
    "import json\n",
    "with open('data/twitter.json') as f:\n",
    "    data = json.load(f)\n",
    "print(data)"
   ]
  },
  {
   "cell_type": "code",
   "execution_count": null,
   "metadata": {
    "id": "TSA8V_d7P7f1"
   },
   "outputs": [],
   "source": [
    "# 2.\n",
    "name_dic = {'1':{'name':'Ponrawee','nickname':'Tongla'}, '2':{'name':'Nozomi','nickname':'No'}}\n",
    "with open('name.json', 'w') as f:\n",
    "    json.dump(name_dic, f, indent=4, ensure_ascii=False) # ถ้าอยากดูไฟล์ที่มีตัวที่ไม่ใช่อักษรโรมันใส่ ensure_ascii=False"
   ]
  },
  {
   "cell_type": "code",
   "execution_count": null,
   "metadata": {
    "id": "kYOoY8TzRM6v"
   },
   "outputs": [],
   "source": [
    "# 3.\n",
    "num_dic_str = '{\"1\": {\"EN\": \"one\", \"JP\": \"ichi\"}, \"2\": {\"EN\": \"two\", \"JP\": \"ni\"}}' # JSON Array string\n",
    "num_dic = json.loads(num_dic_str)\n",
    "num_dic  # dict"
   ]
  },
  {
   "cell_type": "code",
   "execution_count": null,
   "metadata": {
    "id": "I9y5r3-wR3NP"
   },
   "outputs": [],
   "source": [
    "# 4.\n",
    "num_list = [[1,2,3],[4,5,6],[7,8,9]]\n",
    "num_list_str = json.dumps(num_list)\n",
    "num_list_str # JSON Array string"
   ]
  },
  {
   "cell_type": "markdown",
   "metadata": {
    "id": "XaTcmyp3V_g3"
   },
   "source": [
    "## 1. List of Universities in Thailand\n",
    "\n",
    "We want to get the names of all universities in Thailand. Currently, Thai universities are registered with Ministry of Higher Education, Science, and Innovation, the newest Ministry as of 2019.\n",
    "\n",
    "First, let's import the modules needed. We need `requests` module for pulling the information from web pages. **Import that module.**"
   ]
  },
  {
   "cell_type": "code",
   "execution_count": null,
   "metadata": {
    "id": "bSEaaJqQ9adJ"
   },
   "outputs": [],
   "source": [
    "### import the required module\n",
    "### YOUR CODE HERE"
   ]
  },
  {
   "cell_type": "markdown",
   "metadata": {
    "id": "OOtda83aYTXt"
   },
   "source": [
    "Take a look at their website [www.mhesi.go.th](https://www.mhesi.go.th/). Can you guess what page contains the information we want?"
   ]
  },
  {
   "cell_type": "markdown",
   "metadata": {
    "id": "7LFi6UFiWp8c"
   },
   "source": [
    "Navigate into `แนะนำหน่วยงาน` -> `การแบ่งส่วนราชการ`. You will find that this is a good starting point, but we are not there yet.\n",
    "\n",
    "Click `อ่านต่อ` at the bottom of the page a couple of times, you will find our treasure!\n",
    "\n",
    "Take note of the URL of that page and put it in the variable below."
   ]
  },
  {
   "cell_type": "code",
   "execution_count": null,
   "metadata": {
    "id": "_iDSDMBB-ghb"
   },
   "outputs": [],
   "source": [
    "### Put the URL in the variable below\n",
    "\n",
    "### YOUR IMPLEMENTATION HERE\n",
    "url = "
   ]
  },
  {
   "cell_type": "markdown",
   "metadata": {
    "id": "i0MS0fmxZOkW"
   },
   "source": [
    "Next, get the response from the page"
   ]
  },
  {
   "cell_type": "code",
   "execution_count": null,
   "metadata": {
    "id": "eIaQGrD-ZL2R"
   },
   "outputs": [],
   "source": [
    "### Get the response\n",
    "\n",
    "### YOUR IMPLEMENTATION HERE\n",
    "response = "
   ]
  },
  {
   "cell_type": "markdown",
   "metadata": {
    "id": "GauclDluaDgV"
   },
   "source": [
    "After getting the response, print out its response code. You should get the code 200. Remember what it means?"
   ]
  },
  {
   "cell_type": "code",
   "execution_count": null,
   "metadata": {
    "id": "z9Bj28nbaMpa"
   },
   "outputs": [],
   "source": [
    "print(response.status_code)\n",
    "## The result should be 200"
   ]
  },
  {
   "cell_type": "markdown",
   "metadata": {
    "id": "0RYYYgY_a0vF"
   },
   "source": [
    "Store the response text in a variable. Print it out for sanity check."
   ]
  },
  {
   "cell_type": "code",
   "execution_count": null,
   "metadata": {
    "id": "3dz4KQs3a5cf"
   },
   "outputs": [],
   "source": [
    "### Assign response.text to a variable\n",
    "\n",
    "### YOUR IMPLEMENTATION HERE\n",
    "response_text =\n",
    "\n",
    "print(response_text)"
   ]
  },
  {
   "cell_type": "markdown",
   "metadata": {
    "id": "2csax8MQbTQD"
   },
   "source": [
    "What is the data type of the response_text variable? Let's check it out!"
   ]
  },
  {
   "cell_type": "code",
   "execution_count": null,
   "metadata": {
    "id": "NOOcbQ4VbYpO"
   },
   "outputs": [],
   "source": [
    "print(type(response_text))"
   ]
  },
  {
   "cell_type": "markdown",
   "metadata": {
    "id": "LOzkoz68bgZD"
   },
   "source": [
    "You should see `str` that means `response_text` is a string! We can use whatever we learn with strings to extract the information we want. Now, let's use regular expression to extract the name of universities.\n",
    "\n",
    "Go back and look at the web page, can you find the pattern in the name of universities? Are there any word(s) in the names that give you a signal that they are universities? Are there any word(s) that you immediately recognize that they are not universities?\n",
    "\n",
    "Construct a regular expression based on your observation.\n",
    "\n",
    "Do the following:\n",
    "1. **Import `re` package** (Remember what it does?)\n",
    "1. Construct a regular expression model based on the pattern you found\n",
    "1. Use a proper method of regular expressions to extract the names of universities"
   ]
  },
  {
   "cell_type": "code",
   "execution_count": null,
   "metadata": {
    "id": "xWOHGm-_ba4c"
   },
   "outputs": [],
   "source": [
    "### Import the re package\n",
    "### YOUR CODE HERE"
   ]
  },
  {
   "cell_type": "code",
   "execution_count": null,
   "metadata": {
    "id": "aKV-OksVcZWr"
   },
   "outputs": [],
   "source": [
    "### Construct a regular expression model\n",
    "### YOUR IMPLEMENTATION HERE"
   ]
  },
  {
   "cell_type": "code",
   "execution_count": null,
   "metadata": {
    "id": "TDPsroSTcaL1"
   },
   "outputs": [],
   "source": [
    "### Extract the names of universities\n",
    "### YOUR IMPLEMENTATION HERE"
   ]
  },
  {
   "cell_type": "markdown",
   "metadata": {
    "id": "7sRbe2WEcHwN"
   },
   "source": [
    "Finally, print out the names of the universities. (155 universities)"
   ]
  },
  {
   "cell_type": "code",
   "execution_count": null,
   "metadata": {
    "id": "wHduy9mMcfom"
   },
   "outputs": [],
   "source": [
    "### Print names of universities\n",
    "### YOUR IMPLEMENTATION HERE"
   ]
  },
  {
   "cell_type": "markdown",
   "metadata": {
    "id": "Pc4nWDt_c457"
   },
   "source": [
    "## 2. Poke API\n",
    "\n",
    "Although we all love cats, nobody can argue that Pokemons are so much cuter.\n",
    "\n",
    "<img src=\"https://o.aolcdn.com/images/dims?quality=85&image_uri=http%3A%2F%2Fo.aolcdn.com%2Fhss%2Fstorage%2Fmidas%2F6623d5a6ae583f81ee3515b6b3615c7f%2F204855766%2Flandscape-1456483171-pokemon2.jpg&client=amp-blogside-v2&signature=a66341cc83efebc3c63cadf0db972d9a16e1b05d\" alt=\"Pokemon\" width=\"500\" />\n",
    "\n",
    "Too energetic, how about Snorlax?\n",
    "\n",
    "<img src=\"https://assets.pokemon.com/assets/cms2/img/pokedex/full/143.png\" alt=\"Snorlax\" width=\"350\"/>\n",
    "\n",
    "\n",
    "Now that we all love Pokemons. We want to list out the names of all 964 of them! Fortunately, others also love Pokemons, so APIs have already been created at [Poke API](https://pokeapi.co/)\n",
    "\n",
    "We will use the [`pokemon` endpoint](https://pokeapi.co/docs/v2.html/#pokemon) to retrieve the names of all Pokemons.\n",
    "\n",
    "First, let's construct the URL of the endpoint."
   ]
  },
  {
   "cell_type": "code",
   "execution_count": null,
   "metadata": {
    "id": "VdAKQyy8fy6e"
   },
   "outputs": [],
   "source": [
    "### URL for pokemon endpoint\n",
    "### YOU MUST FILL IN THE BLANK IN THE LINE BELOW\n",
    "url = 'https://pokeapi.co/api/v2/...'\n",
    "\n",
    "url = 'https://pokeapi.co/api/v2/pokemon'"
   ]
  },
  {
   "cell_type": "markdown",
   "metadata": {
    "id": "oA7hU2a5fxhr"
   },
   "source": [
    "As in the previous task, \n",
    "1. Use `requests` module to get the content from the URL (now our API endpoint)\n",
    "1. Print out `status_code` and `text` for sanity check (What is the value you should expect of `status_code`?)"
   ]
  },
  {
   "cell_type": "code",
   "execution_count": null,
   "metadata": {
    "id": "SkQEeW2ThUe-"
   },
   "outputs": [],
   "source": [
    "### Get content from URL\n",
    "### YOUR IMPLEMENTATION HERE"
   ]
  },
  {
   "cell_type": "code",
   "execution_count": null,
   "metadata": {
    "id": "bymWYm0fhYFJ"
   },
   "outputs": [],
   "source": [
    "### Print out status_code and text\n",
    "### YOUR IMPLEMENTATION HERE"
   ]
  },
  {
   "cell_type": "markdown",
   "metadata": {
    "id": "F05KGRzZhbdH"
   },
   "source": [
    "Notice that `text` is in JSON format, let **import `json`** module and use `json.loads()` to convert it to a dictionary (named `poke_dict`)."
   ]
  },
  {
   "cell_type": "code",
   "execution_count": null,
   "metadata": {
    "id": "U8zFe_HYhlGr"
   },
   "outputs": [],
   "source": [
    "### import json module\n",
    "### YOUR CODE HERE\n",
    "\n",
    "\n",
    "### Convert text to dictionary using json.loads()\n",
    "### YOUR IMPLEMENTATION HERE\n",
    "poke_dict = "
   ]
  },
  {
   "cell_type": "markdown",
   "metadata": {
    "id": "ajVGU1dph2pB"
   },
   "source": [
    "Observe the structure of the json/dictionary (you might want to print it out). Get the names of the Pokemons (put them in a list)."
   ]
  },
  {
   "cell_type": "code",
   "execution_count": null,
   "metadata": {
    "id": "XHhve2KKiCDG"
   },
   "outputs": [],
   "source": [
    "### YOUR IMPLEMENTATION HERE"
   ]
  },
  {
   "cell_type": "markdown",
   "metadata": {
    "id": "unmbj2dqiEob"
   },
   "source": [
    "Finally, print out the names of the Pokemons."
   ]
  },
  {
   "cell_type": "code",
   "execution_count": null,
   "metadata": {
    "id": "yg2rodBWiKW6"
   },
   "outputs": [],
   "source": [
    "### YOUR IMPLEMENTATION HERE"
   ]
  },
  {
   "cell_type": "markdown",
   "metadata": {
    "id": "WGSfdzZJiMHZ"
   },
   "source": [
    "Notice that you only get the names of 20 Pokemons. Why?\n",
    "\n",
    "Because most API providers *paginate* the responses, meaning that instead of returning a big chunk of results, they spilt up the results into multiple *pages* and returning them to you one at a time.\n",
    "\n",
    "Observe in our response previously that there is a value associated with the key `next`. That is the URL to our next page of results."
   ]
  },
  {
   "cell_type": "markdown",
   "metadata": {
    "id": "z_1TPaTFiv87"
   },
   "source": [
    "## 3. Looping on `next`\n",
    "\n",
    "As an extra practice, take the URL from `next` key and keep requesting the content from the API until `next` has the value of `null` (`null` in JSON = `None` in python).\n",
    "\n",
    "When you are done with this, you should get the names of all 964 Pokemons.\n",
    "\n",
    "<img src=\"https://attackofthefanboy.com/wp-content/uploads/2016/03/worst-pokemon.jpg\" alt=\"All Pokemons\" width=\"800\"/>"
   ]
  },
  {
   "cell_type": "code",
   "execution_count": null,
   "metadata": {
    "id": "kbi15UrCgRYi"
   },
   "outputs": [],
   "source": [
    "### YOUR IMPLEMENTATION HERE"
   ]
  }
 ],
 "metadata": {
  "colab": {
   "collapsed_sections": [],
   "name": "week12.ipynb",
   "provenance": []
  },
  "kernelspec": {
   "display_name": "Python 3.8.12",
   "language": "python",
   "name": "python3"
  },
  "language_info": {
   "codemirror_mode": {
    "name": "ipython",
    "version": 3
   },
   "file_extension": ".py",
   "mimetype": "text/x-python",
   "name": "python",
   "nbconvert_exporter": "python",
   "pygments_lexer": "ipython3",
   "version": "3.8.12"
  },
  "vscode": {
   "interpreter": {
    "hash": "34368ba4908ea1be08ba769dfb7764ab7f8ead2384ebb5604cb86637573696f7"
   }
  }
 },
 "nbformat": 4,
 "nbformat_minor": 4
}
