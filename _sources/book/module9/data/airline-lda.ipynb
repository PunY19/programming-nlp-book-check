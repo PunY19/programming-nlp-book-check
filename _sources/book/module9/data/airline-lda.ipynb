{
 "cells": [
  {
   "cell_type": "code",
   "execution_count": 3,
   "metadata": {},
   "outputs": [],
   "source": [
    "from zipfile import ZipFile\n",
    "import os\n",
    "\n",
    "# Define the path to the uploaded zip file and the extraction directory\n",
    "zip_file_path = '../../module7/data/Airline_review.csv.zip'\n",
    "\n",
    "# Read the csv file inside the zip file without extracting the file into the file system\n",
    "import pandas as pd\n",
    "with ZipFile(zip_file_path, 'r') as zip_ref:\n",
    "    with zip_ref.open('Airline_review.csv') as file:\n",
    "        df = pd.read_csv(file)\n",
    "        \n"
   ]
  },
  {
   "cell_type": "code",
   "execution_count": 5,
   "metadata": {},
   "outputs": [],
   "source": [
    "import nltk"
   ]
  },
  {
   "cell_type": "code",
   "execution_count": 11,
   "metadata": {},
   "outputs": [],
   "source": [
    "# Manually define a basic set of English stopwords\n",
    "manual_stop_words = {\n",
    "    'i', 'me', 'my', 'myself', 'we', 'our', 'ours', 'ourselves', 'you', \"you're\", \"you've\", \"you'll\", \"you'd\", 'your', \n",
    "    'yours', 'yourself', 'yourselves', 'he', 'him', 'his', 'himself', 'she', \"she's\", 'her', 'hers', 'herself', \n",
    "    'it', \"it's\", 'its', 'itself', 'they', 'them', 'their', 'theirs', 'themselves', 'what', 'which', 'who', 'whom', \n",
    "    'this', 'that', \"that'll\", 'these', 'those', 'am', 'is', 'are', 'was', 'were', 'be', 'been', 'being', 'have', 'has', \n",
    "    'had', 'having', 'do', 'does', 'did', 'doing', 'a', 'an', 'the', 'and', 'but', 'if', 'or', 'because', 'as', 'until', \n",
    "    'while', 'of', 'at', 'by', 'for', 'with', 'about', 'against', 'between', 'into', 'through', 'during', 'before', 'after',\n",
    "    'above', 'below', 'to', 'from', 'up', 'down', 'in', 'out', 'on', 'off', 'over', 'under', 'again', 'further', 'then', \n",
    "    'once', 'here', 'there', 'when', 'where', 'why', 'how', 'all', 'any', 'both', 'each', 'few', 'more', 'most', 'other', \n",
    "    'some', 'such', 'no', 'nor', 'not', 'only', 'own', 'same', 'so', 'than', 'too', 'very', 's', 't', 'can', 'will', 'just', \n",
    "    'don', \"don't\", 'should', \"should've\", 'now', 'd', 'll', 'm', 'o', 're', 've', 'y', 'ain', 'aren', \"aren't\", 'couldn', \n",
    "    \"couldn't\", 'didn', \"didn't\", 'doesn', \"doesn't\", 'hadn', \"hadn't\", 'hasn', \"hasn't\", 'haven', \"haven't\", 'isn', \"isn't\", \n",
    "    'ma', 'mightn', \"mightn't\", 'mustn', \"mustn't\", 'needn', \"needn't\", 'shan', \"shan't\", 'shouldn', \"shouldn't\", 'wasn', \n",
    "    \"wasn't\", 'weren', \"weren't\", 'won', \"won't\", 'wouldn', \"wouldn't\"\n",
    "}\n",
    "import re\n",
    "\n",
    "def clean(text):\n",
    "\n",
    "    text = re.sub('[^a-zA-Z\\s]', '', text).lower()\n",
    "    # Tokenize the text\n",
    "    words = nltk.word_tokenize(text)\n",
    "    \n",
    "    # Remove stopwords\n",
    "    words = [x for x in words if x not in manual_stop_words]\n",
    "    \n",
    "    return words\n",
    "\n",
    "reviews = df['Review'].apply(clean).tolist()"
   ]
  },
  {
   "cell_type": "code",
   "execution_count": 12,
   "metadata": {},
   "outputs": [],
   "source": [
    "# use gensim to create a dictionary and a corpus\n",
    "from gensim import corpora\n",
    "\n",
    "dictionary = corpora.Dictionary(reviews)\n",
    "corpus = [dictionary.doc2bow(review) for review in reviews]\n",
    "\n",
    "\n"
   ]
  },
  {
   "cell_type": "code",
   "execution_count": 17,
   "metadata": {},
   "outputs": [],
   "source": [
    "# Train the LDA model\n",
    "from gensim import models\n",
    "\n",
    "num_topics = 10\n",
    "lda_model = models.LdaModel(corpus, num_topics=num_topics, id2word=dictionary, \n",
    "                            passes=5, alpha='auto', eta='auto',  random_state=10)"
   ]
  },
  {
   "cell_type": "code",
   "execution_count": 18,
   "metadata": {},
   "outputs": [
    {
     "name": "stdout",
     "output_type": "stream",
     "text": [
      "0:flight good food crew service cabin time seats friendly staff\n",
      "1:luggage bag baggage pay kg extra carry bags checked wow\n",
      "2:de la que volotea el en las con por un\n",
      "3:airline air flights airlines service fly time like flying low\n",
      "4:seat seats extra flight row paid get front plane back\n",
      "5:luggage baggage lost bag bags claim days manila arrived suitcase\n",
      "6:ticket pay check service online customer airline website said told\n",
      "7:johannesburg china kuala lumpur test town cape klm chinese shanghai\n",
      "8:flight us plane airport boarding staff time gate passengers minutes\n",
      "9:flight airline hours get us service customer day time would\n"
     ]
    }
   ],
   "source": [
    "\n",
    "# Print the topics\n",
    "for i in range(lda_model.num_topics):\n",
    "    print (str(i) + ':' + ' '.join([w[0] for w in lda_model.show_topic(i)]))\n",
    "\n",
    "# Assign the topics to the reviews\n",
    "topics = lda_model.get_document_topics(corpus)\n"
   ]
  },
  {
   "cell_type": "code",
   "execution_count": null,
   "metadata": {},
   "outputs": [],
   "source": [
    "import pyLDAvis.gensim as gensimvis\n",
    "vis_data = gensimvis.prepare(lda_model, corpus, dictionary, sort_topics=False)\n",
    "pyLDAvis.display(vis_data)"
   ]
  }
 ],
 "metadata": {
  "kernelspec": {
   "display_name": "base",
   "language": "python",
   "name": "python3"
  },
  "language_info": {
   "codemirror_mode": {
    "name": "ipython",
    "version": 3
   },
   "file_extension": ".py",
   "mimetype": "text/x-python",
   "name": "python",
   "nbconvert_exporter": "python",
   "pygments_lexer": "ipython3",
   "version": "3.11.4"
  }
 },
 "nbformat": 4,
 "nbformat_minor": 2
}
