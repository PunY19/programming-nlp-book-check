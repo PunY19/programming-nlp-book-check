{
 "cells": [
  {
   "cell_type": "markdown",
   "metadata": {
    "id": "3QkoLriuAHFQ"
   },
   "source": [
    "# เฉลยโจทย์: การประมวลผลข้อมูลจากไฟล์\n"
   ]
  },
  {
   "cell_type": "markdown",
   "metadata": {},
   "source": [
    "### ข้อ 6 - Codeswitching"
   ]
  },
  {
   "cell_type": "code",
   "execution_count": null,
   "metadata": {},
   "outputs": [],
   "source": [
    "import re # import โมดูล regular expression เพื่อใช้ในการหาคำ\n",
    "\n",
    "def count_en_th_words(word_list):\n",
    "    \"\"\"\n",
    "    \n",
    "    Example:\n",
    "    >>> count_en_th_words(['รองเท้า', 'ไม่', 'match', 'กับ', 'coat', 'เลย'])\n",
    "    {'en': 2, 'th': 4}\n",
    "    \"\"\"\n",
    "    # สร้าง dict ที่มีค่าเริ่มต้นของจำนวนคำภาษาอังกฤษและภาษาไทยเป็น 0\n",
    "    result_dict = {'en': 0, 'th': 0}\n",
    "    # วนลูปผ่านคำในรายการคำ\n",
    "    for w in word_list:\n",
    "        # ตรวจสอบว่าคำเป็นภาษาอังกฤษหรือไม่\n",
    "        if re.search('[a-zA-Z]', w):\n",
    "            # ถ้าใช่ เพิ่มจำนวนคำภาษาอังกฤษขึ้น 1\n",
    "            result_dict['en'] += 1\n",
    "        else:\n",
    "            # ถ้าไม่ใช่ เพิ่มจำนวนคำภาษาไทยขึ้น 1\n",
    "            result_dict['th'] += 1\n",
    "\n",
    "    return result_dict"
   ]
  }
 ],
 "metadata": {
  "colab": {
   "collapsed_sections": [],
   "name": "PC7 Regular Expression.ipynb",
   "provenance": []
  },
  "kernelspec": {
   "display_name": "Python 3.8.12",
   "language": "python",
   "name": "python3"
  },
  "language_info": {
   "codemirror_mode": {
    "name": "ipython",
    "version": 3
   },
   "file_extension": ".py",
   "mimetype": "text/x-python",
   "name": "python",
   "nbconvert_exporter": "python",
   "pygments_lexer": "ipython3",
   "version": "3.8.12"
  },
  "vscode": {
   "interpreter": {
    "hash": "34368ba4908ea1be08ba769dfb7764ab7f8ead2384ebb5604cb86637573696f7"
   }
  }
 },
 "nbformat": 4,
 "nbformat_minor": 4
}
