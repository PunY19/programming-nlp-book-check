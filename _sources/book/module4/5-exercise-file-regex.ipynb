{
 "cells": [
  {
   "cell_type": "markdown",
   "metadata": {
    "id": "3QkoLriuAHFQ"
   },
   "source": [
    "# โจทย์: การประมวลผลข้อมูลจากไฟล์\n"
   ]
  },
  {
   "cell_type": "markdown",
   "metadata": {
    "id": "IFJNT7NgXQbR"
   },
   "source": [
    "##  ข้อ 1 - สุนทรพจน์ของโอบามา\n",
    "\n",
    "ไฟล์ [obama.txt](https://drive.google.com/file/d/1iA1s-yNIhdCQvo4BS8d7CVBICHZs4okt/view) มีสุนทรพจน์ของโอบามาในปี 2013 แต่ไฟล์นี้มีความพิเศษตรงที่มี Part of speech tag นั่นคือ แต่ละคำในไฟล์จะมีบอกไว้ด้วยว่าเป็น noun, verb, pronoun หรือเครื่องหมายวรรคตอนแบบต่าง ๆ เช่น ประโยค\n",
    "\n",
    "```\n",
    "Thank you. God bless you, and may He forever bless these United States of America.\n",
    "```\n",
    "\n",
    "จะปรากฏในไฟล์เป็น\n",
    "\n",
    "```\n",
    "Thank_VV you_PP ._SENT God_NP bless_VVP you_PP ,_, and_CC may_MD He_PP forever_RB bless_VV these_DT United_NP States_NPS of_IN America_NP ._SENT\n",
    "```\n",
    "\n",
    "โดยที่แต่ละคำและเครื่องหมายวรรคตอนจะถูกตามด้วยเครื่องหมาย _ และตัวหนังสือพิมพ์ใหญ่ทั้งหมด ซึ่งตัวพิมพ์ใหญ่ที่ตามมาเป็นตัวย่อที่บอกว่า Part of speech ของมันคืออะไร (เรียกว่า tag) เช่น VV แปลว่า Verb, PP แปลว่า Pronouns, NN แปลว่า noun, SENT แปลว่าเป็นจุด full stop\n",
    "\n",
    "1. เขียนโปรแกรมเพื่อนับว่าความถี่ part-of-speech แต่ละอันเป็นเท่าไร\n",
    "2. เขียนโปรแกรมหาคำที่พบมากที่สุด 100 อันดับ \n",
    "\n",
    "คำใบ้:\n",
    "\n",
    "* ลองทดสอบกับข้อความตัวอย่างข้างบนก่อน\n",
    "* ตัด string ออกมาเป็นคำ ๆ เป็น list\n",
    "* iterate ไปบน list และแยกคำกับ part-of-speech ออกจากกัน\n",
    "* ใช้ `Counter` ในการเก็บความถี่ \n",
    "* พอข้างบนเสร็จแล้วค่อยลองเปิดไฟล์ และอ่านทีละบรรทัด"
   ]
  },
  {
   "cell_type": "markdown",
   "metadata": {
    "id": "bqnLI4XMYvRp"
   },
   "source": [
    "##  ข้อ 2 - ตรวจหาชื่อ\n",
    "ชื่อคนในภาษาอังกฤษ เช่น Peter Meg Lois Brian Stewie จะมีการสะกดแบบพิเศษ คือ ขึ้นต้นด้วยตัวใหญ่แค่ตัวหน้าเท่านั้น \n",
    "\n",
    "เขียนฟังก์ชันที่ detect ว่าคำที่ให้มานั้นมีรูปร่างเหมือนชื่อคนภาษาอังกฤษหรือไม่ \n",
    "\n",
    "คำใบ้: ใช้คำสั่ง `re.match` "
   ]
  },
  {
   "cell_type": "code",
   "execution_count": null,
   "metadata": {
    "id": "BMNwUfxqZPAC"
   },
   "outputs": [],
   "source": [
    "import re\n",
    "def is_name_like(word):\n",
    "  return False"
   ]
  },
  {
   "cell_type": "code",
   "execution_count": null,
   "metadata": {
    "id": "NK_A6_ZwaPCR"
   },
   "outputs": [],
   "source": [
    "assert(is_name_like('Brian'))\n",
    "assert(not is_name_like('tangmay'))"
   ]
  },
  {
   "cell_type": "markdown",
   "metadata": {
    "id": "YT5LzuEWYvux"
   },
   "source": [
    "เขียนฟังก์ชันที่ return list ของคำทั้งหมดที่อาจจะเป็นชื่อคนจากประโยคที่ให้มา \n",
    "\n",
    "คำใบ้: ใช้คำสั่ง `re.findall` และอย่าใช้คำสั่ง `str.split`"
   ]
  },
  {
   "cell_type": "code",
   "execution_count": null,
   "metadata": {
    "id": "eY02ZvLyZkGP"
   },
   "outputs": [],
   "source": [
    "def get_all_names(sentence):\n",
    "  return []"
   ]
  },
  {
   "cell_type": "code",
   "execution_count": null,
   "metadata": {
    "id": "RS31LrgragKZ"
   },
   "outputs": [],
   "source": [
    "assert(get_all_names('Joe got married to Bonnie after his PhD in the USA')[0] == 'Joe')\n",
    "assert(get_all_names('Joe got married to Bonnie after his PhD in the USA')[1] == 'Bonnie')"
   ]
  },
  {
   "cell_type": "markdown",
   "metadata": {
    "id": "Q4UcDUjSeh5n"
   },
   "source": [
    "เขียนฟังก์ชันที่แทนที่คำที่น่าจะเป็นชื่อ ด้วย XXX เพื่อเป็นการ censor\n",
    "\n",
    "Hint: ใช้คำสั่ง `re.sub` "
   ]
  },
  {
   "cell_type": "code",
   "execution_count": null,
   "metadata": {
    "id": "uOIqB6gbeg9U"
   },
   "outputs": [],
   "source": [
    "def censor_names(sentence):\n",
    "  return ''"
   ]
  },
  {
   "cell_type": "code",
   "execution_count": null,
   "metadata": {
    "id": "_442u4Nte3bF"
   },
   "outputs": [],
   "source": [
    "assert(censor_names('Joe got married to Bonnie after his PhD in the USA') == 'XXX got married to XXX after his PhD in the USA')"
   ]
  },
  {
   "cell_type": "markdown",
   "metadata": {
    "id": "ecCBUoyu0F3R"
   },
   "source": [
    "##  ข้อ 3 - เครื่องตอบรับอัตโนมัติ\n",
    "\n",
    "ถ้าได้รับ string ที่เป็นคำถามที่ขึ้นต้นด้วย Do หรือ Does ให้ตอบกลับไปว่า Yes, ตามด้วยคำตอบเต็ม ๆ แบบใช้ verb do/does มาช่วยด้วย เช่น\n",
    "\n",
    "`autoanswer('Does he like pop music?') --> 'Yes, he does like pop music.'`\n",
    "\n",
    "`autoanswer('Do you sing well?') --> 'Yes, you do sing well.'`\n",
    "\n",
    "แต่ถ้าไม่ได้เป็นคำถาม do/does ให้เปลี่ยนเป็นประโยคคำถามโดยการเติม ? ต่อท้าย เช่น \n",
    "\n",
    "`autoanswer('I do not understand.') --> 'I do not understand?'`\n",
    "\n",
    "Hint: ใช้คำสั่ง `re.match` จากนั้นให้ใช้การ reference ถึง group"
   ]
  },
  {
   "cell_type": "code",
   "execution_count": null,
   "metadata": {
    "id": "c1o934pH0GA6"
   },
   "outputs": [],
   "source": [
    "def autoanswer(question):\n",
    "  return ''"
   ]
  },
  {
   "cell_type": "markdown",
   "metadata": {
    "id": "xn_M7evLX18o"
   },
   "source": [
    "## ข้อ 4 - สิ่งที่น่าสนใจเกี่ยวกับคำ\n",
    "\n",
    "ข้อมูลที่ใช้ทำแบบฝึกหัดนี้สามารถโหลดได้จากลิงค์นี้ \n",
    "\n",
    "https://attapol.github.io/programming/data/small_nyt_eng_200001"
   ]
  },
  {
   "cell_type": "code",
   "execution_count": null,
   "metadata": {
    "id": "UgTxUvdtX18p"
   },
   "outputs": [],
   "source": [
    "!wget https://attapol.github.io/programming/data/small_nyt_eng_200001"
   ]
  },
  {
   "cell_type": "markdown",
   "metadata": {
    "id": "5KboxVkCbizq"
   },
   "source": [
    "หรืออยากจะใช้ข้อมูลที่ใหญ่ขึ้นก็ได้ nyt_eng_200001"
   ]
  },
  {
   "cell_type": "code",
   "execution_count": null,
   "metadata": {
    "id": "H89-XcJlE8Fo"
   },
   "outputs": [],
   "source": [
    "!gdown --id 1mHNSEU3NrneejXx-RWFJLEWTi8drInOT"
   ]
  },
  {
   "cell_type": "markdown",
   "metadata": {
    "id": "592P1sKicBVX"
   },
   "source": [
    "### 4.1 คำที่มีตัว K \n",
    "\n",
    "คำประเภทต่อไปนี้ ปรากฏอยู่ในชุดข้อมูลทั้งหมดกี่คำ (นับคำซ้ำด้วย) \n",
    "\n",
    "* คำที่ขึ้นด้วยตัว k \n",
    "\n",
    "* คำที่ตัวที่สองคือตัว k \n",
    "\n",
    "* คำที่ตัวที่ลงท้ายด้วยตัว k \n"
   ]
  },
  {
   "cell_type": "code",
   "execution_count": null,
   "metadata": {
    "id": "w_MsH1aFbfzQ"
   },
   "outputs": [],
   "source": [
    "s = open('nyt_eng_200001').read()"
   ]
  },
  {
   "cell_type": "markdown",
   "metadata": {
    "id": "dOKkzIQtdzVx"
   },
   "source": [
    "### 4.2 คำศัพท์ที่ประกอบด้วยตัว k\n",
    "\n",
    "คำประเภทต่อไปนี้ ปรากฏอยู่ในชุดข้อมูลทั้งหมดกี่คำ โดยไม่นับคำซ้ำด้วยเพื่อให้ได้ขนาดของ vocabulary \n",
    "\n",
    "* คำที่ขึ้นด้วยตัว k \n",
    "\n",
    "* คำที่ตัวที่สองคือตัว k \n",
    "\n",
    "* คำที่ตัวที่ลงท้ายด้วยตัว k "
   ]
  },
  {
   "cell_type": "code",
   "execution_count": null,
   "metadata": {
    "id": "tkXNl9EwfQsV"
   },
   "outputs": [],
   "source": []
  },
  {
   "cell_type": "markdown",
   "metadata": {},
   "source": [
    "## ข้อ 5 - ชื่อจากประกาศ\n",
    "\n",
    "เขียนฟังก์ชันชื่อ `find_names`` ที่รับ parameter เป็นชื่อไฟล์ที่มีเก็บ text ที่มาจากประกาศทางราชการย้อนหลัง 5 ปี ให้ฟังก์ชันนี้ return ค่าเป็น tuple ของลิสต์ 2 ลิสต์ ลิสต์แรกเก็บชื่อผู้ชาย ลิสต์ที่ 2 เก็บชื่อผู้หญิงทั้งหมดที่อยู่ในไฟล์ โดยจะเก็บชื่อจากท้ายประกาศที่มักจะมีชื่อคนที่เซ็นประกาศ เช่น\n",
    "\n",
    "ข้อความในไฟล์\n",
    "```\n",
    "(นายขุนแผน แสนสุภาพ)\n",
    "กรรมการ\n",
    "(นางสาวมณโฑ ตาโตข้างเดียว)\n",
    "หัวหน้าศูนย์สอบภาษาอังกฤษที่ 2 \n",
    "(นางวันทอง กี่ใจก็ได้)\n",
    "ประธานกรรมการโครงการพัฒนาชนบท \n",
    "```\n",
    "ฟังก์ชันต้อง return\n",
    "```\n",
    "(['ขุนแผน'], ['มณโฑ', 'วันทอง']) \n",
    "```\n",
    "\n",
    "ในไฟล์จะมีข้อความอื่น ๆ และสิ่งแปลกปลอมต่าง ๆ ที่ติดมาในประกาศอีกด้วย เพราะฉะนั้นเราต้องใช้ regular expression ในการหาชื่อที่นำหน้าวงเล็บเปิดตามด้วย นาย นาง หรือ นางสาว "
   ]
  },
  {
   "cell_type": "code",
   "execution_count": 1,
   "metadata": {},
   "outputs": [],
   "source": [
    "def find_names(announcement_file):\n",
    "    return ([], [])"
   ]
  },
  {
   "cell_type": "markdown",
   "metadata": {},
   "source": [
    "## ข้อ 6 - Codeswitching\n",
    "Codeswitch เป็นปรากฏการณ์ทางภาษาศาสตร์อย่างหนึ่ง เกิดขึ้นเมื่อผู้พูดสองภาษา หรือสองสำเนียงปน ๆ กัน (เช่น การพูดไทยคำอังกฤษคำ เป็นต้น) เขียนฟังก์ชันที่นับว่าในลิสต์ของคำที่ได้มา มีคำที่สะกดด้วยตัวภาษาอังกฤษกีคำ และคำที่สะกดด้วยตัวภาษาไทยกี่คำ โดยให้คืนผลลัพท์เป็นดิกชันนารีที่ key เป็นรหัสภาษา (en สำหรับภาษาอังกฤษ และ th สำหรับภาษาไทย) และ value เป็นจำนวนคำของแต่ละภาษา"
   ]
  },
  {
   "cell_type": "code",
   "execution_count": null,
   "metadata": {},
   "outputs": [],
   "source": [
    "def count_en_th_words(word_list):\n",
    "    \"\"\"\n",
    "    \n",
    "    Example:\n",
    "    >>> count_en_th_words(['รองเท้า', 'ไม่', 'match', 'กับ', 'coat', 'เลย'])\n",
    "    {'en': 2, 'th': 4}\n",
    "    \"\"\"\n",
    "    return {}"
   ]
  }
 ],
 "metadata": {
  "colab": {
   "collapsed_sections": [],
   "name": "PC7 Regular Expression.ipynb",
   "provenance": []
  },
  "kernelspec": {
   "display_name": "Python 3.8.12",
   "language": "python",
   "name": "python3"
  },
  "language_info": {
   "codemirror_mode": {
    "name": "ipython",
    "version": 3
   },
   "file_extension": ".py",
   "mimetype": "text/x-python",
   "name": "python",
   "nbconvert_exporter": "python",
   "pygments_lexer": "ipython3",
   "version": "3.8.12"
  },
  "vscode": {
   "interpreter": {
    "hash": "34368ba4908ea1be08ba769dfb7764ab7f8ead2384ebb5604cb86637573696f7"
   }
  }
 },
 "nbformat": 4,
 "nbformat_minor": 4
}
