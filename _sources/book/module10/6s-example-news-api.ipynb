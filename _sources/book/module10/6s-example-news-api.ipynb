{
 "cells": [
  {
   "cell_type": "markdown",
   "metadata": {},
   "source": [
    "# เฉลยแบบฝึกหัดการเรียก API "
   ]
  },
  {
   "cell_type": "markdown",
   "metadata": {},
   "source": [
    "### Exercise 1. Get Thailand's headlines\n",
    "Reconstruct the url to retrieve headlines from Thailand."
   ]
  },
  {
   "cell_type": "code",
   "execution_count": null,
   "metadata": {},
   "outputs": [],
   "source": [
    "url = f\"https://newsapi.org/v2/top-headlines?country=th\"\n",
    "header = {\n",
    "    'Authorization': api_key\n",
    "}\n",
    "response = requests.get(url, headers=header)\n",
    "\n",
    "data = json.loads(response.text)"
   ]
  },
  {
   "cell_type": "markdown",
   "metadata": {},
   "source": [
    "### Exercises 2 - News Sources\n",
    "List all the news sources available in Thailand"
   ]
  },
  {
   "cell_type": "code",
   "execution_count": 19,
   "metadata": {},
   "outputs": [],
   "source": [
    "url = f\"https://newsapi.org/v2/top-headlines/sources?country=th\"\n",
    "header = {\n",
    "    'Authorization': api_key\n",
    "}\n",
    "response = requests.get(url, headers=header)\n",
    "\n",
    "data = json.loads(response.text)"
   ]
  },
  {
   "cell_type": "markdown",
   "metadata": {},
   "source": [
    "### Exercises 3 - News Search"
   ]
  },
  {
   "cell_type": "code",
   "execution_count": 29,
   "metadata": {},
   "outputs": [],
   "source": [
    "# Your implementation here\n",
    "url = f\"https://newsapi.org/v2/everything?q=ศาลรัฐธรรมนูญ\"\n",
    "header = {\n",
    "    'Authorization': api_key\n",
    "}\n",
    "response = requests.get(url, headers=header)\n",
    "\n",
    "data = json.loads(response.text)"
   ]
  },
  {
   "cell_type": "markdown",
   "metadata": {},
   "source": [
    "### Exercises 4 - News Sentiment"
   ]
  },
  {
   "cell_type": "code",
   "execution_count": 31,
   "metadata": {},
   "outputs": [],
   "source": [
    "# Your implementation here\n",
    "newsBySource = {}\n",
    "for news in data['articles']:\n",
    "    sourceName = news['source']['name']\n",
    "    if sourceName not in newsBySource:\n",
    "        newsBySource[sourceName] = []\n",
    "    newsBySource[sourceName].append({\n",
    "        'title': news['title'],\n",
    "        'description': news['description']\n",
    "    })"
   ]
  },
  {
   "cell_type": "code",
   "execution_count": 32,
   "metadata": {},
   "outputs": [
    {
     "name": "stdout",
     "output_type": "stream",
     "text": [
      "{'Thairath.co.th': [{'title': 'รุ้ง-23 องค์กรนักศึกษา โต้ ศาลรัฐธรรมนูญ กระบวนการไต่สวน เตือนระวังพายุใหญ่', 'description': '23 องค์กร นศ. ฮือค้านคำวินิจฉัยศาลรัฐธรรมนูญ ย้ำกระบวนการไต่สวนไม่เป็นธรรม ปราศจากเจตนาล้มล้างการปกครองฯ หมดสิ้นศรัทธาอำนาจตุลาการ-นิติศาสตร์ไทย เตือนระวังกระแสลมจะทวีจนกลายเป็นพายุ'}, {'title': 'ศาลรธน. ประกาศยกระดับเข้มพื้นที่ รับอ่านคำวินิจฉัยม็อบ 3 นิ้ว พรุ่งนี้', 'description': 'ศาลรัฐธรรมนูญ แจงเข้มสำนักงาน และศูนย์ราชการเฉลิมพระเกียรติ 80 พรรษา เป็นพื้นที่รักษาความสงบเรียบร้อยวันพรุ่งนี้ ปมเตรียมอ่านคำวินิจฉัย คดีม็อบ 3 นิ้ว เรียกร้องให้ปฏิรูปสถาบัน 10 ข้อ'}, {'title': '“ไพบูลย์” รอด ศาลรัฐธรรมนูญวินิจฉัยไม่ต้องพ้น ส.ส. ปมเลิกพรรคย้ายซบ พปชร.', 'description': 'ศาลรัฐธรรมนูญ อ่านคำวินิจฉัย มีมติเสียงข้างมาก “ไพบูลย์ นิติตะวัน” ไม่ต้องพ้นจากสมาชิกภาพ ส.ส. ปมเลิกพรรคประชาชนปฏิรูป แล้วไปเข้าร่วมกับพรรคพลังประชารัฐ ทั้งที่ไม่มีชื่อเป็นปาร์ตี้ลิสต์'}, {'title': '22 ธ.ค. ศาลรัฐธรรมนูญอ่านคำวินิจฉัยสมาชิกภาพ ส.ส. “สิระ” ปมคดีฉ้อโกง', 'description': 'ศาลรัฐธรรมนูญ นัดอ่านคำวินิจฉัยสมาชิกภาพ ส.ส. “สิระ” 22 ธ.ค.นี้ ปมเคยต้องคำพิพากษาอันถึงที่สุดคดีฉ้อโกง ทำให้มีลักษณะต้องห้ามลงสมัคร ส.ส.'}], 'Blognone.com': [{'title': 'เว็บไซต์ศาล รธน. ถูกแฮ็ก เปลี่ยนชื่อไซต์เป็น Kangaroo Court หน้าเว็บเป็นเพลง Guillotine', 'description': 'ตอนนี้ เว็บไซต์ศาลรัฐธรรมนูญ www.constitutionalcourt.or.th ถูกแฮ็ก และเปลี่ยนหน้สเว็บไซต์เป็นเพลง Death Grips - Guillotine (It goes Yah และยังเปลี่ยนชื่อไซต์เป็น Kangaroo Court ซึ่งมีความหมายว่าศาลเตี้ยด้วย\\r\\n\\nเมื่อวานนนี้ ศาลรัฐธรรมนูญวินิจฉัยชี้ การชุมนุมของ…'}]}\n"
     ]
    }
   ],
   "source": [
    "print(newsBySource)"
   ]
  },
  {
   "cell_type": "code",
   "execution_count": 33,
   "metadata": {},
   "outputs": [
    {
     "name": "stdout",
     "output_type": "stream",
     "text": [
      "Thairath.co.th\n",
      "23 องค์กร นศ. ฮือค้านคำวินิจฉัยศาลรัฐธรรมนูญ ย้ำกระบวนการไต่สวนไม่เป็นธรรม ปราศจากเจตนาล้มล้างการปกครองฯ หมดสิ้นศรัทธาอำนาจตุลาการ-นิติศาสตร์ไทย เตือนระวังกระแสลมจะทวีจนกลายเป็นพายุ\n",
      "ศาลรัฐธรรมนูญ แจงเข้มสำนักงาน และศูนย์ราชการเฉลิมพระเกียรติ 80 พรรษา เป็นพื้นที่รักษาความสงบเรียบร้อยวันพรุ่งนี้ ปมเตรียมอ่านคำวินิจฉัย คดีม็อบ 3 นิ้ว เรียกร้องให้ปฏิรูปสถาบัน 10 ข้อ\n",
      "ศาลรัฐธรรมนูญ อ่านคำวินิจฉัย มีมติเสียงข้างมาก “ไพบูลย์ นิติตะวัน” ไม่ต้องพ้นจากสมาชิกภาพ ส.ส. ปมเลิกพรรคประชาชนปฏิรูป แล้วไปเข้าร่วมกับพรรคพลังประชารัฐ ทั้งที่ไม่มีชื่อเป็นปาร์ตี้ลิสต์\n",
      "ศาลรัฐธรรมนูญ นัดอ่านคำวินิจฉัยสมาชิกภาพ ส.ส. “สิระ” 22 ธ.ค.นี้ ปมเคยต้องคำพิพากษาอันถึงที่สุดคดีฉ้อโกง ทำให้มีลักษณะต้องห้ามลงสมัคร ส.ส.\n",
      "\n",
      "Blognone.com\n",
      "ตอนนี้ เว็บไซต์ศาลรัฐธรรมนูญ www.constitutionalcourt.or.th ถูกแฮ็ก และเปลี่ยนหน้สเว็บไซต์เป็นเพลง Death Grips - Guillotine (It goes Yah และยังเปลี่ยนชื่อไซต์เป็น Kangaroo Court ซึ่งมีความหมายว่าศาลเตี้ยด้วย\n",
      "\n",
      "เมื่อวานนนี้ ศาลรัฐธรรมนูญวินิจฉัยชี้ การชุมนุมของ…\n",
      "\n"
     ]
    }
   ],
   "source": [
    "for source, articles in newsBySource.items():\n",
    "    print(source)\n",
    "    for article in articles:\n",
    "        print(article['description'])\n",
    "    print()"
   ]
  }
 ],
 "metadata": {
  "kernelspec": {
   "display_name": "Python 3.8.12",
   "language": "python",
   "name": "python3"
  },
  "language_info": {
   "codemirror_mode": {
    "name": "ipython",
    "version": 3
   },
   "file_extension": ".py",
   "mimetype": "text/x-python",
   "name": "python",
   "nbconvert_exporter": "python",
   "pygments_lexer": "ipython3",
   "version": "3.8.12"
  },
  "vscode": {
   "interpreter": {
    "hash": "34368ba4908ea1be08ba769dfb7764ab7f8ead2384ebb5604cb86637573696f7"
   }
  }
 },
 "nbformat": 4,
 "nbformat_minor": 4
}
