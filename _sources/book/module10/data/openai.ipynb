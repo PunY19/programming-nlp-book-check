{
 "cells": [
  {
   "cell_type": "code",
   "execution_count": 10,
   "metadata": {},
   "outputs": [],
   "source": [
    "import openai\n",
    "#openai.api_key = \"รหัสกุญแจเอพีไอที่ได้จากการลงทะเบียน\"\n",
    "messages_so_far = [\n",
    "        {\"role\": \"system\", \"content\": \"You are a helpful assistant.\"},\n",
    "        {\"role\": \"user\", \"content\": \"Who founded Chulalongkorn University?\"}\n",
    "    ]\n",
    "response = openai.chat.completions.create(\n",
    "    model=\"gpt-4o\",\n",
    "    messages=messages_so_far,\n",
    ")"
   ]
  },
  {
   "cell_type": "code",
   "execution_count": 11,
   "metadata": {},
   "outputs": [
    {
     "data": {
      "text/plain": [
       "{'id': 'chatcmpl-9oRXpIyt3P9bDguDmXE44oB6UG1nR',\n",
       " 'choices': [{'finish_reason': 'stop',\n",
       "   'index': 0,\n",
       "   'logprobs': None,\n",
       "   'message': {'content': 'Chulalongkorn University, the oldest university in Thailand, was founded by King Vajiravudh (Rama VI) in 1917. The university was named after his father, King Chulalongkorn (Rama V), who had initiated the idea of creating a modern education system in Thailand. King Chulalongkorn had established several institutions that laid the groundwork for the university, but it was his son, King Vajiravudh, who officially established the university as a higher education institution.',\n",
       "    'role': 'assistant'}}],\n",
       " 'created': 1721809309,\n",
       " 'model': 'gpt-4o-2024-05-13',\n",
       " 'object': 'chat.completion',\n",
       " 'system_fingerprint': 'fp_400f27fa1f',\n",
       " 'usage': {'completion_tokens': 105, 'prompt_tokens': 26, 'total_tokens': 131}}"
      ]
     },
     "execution_count": 11,
     "metadata": {},
     "output_type": "execute_result"
    }
   ],
   "source": [
    "response.to_dict()"
   ]
  },
  {
   "cell_type": "code",
   "execution_count": 12,
   "metadata": {},
   "outputs": [
    {
     "name": "stdout",
     "output_type": "stream",
     "text": [
      "Chulalongkorn University, the oldest university in Thailand, was founded by King Vajiravudh (Rama VI) in 1917. The university was named after his father, King Chulalongkorn (Rama V), who had initiated the idea of creating a modern education system in Thailand. King Chulalongkorn had established several institutions that laid the groundwork for the university, but it was his son, King Vajiravudh, who officially established the university as a higher education institution.\n"
     ]
    }
   ],
   "source": [
    "print(response.choices[0].message.content)"
   ]
  },
  {
   "cell_type": "code",
   "execution_count": 13,
   "metadata": {},
   "outputs": [],
   "source": [
    "messages_so_far.append(response.choices[0].message)"
   ]
  },
  {
   "cell_type": "code",
   "execution_count": 14,
   "metadata": {},
   "outputs": [
    {
     "data": {
      "text/plain": [
       "[{'role': 'system', 'content': 'You are a helpful assistant.'},\n",
       " {'role': 'user', 'content': 'Who founded Chulalongkorn University?'},\n",
       " ChatCompletionMessage(content='Chulalongkorn University, the oldest university in Thailand, was founded by King Vajiravudh (Rama VI) in 1917. The university was named after his father, King Chulalongkorn (Rama V), who had initiated the idea of creating a modern education system in Thailand. King Chulalongkorn had established several institutions that laid the groundwork for the university, but it was his son, King Vajiravudh, who officially established the university as a higher education institution.', role='assistant', function_call=None, tool_calls=None)]"
      ]
     },
     "execution_count": 14,
     "metadata": {},
     "output_type": "execute_result"
    }
   ],
   "source": [
    "messages_so_far"
   ]
  },
  {
   "cell_type": "code",
   "execution_count": 18,
   "metadata": {},
   "outputs": [],
   "source": [
    "new_messages = messages_so_far + [{\"role\": \"user\", \"content\": \"How big is it?\"}]"
   ]
  },
  {
   "cell_type": "code",
   "execution_count": 19,
   "metadata": {},
   "outputs": [],
   "source": [
    "response = openai.chat.completions.create(\n",
    "    model=\"gpt-4o\",\n",
    "    messages=new_messages,\n",
    ")"
   ]
  },
  {
   "cell_type": "code",
   "execution_count": 20,
   "metadata": {},
   "outputs": [
    {
     "data": {
      "text/plain": [
       "{'id': 'chatcmpl-9oRYv1d64X4W3QjBIB53QyTCx03hf',\n",
       " 'choices': [{'finish_reason': 'stop',\n",
       "   'index': 0,\n",
       "   'logprobs': None,\n",
       "   'message': {'content': \"Chulalongkorn University is located in Bangkok, Thailand, and covers a substantial area. The main campus spans approximately 456 acres (about 1.85 square kilometers) in the heart of the city's Pathum Wan District. The campus is known for its well-maintained grounds, historic buildings, and modern facilities. \\n\\nAdditionally, the university has fields in nearby areas that are used for agricultural studies and research, further contributing to its total land area. The main campus's central location and extensive grounds make it a prominent and significant educational landmark in Bangkok.\",\n",
       "    'role': 'assistant'}}],\n",
       " 'created': 1721809377,\n",
       " 'model': 'gpt-4o-2024-05-13',\n",
       " 'object': 'chat.completion',\n",
       " 'system_fingerprint': 'fp_400f27fa1f',\n",
       " 'usage': {'completion_tokens': 112,\n",
       "  'prompt_tokens': 144,\n",
       "  'total_tokens': 256}}"
      ]
     },
     "execution_count": 20,
     "metadata": {},
     "output_type": "execute_result"
    }
   ],
   "source": [
    "response.to_dict()"
   ]
  },
  {
   "cell_type": "code",
   "execution_count": 21,
   "metadata": {},
   "outputs": [
    {
     "data": {
      "text/plain": [
       "[{'role': 'system', 'content': 'You are a helpful assistant.'},\n",
       " {'role': 'user', 'content': 'Who founded Chulalongkorn University?'},\n",
       " ChatCompletionMessage(content='Chulalongkorn University, the oldest university in Thailand, was founded by King Vajiravudh (Rama VI) in 1917. The university was named after his father, King Chulalongkorn (Rama V), who had initiated the idea of creating a modern education system in Thailand. King Chulalongkorn had established several institutions that laid the groundwork for the university, but it was his son, King Vajiravudh, who officially established the university as a higher education institution.', role='assistant', function_call=None, tool_calls=None),\n",
       " {'role': 'user', 'content': 'How big is it?'}]"
      ]
     },
     "execution_count": 21,
     "metadata": {},
     "output_type": "execute_result"
    }
   ],
   "source": [
    "new_messages"
   ]
  },
  {
   "cell_type": "code",
   "execution_count": null,
   "metadata": {},
   "outputs": [],
   "source": []
  }
 ],
 "metadata": {
  "kernelspec": {
   "display_name": "base",
   "language": "python",
   "name": "python3"
  },
  "language_info": {
   "codemirror_mode": {
    "name": "ipython",
    "version": 3
   },
   "file_extension": ".py",
   "mimetype": "text/x-python",
   "name": "python",
   "nbconvert_exporter": "python",
   "pygments_lexer": "ipython3",
   "version": "3.11.4"
  }
 },
 "nbformat": 4,
 "nbformat_minor": 2
}
