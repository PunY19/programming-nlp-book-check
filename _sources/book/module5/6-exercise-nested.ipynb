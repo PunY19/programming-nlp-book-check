{
 "cells": [
  {
   "cell_type": "markdown",
   "metadata": {},
   "source": [
    "# โจทย์: โครงสร้างข้อมูลซ้อนใน\n",
    "\n"
   ]
  },
  {
   "cell_type": "markdown",
   "metadata": {
    "id": "2ALys98GmVc5"
   },
   "source": [
    "## เรื่องลิสต์ซ้อนลิสต์\n",
    "### ข้อ 1 - คะแนนรวม\n",
    "\n",
    "สมมติว่าเรามีข้อมูลคะแนนสอบของนักเรียนตลอด 1 เทอม เขียนฟังก์ชันที่คำนวณว่านักเรียนแต่ละคนสอบผ่านหรือไม่ โดยใช้เกณฑ์ดังนี้  \n",
    "\n",
    "|คะแนน|grade|\n",
    "|---|---|\n",
    "|>=60 |pass|\n",
    "|<60|fail|\n",
    "\n",
    "input ที่ได้มาเป็นลิสต์ของลิสต์ของคะแนนของนักเรียนแต่ละคน เพราะฉะนั้น input เป็น type ลิสต์ของลิสต์ของ `int`\n",
    "\n",
    "ให้ฟังก์ชันคืนค่าลิสต์ของบูลีนที่ระบุว่านักเรียนแต่ละคนผ่านวิชานี้หรือไม่ "
   ]
  },
  {
   "cell_type": "code",
   "execution_count": null,
   "metadata": {
    "id": "Uitug1v2mVc5"
   },
   "outputs": [],
   "source": [
    "def sum_scores(score_lists):\n",
    "    \"\"\"\n",
    "    \n",
    "    >>> sum_scores([[10, 15, 30, 15], [2, 12, 25, 18]])\n",
    "    [True, False]\n",
    "    \"\"\"\n",
    "    return []"
   ]
  },
  {
   "cell_type": "markdown",
   "metadata": {},
   "source": [
    "### ข้อ 2 - ประมวลผลประโยค 1\n",
    "เขียนฟังก์ชันที่เปลี่ยนลิสต์ของประโยคที่ยังไม่ได้มีการตัดคำ ให้เป็นลิสต์ของลิสต์ของคำ (สตริง) โดยใช้คำสั่ง `.split(' ')`"
   ]
  },
  {
   "cell_type": "code",
   "execution_count": null,
   "metadata": {},
   "outputs": [],
   "source": [
    "def process_paragraph(sentence_list):\n",
    "    \"\"\"\n",
    "    \n",
    "    >>> process_paragraph(['This is a sentence.', 'This is another sentence.'])\n",
    "    [['This', 'is', 'a', 'sentence.'], ['This', 'is', 'another', 'sentence.']]\n",
    "    \"\"\"\n",
    "    return []"
   ]
  },
  {
   "cell_type": "markdown",
   "metadata": {},
   "source": [
    "### ข้อ 3 - ประมวลผลประโยค 2\n",
    "เขียนฟังก์ชันที่เปลี่ยนลิสต์ของประโยคที่ยังไม่ได้มีการตัดคำ ให้เป็นลิสต์ของจำนวนคำ จากนั้นให้ return ทูเปิลที่มีค่าต่ำสุดและค่าสูงสุด\n",
    "\n",
    "กระบวนการนี้เป็นกระบวนการที่เราทำบ่อยๆ เวลาประมวลผลประโยคเพื่อตรวจสอบว่ามีประโยคที่สั้นเกินไปหรือไม่ซึ่งอาจจะเกิดจากตอนดึงข้อมูลแล้วเกิดการผิดพลาด"
   ]
  },
  {
   "cell_type": "code",
   "execution_count": null,
   "metadata": {},
   "outputs": [],
   "source": [
    "def get_min_max_sentence_length(sentence_list):\n",
    "    \"\"\"\n",
    "    \n",
    "    >>> get_min_max_sentence_length(['short sentence.', 'This is a very long long long sentence.', 'a normal sentence here', 'another normal sentence'])\n",
    "    (2, 8)\n",
    "    \"\"\"\n",
    "    return (0, 0)"
   ]
  },
  {
   "cell_type": "markdown",
   "metadata": {},
   "source": [
    "### ข้อ 4 - ประมวลผลประโยค 3\n",
    "เวลาเราประมวลผลข้อมูลที่เป็นประโยคเราจะตัดประโยคที่สั้นเกินไปออก เพราะว่าอาจจะเกิดจากความผิดพลาด และอาจจะเป็นประโยคที่ไม่ได้สื่อความหมายมาก นอกจากนั้นแล้วเรามักจะจำกัดความยาวของประโยคที่เราต้องการจะวิเคราะห์อีกด้วยไม่ให้มีความยาวเกินไป \n",
    "\n",
    "จงเขียนฟังก์ชันที่รับสาม argument\n",
    "1) ลิสต์ของประโยคที่ยังไม่ได้มีการตัดคำ\n",
    "2) จำนวนคำขั้นต่ำที่ของประโยคที่ต้องการ\n",
    "3) จำนวนคำสูงสุด\n",
    "\n",
    "return ลิสต์ของประโยคที่มีความยาวมากกว่าจำนวนคำที่กำหนด และถ้าหากประโยคมีความยาวเกิดจำนวนคำสูงสุดให้เก็บไว้เฉพาะคำแรก ๆ ตัดเอาคำที่เกินทิ้งไป"
   ]
  },
  {
   "cell_type": "code",
   "execution_count": null,
   "metadata": {},
   "outputs": [],
   "source": [
    "def limit_sentence_lengths(sentence_list, min_words, max_words):\n",
    "    \"\"\"\n",
    "    \n",
    "    >>> limit_sentence_lengths(['short sentence', 'This is a very long long long sentence', 'a normal sentence here', 'another normal sentence'], 2, 4)\n",
    "    ['This is a very', 'a normal sentence here', 'another normal sentence']\n",
    "    \"\"\"\n",
    "    return []"
   ]
  },
  {
   "cell_type": "markdown",
   "metadata": {},
   "source": [
    "### ข้อ 5 - ประมวลผลประโยค 4\n",
    "เขียนฟังก์ชันเพื่อแปลงข้อมูลให้อยู่ในรูปของ list of lists of words โดยที่ input ที่ได้รับมาเป็นลิสต์ของประโยค ซึ่งแต่ละประโยคเป็นสตริงที่ถูกแบ่งคำไว้แล้ว แต่ละคำคั่นด้วย | โดยที่ให้กรองคำที่อยู่ใน stopset (เป็น set) ออก และกรองคำที่ไม่ใช่ตัวอักษรภาษาไทยออกไปโดยใช้ regex `[ก-์]`"
   ]
  },
  {
   "cell_type": "code",
   "execution_count": null,
   "metadata": {},
   "outputs": [],
   "source": [
    "def tokenize_clean(sentences, stopset):\n",
    "    \"\"\"\n",
    "    >>> tokenize_clean(['ฉัน|รัก|การ|เขียน|โปรแกรม|Python', 'ใน|ที่|สุด|ก็|สำเร็จ'], stopset) \n",
    "    [['รัก', 'เขียน', 'โปรแกรม'],  ['สำเร็จ']]\n",
    "    \"\"\"\n",
    "    return []"
   ]
  },
  {
   "cell_type": "markdown",
   "metadata": {},
   "source": [
    "### ข้อ 6 - ประมวลผลประโยค 5\n",
    "จงเขียนฟังก์ชันเพื่อวิเคราะห์ list ของประโยค ซึ่งแต่ละประโยคเป็น list ของสตริงคำ ฟังก์ชันจะต้องคำนวณว่า ข้อความนี้ที่คำที่สั้นกว่าสามตัวอักษรคิดเป็นร้อยละเท่าไร (จำนวนคำที่สั้นกว่าสามตัวอักษร หารด้วยจำนวนคำทั้งหมด) และ return ค่าที่คำนวณออกมาได้ เช่น"
   ]
  },
  {
   "cell_type": "code",
   "execution_count": null,
   "metadata": {},
   "outputs": [],
   "source": [
    "def calculate_ratio_3_chars(sentences):\n",
    "    \"\"\"\n",
    "    >>> calculate_ratio_3_chars([['Stay', 'in', 'the', 'middle'],['Like','you', 'a', 'little'], [\"Don't\", 'want','no','riddle']])\n",
    "    0.25\n",
    "    \"\"\"\n",
    "    return 0"
   ]
  },
  {
   "cell_type": "markdown",
   "metadata": {},
   "source": [
    "### ข้อ 7 - หาชื่อเล่นผู้ชาย\n",
    "\n",
    "สมมติว่าเรามีข้อมูลชื่อของนิสิตปัจจุบันซึ่งเก็บไว้ในลิสต์ของ tuple (ชื่อจริง, ชื่อเล่น, เพศ) จงเขียนฟังก์ชันที่ return ลิสต์ที่มีชื่อเล่นของผู้ชายเรียงลำดับตามพจนานุกรม และไม่ซ้ำกัน"
   ]
  },
  {
   "cell_type": "code",
   "execution_count": null,
   "metadata": {},
   "outputs": [],
   "source": [
    "def get_male_nicknames(sentences):\n",
    "    \"\"\"\n",
    "    >>> get_male_nicknames([('Maysa', 'May', 'Female'),('Waruntorn', 'Ing', 'Female'),('Maysaya', 'May', 'Female'), ('Watsakorn', 'May', 'Female'),('Chonkan', 'Atom', 'Male'),('Saran', 'Ton', 'Male'), ('Tonkid', 'Ton', 'Male')])\n",
    "    ['Atom', 'Ton']  \n",
    "    \"\"\"\n",
    "    return []\n"
   ]
  },
  {
   "cell_type": "markdown",
   "metadata": {
    "id": "VPrMd-DFnW0c"
   },
   "source": [
    "## เรื่องลิสต์ของดิกชันนารีคู่ฟิลด์แวลู\n",
    "### ข้อ 1 - ความนิยม\n",
    "\n",
    "เขียนฟังก์ชันหาจำนวน comment ของ tweet id ที่กำหนดให้ โดยที่ทวีตถูกเก็บอยู่ในรูป info dict \n",
    "```python\n",
    "data = [ {'id': 'BarackObama', 'date': 'October 17, 2019', 'num comments': 243000,\n",
    "  'num retweets': 37000, 'num fav': 250300, 'text': 'I was proud to work with Justin Trudeau as President'},\n",
    " {'id': 'SpeakerPelosi', 'date': 'October 17, 2019', 'num comments': 22700,\n",
    "  'num retweets': 10000, 'num fav': 45600, 'text': 'What courage does it take to pass legislation that will save lives?'},\n",
    " {'id': 'BarackObama', 'date': 'October 15, 2019', 'num comments': 2000,\n",
    "  'num retweets': 5000, 'num fav': 52800, 'text': 'In December, Michelle and I will head to Malaysia for the first @ObamaFoundation Leaders: Asia-Pacific gathering'}\n",
    "]\n",
    "```\n"
   ]
  },
  {
   "cell_type": "code",
   "execution_count": null,
   "metadata": {
    "id": "XZm4bbqdnW0c"
   },
   "outputs": [],
   "source": [
    "def sum_comments_for_id(tweet_id, tweet_list):\n",
    "    \"\"\"\n",
    "    \n",
    "    >>> sum_comments_for_id('BarackObama', data)\n",
    "    42000\n",
    "    \"\"\"\n",
    "    return 0"
   ]
  },
  {
   "cell_type": "markdown",
   "metadata": {},
   "source": [
    "### ข้อ 2 - การปิดกั้นสื่อ\n",
    "สมมติว่าเราได้รับข้อมูลเกี่ยวกับเว็บไซต์ที่ถูกปิดกั้นมาจากองค์กรหนึ่งในรูปแบบของ list of info dict  แต่ว่าข้อมูลชุดนี้ต้องได้รับการอัพเดท จงเขียนฟังก์ชันที่ return list of info dict ที่มีการอัพเดทดังนี้\n",
    "\n",
    "1) เว็บไซต์ที่ field 'title' มีคำว่า 'men' หรือคำว่า 'women' จะต้องถูกเอาออกจาก list \n",
    "2) เว็บไซต์ที่ field 'url' มี '.co.th' และจำนวนผู้เข้าชมรวมทุกประเทศมากกว่า 30000 ให้เพิ่ม field 'big Thai site' และ set ให้เป็น True  ถ้าหากไม่ตรงเงื่อนไขให้ set เป็น false\n",
    "3) ลบ field 'viewer' ออก (ใช้ dict.pop)\n",
    "\n",
    "ตัวอย่าง input:\n",
    "```python\n",
    "data = [\n",
    "{'title': 'Hottest men for you on this site', 'url': 'www.hotthing.com', \n",
    " 'viewer': {'thai': 1000, 'malaysia': 100, 'singapore': 600} },\n",
    "{'title': 'Welcome to Zentrale', 'url': 'www.zen-zen.co.th', \n",
    " 'viewer': {'thai': 40000, 'malaysia': 10000, 'singapore': 600} },\n",
    "{'title': 'Apply now for better life', 'url': 'www.betterlife.co.th', \n",
    " 'viewer': {'thai': 100, 'malaysia': 700, 'singapore': 200} },\n",
    "{'title': 'We have everything you want.', 'url': 'www.everything.com', \n",
    " 'viewer': {'thai': 10000, 'malaysia': 20000, 'china': 60000} }\n",
    "]\n",
    "```\n"
   ]
  },
  {
   "cell_type": "code",
   "execution_count": null,
   "metadata": {},
   "outputs": [],
   "source": [
    "def tag_thai_sites(site_dict_list):\n",
    "    \"\"\"\n",
    "\n",
    "    >>> tag_thai_sites(data)\n",
    "    [\n",
    "    {'title': 'Welcome to Zentrale', 'url': 'www.zen-zen.co.th','big Thai site': True},\n",
    "    {'title': 'Apply now for better life', 'url': 'www.betterlife.co.th', 'big Thai site': False },\n",
    "    {'title': 'We have everything you want.', 'url': 'www.everything.com', 'big Thai site': False}\n",
    "    ]\n",
    "    \"\"\"\n",
    "    return []"
   ]
  },
  {
   "cell_type": "markdown",
   "metadata": {
    "id": "fbbDfyYGmVc9"
   },
   "source": [
    "## เรื่องดิกชันนารีซ้อนใน\n",
    "### ข้อ 1 - Contact List\n",
    "จงเขียนโปรแกรมที่สร้าง List of tuples (name, line id) จาก nested dictionary โดยเรียงลำดับตามอักษรของชื่อ"
   ]
  },
  {
   "cell_type": "code",
   "execution_count": null,
   "metadata": {
    "id": "b9nUWHmamVc-"
   },
   "outputs": [],
   "source": [
    "def list_contact(contacts):\n",
    "    \"\"\"\n",
    "    \n",
    "    >>> list_contact({\n",
    "    'Alex' : {'phone': '123-456-789', 'line': 'alexcool'},\n",
    "    'Bo': {'home phone': '111-222-3333', 'line': 'bobo'},\n",
    "    'Chris': {'phone': '444-555-6666', 'line': 'chrissie'},\n",
    "    'Doug': {'mobile phone': '444-555-6666', 'line': 'dougd'}   \n",
    "    })\n",
    "    [('Alex', 'alexcool'), ('Bo', 'bobo'), ('Chris', 'chrissie'), ('Doug', 'dougd')]\n",
    "    \"\"\"\n",
    "    return []"
   ]
  },
  {
   "cell_type": "markdown",
   "metadata": {
    "id": "v2s3DkMsnW0U"
   },
   "source": [
    "### ข้อ 2 - Tuple เป็น key\n",
    "สมมติว่าเราได้ข้อมูลเบอร์โทรศัพท์ที่เก็บอยู่ในดิกชันนารีที่มี key เป็น tuple ของชื่อและนามสกุล และ value เป็นสตริงที่เก็บเบอร์โทรศัพท์\n",
    "\n",
    "จงเขียนฟังก์ชัน `lookup_by_lastname` ที่รับนามสกุลที่เป็นสตริง และดิกชันนารีข้อมูลเบอร์โทรศัพท์ และ return เบอร์โทรศัพท์ของคนที่มีนามสกุลที่กำหนดให้ ถ้าเกิดว่านามสกุลนั้นไม่มีอยู่ในดิกชันนารีให้ return `None`\n"
   ]
  },
  {
   "cell_type": "code",
   "execution_count": null,
   "metadata": {
    "id": "WtCBbSCwnW0U"
   },
   "outputs": [],
   "source": [
    "def lookup_by_lastname(last_name, data):\n",
    "    \"\"\"\n",
    "    \n",
    "    >>> name_to_phone =  { ('Mark', 'Wahlberg') : '111-222-3333',\n",
    "        ('Jane', 'Doe'): '222-333-4444',\n",
    "        ('Jane', 'Eyre'): '333-444-5555'\n",
    "        }\n",
    "    >>> lookup_by_lastname('Doe', name_to_phone_numbers)\n",
    "    '222-333-4444'\n",
    "    \"\"\"\n",
    "    return None"
   ]
  },
  {
   "cell_type": "markdown",
   "metadata": {
    "id": "bv-Y7fgsnW0Z"
   },
   "source": [
    "### ข้อ 3 - Name to age - Age to name\n",
    "เปลี่ยนจาก\n",
    "```\n",
    "name_to_age = {'ชญา': 33, \n",
    "         'อรรถพล': 34,\n",
    "         'โนโซมิ': 34}\n",
    "```\n",
    "ให้เป็น\n",
    "\n",
    "```\n",
    "age_to_name = {33: ['ชญา'], \n",
    "         34: ['อรรถพล', 'โนโซมิ']\n",
    "```"
   ]
  },
  {
   "cell_type": "code",
   "execution_count": null,
   "metadata": {
    "id": "eNoT7tG7nW0Z"
   },
   "outputs": [],
   "source": [
    "name_to_age = {'ชญา': 33, \n",
    "         'อรรถพล': 34,\n",
    "         'โนโซมิ': 34}"
   ]
  },
  {
   "cell_type": "markdown",
   "metadata": {
    "id": "63LtT1sunW0i"
   },
   "source": [
    "### ข้อ 4 - เปลี่ยนคีย์\n",
    "\n",
    "เปลี่ยนโครงสร้างของ dictionary จากที่เคยมี key เป็น tuple(first name, last name) เป็นแค่ last name อย่างเดียว"
   ]
  },
  {
   "cell_type": "code",
   "execution_count": null,
   "metadata": {
    "id": "pNwtGARGnW0i"
   },
   "outputs": [],
   "source": [
    "name_to_phone = \n",
    "{ ('Mark', 'Wahlberg') : '111-222-3333',\n",
    "  ('Jane', 'Doe'): '222-333-4444',\n",
    "  ('Jane', 'Eyre'): '333-444-5555'\n",
    "}\n",
    "\n"
   ]
  },
  {
   "cell_type": "markdown",
   "metadata": {
    "id": "V7JlJHWnnW0l"
   },
   "source": [
    "### ข้อ 5 - นับจำนวนนักเรียน\n",
    "\n",
    "สมมติว่าเรามีข้อมูลการลงทะเบียนเรียนในดิกชันนารีที่มี key เป็นสตริงที่เก็บชื่อวิชา และ value เป็นลิสต์ของสตริงที่เก็บชื่อนักเรียนที่ลงเรียนวิชานั้นอยู่ \n",
    "\n",
    "จงเขียนฟังก์ชันที่ return list ของชื่อนักเรียนทั้งหมดที่ไม่ซ้ำกัน"
   ]
  },
  {
   "cell_type": "code",
   "execution_count": null,
   "metadata": {
    "id": "ef2iR68YnW0l"
   },
   "outputs": [],
   "source": [
    "def list_all_students(registration):\n",
    "    \"\"\"\n",
    "    >>> registration = {'CompLing': ['Andy', 'Brittney', 'Catherine'],\n",
    "        'SoundSys': ['Andy', 'Brittney', 'Donald', 'Elaine', 'Fodor'],\n",
    "        'GramSys': ['Brittney', 'Girth', 'Harry'],\n",
    "        'ManGeog': ['Andy', 'Donald', 'Girth']\n",
    "    }\n",
    "    >>> list_all_students(registration)\n",
    "    ['Andy', 'Brittney', 'Catherine', 'Donald', 'Elaine', 'Fodor', 'Girth', 'Harry']\n",
    "    \"\"\"\n",
    "    return []"
   ]
  },
  {
   "cell_type": "markdown",
   "metadata": {
    "id": "6nBJPZxpnW0q"
   },
   "source": [
    "### ข้อ 6 - ใครชอบเรียนเยอะ\n",
    "\n",
    "สมมติว่าเรามีข้อมูลการลงทะเบียนเรียนในดิกชันนารีที่มี key เป็นสตริงที่เก็บชื่อวิชา และ value เป็นลิสต์ของสตริงที่เก็บชื่อนักเรียนที่ลงเรียนวิชานั้นอยู่ \n",
    "\n",
    "จงเขียนฟังก์ชันที่ return ดิกชันนารีที่ key คือจำนวนคลาสที่เรียนต่อคน และ value คือคนที่ลงเรียนจำนวนคลาสเท่ากับ key"
   ]
  },
  {
   "cell_type": "code",
   "execution_count": null,
   "metadata": {
    "id": "AEwoEddcnW0r"
   },
   "outputs": [],
   "source": [
    "def get_num_classes_to_students(registration):\n",
    "    \"\"\"\n",
    "    \n",
    "    Example:\n",
    "    >>> registration = {'CompLing': ['Andy', 'Brittney', 'Catherine'],\n",
    "        'SoundSys': ['Andy', 'Brittney', 'Donald', 'Elaine', 'Fodor'],\n",
    "        'GramSys': ['Brittney', 'Girth', 'Harry'],\n",
    "        'ManGeog': ['Andy', 'Donald', 'Girth']\n",
    "    }\n",
    "    >>> get_num_classes_to_students(registration)\n",
    "    {3: ['Andy', 'Brittney'],\n",
    "    2: ['Donald', 'Girth'],\n",
    "    1: ['Catherine', 'Elaine', 'Fodor', 'Harry']}\n",
    "    \"\"\"\n",
    "    return {}"
   ]
  },
  {
   "cell_type": "markdown",
   "metadata": {
    "id": "tbqllZTRnW0v"
   },
   "source": [
    "### ข้อ 7 - รวมดิกชันนารี\n",
    "\n",
    "จงเขียนฟังก์ชัน `combine_dicts` ที่รวมดิกชันนารีสองอันเข้าไว้ด้วยกัน โดยที่ดิกชันนารีมี key และ value เป็นสตริง ฟังก์ชันต้อง return ดิกชันนารีที่มี key เป็นสตริงและ value เป็นลิสต์ของสตริง เช่น\n",
    "```\n",
    "dict1 = {'a': 'ant', 'b': 'bird', 'c':'caterpillar'}\n",
    "dict2 = {'a': 'ant', 'c': 'cat', 'd': 'dog'}\n",
    "combine_dicts(dict1 , dict2)\n",
    ">>> {'a': ['ant', 'ant'], \n",
    "     'b': ['bird'], \n",
    "     'c': ['caterpillar','cat'], \n",
    "     'd':['dog']}\n",
    "```\n",
    "value ที่คู่กับ `'c'` เป็นลิสต์ที่มี `'catepillar'` ซึ่งมาจาก `dict1` และ `'cat'` ซึ่งมาจาก `dict2`  \n",
    "\n",
    "value ที่คู่กับ `'d'` เป็นลิสต์ที่มี `'dog'` ซึ่งมาจาก `dict2` เพราะว่า `dict1` ไม่มี key `'c'` อยู่"
   ]
  },
  {
   "cell_type": "code",
   "execution_count": null,
   "metadata": {
    "id": "mv8LTKmknW0w"
   },
   "outputs": [],
   "source": [
    "def combine_dicts(d1, d2):\n",
    "    return {}"
   ]
  },
  {
   "cell_type": "markdown",
   "metadata": {},
   "source": [
    "### ข้อ 8 - ใครไม่ส่งการบ้าน\n",
    "\n",
    "สมมติว่าเรามีข้อมูลการส่งงานของนิสิต เก็บอยู่ในดิกชันนารีที่มี key เป็นสตริงที่เก็บชื่อการบ้านทั้งหมด และ value เป็นลิสต์ของสตริงที่เก็บชื่อนิสิตที่ส่งการบ้านชิ้นนั้นแล้ว จงเขียนฟังก์ชันที่ return list ของชื่อนิสิตที่ส่งการบ้านไม่ครบ เช่น "
   ]
  },
  {
   "cell_type": "code",
   "execution_count": null,
   "metadata": {},
   "outputs": [],
   "source": [
    "def find_missing_work(data):\n",
    "    \"\"\"\n",
    "    >>> find_missing_work( {'PA1': ['Bew', 'Mild', 'Nipun'],\n",
    "        'PA2': ['Mild', 'Bew', 'PP'],\n",
    "        'PA3': ['Bew', 'Nipun', 'Mild'] } )\n",
    "    ['Nipun', 'PP']\n",
    "    \"\"\"\n",
    "    return []"
   ]
  }
 ],
 "metadata": {
  "colab": {
   "collapsed_sections": [],
   "name": "PC12b.ipynb",
   "provenance": []
  },
  "kernelspec": {
   "display_name": "Python 3 (ipykernel)",
   "language": "python",
   "name": "python3"
  },
  "language_info": {
   "codemirror_mode": {
    "name": "ipython",
    "version": 3
   },
   "file_extension": ".py",
   "mimetype": "text/x-python",
   "name": "python",
   "nbconvert_exporter": "python",
   "pygments_lexer": "ipython3",
   "version": "3.8.12"
  },
  "vscode": {
   "interpreter": {
    "hash": "34368ba4908ea1be08ba769dfb7764ab7f8ead2384ebb5604cb86637573696f7"
   }
  }
 },
 "nbformat": 4,
 "nbformat_minor": 4
}
