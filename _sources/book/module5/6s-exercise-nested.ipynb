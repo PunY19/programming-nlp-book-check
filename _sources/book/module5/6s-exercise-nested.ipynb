{
 "cells": [
  {
   "cell_type": "markdown",
   "metadata": {},
   "source": [
    "# เฉลยโจทย์: โครงสร้างข้อมูลซ้อนใน\n",
    "\n"
   ]
  },
  {
   "cell_type": "markdown",
   "metadata": {
    "id": "2ALys98GmVc5"
   },
   "source": [
    "## เรื่องลิสต์ซ้อนลิสต์\n",
    "### ข้อ 1 - คะแนนรวม\n",
    "\n",
    "สมมติว่าเรามีข้อมูลคะแนนสอบของนักเรียนตลอดหนึ่งเทอม เขียนฟังก์ชันที่คำนวณว่านักเรียนแต่ละคนสอบผ่านหรือไม่ โดยใช้เกณฑ์ดังนี้  \n",
    "\n",
    "|คะแนน|grade|\n",
    "|---|---|\n",
    "|>=60 |pass|\n",
    "|<60|fail|\n",
    "\n",
    "input ที่ได้มาเป็นลิสต์ของลิสต์ของคะแนนของนักเรียนแต่ละคน เพราะฉะนั้น input เป็นโครงสร้างข้อมูลประเภทลิสต์ของลิสต์ของ `เลขจำนวนเต็ม`\n",
    "\n",
    "ให้ฟังก์ชันคืนค่าลิสต์ของบูลีนที่ระบุว่านักเรียนแต่ละคนผ่านวิชานี้หรือไม่ "
   ]
  },
  {
   "cell_type": "code",
   "execution_count": null,
   "metadata": {
    "id": "Uitug1v2mVc5"
   },
   "outputs": [],
   "source": [
    "def sum_scores(score_lists):\n",
    "    \"\"\"\n",
    "    \n",
    "    >>> sum_scores([[10, 15, 30, 15], [2, 12, 25, 18]])\n",
    "    [True, False]\n",
    "    \"\"\"\n",
    "    result = []\n",
    "    for scores in score_lists:\n",
    "        # วนลูปผ่านลิสต์ภายใน score_lists เพื่อคำนวณผลรวมของเลขในแต่ละลิสต์\n",
    "        total_score = sum(scores)\n",
    "        # เก็บค่าความสำเร็จของนักเรียน (ผ่านหรือไม่ผ่าน) เป็นค่าบูลีนในลิสต์ result\n",
    "        result.append(total_score >= 60)\n",
    "    return result"
   ]
  },
  {
   "cell_type": "markdown",
   "metadata": {},
   "source": [
    "### ข้อ 2 - ประมวลผลประโยค 1\n",
    "เขียนฟังก์ชันที่เปลี่ยนลิสต์ของประโยคที่ยังไม่ได้มีการตัดคำ ให้เป็นลิสต์ของลิสต์ของคำ (สตริง) โดยใช้คำสั่ง `.split(' ')`"
   ]
  },
  {
   "cell_type": "code",
   "execution_count": null,
   "metadata": {},
   "outputs": [],
   "source": [
    "def process_paragraph(sentence_list):\n",
    "    \"\"\"\n",
    "    \n",
    "    >>> process_paragraph(['This is a sentence.', 'This is another sentence.'])\n",
    "    [['This', 'is', 'a', 'sentence.'], ['This', 'is', 'another', 'sentence.']]\n",
    "    \"\"\"\n",
    "    result = []\n",
    "    # ลูปผ่านแต่ละประโยคใน sentence_list\n",
    "    for sentence in sentence_list:\n",
    "        # แบ่งประโยคเป็นคำๆ โดยใช้ช่องว่างเป็นตัวแบ่ง และเพิ่มลิสต์ของคำในแต่ละประโยคเข้าไปใน result\n",
    "        result.append(sentence.split(' '))\n",
    "    \n",
    "    # คืนค่าผลลัพธ์ที่เป็นลิสต์ของลิสต์ของคำ\n",
    "    return result"
   ]
  },
  {
   "cell_type": "markdown",
   "metadata": {},
   "source": [
    "### ข้อ 3 - ประมวลผลประโยค 2\n",
    "เขียนฟังก์ชันที่เปลี่ยนลิสต์ของประโยคที่ยังไม่ได้มีการตัดคำ ให้เป็นลิสต์ของจำนวนคำ จากนั้นให้คืนค่าทูเปิลที่มีค่าต่ำสุดและค่าสูงสุด\n",
    "\n",
    "กระบวนการนี้เป็นกระบวนการที่เราทำบ่อยๆ เวลาประมวลผลประโยคเพื่อตรวจสอบว่ามีประโยคที่สั้นเกินไปหรือไม่ซึ่งอาจจะเกิดจากตอนดึงข้อมูลแล้วเกิดการผิดพลาด"
   ]
  },
  {
   "cell_type": "code",
   "execution_count": null,
   "metadata": {},
   "outputs": [],
   "source": [
    "def get_min_max_sentence_length(sentence_list):\n",
    "    \"\"\"\n",
    "    \n",
    "    >>> get_min_max_sentence_length(['short sentence.', 'This is a very long long long sentence.', 'a normal sentence here', 'another normal sentence'])\n",
    "    (2, 8)\n",
    "    \"\"\"\n",
    "    word_counts = []\n",
    "    \n",
    "    # ใช้ลูปเพื่อหาจำนวนคำในแต่ละประโยค\n",
    "    for sentence in sentence_list:\n",
    "        words = sentence.split()\n",
    "        word_counts.append(len(words))\n",
    "    \n",
    "    # หาค่าต่ำสุดและค่าสูงสุด\n",
    "    min_words = min(word_counts)\n",
    "    max_words = max(word_counts)\n",
    "    \n",
    "    return (min_words, max_words)"
   ]
  },
  {
   "cell_type": "markdown",
   "metadata": {},
   "source": [
    "### ข้อ 4 - ประมวลผลประโยค 3\n",
    "เวลาเราประมวลผลข้อมูลที่เป็นประโยคเราจะตัดประโยคที่สั้นเกินไปออก เพราะว่าอาจจะเกิดจากความผิดพลาด และอาจจะเป็นประโยคที่ไม่ได้สื่อความหมายมาก นอกจากนั้นแล้วเรามักจะจำกัดความยาวของประโยคที่เราต้องการจะวิเคราะห์อีกด้วยไม่ให้มีความยาวเกินไป \n",
    "\n",
    "จงเขียนฟังก์ชันที่รับสามอาร์กิวเมนต์\n",
    "1) ลิสต์ของประโยคที่ยังไม่ได้มีการตัดคำ\n",
    "2) จำนวนคำขั้นต่ำที่ของประโยคที่ต้องการ\n",
    "3) จำนวนคำสูงสุด\n",
    "\n",
    "คืนค่าลิสต์ของประโยคที่มีความยาวมากกว่าจำนวนคำที่กำหนด และถ้าหากประโยคมีความยาวเกิดจำนวนคำสูงสุดให้เก็บไว้เฉพาะคำแรก ๆ ตัดเอาคำที่เกินทิ้งไป"
   ]
  },
  {
   "cell_type": "code",
   "execution_count": null,
   "metadata": {},
   "outputs": [],
   "source": [
    "def limit_sentence_lengths(sentence_list, min_words, max_words):\n",
    "    \"\"\"\n",
    "    รับลิสต์ของประโยค และกรองประโยคตามจำนวนคำขั้นต่ำและสูงสุดที่กำหนด\n",
    "\n",
    "    >>> limit_sentence_lengths(['short sentence', 'This is a very long long long sentence', 'a normal sentence here', 'another normal sentence'], 2, 4)\n",
    "    ['This is a very', 'a normal sentence here', 'another normal sentence']\n",
    "    \"\"\"\n",
    "    filtered_sentences = []\n",
    "    \n",
    "    for sentence in sentence_list:\n",
    "        words = sentence.split()  # แยกคำในประโยค\n",
    "        word_count = len(words)   # นับจำนวนคำ\n",
    "        \n",
    "        if word_count > min_words:\n",
    "            if word_count > max_words:\n",
    "                # ตัดประโยคให้เหลือคำตามจำนวนสูงสุดที่กำหนด\n",
    "                filtered_sentences.append(' '.join(words[:max_words]))\n",
    "            else:\n",
    "                # เก็บประโยคที่ผ่านเงื่อนไขไว้ในลิสต์\n",
    "                filtered_sentences.append(sentence)\n",
    "    \n",
    "    return filtered_sentences"
   ]
  },
  {
   "cell_type": "markdown",
   "metadata": {},
   "source": [
    "### ข้อ 5 - ประมวลผลประโยค 4\n",
    "เขียนฟังก์ชันเพื่อแปลงข้อมูลให้อยู่ในรูปของลิสต์ของลิสต์ของคำ โดยที่ input ที่ได้รับมาเป็นลิสต์ของประโยค ซึ่งแต่ละประโยคเป็นสตริงที่ถูกแบ่งคำไว้แล้ว แต่ละคำคั่นด้วย | โดยที่ให้กรองคำที่อยู่ในเซ็ตของคำที่ต้องการกรอง หรือ stopset ออก และกรองคำที่ไม่ใช่ตัวอักษรภาษาไทยออกไปโดยใช้ regex `[ก-์]`"
   ]
  },
  {
   "cell_type": "code",
   "execution_count": null,
   "metadata": {},
   "outputs": [],
   "source": [
    "import re\n",
    "\n",
    "def tokenize_clean(sentences, stopset):\n",
    "    \"\"\"\n",
    "    >>> tokenize_clean(['ฉัน|รัก|การ|เขียน|โปรแกรม|Python', 'ใน|ที่|สุด|ก็|สำเร็จ'],  {'ฉัน', 'การ', 'ใน', 'ที่', 'ก็'}) \n",
    "    [['รัก', 'เขียน', 'โปรแกรม'],  ['สำเร็จ']]\n",
    "    \"\"\"\n",
    "    result = []  \n",
    "    \n",
    "    for sentence in sentences:  # วนซ้ำในแต่ละประโยคในลิสต์\n",
    "        words = sentence.split('|')  # แบ่งประโยคออกเป็นคำโดยใช้ '|' เป็นตัวคั่น\n",
    "        clean_words = []  # สร้างลิสต์ว่างเพื่อเก็บคำที่ผ่านการกรองแล้ว\n",
    "        \n",
    "        for word in words:  # วนซ้ำในแต่ละคำในประโยค\n",
    "            if word not in stopset and re.match(r'[ก-์]', word):  # ตรวจสอบว่าคำไม่อยู่ใน stopset และเป็นตัวอักษรภาษาไทย\n",
    "                clean_words.append(word)  # ถ้าผ่านการตรวจสอบ ให้เพิ่มคำลงในลิสต์ clean_words\n",
    "                \n",
    "        result.append(clean_words)  # เพิ่มลิสต์คำที่ผ่านการกรองแล้วลงในลิสต์ผลลัพธ์\n",
    "        \n",
    "    return result  # คืนค่าลิสต์ผลลัพธ์"
   ]
  },
  {
   "cell_type": "markdown",
   "metadata": {},
   "source": [
    "### ข้อ 6 - ประมวลผลประโยค 5\n",
    "จงเขียนฟังก์ชันเพื่อวิเคราะห์ลิสต์ของประโยค ซึ่งแต่ละประโยคเป็นลิสต์ของสตริงคำ ฟังก์ชันจะต้องคำนวณว่าแต่ละประโยคมีคำที่สั้นกว่าสามตัวอักษรคิดเป็นร้อยละเท่าไร (จำนวนคำที่สั้นกว่าสามตัวอักษร หารด้วยจำนวนคำทั้งหมด) และคืนค่าที่คำนวณออกมาได้ "
   ]
  },
  {
   "cell_type": "code",
   "execution_count": null,
   "metadata": {},
   "outputs": [],
   "source": [
    "def calculate_ratio_3_chars(sentences):\n",
    "    \"\"\"\n",
    "    >>> calculate_ratio_3_chars([['Stay', 'in', 'the', 'middle'],['Like','you', 'a', 'little'], [\"Don't\", 'want','no','riddle']])\n",
    "    0.25\n",
    "    \"\"\"\n",
    "    # ตัวแปรนับจำนวนคำที่สั้นกว่าสามตัวอักษร\n",
    "    short_word_count = 0\n",
    "    # ตัวแปรนับจำนวนคำทั้งหมด\n",
    "    total_word_count = 0\n",
    "    \n",
    "    # วนซ้ำในแต่ละประโยคในลิสต์ของประโยค\n",
    "    for sentence in sentences:\n",
    "        # วนซ้ำในแต่ละคำในประโยค\n",
    "        for word in sentence:\n",
    "            total_word_count += 1  # เพิ่มจำนวนคำทั้งหมด\n",
    "            if len(word) < 3:  # ถ้าคำสั้นกว่าสามตัวอักษร\n",
    "                short_word_count += 1  # เพิ่มจำนวนคำที่สั้นกว่าสามตัวอักษร\n",
    "    \n",
    "    # คำนวณร้อยละของคำที่สั้นกว่าสามตัวอักษร\n",
    "    ratio = short_word_count / total_word_count\n",
    "    \n",
    "    return ratio  # คืนค่าร้อยละที่คำนวณได้"
   ]
  },
  {
   "cell_type": "markdown",
   "metadata": {},
   "source": [
    "### ข้อ 7 - หาชื่อเล่นผู้ชาย\n",
    "\n",
    "สมมติว่าเรามีข้อมูลชื่อของนิสิตปัจจุบันซึ่งเก็บไว้ในลิสต์ของทูเปิล (ชื่อจริง, ชื่อเล่น, เพศ) จงเขียนฟังก์ชันที่คืนค่าลิสต์ที่มีชื่อเล่นของผู้ชายเรียงลำดับตามพจนานุกรม และไม่ซ้ำกัน"
   ]
  },
  {
   "cell_type": "code",
   "execution_count": null,
   "metadata": {},
   "outputs": [],
   "source": [
    "def get_male_nicknames(students):\n",
    "    \"\"\"\n",
    "    >>> get_male_nicknames([('Maysa', 'May', 'Female'),('Waruntorn', 'Ing', 'Female'),('Maysaya', 'May', 'Female'), ('Watsakorn', 'May', 'Female'),('Chonkan', 'Atom', 'Male'),('Saran', 'Ton', 'Male'), ('Tonkid', 'Ton', 'Male')])\n",
    "    ['Atom', 'Ton']  \n",
    "    \"\"\"\n",
    "    # สร้างเซ็ตเพื่อเก็บชื่อเล่นของผู้ชายที่ไม่ซ้ำกัน\n",
    "    male_nicknames = set()\n",
    "    \n",
    "    # วนซ้ำผ่านลิสต์ของนักเรียน\n",
    "    for full_name, nickname, gender in students:\n",
    "        # ถ้าเพศเป็นชาย\n",
    "        if gender == 'Male':\n",
    "            # เพิ่มชื่อเล่นลงในเซ็ต\n",
    "            male_nicknames.add(nickname)\n",
    "    \n",
    "    # แปลงเซ็ตเป็นลิสต์และเรียงลำดับตามพจนานุกรม\n",
    "    sorted_nicknames = sorted(male_nicknames)\n",
    "    \n",
    "    return sorted_nicknames  # คืนค่าลิสต์ที่เรียงลำดับแล้ว"
   ]
  },
  {
   "cell_type": "markdown",
   "metadata": {
    "id": "VPrMd-DFnW0c"
   },
   "source": [
    "## เรื่องลิสต์ของดิกชันนารีคู่ฟิลด์แวลู\n",
    "### ข้อ 1 - ความนิยม\n",
    "\n",
    "เขียนฟังก์ชันหาจำนวนคอมเมนต์ของไอดีแอ็กเคานต์ที่กำหนดให้ โดยที่ทวีตถูกเก็บอยู่ในรูปดิกชันนารีคู่ฟิลด์แวลู\n",
    "```python\n",
    "data = [ {'id': 'BarackObama', 'date': 'October 17, 2019', 'num comments': 243000,\n",
    "  'num retweets': 37000, 'num fav': 250300, 'text': 'I was proud to work with Justin Trudeau as President'},\n",
    " {'id': 'SpeakerPelosi', 'date': 'October 17, 2019', 'num comments': 22700,\n",
    "  'num retweets': 10000, 'num fav': 45600, 'text': 'What courage does it take to pass legislation that will save lives?'},\n",
    " {'id': 'BarackObama', 'date': 'October 15, 2019', 'num comments': 2000,\n",
    "  'num retweets': 5000, 'num fav': 52800, 'text': 'In December, Michelle and I will head to Malaysia for the first @ObamaFoundation Leaders: Asia-Pacific gathering'}\n",
    "]\n",
    "```\n"
   ]
  },
  {
   "cell_type": "code",
   "execution_count": null,
   "metadata": {
    "id": "XZm4bbqdnW0c"
   },
   "outputs": [],
   "source": [
    "def sum_comments_for_id(tweet_id, tweet_list):\n",
    "    \"\"\"\n",
    "    \n",
    "    >>> sum_comments_for_id('BarackObama', data)\n",
    "    42000\n",
    "    \"\"\"\n",
    "    total_comments = 0  # ตัวแปรสำหรับเก็บจำนวนคอมเมนต์ทั้งหมด\n",
    "\n",
    "    # วนลูปผ่านลิสต์ของทวีต\n",
    "    for tweet in tweet_list:\n",
    "        # ถ้าไอดีของทวีตตรงกับไอดีที่กำหนด\n",
    "        if tweet['id'] == tweet_id:\n",
    "            # บวกจำนวนคอมเมนต์ของทวีตนี้เข้าไปใน total_comments\n",
    "            total_comments += tweet['num comments']\n",
    "    \n",
    "    return total_comments  # คืนค่าจำนวนคอมเมนต์ทั้งหมด"
   ]
  },
  {
   "cell_type": "markdown",
   "metadata": {},
   "source": [
    "### ข้อ 2 - การปิดกั้นสื่อ\n",
    "สมมติว่าเราได้รับข้อมูลเกี่ยวกับเว็บไซต์ที่ถูกปิดกั้นมาจากองค์กรหนึ่งในรูปแบบของลิสต์ของดิกชันนารีคู่ฟิลด์แวลู แต่ว่าข้อมูลชุดนี้ต้องได้รับการอัพเดท จงเขียนฟังก์ชันที่คืนค่าลิสต์ของดิกชันนารีคู่ฟิลด์แวลูที่มีการอัพเดทดังนี้\n",
    "\n",
    "1) เว็บไซต์ที่ฟิลด์ 'title' มีคำว่า 'men' หรือคำว่า 'women' จะต้องถูกเอาออกจากลิสต์\n",
    "2) เว็บไซต์ที่ฟิลด์ 'url' มี '.co.th' และจำนวนผู้เข้าชมรวมทุกประเทศมากกว่า 30000 ให้เพิ่มฟิลด์ 'big Thai site' และตั้งค่าเป็น True  ถ้าหากไม่ตรงเงื่อนไขให้ตั้งค่าเป็น False\n",
    "3) ลบฟิลด์ 'viewer' ออก (ใช้ dict.pop)\n",
    "\n",
    "ตัวอย่าง input:\n",
    "```python\n",
    "data = [\n",
    "{'title': 'Hottest men for you on this site', 'url': 'www.hotthing.com', \n",
    " 'viewer': {'thai': 1000, 'malaysia': 100, 'singapore': 600} },\n",
    "{'title': 'Welcome to Zentrale', 'url': 'www.zen-zen.co.th', \n",
    " 'viewer': {'thai': 40000, 'malaysia': 10000, 'singapore': 600} },\n",
    "{'title': 'Apply now for better life', 'url': 'www.betterlife.co.th', \n",
    " 'viewer': {'thai': 100, 'malaysia': 700, 'singapore': 200} },\n",
    "{'title': 'We have everything you want.', 'url': 'www.everything.com', \n",
    " 'viewer': {'thai': 10000, 'malaysia': 20000, 'china': 60000} }\n",
    "]\n",
    "```\n"
   ]
  },
  {
   "cell_type": "code",
   "execution_count": null,
   "metadata": {},
   "outputs": [],
   "source": [
    "def tag_thai_sites(site_dict_list):\n",
    "    \"\"\"\n",
    "\n",
    "    >>> tag_thai_sites(data)\n",
    "    [\n",
    "    {'title': 'Welcome to Zentrale', 'url': 'www.zen-zen.co.th','big Thai site': True},\n",
    "    {'title': 'Apply now for better life', 'url': 'www.betterlife.co.th', 'big Thai site': False },\n",
    "    {'title': 'We have everything you want.', 'url': 'www.everything.com', 'big Thai site': False}\n",
    "    ]\n",
    "    \"\"\"\n",
    "    updated_sites = []\n",
    "\n",
    "    for site in site_dict_list:\n",
    "        title = site.get('title', '').lower()\n",
    "        url = site.get('url', '')\n",
    "        viewer = site.get('viewer', {})\n",
    "        \n",
    "        # เงื่อนไข 1: เอาออกถ้า 'title' มีคำว่า 'men' หรือ 'women'\n",
    "        if 'men' in title or 'women' in title:\n",
    "            continue\n",
    "        \n",
    "        # เงื่อนไข 2: ตรวจสอบ '.co.th' และจำนวนผู้เข้าชมรวม\n",
    "        total_viewers = sum(viewer.values())\n",
    "        if '.co.th' in url:\n",
    "            site['big Thai site'] = total_viewers > 30000\n",
    "        else:\n",
    "            site['big Thai site'] = False\n",
    "        \n",
    "        # เงื่อนไข 3: ลบฟิลด์ 'viewer' ออก\n",
    "        site.pop('viewer', None)\n",
    "        \n",
    "        updated_sites.append(site)\n",
    "    \n",
    "    return updated_sites"
   ]
  },
  {
   "cell_type": "markdown",
   "metadata": {
    "id": "fbbDfyYGmVc9"
   },
   "source": [
    "## เรื่องดิกชันนารีซ้อนใน\n",
    "### ข้อ 1 - รายชื่อติดต่อ \n",
    "จงเขียนโปรแกรมที่สร้างลิสต์ของทูเปิล (name, line id) จากดิกชันนารีซ้อนใน โดยเรียงลำดับตามอักษรของชื่อ"
   ]
  },
  {
   "cell_type": "code",
   "execution_count": null,
   "metadata": {
    "id": "b9nUWHmamVc-"
   },
   "outputs": [],
   "source": [
    "def list_contact(contacts):\n",
    "    \"\"\"\n",
    "    \n",
    "    >>> list_contact({\n",
    "    'Alex' : {'phone': '123-456-789', 'line': 'alexcool'},\n",
    "    'Bo': {'home phone': '111-222-3333', 'line': 'bobo'},\n",
    "    'Chris': {'phone': '444-555-6666', 'line': 'chrissie'},\n",
    "    'Doug': {'mobile phone': '444-555-6666', 'line': 'dougd'}   \n",
    "    })\n",
    "    [('Alex', 'alexcool'), ('Bo', 'bobo'), ('Chris', 'chrissie'), ('Doug', 'dougd')]\n",
    "    \"\"\"\n",
    "    # สร้างลิสต์ของทูเปิล (name, line id) จากดิกชันนารี\n",
    "    contact_list = [(name, info['line']) for name, info in contacts.items()]\n",
    "    \n",
    "    # เรียงลำดับตามอักษรของชื่อ\n",
    "    contact_list.sort()\n",
    "    \n",
    "    return contact_list"
   ]
  },
  {
   "cell_type": "markdown",
   "metadata": {
    "id": "v2s3DkMsnW0U"
   },
   "source": [
    "### ข้อ 2 - ทูเปิลเป็นคีย์\n",
    "สมมติว่าเราได้ข้อมูลเบอร์โทรศัพท์ที่เก็บอยู่ในดิกชันนารีที่มีคีย์เป็นทูเปิลของชื่อและนามสกุล และแวลูเป็นสตริงที่เก็บเบอร์โทรศัพท์\n",
    "\n",
    "จงเขียนฟังก์ชัน `lookup_by_lastname` ที่รับนามสกุลที่เป็นสตริง และดิกชันนารีข้อมูลเบอร์โทรศัพท์ และคืนค่าเบอร์โทรศัพท์ของคนที่มีนามสกุลที่กำหนดให้ ถ้าเกิดว่านามสกุลนั้นไม่มีอยู่ในดิกชันนารีให้คืนค่า `None`\n"
   ]
  },
  {
   "cell_type": "code",
   "execution_count": null,
   "metadata": {
    "id": "WtCBbSCwnW0U"
   },
   "outputs": [],
   "source": [
    "def lookup_by_lastname(last_name, data):\n",
    "    \"\"\"\n",
    "    \n",
    "    >>> name_to_phone =  { ('Mark', 'Wahlberg') : '111-222-3333',\n",
    "        ('Jane', 'Doe'): '222-333-4444',\n",
    "        ('Jane', 'Eyre'): '333-444-5555'\n",
    "        }\n",
    "    >>> lookup_by_lastname('Doe', name_to_phone_numbers)\n",
    "    '222-333-4444'\n",
    "    \"\"\"\n",
    "    # วนลูปในดิกชันนารีเพื่อตรวจสอบนามสกุล\n",
    "    for (first_name, surname), phone_number in data.items():\n",
    "        if surname == last_name:\n",
    "            return phone_number\n",
    "    return None"
   ]
  },
  {
   "cell_type": "markdown",
   "metadata": {
    "id": "bv-Y7fgsnW0Z"
   },
   "source": [
    "### ข้อ 3 - Name to age - Age to name\n",
    "เปลี่ยนจาก\n",
    "```\n",
    "name_to_age = {'ชญา': 33, \n",
    "         'อรรถพล': 34,\n",
    "         'โนโซมิ': 34}\n",
    "```\n",
    "ให้เป็น\n",
    "\n",
    "```\n",
    "age_to_name = {33: ['ชญา'], \n",
    "         34: ['อรรถพล', 'โนโซมิ']\n",
    "```"
   ]
  },
  {
   "cell_type": "code",
   "execution_count": null,
   "metadata": {
    "id": "eNoT7tG7nW0Z"
   },
   "outputs": [],
   "source": [
    "name_to_age = {'ชญา': 33, \n",
    "         'อรรถพล': 34,\n",
    "         'โนโซมิ': 34}\n",
    "\n",
    "def transform_to_age_to_name(name_to_age):\n",
    "    age_to_name = {}\n",
    "    \n",
    "     # วนลูปในดิกชันนารี name_to_age เพื่อเข้าถึงชื่อและอายุ\n",
    "    for name, age in name_to_age.items():\n",
    "        # ถ้าคีย์ age ยังไม่มีใน age_to_name ให้สร้างลิสต์ใหม่\n",
    "        if age not in age_to_name:\n",
    "            age_to_name[age] = []\n",
    "        # เพิ่มชื่อเข้าไปในลิสต์ของคีย์ age\n",
    "        age_to_name[age].append(name)\n",
    "    \n",
    "    # คืนค่าดิกชันนารี age_to_name ที่แปลงเสร็จแล้ว\n",
    "    return age_to_name"
   ]
  },
  {
   "cell_type": "markdown",
   "metadata": {
    "id": "63LtT1sunW0i"
   },
   "source": [
    "### ข้อ 4 - เปลี่ยนคีย์\n",
    "\n",
    "เปลี่ยนโครงสร้างของดิกชันนารีจากที่เคยมีคีย์เป็นทูเปิล (first name, last name) เป็นแค่ last name อย่างเดียว"
   ]
  },
  {
   "cell_type": "code",
   "execution_count": null,
   "metadata": {
    "id": "pNwtGARGnW0i"
   },
   "outputs": [],
   "source": [
    "name_to_phone = { ('Mark', 'Wahlberg') : '111-222-3333',\n",
    "  ('Jane', 'Doe'): '222-333-4444',\n",
    "  ('Jane', 'Eyre'): '333-444-5555'\n",
    "}\n",
    "\n",
    "def transform_to_last_name_keys(name_to_phone):\n",
    "    last_name_to_phone = {}\n",
    "\n",
    "    # วนลูปในดิกชันนารี name_to_phone เพื่อเข้าถึงชื่อและเบอร์โทรศัพท์\n",
    "    for (first_name, last_name), phone in name_to_phone.items():\n",
    "        # ถ้าคีย์ last name ยังไม่มีใน last_name_to_phone ให้สร้างลิสต์ใหม่\n",
    "        if last_name not in last_name_to_phone:\n",
    "            last_name_to_phone[last_name] = []\n",
    "        # เพิ่มเบอร์โทรศัพท์เข้าไปในลิสต์ของคีย์ last name\n",
    "        last_name_to_phone[last_name].append(phone)\n",
    "    \n",
    "    # คืนค่าดิกชันนารี last_name_to_phone ที่แปลงเสร็จแล้ว\n",
    "    return last_name_to_phone"
   ]
  },
  {
   "cell_type": "markdown",
   "metadata": {
    "id": "V7JlJHWnnW0l"
   },
   "source": [
    "### ข้อ 5 - นับจำนวนนักเรียน\n",
    "\n",
    "สมมติว่าเรามีข้อมูลการลงทะเบียนเรียนในดิกชันนารีที่มีคีย์เป็นสตริงที่เก็บชื่อวิชา และแวลูเป็นลิสต์ของสตริงที่เก็บชื่อนักเรียนที่ลงเรียนวิชานั้นอยู่ \n",
    "\n",
    "จงเขียนฟังก์ชันที่คืนค่าลิสต์ของชื่อนักเรียนทั้งหมดที่ไม่ซ้ำกัน"
   ]
  },
  {
   "cell_type": "code",
   "execution_count": null,
   "metadata": {
    "id": "ef2iR68YnW0l"
   },
   "outputs": [],
   "source": [
    "def list_all_students(registration):\n",
    "    \"\"\"\n",
    "    >>> registration = {'CompLing': ['Andy', 'Brittney', 'Catherine'],\n",
    "        'SoundSys': ['Andy', 'Brittney', 'Donald', 'Elaine', 'Fodor'],\n",
    "        'GramSys': ['Brittney', 'Girth', 'Harry'],\n",
    "        'ManGeog': ['Andy', 'Donald', 'Girth']\n",
    "    }\n",
    "    >>> list_all_students(registration)\n",
    "    ['Andy', 'Brittney', 'Catherine', 'Donald', 'Elaine', 'Fodor', 'Girth', 'Harry']\n",
    "    \"\"\"\n",
    "    # สร้างเซ็ตเปล่าเพื่อเก็บชื่อนักเรียนที่ไม่ซ้ำกัน\n",
    "    student_set = set()\n",
    "\n",
    "    # วนลูปในดิกชันนารี registration เพื่อเข้าถึงลิสต์ชื่อนักเรียนในแต่ละวิชา\n",
    "    for students in registration.values():\n",
    "        # เพิ่มชื่อนักเรียนในเซ็ต student_set (การเพิ่มเข้าเซ็ตจะทำให้ไม่มีชื่อนักเรียนซ้ำกัน)\n",
    "        student_set.update(students)\n",
    "\n",
    "    # แปลงเซ็ต student_set เป็นลิสต์และเรียงลำดับชื่อนักเรียนตามลำดับตัวอักษร\n",
    "    student_list = sorted(student_set)\n",
    "\n",
    "    # คืนค่าลิสต์ชื่อนักเรียนที่เรียงลำดับแล้ว\n",
    "    return student_list"
   ]
  },
  {
   "cell_type": "markdown",
   "metadata": {
    "id": "6nBJPZxpnW0q"
   },
   "source": [
    "### ข้อ 6 - ใครชอบเรียนเยอะ\n",
    "\n",
    "สมมติว่าเรามีข้อมูลการลงทะเบียนเรียนในดิกชันนารีที่มีคีย์เป็นสตริงที่เก็บชื่อวิชา และแวลูเป็นลิสต์ของสตริงที่เก็บชื่อนักเรียนที่ลงเรียนวิชานั้นอยู่ \n",
    "\n",
    "จงเขียนฟังก์ชันที่คืนค่าดิกชันนารีที่คีย์คือจำนวนคลาสที่เรียนต่อคน และแวลูคือคนที่ลงเรียนจำนวนคลาสเท่ากับคีย์"
   ]
  },
  {
   "cell_type": "code",
   "execution_count": null,
   "metadata": {
    "id": "AEwoEddcnW0r"
   },
   "outputs": [],
   "source": [
    "def get_num_classes_to_students(registration):\n",
    "    \"\"\"\n",
    "    \n",
    "    Example:\n",
    "    >>> registration = {'CompLing': ['Andy', 'Brittney', 'Catherine'],\n",
    "        'SoundSys': ['Andy', 'Brittney', 'Donald', 'Elaine', 'Fodor'],\n",
    "        'GramSys': ['Brittney', 'Girth', 'Harry'],\n",
    "        'ManGeog': ['Andy', 'Donald', 'Girth']\n",
    "    }\n",
    "    >>> get_num_classes_to_students(registration)\n",
    "    {3: ['Andy', 'Brittney'],\n",
    "    2: ['Donald', 'Girth'],\n",
    "    1: ['Catherine', 'Elaine', 'Fodor', 'Harry']}\n",
    "    \"\"\"\n",
    "    student_classes_count = {}\n",
    "\n",
    "    # วนลูปในดิกชันนารี registration เพื่อเก็บจำนวนคลาสที่นักเรียนลงทะเบียนเรียน\n",
    "    for students in registration.values():\n",
    "        for student in students:\n",
    "            if student in student_classes_count:\n",
    "                student_classes_count[student] += 1\n",
    "            else:\n",
    "                student_classes_count[student] = 1\n",
    "\n",
    "    # สร้างดิกชันนารีเพื่อเก็บจำนวนคลาสและลิสต์นักเรียนที่ลงเรียนตามจำนวนคลาสนั้นๆ\n",
    "    num_classes_to_students = {}\n",
    "\n",
    "    # วนลูปในดิกชันนารี student_classes_count เพื่อสร้างดิกชันนารี num_classes_to_students\n",
    "    for student, count in student_classes_count.items():\n",
    "        if count in num_classes_to_students:\n",
    "            num_classes_to_students[count].append(student)\n",
    "        else:\n",
    "            num_classes_to_students[count] = [student]\n",
    "\n",
    "    # คืนค่าดิกชันนารี num_classes_to_students\n",
    "    return num_classes_to_students"
   ]
  },
  {
   "cell_type": "markdown",
   "metadata": {
    "id": "tbqllZTRnW0v"
   },
   "source": [
    "### ข้อ 7 - รวมดิกชันนารี\n",
    "\n",
    "จงเขียนฟังก์ชัน `combine_dicts` ที่รวมดิกชันนารีสองอันเข้าไว้ด้วยกัน โดยที่ดิกชันนารีมีคีย์และแวลูเป็นสตริง ฟังก์ชันต้องคืนค่าดิกชันนารีที่มีคีย์เป็นสตริงและแวลูเป็นลิสต์ของสตริง เช่น\n",
    "```\n",
    "dict1 = {'a': 'ant', 'b': 'bird', 'c':'caterpillar'}\n",
    "dict2 = {'a': 'ant', 'c': 'cat', 'd': 'dog'}\n",
    "combine_dicts(dict1 , dict2)\n",
    ">>> {'a': ['ant', 'ant'], \n",
    "     'b': ['bird'], \n",
    "     'c': ['caterpillar','cat'], \n",
    "     'd':['dog']}\n",
    "```\n",
    "แวลูที่คู่กับ `'c'` เป็นลิสต์ที่มี `'catepillar'` ซึ่งมาจาก `dict1` และ `'cat'` ซึ่งมาจาก `dict2`  \n",
    "\n",
    "แวลูที่คู่กับ `'d'` เป็นลิสต์ที่มี `'dog'` ซึ่งมาจาก `dict2` เพราะว่า `dict1` ไม่มีคีย์ `'c'` อยู่"
   ]
  },
  {
   "cell_type": "code",
   "execution_count": null,
   "metadata": {
    "id": "mv8LTKmknW0w"
   },
   "outputs": [],
   "source": [
    "def combine_dicts(d1, d2):\n",
    "    combined = {}\n",
    "\n",
    "    # วนลูปในดิกชันนารี d1 เพื่อเพิ่มค่าใน combined\n",
    "    for key, value in d1.items():\n",
    "        if key in combined:\n",
    "            combined[key].append(value)\n",
    "        else:\n",
    "            combined[key] = [value]\n",
    "\n",
    "    # วนลูปในดิกชันนารี d2 เพื่อเพิ่มค่าใน combined\n",
    "    for key, value in d2.items():\n",
    "        if key in combined:\n",
    "            combined[key].append(value)\n",
    "        else:\n",
    "            combined[key] = [value]\n",
    "\n",
    "    return combined"
   ]
  },
  {
   "cell_type": "markdown",
   "metadata": {},
   "source": [
    "### ข้อ 8 - ใครไม่ส่งการบ้าน\n",
    "\n",
    "สมมติว่าเรามีข้อมูลการส่งงานของนิสิต เก็บอยู่ในดิกชันนารีที่มีคีย์เป็นสตริงที่เก็บชื่อการบ้านทั้งหมด และแวลูเป็นลิสต์ของสตริงที่เก็บชื่อนิสิตที่ส่งการบ้านชิ้นนั้นแล้ว จงเขียนฟังก์ชันที่คืนค่าลิสต์ของชื่อนิสิตที่ส่งการบ้านไม่ครบ"
   ]
  },
  {
   "cell_type": "code",
   "execution_count": null,
   "metadata": {},
   "outputs": [],
   "source": [
    "def find_missing_work(data):\n",
    "    \"\"\"\n",
    "    >>> find_missing_work( {'PA1': ['Bew', 'Mild', 'Nipun'],\n",
    "        'PA2': ['Mild', 'Bew', 'PP'],\n",
    "        'PA3': ['Bew', 'Nipun', 'Mild'] } )\n",
    "    ['Nipun', 'PP']\n",
    "    \"\"\"\n",
    "    # สร้างเซ็ตเพื่อเก็บชื่อนิสิตทั้งหมดที่ส่งการบ้านอย่างน้อยหนึ่งชิ้น\n",
    "    all_students = set()\n",
    "    \n",
    "    # สร้างดิกชันนารีเพื่อตรวจสอบการส่งการบ้านของนิสิตแต่ละคน\n",
    "    student_work_count = {}\n",
    "\n",
    "    # วนลูปในดิกชันนารี data เพื่อเก็บชื่อนิสิตและนับจำนวนการส่งการบ้าน\n",
    "    for homework, students in data.items():\n",
    "        for student in students:\n",
    "            all_students.add(student)\n",
    "            if student in student_work_count:\n",
    "                student_work_count[student] += 1\n",
    "            else:\n",
    "                student_work_count[student] = 1\n",
    "    \n",
    "    # สร้างลิสต์เพื่อนิสิตที่ส่งการบ้านไม่ครบ\n",
    "    missing_work_students = []\n",
    "    \n",
    "    # นับจำนวนการบ้านทั้งหมด\n",
    "    total_homeworks = len(data)\n",
    "    \n",
    "    # วนลูปในดิกชันนารี student_work_count เพื่อหานิสิตที่ส่งการบ้านไม่ครบ\n",
    "    for student, count in student_work_count.items():\n",
    "        if count < total_homeworks:\n",
    "            missing_work_students.append(student)\n",
    "    \n",
    "    return missing_work_students"
   ]
  }
 ],
 "metadata": {
  "colab": {
   "collapsed_sections": [],
   "name": "PC12b.ipynb",
   "provenance": []
  },
  "kernelspec": {
   "display_name": "Python 3 (ipykernel)",
   "language": "python",
   "name": "python3"
  },
  "language_info": {
   "codemirror_mode": {
    "name": "ipython",
    "version": 3
   },
   "file_extension": ".py",
   "mimetype": "text/x-python",
   "name": "python",
   "nbconvert_exporter": "python",
   "pygments_lexer": "ipython3",
   "version": "3.8.12"
  },
  "vscode": {
   "interpreter": {
    "hash": "34368ba4908ea1be08ba769dfb7764ab7f8ead2384ebb5604cb86637573696f7"
   }
  }
 },
 "nbformat": 4,
 "nbformat_minor": 4
}
