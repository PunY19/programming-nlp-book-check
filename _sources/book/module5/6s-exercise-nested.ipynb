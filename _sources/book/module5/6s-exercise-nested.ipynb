{
 "cells": [
  {
   "cell_type": "markdown",
   "metadata": {},
   "source": [
    "# เฉลยโจทย์: โครงสร้างข้อมูลซ้อนใน\n",
    "\n"
   ]
  },
  {
   "cell_type": "markdown",
   "metadata": {
    "id": "2ALys98GmVc5"
   },
   "source": [
    "## เรื่องลิสต์ซ้อนลิสต์\n",
    "### ข้อ 1"
   ]
  },
  {
   "cell_type": "code",
   "execution_count": null,
   "metadata": {
    "id": "Uitug1v2mVc5"
   },
   "outputs": [],
   "source": [
    "def sum_scores(score_lists):\n",
    "    \"\"\"\n",
    "    \n",
    "    >>> sum_scores([[10, 15, 30, 15], [2, 12, 25, 18]])\n",
    "    [True, False]\n",
    "    \"\"\"\n",
    "    result = []\n",
    "    for scores in score_lists:\n",
    "        # วนซ้ำผ่านลิสต์ภายใน score_lists เพื่อคำนวณผลรวมของเลขในแต่ละลิสต์\n",
    "        total_score = sum(scores)\n",
    "        # เก็บค่าความสำเร็จของนักเรียน (ผ่านหรือไม่ผ่าน) เป็นค่าบูลีนในลิสต์ result\n",
    "        result.append(total_score >= 60)\n",
    "    return result"
   ]
  },
  {
   "cell_type": "markdown",
   "metadata": {},
   "source": [
    "### ข้อ 2"
   ]
  },
  {
   "cell_type": "code",
   "execution_count": null,
   "metadata": {},
   "outputs": [],
   "source": [
    "def process_paragraph(sentence_list):\n",
    "    \"\"\"\n",
    "    \n",
    "    >>> process_paragraph(['This is a sentence.', 'This is another sentence.'])\n",
    "    [['This', 'is', 'a', 'sentence.'], ['This', 'is', 'another', 'sentence.']]\n",
    "    \"\"\"\n",
    "    result = []\n",
    "    # ลูปผ่านแต่ละประโยคใน sentence_list\n",
    "    for sentence in sentence_list:\n",
    "        # แบ่งประโยคเป็นคำๆ โดยใช้ช่องว่างเป็นตัวแบ่ง และเพิ่มลิสต์ของคำในแต่ละประโยคเข้าไปใน result\n",
    "        result.append(sentence.split(' '))\n",
    "    \n",
    "    # คืนค่าผลลัพธ์ที่เป็นลิสต์ของลิสต์ของคำ\n",
    "    return result"
   ]
  },
  {
   "cell_type": "markdown",
   "metadata": {},
   "source": [
    "### ข้อ 3"
   ]
  },
  {
   "cell_type": "code",
   "execution_count": null,
   "metadata": {},
   "outputs": [],
   "source": [
    "def get_min_max_sentence_length(sentence_list):\n",
    "    \"\"\"\n",
    "    \n",
    "    >>> get_min_max_sentence_length(['short sentence.', 'This is a very long long long sentence.', 'a normal sentence here', 'another normal sentence'])\n",
    "    (2, 8)\n",
    "    \"\"\"\n",
    "    word_counts = []\n",
    "    \n",
    "    # ใช้ลูปเพื่อหาจำนวนคำในแต่ละประโยค\n",
    "    for sentence in sentence_list:\n",
    "        words = sentence.split()\n",
    "        word_counts.append(len(words))\n",
    "    \n",
    "    # หาค่าต่ำสุดและค่าสูงสุด\n",
    "    min_words = min(word_counts)\n",
    "    max_words = max(word_counts)\n",
    "    \n",
    "    return (min_words, max_words)"
   ]
  },
  {
   "cell_type": "markdown",
   "metadata": {},
   "source": [
    "### ข้อ 4"
   ]
  },
  {
   "cell_type": "code",
   "execution_count": null,
   "metadata": {},
   "outputs": [],
   "source": [
    "def limit_sentence_lengths(sentence_list, min_words, max_words):\n",
    "    \"\"\"\n",
    "    รับลิสต์ของประโยค และกรองประโยคตามจำนวนคำขั้นต่ำและสูงสุดที่กำหนด\n",
    "\n",
    "    >>> limit_sentence_lengths(['short sentence', 'This is a very long long long sentence', 'a normal sentence here', 'another normal sentence'], 2, 4)\n",
    "    ['This is a very', 'a normal sentence here', 'another normal sentence']\n",
    "    \"\"\"\n",
    "    filtered_sentences = []\n",
    "    \n",
    "    for sentence in sentence_list:\n",
    "        words = sentence.split()  # แยกคำในประโยค\n",
    "        word_count = len(words)   # นับจำนวนคำ\n",
    "        \n",
    "        if word_count > min_words:\n",
    "            if word_count > max_words:\n",
    "                # ตัดประโยคให้เหลือคำตามจำนวนสูงสุดที่กำหนด\n",
    "                filtered_sentences.append(' '.join(words[:max_words]))\n",
    "            else:\n",
    "                # เก็บประโยคที่ผ่านเงื่อนไขไว้ในลิสต์\n",
    "                filtered_sentences.append(sentence)\n",
    "    \n",
    "    return filtered_sentences"
   ]
  },
  {
   "cell_type": "markdown",
   "metadata": {},
   "source": [
    "### ข้อ 5"
   ]
  },
  {
   "cell_type": "code",
   "execution_count": null,
   "metadata": {},
   "outputs": [],
   "source": [
    "import re\n",
    "\n",
    "def tokenize_clean(sentences, stopset):\n",
    "    \"\"\"\n",
    "    >>> tokenize_clean(['ฉัน|รัก|การ|เขียน|โปรแกรม|Python', 'ใน|ที่|สุด|ก็|สำเร็จ'],  {'ฉัน', 'การ', 'ใน', 'ที่', 'ก็'}) \n",
    "    [['รัก', 'เขียน', 'โปรแกรม'],  ['สำเร็จ']]\n",
    "    \"\"\"\n",
    "    result = []  \n",
    "    \n",
    "    for sentence in sentences:  # วนซ้ำในแต่ละประโยคในลิสต์\n",
    "        words = sentence.split('|')  # แบ่งประโยคออกเป็นคำโดยใช้ '|' เป็นตัวคั่น\n",
    "        clean_words = []  # สร้างลิสต์ว่างเพื่อเก็บคำที่ผ่านการกรองแล้ว\n",
    "        \n",
    "        for word in words:  # วนซ้ำในแต่ละคำในประโยค\n",
    "            if word not in stopset and re.match(r'[ก-์]', word):  # ตรวจสอบว่าคำไม่อยู่ใน stopset และเป็นตัวอักษรภาษาไทย\n",
    "                clean_words.append(word)  # ถ้าผ่านการตรวจสอบ ให้เพิ่มคำลงในลิสต์ clean_words\n",
    "                \n",
    "        result.append(clean_words)  # เพิ่มลิสต์คำที่ผ่านการกรองแล้วลงในลิสต์ผลลัพธ์\n",
    "        \n",
    "    return result  # คืนค่าลิสต์ผลลัพธ์"
   ]
  },
  {
   "cell_type": "markdown",
   "metadata": {},
   "source": [
    "### ข้อ 6"
   ]
  },
  {
   "cell_type": "code",
   "execution_count": null,
   "metadata": {},
   "outputs": [],
   "source": [
    "def calculate_ratio_3_chars(sentences):\n",
    "    \"\"\"\n",
    "    >>> calculate_ratio_3_chars([['Stay', 'in', 'the', 'middle'],['Like','you', 'a', 'little'], [\"Don't\", 'want','no','riddle']])\n",
    "    0.25\n",
    "    \"\"\"\n",
    "    # ตัวแปรนับจำนวนคำที่สั้นกว่าสามตัวอักษร\n",
    "    short_word_count = 0\n",
    "    # ตัวแปรนับจำนวนคำทั้งหมด\n",
    "    total_word_count = 0\n",
    "    \n",
    "    # วนซ้ำในแต่ละประโยคในลิสต์ของประโยค\n",
    "    for sentence in sentences:\n",
    "        # วนซ้ำในแต่ละคำในประโยค\n",
    "        for word in sentence:\n",
    "            total_word_count += 1  # เพิ่มจำนวนคำทั้งหมด\n",
    "            if len(word) < 3:  # ถ้าคำสั้นกว่าสามตัวอักษร\n",
    "                short_word_count += 1  # เพิ่มจำนวนคำที่สั้นกว่าสามตัวอักษร\n",
    "    \n",
    "    # คำนวณร้อยละของคำที่สั้นกว่าสามตัวอักษร\n",
    "    ratio = short_word_count / total_word_count\n",
    "    \n",
    "    return ratio  # คืนค่าร้อยละที่คำนวณได้"
   ]
  },
  {
   "cell_type": "markdown",
   "metadata": {},
   "source": [
    "### ข้อ 7"
   ]
  },
  {
   "cell_type": "code",
   "execution_count": null,
   "metadata": {},
   "outputs": [],
   "source": [
    "def get_male_nicknames(students):\n",
    "    \"\"\"\n",
    "    >>> get_male_nicknames([('Maysa', 'May', 'Female'),('Waruntorn', 'Ing', 'Female'),('Maysaya', 'May', 'Female'), ('Watsakorn', 'May', 'Female'),('Chonkan', 'Atom', 'Male'),('Saran', 'Ton', 'Male'), ('Tonkid', 'Ton', 'Male')])\n",
    "    ['Atom', 'Ton']  \n",
    "    \"\"\"\n",
    "    # สร้างเซตเพื่อเก็บชื่อเล่นของผู้ชายที่ไม่ซ้ำกัน\n",
    "    male_nicknames = set()\n",
    "    \n",
    "    # วนซ้ำผ่านลิสต์ของนักเรียน\n",
    "    for full_name, nickname, gender in students:\n",
    "        # ถ้าเพศเป็นชาย\n",
    "        if gender == 'Male':\n",
    "            # เพิ่มชื่อเล่นลงในเซต\n",
    "            male_nicknames.add(nickname)\n",
    "    \n",
    "    # แปลงเซตเป็นลิสต์และเรียงลำดับตามพจนานุกรม\n",
    "    sorted_nicknames = sorted(male_nicknames)\n",
    "    \n",
    "    return sorted_nicknames  # คืนค่าลิสต์ที่เรียงลำดับแล้ว"
   ]
  },
  {
   "cell_type": "markdown",
   "metadata": {
    "id": "VPrMd-DFnW0c"
   },
   "source": [
    "## เรื่องลิสต์ของดิกชันนารีคู่ฟิลด์แวลู\n",
    "### ข้อ 1"
   ]
  },
  {
   "cell_type": "code",
   "execution_count": null,
   "metadata": {
    "id": "XZm4bbqdnW0c"
   },
   "outputs": [],
   "source": [
    "def sum_comments_for_id(tweet_id, tweet_list):\n",
    "    \"\"\"\n",
    "    \n",
    "    >>> sum_comments_for_id('BarackObama', data)\n",
    "    42000\n",
    "    \"\"\"\n",
    "    total_comments = 0  # ตัวแปรสำหรับเก็บจำนวนคอมเมนต์ทั้งหมด\n",
    "\n",
    "    # วนซ้ำผ่านลิสต์ของทวีต\n",
    "    for tweet in tweet_list:\n",
    "        # ถ้าไอดีของทวีตตรงกับไอดีที่กำหนด\n",
    "        if tweet['id'] == tweet_id:\n",
    "            # บวกจำนวนคอมเมนต์ของทวีตนี้เข้าไปใน total_comments\n",
    "            total_comments += tweet['num comments']\n",
    "    \n",
    "    return total_comments  # คืนค่าจำนวนคอมเมนต์ทั้งหมด"
   ]
  },
  {
   "cell_type": "markdown",
   "metadata": {},
   "source": [
    "### ข้อ 2"
   ]
  },
  {
   "cell_type": "code",
   "execution_count": null,
   "metadata": {},
   "outputs": [],
   "source": [
    "def tag_thai_sites(site_dict_list):\n",
    "    \"\"\"\n",
    "\n",
    "    >>> tag_thai_sites(data)\n",
    "    [\n",
    "    {'title': 'Welcome to Zentrale', 'url': 'www.zen-zen.co.th','big Thai site': True},\n",
    "    {'title': 'Apply now for better life', 'url': 'www.betterlife.co.th', 'big Thai site': False },\n",
    "    {'title': 'We have everything you want.', 'url': 'www.everything.com', 'big Thai site': False}\n",
    "    ]\n",
    "    \"\"\"\n",
    "    updated_sites = []\n",
    "\n",
    "    for site in site_dict_list:\n",
    "        title = site.get('title', '').lower()\n",
    "        url = site.get('url', '')\n",
    "        viewer = site.get('viewer', {})\n",
    "        \n",
    "        # เงื่อนไข 1: เอาออกถ้า 'title' มีคำว่า 'men' หรือ 'women'\n",
    "        if 'men' in title or 'women' in title:\n",
    "            continue\n",
    "        \n",
    "        # เงื่อนไข 2: ตรวจสอบ '.co.th' และจำนวนผู้เข้าชมรวม\n",
    "        total_viewers = sum(viewer.values())\n",
    "        if '.co.th' in url:\n",
    "            site['big Thai site'] = total_viewers > 30000\n",
    "        else:\n",
    "            site['big Thai site'] = False\n",
    "        \n",
    "        # เงื่อนไข 3: ลบฟิลด์ 'viewer' ออก\n",
    "        site.pop('viewer', None)\n",
    "        \n",
    "        updated_sites.append(site)\n",
    "    \n",
    "    return updated_sites"
   ]
  },
  {
   "cell_type": "markdown",
   "metadata": {
    "id": "fbbDfyYGmVc9"
   },
   "source": [
    "## เรื่องดิกชันนารีซ้อนใน\n",
    "### ข้อ 1"
   ]
  },
  {
   "cell_type": "code",
   "execution_count": null,
   "metadata": {
    "id": "b9nUWHmamVc-"
   },
   "outputs": [],
   "source": [
    "def list_contact(contacts):\n",
    "    \"\"\"\n",
    "    \n",
    "    >>> list_contact({\n",
    "    'Alex' : {'phone': '123-456-789', 'line': 'alexcool'},\n",
    "    'Bo': {'home phone': '111-222-3333', 'line': 'bobo'},\n",
    "    'Chris': {'phone': '444-555-6666', 'line': 'chrissie'},\n",
    "    'Doug': {'mobile phone': '444-555-6666', 'line': 'dougd'}   \n",
    "    })\n",
    "    [('Alex', 'alexcool'), ('Bo', 'bobo'), ('Chris', 'chrissie'), ('Doug', 'dougd')]\n",
    "    \"\"\"\n",
    "    # สร้างลิสต์ของทูเปิล (name, line id) จากดิกชันนารี\n",
    "    contact_list = [(name, info['line']) for name, info in contacts.items()]\n",
    "    \n",
    "    # เรียงลำดับตามอักษรของชื่อ\n",
    "    contact_list.sort()\n",
    "    \n",
    "    return contact_list"
   ]
  },
  {
   "cell_type": "markdown",
   "metadata": {
    "id": "v2s3DkMsnW0U"
   },
   "source": [
    "### ข้อ 2"
   ]
  },
  {
   "cell_type": "code",
   "execution_count": null,
   "metadata": {
    "id": "WtCBbSCwnW0U"
   },
   "outputs": [],
   "source": [
    "def lookup_by_lastname(last_name, data):\n",
    "    \"\"\"\n",
    "    \n",
    "    >>> name_to_phone =  { ('Mark', 'Wahlberg') : '111-222-3333',\n",
    "        ('Jane', 'Doe'): '222-333-4444',\n",
    "        ('Jane', 'Eyre'): '333-444-5555'\n",
    "        }\n",
    "    >>> lookup_by_lastname('Doe', name_to_phone_numbers)\n",
    "    '222-333-4444'\n",
    "    \"\"\"\n",
    "    # วนซ้ำในดิกชันนารีเพื่อตรวจสอบนามสกุล\n",
    "    for (first_name, surname), phone_number in data.items():\n",
    "        if surname == last_name:\n",
    "            return phone_number\n",
    "    return None"
   ]
  },
  {
   "cell_type": "markdown",
   "metadata": {
    "id": "bv-Y7fgsnW0Z"
   },
   "source": [
    "### ข้อ 3"
   ]
  },
  {
   "cell_type": "code",
   "execution_count": null,
   "metadata": {
    "id": "eNoT7tG7nW0Z"
   },
   "outputs": [],
   "source": [
    "name_to_age = {'ชญา': 33, \n",
    "         'อรรถพล': 34,\n",
    "         'โนโซมิ': 34}\n",
    "\n",
    "def transform_to_age_to_name(name_to_age):\n",
    "    age_to_name = {}\n",
    "    \n",
    "     # วนซ้ำในดิกชันนารี name_to_age เพื่อเข้าถึงชื่อและอายุ\n",
    "    for name, age in name_to_age.items():\n",
    "        # ถ้าคีย์ age ยังไม่มีใน age_to_name ให้สร้างลิสต์ใหม่\n",
    "        if age not in age_to_name:\n",
    "            age_to_name[age] = []\n",
    "        # เพิ่มชื่อเข้าไปในลิสต์ของคีย์ age\n",
    "        age_to_name[age].append(name)\n",
    "    \n",
    "    # คืนค่าดิกชันนารี age_to_name ที่แปลงเสร็จแล้ว\n",
    "    return age_to_name"
   ]
  },
  {
   "cell_type": "markdown",
   "metadata": {
    "id": "63LtT1sunW0i"
   },
   "source": [
    "### ข้อ 4"
   ]
  },
  {
   "cell_type": "code",
   "execution_count": null,
   "metadata": {
    "id": "pNwtGARGnW0i"
   },
   "outputs": [],
   "source": [
    "name_to_phone = { ('Mark', 'Wahlberg') : '111-222-3333',\n",
    "  ('Jane', 'Doe'): '222-333-4444',\n",
    "  ('Jane', 'Eyre'): '333-444-5555'\n",
    "}\n",
    "\n",
    "def transform_to_last_name_keys(name_to_phone):\n",
    "    last_name_to_phone = {}\n",
    "\n",
    "    # วนซ้ำในดิกชันนารี name_to_phone เพื่อเข้าถึงชื่อและเบอร์โทรศัพท์\n",
    "    for (first_name, last_name), phone in name_to_phone.items():\n",
    "        # ถ้าคีย์ last name ยังไม่มีใน last_name_to_phone ให้สร้างลิสต์ใหม่\n",
    "        if last_name not in last_name_to_phone:\n",
    "            last_name_to_phone[last_name] = []\n",
    "        # เพิ่มเบอร์โทรศัพท์เข้าไปในลิสต์ของคีย์ last name\n",
    "        last_name_to_phone[last_name].append(phone)\n",
    "    \n",
    "    # คืนค่าดิกชันนารี last_name_to_phone ที่แปลงเสร็จแล้ว\n",
    "    return last_name_to_phone"
   ]
  },
  {
   "cell_type": "markdown",
   "metadata": {
    "id": "V7JlJHWnnW0l"
   },
   "source": [
    "### ข้อ 5"
   ]
  },
  {
   "cell_type": "code",
   "execution_count": null,
   "metadata": {
    "id": "ef2iR68YnW0l"
   },
   "outputs": [],
   "source": [
    "def list_all_students(registration):\n",
    "    \"\"\"\n",
    "    >>> registration = {'CompLing': ['Andy', 'Brittney', 'Catherine'],\n",
    "        'SoundSys': ['Andy', 'Brittney', 'Donald', 'Elaine', 'Fodor'],\n",
    "        'GramSys': ['Brittney', 'Girth', 'Harry'],\n",
    "        'ManGeog': ['Andy', 'Donald', 'Girth']\n",
    "    }\n",
    "    >>> list_all_students(registration)\n",
    "    ['Andy', 'Brittney', 'Catherine', 'Donald', 'Elaine', 'Fodor', 'Girth', 'Harry']\n",
    "    \"\"\"\n",
    "    # สร้างเซตเปล่าเพื่อเก็บชื่อนักเรียนที่ไม่ซ้ำกัน\n",
    "    student_set = set()\n",
    "\n",
    "    # วนซ้ำในดิกชันนารี registration เพื่อเข้าถึงลิสต์ชื่อนักเรียนในแต่ละวิชา\n",
    "    for students in registration.values():\n",
    "        # เพิ่มชื่อนักเรียนในเซต student_set (การเพิ่มเข้าเซตจะทำให้ไม่มีชื่อนักเรียนซ้ำกัน)\n",
    "        student_set.update(students)\n",
    "\n",
    "    # แปลงเซต student_set เป็นลิสต์และเรียงลำดับชื่อนักเรียนตามลำดับตัวอักษร\n",
    "    student_list = sorted(student_set)\n",
    "\n",
    "    # คืนค่าลิสต์ชื่อนักเรียนที่เรียงลำดับแล้ว\n",
    "    return student_list"
   ]
  },
  {
   "cell_type": "markdown",
   "metadata": {
    "id": "6nBJPZxpnW0q"
   },
   "source": [
    "### ข้อ 6"
   ]
  },
  {
   "cell_type": "code",
   "execution_count": null,
   "metadata": {
    "id": "AEwoEddcnW0r"
   },
   "outputs": [],
   "source": [
    "def get_num_classes_to_students(registration):\n",
    "    \"\"\"\n",
    "    \n",
    "    Example:\n",
    "    >>> registration = {'CompLing': ['Andy', 'Brittney', 'Catherine'],\n",
    "        'SoundSys': ['Andy', 'Brittney', 'Donald', 'Elaine', 'Fodor'],\n",
    "        'GramSys': ['Brittney', 'Girth', 'Harry'],\n",
    "        'ManGeog': ['Andy', 'Donald', 'Girth']\n",
    "    }\n",
    "    >>> get_num_classes_to_students(registration)\n",
    "    {3: ['Andy', 'Brittney'],\n",
    "    2: ['Donald', 'Girth'],\n",
    "    1: ['Catherine', 'Elaine', 'Fodor', 'Harry']}\n",
    "    \"\"\"\n",
    "    student_classes_count = {}\n",
    "\n",
    "    # วนซ้ำในดิกชันนารี registration เพื่อเก็บจำนวนคลาสที่นักเรียนลงทะเบียนเรียน\n",
    "    for students in registration.values():\n",
    "        for student in students:\n",
    "            if student in student_classes_count:\n",
    "                student_classes_count[student] += 1\n",
    "            else:\n",
    "                student_classes_count[student] = 1\n",
    "\n",
    "    # สร้างดิกชันนารีเพื่อเก็บจำนวนคลาสและลิสต์นักเรียนที่ลงเรียนตามจำนวนคลาสนั้นๆ\n",
    "    num_classes_to_students = {}\n",
    "\n",
    "    # วนซ้ำในดิกชันนารี student_classes_count เพื่อสร้างดิกชันนารี num_classes_to_students\n",
    "    for student, count in student_classes_count.items():\n",
    "        if count in num_classes_to_students:\n",
    "            num_classes_to_students[count].append(student)\n",
    "        else:\n",
    "            num_classes_to_students[count] = [student]\n",
    "\n",
    "    # คืนค่าดิกชันนารี num_classes_to_students\n",
    "    return num_classes_to_students"
   ]
  },
  {
   "cell_type": "markdown",
   "metadata": {
    "id": "tbqllZTRnW0v"
   },
   "source": [
    "### ข้อ 7"
   ]
  },
  {
   "cell_type": "code",
   "execution_count": null,
   "metadata": {
    "id": "mv8LTKmknW0w"
   },
   "outputs": [],
   "source": [
    "def combine_dicts(d1, d2):\n",
    "    combined = {}\n",
    "\n",
    "    # วนซ้ำในดิกชันนารี d1 เพื่อเพิ่มค่าใน combined\n",
    "    for key, value in d1.items():\n",
    "        if key in combined:\n",
    "            combined[key].append(value)\n",
    "        else:\n",
    "            combined[key] = [value]\n",
    "\n",
    "    # วนซ้ำในดิกชันนารี d2 เพื่อเพิ่มค่าใน combined\n",
    "    for key, value in d2.items():\n",
    "        if key in combined:\n",
    "            combined[key].append(value)\n",
    "        else:\n",
    "            combined[key] = [value]\n",
    "\n",
    "    return combined"
   ]
  },
  {
   "cell_type": "markdown",
   "metadata": {},
   "source": [
    "### ข้อ 8"
   ]
  },
  {
   "cell_type": "code",
   "execution_count": null,
   "metadata": {},
   "outputs": [],
   "source": [
    "def find_missing_work(data):\n",
    "    \"\"\"\n",
    "    >>> find_missing_work( {'PA1': ['Bew', 'Mild', 'Nipun'],\n",
    "        'PA2': ['Mild', 'Bew', 'PP'],\n",
    "        'PA3': ['Bew', 'Nipun', 'Mild'] } )\n",
    "    ['Nipun', 'PP']\n",
    "    \"\"\"\n",
    "    # สร้างเซตเพื่อเก็บชื่อนิสิตทั้งหมดที่ส่งการบ้านอย่างน้อยหนึ่งชิ้น\n",
    "    all_students = set()\n",
    "    \n",
    "    # สร้างดิกชันนารีเพื่อตรวจสอบการส่งการบ้านของนิสิตแต่ละคน\n",
    "    student_work_count = {}\n",
    "\n",
    "    # วนซ้ำในดิกชันนารี data เพื่อเก็บชื่อนิสิตและนับจำนวนการส่งการบ้าน\n",
    "    for homework, students in data.items():\n",
    "        for student in students:\n",
    "            all_students.add(student)\n",
    "            if student in student_work_count:\n",
    "                student_work_count[student] += 1\n",
    "            else:\n",
    "                student_work_count[student] = 1\n",
    "    \n",
    "    # สร้างลิสต์เพื่อเก็บชื่อนิสิตที่ส่งการบ้านไม่ครบ\n",
    "    missing_work_students = []\n",
    "    \n",
    "    # นับจำนวนการบ้านทั้งหมด\n",
    "    total_homeworks = len(data)\n",
    "    \n",
    "    # วนซ้ำในดิกชันนารี student_work_count เพื่อหานิสิตที่ส่งการบ้านไม่ครบ\n",
    "    for student, count in student_work_count.items():\n",
    "        if count < total_homeworks:\n",
    "            missing_work_students.append(student)\n",
    "    \n",
    "    return missing_work_students"
   ]
  }
 ],
 "metadata": {
  "colab": {
   "collapsed_sections": [],
   "name": "PC12b.ipynb",
   "provenance": []
  },
  "kernelspec": {
   "display_name": "Python 3 (ipykernel)",
   "language": "python",
   "name": "python3"
  },
  "language_info": {
   "codemirror_mode": {
    "name": "ipython",
    "version": 3
   },
   "file_extension": ".py",
   "mimetype": "text/x-python",
   "name": "python",
   "nbconvert_exporter": "python",
   "pygments_lexer": "ipython3",
   "version": "3.8.12"
  },
  "vscode": {
   "interpreter": {
    "hash": "34368ba4908ea1be08ba769dfb7764ab7f8ead2384ebb5604cb86637573696f7"
   }
  }
 },
 "nbformat": 4,
 "nbformat_minor": 4
}
