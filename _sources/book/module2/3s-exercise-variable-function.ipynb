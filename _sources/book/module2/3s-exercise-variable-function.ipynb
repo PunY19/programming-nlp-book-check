{
 "cells": [
  {
   "cell_type": "markdown",
   "metadata": {
    "id": "Vco7akx29Qsr"
   },
   "source": [
    "# เฉลยแบบฝึกหัด: ตัวแปร และฟังก์ชัน\n",
    "\n",
    "## โจทย์​เรื่องตัวแปรและฟังก์ชัน"
   ]
  },
  {
   "cell_type": "markdown",
   "metadata": {},
   "source": [
    "### ข้อ 1"
   ]
  },
  {
   "cell_type": "code",
   "execution_count": null,
   "metadata": {},
   "outputs": [],
   "source": [
    "def greet():\n",
    "  print(\"สวัสดีชาวโลก\")"
   ]
  },
  {
   "cell_type": "markdown",
   "metadata": {},
   "source": [
    "### ข้อ 2"
   ]
  },
  {
   "cell_type": "code",
   "execution_count": 4,
   "metadata": {},
   "outputs": [],
   "source": [
    "# สร้างฟังก์ชัน add() วิธีที่ 1\n",
    "def add(a, b):\n",
    "  sum = a + b\n",
    "  return sum"
   ]
  },
  {
   "cell_type": "code",
   "execution_count": 5,
   "metadata": {},
   "outputs": [],
   "source": [
    "# สร้างฟังก์ชัน add() วิธีที่ 2\n",
    "def add(a, b):\n",
    "  return a + b"
   ]
  },
  {
   "cell_type": "markdown",
   "metadata": {
    "id": "F5l0V0gDAPjq"
   },
   "source": [
    "### ข้อ 3"
   ]
  },
  {
   "cell_type": "code",
   "execution_count": 9,
   "metadata": {
    "id": "ahkjaaPlUrDm"
   },
   "outputs": [],
   "source": [
    "# สร้างฟังก์ชัน cuboid()\n",
    "def cuboid(width, length, height):\n",
    "  volume = width * length * height\n",
    "  return volume\n",
    "\n",
    "vol_box1 = cuboid(3, 7, 9)\n",
    "print(vol_box1)"
   ]
  },
  {
   "cell_type": "code",
   "execution_count": 13,
   "metadata": {},
   "outputs": [
    {
     "name": "stdout",
     "output_type": "stream",
     "text": [
      "264.0\n"
     ]
    }
   ],
   "source": [
    "# เรียกใช้ฟังก์ชัน cuboid() คำนวณปริมาตรของกล่องที่มีความกว้าง 5.5 ซม. ยาว 6 ซม. และ สูง 8 ซม. \n",
    "vol_box2 = cuboid(5.5, 6, 8)\n",
    "print(vol_box2)"
   ]
  },
  {
   "cell_type": "markdown",
   "metadata": {},
   "source": [
    "### ข้อ 4"
   ]
  },
  {
   "cell_type": "code",
   "execution_count": 14,
   "metadata": {},
   "outputs": [],
   "source": [
    "# สร้างฟังก์ชัน show_work_cuboid()\n",
    "def show_work_cuboid(width, length, height):\n",
    "  print(\"ความกว้าง\")\n",
    "  print(width)\n",
    "  print(\"ความยาว\")\n",
    "  print(length)\n",
    "  print(\"ความสูง\")\n",
    "  print(height)\n",
    "  print(\"ปริมาตร\")\n",
    "  vol = cuboid(width, length, height)\n",
    "  print(vol)"
   ]
  },
  {
   "cell_type": "markdown",
   "metadata": {
    "id": "neYhU2hNX3Ew"
   },
   "source": [
    "### ข้อ 5"
   ]
  },
  {
   "cell_type": "code",
   "execution_count": 32,
   "metadata": {},
   "outputs": [],
   "source": [
    "def cumulative_sum(n):\n",
    "  result = 0\n",
    "  for i in range(1, n+1, 1): \n",
    "    result_pre = result\n",
    "    result_post = result_pre + i\n",
    "    result = result_post\n",
    "  return result"
   ]
  },
  {
   "cell_type": "code",
   "execution_count": 33,
   "metadata": {},
   "outputs": [],
   "source": [
    "def cumulative_sum(n):\n",
    "  result = 0\n",
    "  for i in range(1, n+1, 1): \n",
    "    result = result + i\n",
    "  return result"
   ]
  },
  {
   "cell_type": "markdown",
   "metadata": {
    "id": "57VwC31x02YU"
   },
   "source": [
    "### ข้อ 6"
   ]
  },
  {
   "cell_type": "code",
   "execution_count": 36,
   "metadata": {
    "id": "Gs0KNtj31Y2G"
   },
   "outputs": [],
   "source": [
    "# สร้างฟังก์ชัน fact() ที่รับพารามิเตอร์ 1 ตัว\n",
    "def fact(n):\n",
    "    # กำหนดค่าเริ่มต้นของตัวแปร x เป็น 1\n",
    "    x = 1\n",
    "    # วนซ้ำตามจำนวนที่รับเข้ามาในพารามิเตอร์ n\n",
    "    for i in range(n):\n",
    "        # คูณค่า x ด้วยตัวเลขในช่วง 1 ถึง n\n",
    "        x = x * (i + 1)\n",
    "    return x"
   ]
  },
  {
   "cell_type": "markdown",
   "metadata": {
    "id": "L5NP3VHQtVJN"
   },
   "source": [
    "### ข้อ 7\n",
    "#### ข้อ 7.1"
   ]
  },
  {
   "cell_type": "code",
   "execution_count": 43,
   "metadata": {
    "id": "h6JX1KhutokO"
   },
   "outputs": [],
   "source": [
    "# สร้างฟังก์ชันที่รับค่าจำนวนเต็มและคืนค่าว่าหารด้วย 2 ได้กี่ครั้งจนกลายเป็น 1\n",
    "def divide_two(n):\n",
    "    # กำหนดค่าเริ่มต้นของตัวแปร count เป็น 0\n",
    "    count = 0\n",
    "    # นับจำนวนครั้งที่หาร n ด้วย 2 ได้ค่า x\n",
    "    x = n / 2\n",
    "\n",
    "    # ถ้า x เป็น 1 ให้คืนค่า x กลับ\n",
    "    if x == 1:\n",
    "        return x\n",
    "\n",
    "    # วนลูปจนกว่า x จะเป็น 1\n",
    "    while x != 1:\n",
    "        # หาร x ด้วย 2\n",
    "        x = x / 2\n",
    "        # เพิ่มค่าของ count ไปอีก 1\n",
    "        count += 1\n",
    "\n",
    "    # คำนวณผลรวมของ count และ 1 แล้วคืนค่าออกไป\n",
    "    result = count + 1\n",
    "    return result"
   ]
  },
  {
   "cell_type": "code",
   "execution_count": 46,
   "metadata": {},
   "outputs": [],
   "source": [
    "# โบนัส\n",
    "def divide_two(n):\n",
    "    count = 0\n",
    "    # วนลูปจนกว่า n จะมีค่าน้อยกว่า 2\n",
    "    while n >= 2:\n",
    "        n = n / 2\n",
    "        count += 1\n",
    "    # ตรวจสอบว่าหาก n ไม่เท่ากับ 1 แสดงว่าไม่ใช่เลขฐาน 2\n",
    "    if n != 1:\n",
    "        print(\"input ไม่ใช่เลขฐาน 2\")\n",
    "    else:\n",
    "        # คืนค่าจำนวนครั้งที่ต้องหารด้วย 2 จนกลายเป็น 1\n",
    "        return count\n"
   ]
  },
  {
   "cell_type": "markdown",
   "metadata": {
    "id": "dZ9CGHxEvAR7"
   },
   "source": [
    "#### ข้อ 7.2"
   ]
  },
  {
   "cell_type": "code",
   "execution_count": 52,
   "metadata": {
    "id": "OhUfrtsHpnAn"
   },
   "outputs": [
    {
     "name": "stdout",
     "output_type": "stream",
     "text": [
      "5.0\n",
      "4.0\n",
      "2.0\n"
     ]
    }
   ],
   "source": [
    "# นำเข้าโมดูล math สำหรับการทำงานกับฟังก์ชันทางคณิตศาสตร์\n",
    "import math\n",
    "\n",
    "# เรียกใช้ฟังก์ชัน math.log() จากโมดูล math เพื่อคำนวณลอการิทึม\n",
    "# คำนวณ log ฐาน 2 ของ 32\n",
    "print(math.log2(32))  # ผลลัพธ์คือ 5.0\n",
    "\n",
    "# คำนวณ log ฐาน 2 ของ 16\n",
    "print(math.log2(16))  # ผลลัพธ์คือ 4.0\n",
    "\n",
    "# คำนวณ log ฐาน 2 ของ 4\n",
    "print(math.log2(4))   # ผลลัพธ์คือ 2.0"
   ]
  },
  {
   "cell_type": "markdown",
   "metadata": {},
   "source": [
    "### ข้อ 8"
   ]
  },
  {
   "cell_type": "code",
   "execution_count": 55,
   "metadata": {},
   "outputs": [],
   "source": [
    "def convert_to_seconds(days, hours, minutes):\n",
    "    # คำนวณเวลาทั้งหมดในหน่วยวินาที\n",
    "    total_seconds = (days * 24 * 60 * 60) + (hours * 60 * 60) + (minutes * 60)\n",
    "    return total_seconds  # คืนค่าเวลาทั้งหมดในหน่วยวินาที "
   ]
  },
  {
   "cell_type": "markdown",
   "metadata": {
    "id": "Kal39rXjzreJ"
   },
   "source": [
    "### ข้อ 9"
   ]
  },
  {
   "cell_type": "code",
   "execution_count": 61,
   "metadata": {
    "id": "vVMvmKrZ1gUh"
   },
   "outputs": [],
   "source": [
    "# สร้างฟังก์ชัน recommend_size() ที่รับพารามิเตอร์ 1 ตัวเป็นขนาดรอบเอว\n",
    "def recommend_size(waist_size_in_inch):\n",
    "    # แปลงขนาดรอบเอวจาก นิ้ว เป็น เซนติเมตร\n",
    "    waist_size_in_cm = waist_size_in_inch * 2.54\n",
    "    \n",
    "    # ตรวจสอบขนาดรอบเอวและแนะนำขนาดที่เหมาะสม\n",
    "    if waist_size_in_cm < 76:\n",
    "        size = 'S'\n",
    "    elif waist_size_in_cm >= 76 and waist_size_in_cm <= 84:\n",
    "        size = 'M'\n",
    "    else:\n",
    "        size = 'L'\n",
    "    return size"
   ]
  },
  {
   "cell_type": "markdown",
   "metadata": {},
   "source": [
    "### ข้อ 10"
   ]
  },
  {
   "cell_type": "code",
   "execution_count": 72,
   "metadata": {},
   "outputs": [],
   "source": [
    "# วิธีที่ 1\n",
    "def compute_patients(num_initial_patients, num_days):\n",
    "    # เริ่มต้นจำนวนผู้ป่วยในวันแรก\n",
    "    num_patient_pre = num_initial_patients\n",
    "\n",
    "    # วนลูปตามจำนวนวันที่กำหนด\n",
    "    for i in range(1, num_days + 1, 1):  # เริ่มจากวันที่ 1 ถึง num_days โดยเพิ่มขึ้นทีละ 1 (start, stop, step) \n",
    "        # คำนวณจำนวนผู้ป่วยที่เพิ่มขึ้นในวันนี้\n",
    "        num_patient_plus = num_patient_pre * 3\n",
    "        # คำนวณจำนวนผู้ป่วยในวันนี้จากจำนวนผู้ป่วยที่เพิ่มขึ้นในวันนี้กับจำนวนผู้ป่วยวันก่อนหน้า\n",
    "        num_patient_now = num_patient_plus + num_patient_pre\n",
    "\n",
    "        # พิมพ์ข้อมูลจำนวนผู้ป่วยในแต่ละวัน\n",
    "        print(\"วันที่ \", i, \":\", num_patient_now, \"ผู้ป่วย\")\n",
    "\n",
    "        # ปรับจำนวนผู้ป่วยตอนนี้ให้เป็นจำนวนผู้ป่วยในวันก่อนหน้า เพื่อคำนวณจำนวนผู้ป่วยของวันถัดไป\n",
    "        num_patient_pre = num_patient_now\n",
    "\n",
    "    # คืนค่าจำนวนผู้ป่วยในวันสุดท้าย\n",
    "    return num_patient_now"
   ]
  },
  {
   "cell_type": "code",
   "execution_count": 70,
   "metadata": {},
   "outputs": [
    {
     "name": "stdout",
     "output_type": "stream",
     "text": [
      "วันที่  1 : 20 ผู้ป่วย\n",
      "วันที่  2 : 80 ผู้ป่วย\n",
      "วันที่  3 : 320 ผู้ป่วย\n"
     ]
    },
    {
     "data": {
      "text/plain": [
       "320"
      ]
     },
     "execution_count": 70,
     "metadata": {},
     "output_type": "execute_result"
    }
   ],
   "source": [
    "# ทดสอบฟังก์ชัน compute_patients()\n",
    "compute_patients(5, 3)"
   ]
  },
  {
   "cell_type": "code",
   "execution_count": 74,
   "metadata": {},
   "outputs": [],
   "source": [
    "# วิธีที่ 2\n",
    "def compute_patients(num_initial_patients, num_days):\n",
    "    # เริ่มต้นจำนวนผู้ป่วยในวันแรก\n",
    "    num_patient = num_initial_patients\n",
    "\n",
    "    # วนลูปตามจำนวนวันที่กำหนด\n",
    "    for i in range(1, num_days + 1, 1):  # เริ่มจากวันที่ 1 ถึง num_days โดยเพิ่มขึ้นทีละ 1\n",
    "        # คำนวณจำนวนผู้ป่วยที่เพิ่มขึ้นในวันนี้\n",
    "        num_patient_plus = num_patient * 3\n",
    "        # คำนวณผลรวมของจำนวนผู้ป่วยที่เพิ่มขึ้นในวันนี้กับจำนวนผู้ป่วยในปัจจุบัน\n",
    "        num_patient += num_patient_plus\n",
    "\n",
    "        # พิมพ์ข้อมูลจำนวนผู้ป่วยในแต่ละวัน\n",
    "        print(\"วันที่ \", i, \":\", num_patient, \"ผู้ป่วย\")\n",
    "\n",
    "    # คืนค่าจำนวนผู้ป่วยในวันสุดท้าย\n",
    "    return num_patient"
   ]
  },
  {
   "cell_type": "markdown",
   "metadata": {},
   "source": [
    "### ข้อ 11 \n",
    "#### ข้อ 11.1"
   ]
  },
  {
   "cell_type": "code",
   "execution_count": 1,
   "metadata": {},
   "outputs": [],
   "source": [
    "def days_to_hazard(max_immunity, alpha):\n",
    "    # กำหนดค่าเริ่มต้นของ immunity เท่ากับ max_immunity ที่รับ input เข้ามา\n",
    "    immune_preday = max_immunity\n",
    "\n",
    "    # เริ่มคำนวณที่วันที่ 8\n",
    "    immune_today = 40\n",
    "\n",
    "    # สร้างตัวแปร safe_day เพื่อนับจำนวนวันที่ปลอดภัยจากโรค COVID-19\n",
    "    safe_day = 0\n",
    "\n",
    "    # วนลูปจนกว่าค่า immune_today จะน้อยกว่า 40\n",
    "    while immune_today >= 40:\n",
    "        # คำนวณค่าภายในร่างกายในวันนี้\n",
    "        immune_today = immune_preday * alpha\n",
    "\n",
    "        # ตรวจสอบว่าค่า immunity ในวันนี้ยังมากกว่าหรือเท่ากับ 40 หรือไม่\n",
    "        if immune_today >= 40:\n",
    "            # ถ้ายังมากกว่าหรือเท่ากับ 40 ก็เพิ่มจำนวนวันที่ปลอดภัยไปอีก 1 วัน\n",
    "            safe_day += 1\n",
    "\n",
    "        # อัพเดทค่า immunity ในวันก่อนหน้าไปยังวันปัจจุบันเพื่อเตรียมการวนลูปในรอบถัดไป\n",
    "        immune_preday = immune_today\n",
    "\n",
    "    # คืนค่าจำนวนวันที่ปลอดภัยพร้อมกับจำนวนวันเริ่มต้น 7 วัน\n",
    "    return safe_day + 7"
   ]
  },
  {
   "cell_type": "markdown",
   "metadata": {},
   "source": [
    "#### ข้อ 11.2"
   ]
  },
  {
   "cell_type": "code",
   "execution_count": 5,
   "metadata": {},
   "outputs": [],
   "source": [
    "def check_risk(name1, max_immune1, alpha1, name2, max_immune2, alpha2):\n",
    "    # คำนวณจำนวนวันที่จะปลอดภัยจากโรค COVID-19 สำหรับบุคคล 1 และ 2\n",
    "    days_p1 = days_to_hazard(max_immune1, alpha1)\n",
    "    days_p2 = days_to_hazard(max_immune2, alpha2)\n",
    "\n",
    "    # เปรียบเทียบจำนวนวันที่ต้องใช้ของทั้งสองบุคคลและแสดงผลลัพธ์\n",
    "    if days_p1 < days_p2:\n",
    "        print(f\"{name1}ก่อน\")\n",
    "    elif days_p1 > days_p2:\n",
    "        print(f\"{name2}ก่อน\")\n"
   ]
  },
  {
   "cell_type": "code",
   "execution_count": 6,
   "metadata": {},
   "outputs": [
    {
     "name": "stdout",
     "output_type": "stream",
     "text": [
      "โจ้ก่อน\n"
     ]
    }
   ],
   "source": [
    "# ทดสอบฟังก์ชัน check_risk()\n",
    "check_risk('เอ๋', 400, 0.80, 'โจ้', 300, 0.75)"
   ]
  },
  {
   "cell_type": "markdown",
   "metadata": {},
   "source": [
    "### ข้อ 12\n",
    "#### ข้อ 12.1 "
   ]
  },
  {
   "cell_type": "code",
   "execution_count": 10,
   "metadata": {},
   "outputs": [],
   "source": [
    "def hourly_pay(flag):\n",
    "    # กำหนดค่าเริ่มต้นของค่าจ้างต่อชั่วโมง (pay) เป็น 0\n",
    "    pay = 0\n",
    "\n",
    "    # ตรวจสอบค่าของ flag เพื่อกำหนดค่าค่าจ้างต่อชั่วโมงตามเงื่อนไขที่กำหนด\n",
    "    if flag == 0:\n",
    "        pay = 0\n",
    "    elif flag >= 1 and flag <= 10:\n",
    "        pay = 50\n",
    "    elif flag >= 11 and flag <= 20:\n",
    "        pay = 120\n",
    "    elif flag >= 21:\n",
    "        pay = flag * 6.5\n",
    "\n",
    "    # คืนค่าค่าจ้างต่อชั่วโมง\n",
    "    return pay"
   ]
  },
  {
   "cell_type": "markdown",
   "metadata": {},
   "source": [
    "#### ข้อ 12.2"
   ]
  },
  {
   "cell_type": "code",
   "execution_count": 13,
   "metadata": {},
   "outputs": [],
   "source": [
    "def daily_pay(first_flag, next_flag, hour):\n",
    "  \"\"\"\n",
    "  กระบวนการคิด\n",
    "  1. หาจำนวนธงในแต่ละชั่วโมง\n",
    "  2. หาจำนวนเงินที่ได้ในชั่วโมงนั้น\n",
    "  3. เก็บค่าจำนวนเงินแต่ละชั่วโมง\n",
    "  4. คืนค่าจำนวนเงินค่าแรงทั้งวัน\n",
    "  \"\"\"\n",
    "  \"\"\"\n",
    "  # 1st hour\n",
    "  flag = first_flag + next_flag(0)\n",
    "  pay = hourly_pay(flag)\n",
    "\n",
    "  # 2nd hour\n",
    "  flag = flag + next_flag\n",
    "  flag = first_flag + next_flag(1)\n",
    "  pay = hourly_pay(flag)\n",
    "\n",
    "  # 3rd hour\n",
    "  flag = flag + next_flag\n",
    "  flag = first_flag + next_flag + next_flag\n",
    "  flag = first_flag + next_flag(2)\n",
    "  pay = hourly_pay(flag)\n",
    "\n",
    "  # nth hour\n",
    "  flag = first_flag + next_flag(n-1)\n",
    "\n",
    "  for i in range(hour):\n",
    "    # i = 0,1,2,3,..., hour-1\n",
    "    # i = 0\n",
    "\n",
    "  \"\"\"\n",
    "  final_pay = 0\n",
    "  for i in range(hour):\n",
    "    # i = 0,1,2,3,..., hour-1\n",
    "    # i = 0\n",
    "    flag = first_flag + (next_flag*i)\n",
    "    pay = hourly_pay(flag)\n",
    "    final_pay = final_pay + pay\n",
    "  return final_pay"
   ]
  },
  {
   "cell_type": "markdown",
   "metadata": {},
   "source": [
    "### ข้อ 13"
   ]
  },
  {
   "cell_type": "code",
   "execution_count": 16,
   "metadata": {},
   "outputs": [],
   "source": [
    "def compute_bmi(height, weight):\n",
    "    # แปลงความสูงจากเซนติเมตรเป็นเมตร\n",
    "    height_m = height / 100.0\n",
    "\n",
    "    # คำนวณ BMI\n",
    "    bmi = weight / (height_m ** 2)\n",
    "\n",
    "    # กำหนดหมวดหมู่ตามค่า BMI\n",
    "    if bmi >= 30.0:\n",
    "        classification = \"อ้วนมาก\"\n",
    "    elif bmi >= 25.0:\n",
    "        classification = \"อ้วน\"\n",
    "    elif bmi >= 18.6:\n",
    "        classification = \"น้ำหนักปกติ\"\n",
    "    else:\n",
    "        classification = \"ผอมเกินไป\"\n",
    "\n",
    "    # พิมพ์ค่า BMI และหมวดหมู่\n",
    "    print(classification)\n",
    "\n",
    "    return bmi"
   ]
  }
 ],
 "metadata": {
  "colab": {
   "collapsed_sections": [],
   "name": "PC3 Variables Functions Modules.ipynb",
   "provenance": []
  },
  "kernelspec": {
   "display_name": "Python 3 (ipykernel)",
   "language": "python",
   "name": "python3"
  },
  "language_info": {
   "codemirror_mode": {
    "name": "ipython",
    "version": 3
   },
   "file_extension": ".py",
   "mimetype": "text/x-python",
   "name": "python",
   "nbconvert_exporter": "python",
   "pygments_lexer": "ipython3",
   "version": "3.9.13"
  }
 },
 "nbformat": 4,
 "nbformat_minor": 4
}
