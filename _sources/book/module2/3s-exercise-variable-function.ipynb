{
 "cells": [
  {
   "cell_type": "markdown",
   "metadata": {
    "id": "Vco7akx29Qsr"
   },
   "source": [
    "# เฉลยโจทย์: ตัวแปร และฟังก์ชัน\n",
    "\n",
    "ข้อ 1 - 6 เป็นโจทย์วอร์มอัพที่ทบทวนแพทเทิร์นการเขียนโปรแกรมที่เพิ่งเรียนมา\n",
    "\n",
    "ข้อ 7 - 12 เป็นโจทย์ปัญหาการเขียนโปรแกรมที่รวมการใช้เทคนิคทั้งหมด"
   ]
  },
  {
   "cell_type": "markdown",
   "metadata": {},
   "source": [
    "## ข้อ 1 - `print`\n",
    "เขียนฟังก์ชันที่ชื่อว่า `greet` ที่แสดงผลข้อความว่า \"สวัสดีชาวโลก\""
   ]
  },
  {
   "cell_type": "code",
   "execution_count": 2,
   "metadata": {},
   "outputs": [],
   "source": [
    "# สร้างฟังก์ชัน greet() \n",
    "def greet():\n",
    "  print(\"สวัสดีชาวโลก\")"
   ]
  },
  {
   "cell_type": "code",
   "execution_count": 3,
   "metadata": {},
   "outputs": [
    {
     "name": "stdout",
     "output_type": "stream",
     "text": [
      "สวัสดีชาวโลก\n"
     ]
    }
   ],
   "source": [
    "# เรียกใช้ฟังก์ชัน greet()\n",
    "greet()"
   ]
  },
  {
   "cell_type": "markdown",
   "metadata": {},
   "source": [
    "## ข้อ 2 - `input` vs พารามิเตอร์\n",
    "เขียนฟังก์ชันที่ชื่อว่า `add` ที่รับพารามิเตอร์สองตัว และคืนค่า (`return`) เป็นผลรวมของสองค่าที่ได้รับมา\n",
    "\n",
    "สังเกตว่าโจทย์ข้อนี้เราจะไม่ใช้ `input` เพราะจะส่งค่าให้ฟังก์ชันผ่านพารามิเตอร์ "
   ]
  },
  {
   "cell_type": "code",
   "execution_count": 4,
   "metadata": {},
   "outputs": [],
   "source": [
    "# สร้างฟังก์ชัน add() วิธีที่ 1\n",
    "def add(a, b):\n",
    "  sum = a + b\n",
    "  return sum"
   ]
  },
  {
   "cell_type": "code",
   "execution_count": 5,
   "metadata": {},
   "outputs": [],
   "source": [
    "# สร้างฟังก์ชัน add() วิธีที่ 2\n",
    "def add(a, b):\n",
    "  return a + b"
   ]
  },
  {
   "cell_type": "code",
   "execution_count": 7,
   "metadata": {},
   "outputs": [
    {
     "name": "stdout",
     "output_type": "stream",
     "text": [
      "20\n"
     ]
    }
   ],
   "source": [
    "# เรียกใช้ฟังก์ชัน add()\n",
    "print(add(5, 15))"
   ]
  },
  {
   "cell_type": "code",
   "execution_count": 8,
   "metadata": {},
   "outputs": [
    {
     "name": "stdout",
     "output_type": "stream",
     "text": [
      "60\n"
     ]
    }
   ],
   "source": [
    "# เรียกใช้ฟังก์ชัน add()\n",
    "value1 = add(5, 15)\n",
    "value2 = add(1, 2)\n",
    "print(value1 * value2)"
   ]
  },
  {
   "cell_type": "markdown",
   "metadata": {
    "id": "F5l0V0gDAPjq"
   },
   "source": [
    "## ข้อ 3 - ฟังก์ชันแบบมีพารามิเตอร์\n",
    "จงหาปริมาตรของกล่องที่มีความกว้าง 3 ซม. ยาว 7 ซม. และ สูง 9 ซม. โดยสร้าง function ที่ชื่อว่า `cuboid` ที่รับ argument สามตัว (คำตอบคือ 189)\n",
    "\n",
    "จากนั้นคำนวณปริมาตรของกล่องที่มีความกว้าง 5.5 ซม. ยาว 6 ซม. และ สูง 8 ซม. โดยเปลี่ยนค่า argument (คำตอบคือ 264.0)\n",
    "\n",
    "จากนั้นคำนวณผลรวมของปริมาตรของทั้งสองกล่อง\n",
    "\n"
   ]
  },
  {
   "cell_type": "code",
   "execution_count": 9,
   "metadata": {
    "id": "ahkjaaPlUrDm"
   },
   "outputs": [],
   "source": [
    "# สร้างฟังก์ชัน cuboid()\n",
    "def cuboid(width, length, height):\n",
    "  volume = width * length * height\n",
    "  return volume"
   ]
  },
  {
   "cell_type": "code",
   "execution_count": 12,
   "metadata": {},
   "outputs": [
    {
     "name": "stdout",
     "output_type": "stream",
     "text": [
      "189\n"
     ]
    }
   ],
   "source": [
    "# เรียกใช้ฟังก์ชัน cuboid() คำนวณปริมาตรของกล่องที่มีความกว้าง 3 ซม. ยาว 7 ซม. และ สูง 9 ซม. \n",
    "vol_box1 = cuboid(3, 7, 9)\n",
    "print(vol_box1)"
   ]
  },
  {
   "cell_type": "code",
   "execution_count": 13,
   "metadata": {},
   "outputs": [
    {
     "name": "stdout",
     "output_type": "stream",
     "text": [
      "264.0\n"
     ]
    }
   ],
   "source": [
    "# เรียกใช้ฟังก์ชัน cuboid() คำนวณปริมาตรของกล่องที่มีความกว้าง 5.5 ซม. ยาว 6 ซม. และ สูง 8 ซม. \n",
    "vol_box2 = cuboid(5.5, 6, 8)\n",
    "print(vol_box2)"
   ]
  },
  {
   "cell_type": "markdown",
   "metadata": {},
   "source": [
    "## ข้อ 4 - `print` vs `return`\n",
    "จงเขียนฟังก์ชัน `show_work_cuboid` ที่รับ argument สามตัว คือความกว้าง ความยาว และความสูง โดยกำหนดให้ฟังก์ชันนี้\n",
    "\n",
    "- ไม่ต้อง return อะไรเลย\n",
    "- แสดงวิธีการคิดปริมาตรโดยการ `print` เช่น\n",
    "\n",
    "```python\n",
    ">>> show_work_cuboid(2,3,4)\n",
    "ความกว้าง\n",
    "2\n",
    "ความยาว\n",
    "3\n",
    "ความสูง\n",
    "4\n",
    "ปริมาตร\n",
    "24\n",
    "```"
   ]
  },
  {
   "cell_type": "code",
   "execution_count": 14,
   "metadata": {},
   "outputs": [],
   "source": [
    "# สร้างฟังก์ชัน show_work_cuboid()\n",
    "def show_work_cuboid(width, length, height):\n",
    "  print(\"ความกว้าง\")\n",
    "  print(width)\n",
    "  print(\"ความยาว\")\n",
    "  print(length)\n",
    "  print(\"ความสูง\")\n",
    "  print(height)\n",
    "  print(\"ปริมาตร\")\n",
    "  vol = cuboid(width, length, height)\n",
    "  print(vol)"
   ]
  },
  {
   "cell_type": "code",
   "execution_count": 15,
   "metadata": {},
   "outputs": [
    {
     "name": "stdout",
     "output_type": "stream",
     "text": [
      "ความกว้าง\n",
      "2\n",
      "ความยาว\n",
      "3\n",
      "ความสูง\n",
      "4\n",
      "ปริมาตร\n",
      "24\n"
     ]
    }
   ],
   "source": [
    "# เรียกใช้ฟังก์ชัน show_work_cuboid()\n",
    "show_work_cuboid(2, 3, 4)"
   ]
  },
  {
   "cell_type": "markdown",
   "metadata": {
    "id": "neYhU2hNX3Ew"
   },
   "source": [
    "## ข้อ 5 - update ตัวแปรในลูป\n",
    "จงเขียนฟังก์ชันหาผลรวมตั้งแต่ 1 ถึง n \n",
    "เช่น \n",
    "\n",
    "`cumulative_sum(3)` = 1 + 2 + 3  = 6\n",
    "\n",
    "`cumulative_sum(5)` = 1 + 2 + 3 + 4 + 5 = 15\n",
    "\n"
   ]
  },
  {
   "cell_type": "code",
   "execution_count": 30,
   "metadata": {
    "id": "MtfPQgXzOtMw"
   },
   "outputs": [],
   "source": [
    "# วิธีที่ 1: เรียกตัวเองที่เล็กกว่า\n",
    "def cumulative_sum(n):\n",
    "  # 1 + 2 + 3 + ... + (n-1) + n --> cumulative_sum(n)\n",
    "  # cumulative_sum(n-1) + n\n",
    "  if n == 1:\n",
    "    cum_sum = 1\n",
    "  elif n > 1:\n",
    "    cum_sum = cumulative_sum(n-1) + n\n",
    "  return cum_sum"
   ]
  },
  {
   "cell_type": "code",
   "execution_count": 32,
   "metadata": {},
   "outputs": [],
   "source": [
    "# วิธีที่ 2: for loop\n",
    "def cumulative_sum(n):\n",
    "  # 1. กำหนดตัวแปร 1 ตัว (result) ที่เก็บผลรวม ตั้งแต่ 1 ถึง i\n",
    "  # 2. ใช้ for loop เพื่อเปลี่ยนค่า i ไปเรื่อยๆ ตั้งแต่ 1 ถึง n\n",
    "  # ขั้นบันได้แต่ละขั้น (ขั้น i) คือหาผลรวมตั้งแต่ 1 - i\n",
    "  result = 0\n",
    "  # for i in range(n) --> i = 0 ถึง n-1\n",
    "  for i in range(1, n+1, 1): # เริ่มที่เท่าไร จบที่เท่าไร เพิ่มทีละเท่าไร i = 1 -> n\n",
    "    # เมื่อเรามาถึงขั้น 5 -> result คือ 1+2+3+4\n",
    "    # เมื่อเรามาถึงขั้น i -> result คือ 1+2+3+...+(i-1)\n",
    "    result_pre = result\n",
    "\n",
    "    # --> อยากได้ผลรวม 1+2+3+...+i --> result + i\n",
    "    result_post = result_pre + i\n",
    "    # เมื่อเราจะออกจากขั้น 5 --> result คือ 1+2+3+4+5\n",
    "    # เมื่อเราจะออกจากขั้น i --> result คือ 1+2+3+...+i\n",
    "    # กำหนดชื่อเป็น result\n",
    "    result = result_post\n",
    "    \n",
    "  return result"
   ]
  },
  {
   "cell_type": "code",
   "execution_count": 33,
   "metadata": {},
   "outputs": [],
   "source": [
    "# วิธีที่ 3: for loop แบบ รวม 3 บรรทัด เป็นบรรทัดเดียว\n",
    "def cumulative_sum(n):\n",
    "  result = 0\n",
    "  for i in range(1, n+1, 1): \n",
    "    result = result + i\n",
    "\n",
    "  return result"
   ]
  },
  {
   "cell_type": "code",
   "execution_count": 34,
   "metadata": {
    "id": "og0C3EJKO0k8"
   },
   "outputs": [
    {
     "name": "stdout",
     "output_type": "stream",
     "text": [
      "Correct!\n",
      "Correct!\n"
     ]
    }
   ],
   "source": [
    "# ทดสอบฟังก์ชัน cumulative_sum()\n",
    "if cumulative_sum(3) == 6:\n",
    "    print ('Correct!')\n",
    "else:\n",
    "    print ('Incorrect!')\n",
    "    \n",
    "if cumulative_sum(5) == 15:\n",
    "    print ('Correct!')\n",
    "else:\n",
    "    print ('Incorrect!')"
   ]
  },
  {
   "cell_type": "markdown",
   "metadata": {
    "id": "57VwC31x02YU"
   },
   "source": [
    "## ข้อ 6 - update ตัวแปรในลูป\n",
    "จงสร้าง function ที่คำนวณ factorial $n!$\n",
    "\n",
    "$n! = 1 \\times 2 \\times \\cdots  \\times n$\n",
    "\n",
    "`fact(5)` = 1 x 2 x 3 x 4 x 5 = 120"
   ]
  },
  {
   "cell_type": "code",
   "execution_count": 36,
   "metadata": {
    "id": "Gs0KNtj31Y2G"
   },
   "outputs": [],
   "source": [
    "# สร้างฟังก์ชัน fact() ที่รับพารามิเตอร์ 1 ตัว\n",
    "def fact(n):\n",
    "    # กำหนดค่าเริ่มต้นของตัวแปร x เป็น 1\n",
    "    x = 1\n",
    "    # วนลูปตามจำนวนที่รับเข้ามาในพารามิเตอร์ n\n",
    "    for i in range(n):\n",
    "        # คูณค่า x ด้วยตัวเลขในช่วง 1 ถึง n\n",
    "        x = x * (i+1)\n",
    "        # เก็บค่า x ล่าสุดในแต่ละรอบไว้ในตัวแปร result\n",
    "        result = x\n",
    "\n",
    "    # ส่งค่า result กลับ\n",
    "    return result"
   ]
  },
  {
   "cell_type": "code",
   "execution_count": 37,
   "metadata": {},
   "outputs": [
    {
     "name": "stdout",
     "output_type": "stream",
     "text": [
      "24\n"
     ]
    }
   ],
   "source": [
    "# เรียกใช้ฟังก์ชัน fact()\n",
    "test = fact(4)\n",
    "print(test)"
   ]
  },
  {
   "cell_type": "markdown",
   "metadata": {
    "id": "L5NP3VHQtVJN"
   },
   "source": [
    "## ข้อ 7 - หารสองกี่ครั้ง\n",
    "\n",
    "### ข้อ 7.1\n",
    "จงสร้าง function ที่รับ integer แล้วคืนจำนวนว่าหาร 2 ได้กี่ครั้งค่าถึงจะกลายเป็น 1\n",
    "```python\n",
    "divide_two(16)\n",
    ">>>4\n",
    "divide_two(4)\n",
    ">>>2\n",
    "```\n",
    "Bonus: ลองเพิ่มเงื่อนไข `if` ที่จับ input ที่หารสองเท่าไรก็ไม่ได้ 1 (หารแล้วกลายเป็นค่าที่น้อยกว่า 1) จากนั้น `print` บอกว่า input ไม่ใช่เลขฐาน 2"
   ]
  },
  {
   "cell_type": "code",
   "execution_count": 43,
   "metadata": {
    "id": "h6JX1KhutokO"
   },
   "outputs": [],
   "source": [
    "# สร้างฟังก์ชันที่รับค่าจำนวนเต็มและคืนค่าว่าหารด้วย 2 ได้กี่ครั้งจนกลายเป็น 1\n",
    "def divide_two(n):\n",
    "    # กำหนดค่าเริ่มต้นของตัวแปร count เป็น 0\n",
    "    count = 0\n",
    "    # นับจำนวนครั้งที่หาร n ด้วย 2 ได้ค่า x\n",
    "    x = n / 2\n",
    "\n",
    "    # ถ้า x เป็น 1 ให้คืนค่า x กลับ\n",
    "    if x == 1:\n",
    "        return x\n",
    "\n",
    "    # วนลูปจนกว่า x จะเป็น 1\n",
    "    while x != 1:\n",
    "        # หาร x ด้วย 2\n",
    "        x = x / 2\n",
    "        # เพิ่มค่าของ count ไปอีก 1\n",
    "        count += 1\n",
    "\n",
    "    # คำนวณผลรวมของ count และ 1 แล้วคืนค่าออกไป\n",
    "    result = count + 1\n",
    "    return result"
   ]
  },
  {
   "cell_type": "code",
   "execution_count": 44,
   "metadata": {},
   "outputs": [
    {
     "name": "stdout",
     "output_type": "stream",
     "text": [
      "4\n"
     ]
    }
   ],
   "source": [
    "# เรียกใช้ฟังก์ชัน divide_two()\n",
    "print(divide_two(16))"
   ]
  },
  {
   "cell_type": "code",
   "execution_count": 46,
   "metadata": {},
   "outputs": [],
   "source": [
    "# Bonus: สร้างฟังก์ชันที่รับค่าจำนวนเต็มและคืนจำนวนครั้งที่ต้องหารด้วย 2 จนกลายเป็น 1\n",
    "def divide_two(n):\n",
    "    count = 0\n",
    "    # วนลูปจนกว่า n จะมีค่าน้อยกว่า 2\n",
    "    while n >= 2:\n",
    "        n = n / 2\n",
    "        count += 1\n",
    "    # ตรวจสอบว่าหาก n ไม่เท่ากับ 1 แสดงว่าไม่ใช่เลขฐาน 2\n",
    "    if n != 1:\n",
    "        print(\"input ไม่ใช่เลขฐาน 2\")\n",
    "    else:\n",
    "        # คืนค่าจำนวนครั้งที่ต้องหารด้วย 2 จนกลายเป็น 1\n",
    "        return count\n"
   ]
  },
  {
   "cell_type": "code",
   "execution_count": 50,
   "metadata": {},
   "outputs": [
    {
     "name": "stdout",
     "output_type": "stream",
     "text": [
      "input ไม่ใช่เลขฐาน 2\n"
     ]
    }
   ],
   "source": [
    "# เรียกใช้ฟังก์ชัน divide_two()\n",
    "divide_two(15)"
   ]
  },
  {
   "cell_type": "markdown",
   "metadata": {
    "id": "dZ9CGHxEvAR7"
   },
   "source": [
    "### ข้อ 7.2\n",
    "เราสามารถใช้ฟังก์ชัน `log` ทางคณิตศาสตร์ในการช่วยคำนวณข้อ 7. ได้ โดยที่เมื่อ \n",
    "$\\log_2(x)$ = จำนวนครั้งที่ใช้ 2 หาร $x$ ไปเรื่อย ๆ จนได้ 1\n",
    "\n",
    "ในข้อนี้ ให้ลองใช้ฟังก์ชัน `log2` (อยู่ใน module `math`) ในการทำโจทย์จากข้อ 7.1"
   ]
  },
  {
   "cell_type": "code",
   "execution_count": 52,
   "metadata": {
    "id": "OhUfrtsHpnAn"
   },
   "outputs": [
    {
     "name": "stdout",
     "output_type": "stream",
     "text": [
      "5.0\n",
      "4.0\n",
      "2.0\n"
     ]
    }
   ],
   "source": [
    "# นำเข้าโมดูล math สำหรับการทำงานกับฟังก์ชันทางคณิตศาสตร์\n",
    "import math\n",
    "\n",
    "# เรียกใช้ฟังก์ชัน math.log() จากโมดูล math เพื่อคำนวณ logarithm \n",
    "# คำนวณ log base 2 ของ 32\n",
    "print(math.log(32, 2))  # ผลลัพธ์คือ 5.0\n",
    "\n",
    "# คำนวณ log base 2 ของ 16\n",
    "print(math.log(16, 2))  # ผลลัพธ์คือ 4.0\n",
    "\n",
    "# คำนวณ log base 2 ของ 4\n",
    "print(math.log(4, 2))   # ผลลัพธ์คือ 2.0"
   ]
  },
  {
   "cell_type": "markdown",
   "metadata": {},
   "source": [
    "## ข้อ 8 - แปลงเวลา \n",
    "เขียนฟังก์ชันในการแปลงวัน ชั่วโมง นาที เป็นวินาที \n",
    "\n",
    "เช่น 2 วัน 5 ชั่วโมง 10 นาที เท่ากับ 191,400 วินาที\n",
    "\n",
    "3 วัน 5 นาที เท่ากับ 259,500 วินาที\n",
    "\n",
    "ให้ตั้งชื่อ function และ argument เอง และเขียน if-statement ในการตรวจสอบคำตอบ"
   ]
  },
  {
   "cell_type": "code",
   "execution_count": 55,
   "metadata": {},
   "outputs": [],
   "source": [
    "# สร้างฟังก์ชัน convert_to_seconds() รับพารามิเตอร์ 3 ตัวเป็น วัน ชั่วโมง และนาทีตามลำดับ\n",
    "def convert_to_seconds(days, hours, minutes):\n",
    "    # คำนวณเวลาทั้งหมดในหน่วยวินาที\n",
    "    total_seconds = (days * 24 * 60 * 60) + (hours * 60 * 60) + (minutes * 60)\n",
    "    return total_seconds  # คืนค่าเวลาทั้งหมดในหน่วยวินาที\n",
    " "
   ]
  },
  {
   "cell_type": "code",
   "execution_count": 59,
   "metadata": {},
   "outputs": [
    {
     "name": "stdout",
     "output_type": "stream",
     "text": [
      "Correct!\n",
      "Correct!\n"
     ]
    }
   ],
   "source": [
    "# ทดสอบฟังก์ชัน convert_to_seconds()\n",
    "result_1 = convert_to_seconds(3, 0, 0)\n",
    "if result_1 == 259200:  # 3 วัน = 259200 วินาที\n",
    "    print('Correct!')\n",
    "else:\n",
    "    print('Incorrect!')\n",
    "\n",
    "result_2 = convert_to_seconds(5, 12, 30)\n",
    "if result_2 == 477000:  # 5 วัน 12 ชั่วโมง 30 นาที = 477000 วินาที\n",
    "    print('Correct!')\n",
    "else:\n",
    "    print('Incorrect!')\n"
   ]
  },
  {
   "cell_type": "markdown",
   "metadata": {
    "id": "Kal39rXjzreJ"
   },
   "source": [
    "## ข้อ 9 - ไซส์ไหน"
   ]
  },
  {
   "cell_type": "markdown",
   "metadata": {
    "id": "wtbAMNlm0pYL"
   },
   "source": [
    "เขียนโปรแกรมที่บอกว่าผู้ใช้ควรจะใส่เสื้อไซส์อะไรถ้าดูจากรอบเอว เราต้องการแปลงรอบเอวเป็นไซส์ตามตารางข้างล่างนี้\n",
    "\n",
    "| Size | รอบเอว (เซนติเมตร) |\n",
    "|------|-------------------|\n",
    "| S    | < 76              |\n",
    "| M    | 76 - 84           |\n",
    "| L    | > 84              |\n",
    "\n",
    "โปรแกรมจะต้องมีลักษณะดังนี้\n",
    "\n",
    "- Input: รอบเอว หน่วยเป็นนิ้ว (เพราะฉะนั้นจะต้องแปลงก่อน 1 นิ้ว = 2.54 เซนติเมตร)\n",
    "- Output: Size ที่เหมาะสม type string \n",
    "\n"
   ]
  },
  {
   "cell_type": "code",
   "execution_count": 61,
   "metadata": {
    "id": "vVMvmKrZ1gUh"
   },
   "outputs": [],
   "source": [
    "# สร้างฟังก์ชัน recommend_size() ที่รับพารามิเตอร์ 1 ตัวเป็นขนาดรอบเอว\n",
    "def recommend_size(waist_size_in_inch):\n",
    "    # แปลงขนาดรอบเอวจาก นิ้ว เป็น เซนติเมตร\n",
    "    waist_size_in_cm = waist_size_in_inch * 2.54\n",
    "    \n",
    "    # ตรวจสอบขนาดรอบเอวและแนะนำขนาดที่เหมาะสม\n",
    "    if waist_size_in_cm < 76:\n",
    "        size = 'S'\n",
    "    elif waist_size_in_cm >= 76 and waist_size_in_cm <= 84:\n",
    "        size = 'M'\n",
    "    else:\n",
    "        size = 'L'\n",
    "    \n",
    "    return size"
   ]
  },
  {
   "cell_type": "code",
   "execution_count": 64,
   "metadata": {},
   "outputs": [
    {
     "name": "stdout",
     "output_type": "stream",
     "text": [
      "Correct!\n",
      "Correct!\n"
     ]
    }
   ],
   "source": [
    "# ทดสอบฟังก์ชัน recommend_size()\n",
    "if recommend_size(30) == 'M':\n",
    "    print('Correct!')\n",
    "else:\n",
    "    print('Incorrect!')\n",
    "\n",
    "if recommend_size(80) == 'L':\n",
    "    print('Correct!')\n",
    "else:\n",
    "    print('Incorrect!')"
   ]
  },
  {
   "cell_type": "markdown",
   "metadata": {},
   "source": [
    "## ข้อ 10 - โควิด\n",
    "\n",
    "สมมติว่าผู้ป่วยโควิด 19 หนึ่งคนจะมีทำให้มีผู้ติดเชื้อมากขึ้น 3 คนต่อวัน \n",
    "\n",
    "เพราะฉะนั้นถ้าวันที่ 1 มีผู้ป่วย 5 คน \n",
    "- วันที่สองจะมีผู้ป่วยเพิ่มขึ้น 5 x 3 = 15 คน รวมแล้วมีจำนวนผู้ป่วย 5 + 15 = 20 คน\n",
    "- วันที่สามจะมีผู้ป่วยเพิ่มขึ้น 20 x 3 = 60 คน รวมแล้วมีจำนวนผู้ป่วย 20 + 60 = 80 คน\n",
    "- วันที่สี่จะมีผู้ป่วย 80 x 3 = 240 คน รวมแล้วมีจำนวนผู้ป่วย 80 + 240  = 320 คน\n",
    "\n",
    "เขียนโปรแกรมที่ print จำนวนผู้ป่วยในแต่ละวันโดยที่โปรแกรมจะมีลักษณะดังนี้\n",
    "\n",
    "input: \n",
    "1) จำนวนผู้ป่วยตั้งต้น (วันที่ 0)\n",
    "2) จำนวนวันที่ต้องการ print\n",
    "\n",
    "output: จำนวนผู้ป่วยในวันสุดท้าย \n",
    "\n",
    "โปรแกรมจะต้อง print จำนวนผู้ป่วยในแต่ละวันอีกด้วย"
   ]
  },
  {
   "cell_type": "code",
   "execution_count": 4,
   "metadata": {},
   "outputs": [],
   "source": [
    "def compute_patients(num_initial_patients, num_days):\n",
    "    \"\"\"\n",
    "    >>> compute_patients(5, 3) # จำนวนผู้ป่วยตั้งต้น 5 คน ต้องการคำนวณ 3 วัน\n",
    "    Day 1: 20 patients\n",
    "    Day 2: 80 patients\n",
    "    Day 3: 320 patients\n",
    "    320\n",
    "\n",
    "    >>> compute_patients(10, 2) # จำนวนผู้ป่วยตั้งต้น 10 คน ต้องการคำนวณ 2 วัน\n",
    "    Day 1: 30 patients\n",
    "    Day 2: 160 patients\n",
    "    160\n",
    "    \"\"\"\n",
    "    return 0"
   ]
  },
  {
   "cell_type": "code",
   "execution_count": 72,
   "metadata": {},
   "outputs": [],
   "source": [
    "# วิธีที่ 1\n",
    "def compute_patients(num_initial_patients, num_days):\n",
    "    # เริ่มต้นจำนวนผู้ป่วยในวันแรก\n",
    "    num_patient_pre = num_initial_patients\n",
    "\n",
    "    # วนลูปตามจำนวนวันที่กำหนด\n",
    "    for i in range(1, num_days + 1, 1):  # เริ่มจากวันที่ 1 ถึง num_days โดยเพิ่มขึ้นทีละ 1 (start, stop, step) \n",
    "        # คำนวณจำนวนผู้ป่วยที่เพิ่มขึ้นในวันนี้\n",
    "        num_patient_plus = num_patient_pre * 3\n",
    "        # คำนวณจำนวนผู้ป่วยในวันนี้จากจำนวนผู้ป่วยที่เพิ่มขึ้นในวันนี้กับจำนวนผู้ป่วยวันก่อนหน้า\n",
    "        num_patient_now = num_patient_plus + num_patient_pre\n",
    "\n",
    "        # พิมพ์ข้อมูลจำนวนผู้ป่วยในแต่ละวัน\n",
    "        print(\"วันที่ \", i, \":\", num_patient_now, \"ผู้ป่วย\")\n",
    "\n",
    "        # ปรับจำนวนผู้ป่วยตอนนี้ให้เป็นจำนวนผู้ป่วยในวันก่อนหน้า เพื่อคำนวณจำนวนผู้ป่วยของวันถัดไป\n",
    "        num_patient_pre = num_patient_now\n",
    "\n",
    "    # คืนค่าจำนวนผู้ป่วยในวันสุดท้าย\n",
    "    return num_patient_now"
   ]
  },
  {
   "cell_type": "code",
   "execution_count": 70,
   "metadata": {},
   "outputs": [
    {
     "name": "stdout",
     "output_type": "stream",
     "text": [
      "วันที่  1 : 20 ผู้ป่วย\n",
      "วันที่  2 : 80 ผู้ป่วย\n",
      "วันที่  3 : 320 ผู้ป่วย\n"
     ]
    },
    {
     "data": {
      "text/plain": [
       "320"
      ]
     },
     "execution_count": 70,
     "metadata": {},
     "output_type": "execute_result"
    }
   ],
   "source": [
    "# ทดสอบฟังก์ชัน compute_patients()\n",
    "compute_patients(5, 3)"
   ]
  },
  {
   "cell_type": "code",
   "execution_count": 74,
   "metadata": {},
   "outputs": [],
   "source": [
    "# วิธีที่ 2\n",
    "def compute_patients(num_initial_patients, num_days):\n",
    "    # เริ่มต้นจำนวนผู้ป่วยในวันแรก\n",
    "    num_patient = num_initial_patients\n",
    "\n",
    "    # วนลูปตามจำนวนวันที่กำหนด\n",
    "    for i in range(1, num_days + 1, 1):  # เริ่มจากวันที่ 1 ถึง num_days โดยเพิ่มขึ้นทีละ 1\n",
    "        # คำนวณจำนวนผู้ป่วยที่เพิ่มขึ้นในวันนี้\n",
    "        num_patient_plus = num_patient * 3\n",
    "        # คำนวณผลรวมของจำนวนผู้ป่วยที่เพิ่มขึ้นในวันนี้กับจำนวนผู้ป่วยในปัจจุบัน\n",
    "        num_patient += num_patient_plus\n",
    "\n",
    "        # พิมพ์ข้อมูลจำนวนผู้ป่วยในแต่ละวัน\n",
    "        print(\"วันที่ \", i, \":\", num_patient, \"ผู้ป่วย\")\n",
    "\n",
    "    # คืนค่าจำนวนผู้ป่วยในวันสุดท้าย\n",
    "    return num_patient\n"
   ]
  },
  {
   "cell_type": "markdown",
   "metadata": {},
   "source": [
    "## ข้อ 11 - วัคซีน\n",
    "วัคซีน COVID-19 แต่ละชนิดสามารถสร้างภูมิคุ้มกันได้แตกต่างกันขึ้นอยู่กับสภาพบุคคล ซึ่งเมื่อหลังจากฉีดวัคซีนแล้ว 7 วัน คนเราจะมีภูมิคุ้มกันสูงที่สุด (สูงที่สุดไม่เกิน 500 หน่วย) แต่ว่าปริมาณภูมิคุ้มกันสูงสุดก็แตกต่างกันไป ขึ้นอยู่กับสภาพร่างกายของแต่ละคนและชนิดของวัคซีนที่ได้รับ \n",
    "หลังจากร่างกายเรามีภูมิคุ้มกันสูงที่สุดแล้ว ปริมาณภูมิคุ้มกันในร่างกายก็จะลดลงเรื่อยๆ โดยปริมาณภูมิคุ้มกันในวันถัดไป จะเป็น 𝛂 เท่า (อ่านว่า alpha, อัลฟ่า) ของปริมาณภูมิคุ้มกันในวันนี้ โดยที่ค่า 𝛂 ขึ้นอยู่กับสภาพร่างกายของแต่ละคน หากคนเรามีปริมาณภูมิคุ้มกันต่ำกว่า 40 หน่วย จะถือว่าไม่มีภูมิต้านทานโรค COVID-19\n",
    "\n",
    "**ตัวอย่าง** \n",
    "- คุณยายเอ๋ อายุ 75 ปี มีโรคประจำตัวเป็นโรคเบาหวาน มีค่า 𝛂 เป็น 0.60\n",
    "- หลังจากรับวัคซีนไปแล้ว 7 วัน คุณยายเอ๋มีภูมิคุ้มกันสูงสุดที่ 350 หน่วย\n",
    "- วันถัดไป (วันที่ 8 หลังจากรับวัคซีน) คุณยายเอ๋จะมีภูมิคุ้มกันอยู่ที่ 0.60 *  350 = 210 หน่วย\n",
    "- วันที่ 9 จะมีภูมิคุ้มกันอยู่ 0.60 * 210 = 126 หน่วย \n",
    "\n",
    "### ข้อ 11.1\n",
    "จงเขียนฟังก์ชัน days_to_hazard ซึ่งรับ parameter 2 ตัว ได้แก่ 1) ปริมาณภูมิคุ้มกันสูงสุด ณ วันที่ 7 หลังจากฉีดวัคซีน 2) ค่า 𝛂 แล้วให้ฟังก์ชันนี้คืนค่าเป็นจำนวนวันว่าคนๆ นี้มีภูมิต้านทานโรค COVID-19 ได้อยู่กี่วันหลังจากฉีดวัคซีน (ไม่นับวันที่มีปริมาณภูมิคุ้มกันต่ำกว่า 40 หน่วย)\n",
    "ตัวอย่าง\n",
    "```\n",
    ">>> days_to_hazard(400, 0.80) # ปริมาณภูมิคุ้มกันสูงสุด 400 หน่วย, 𝛂 = 0.80\n",
    "17\n",
    ">>> days_to_hazard(200, 0.5) # ปริมาณภูมิคุ้มกันสูงสุด 200 หน่วย, 𝛂 = 0.5\n",
    "9\n",
    "```\n",
    "\n"
   ]
  },
  {
   "cell_type": "code",
   "execution_count": 1,
   "metadata": {},
   "outputs": [],
   "source": [
    "def days_to_hazard(max_immunity, alpha):\n",
    "    # กำหนดค่าเริ่มต้นของ immunity เท่ากับ max_immunity ที่รับ input เข้ามา\n",
    "    immune_preday = max_immunity\n",
    "\n",
    "    # เริ่มคำนวณที่วันที่ 8\n",
    "    immune_today = 40\n",
    "\n",
    "    # สร้างตัวแปร safe_day เพื่อนับจำนวนวันที่ปลอดภัยจากโรค COVID-19\n",
    "    safe_day = 0\n",
    "\n",
    "    # วนลูปจนกว่าค่า immune_today จะน้อยกว่า 40\n",
    "    while immune_today >= 40:\n",
    "        # คำนวณค่าภายในร่างกายในวันนี้\n",
    "        immune_today = immune_preday * alpha\n",
    "\n",
    "        # ตรวจสอบว่าค่า immunity ในวันนี้ยังมากกว่าหรือเท่ากับ 40 หรือไม่\n",
    "        if immune_today >= 40:\n",
    "            # ถ้ายังมากกว่าหรือเท่ากับ 40 ก็เพิ่มจำนวนวันที่ปลอดภัยไปอีก 1 วัน\n",
    "            safe_day += 1\n",
    "\n",
    "        # อัพเดทค่า immunity ในวันก่อนหน้าไปยังวันปัจจุบันเพื่อเตรียมการวนลูปในรอบถัดไป\n",
    "        immune_preday = immune_today\n",
    "\n",
    "    # คืนค่าจำนวนวันที่ปลอดภัยพร้อมกับจำนวนวันเริ่มต้น 7 วัน\n",
    "    return safe_day + 7\n"
   ]
  },
  {
   "cell_type": "code",
   "execution_count": 2,
   "metadata": {},
   "outputs": [
    {
     "data": {
      "text/plain": [
       "17"
      ]
     },
     "execution_count": 2,
     "metadata": {},
     "output_type": "execute_result"
    }
   ],
   "source": [
    "# ทดสอบฟังก์ชัน days_to_hazard()\n",
    "days_to_hazard(400, 0.80)"
   ]
  },
  {
   "cell_type": "markdown",
   "metadata": {},
   "source": [
    "### ข้อ 11.2\n",
    "\n",
    "เขียนโปรแกรมโดยใช้ฟังก์ชัน days_to_hazard เพื่อตรวจสอบว่า ระหว่างคุณยายเอ๋ในตัวอย่าง กับนายโจ้ อายุ 22 ปี ผู้ซึ่งเป็นโรคอ้วน มีค่า 𝛂 = 0.75 และมีภูมิคุ้มกันสูงสุด 300 หน่วย ใครจะถึงจุดอันตรายก่อน (ใครจะไม่มีภูมิต้านทาน COVID-19 ก่อน) โดยพิมพ์ว่า เอ๋ก่อน หรือ โจ้ก่อน ทางหน้าจอ"
   ]
  },
  {
   "cell_type": "code",
   "execution_count": 5,
   "metadata": {},
   "outputs": [],
   "source": [
    "def check_risk(name1, max_immune1, alpha1, name2, max_immune2, alpha2):\n",
    "    # คำนวณจำนวนวันที่จะปลอดภัยจากโรค COVID-19 สำหรับบุคคล 1 และ 2\n",
    "    days_p1 = days_to_hazard(max_immune1, alpha1)\n",
    "    days_p2 = days_to_hazard(max_immune2, alpha2)\n",
    "\n",
    "    # เปรียบเทียบจำนวนวันที่ต้องใช้ของทั้งสองบุคคลและแสดงผลลัพธ์\n",
    "    if days_p1 < days_p2:\n",
    "        print(f\"{name1}ก่อน\")\n",
    "    elif days_p1 > days_p2:\n",
    "        print(f\"{name2}ก่อน\")\n"
   ]
  },
  {
   "cell_type": "code",
   "execution_count": 6,
   "metadata": {},
   "outputs": [
    {
     "name": "stdout",
     "output_type": "stream",
     "text": [
      "โจ้ก่อน\n"
     ]
    }
   ],
   "source": [
    "# ทดสอบฟังก์ชัน check_risk()\n",
    "check_risk('เอ๋', 400, 0.80, 'โจ้', 300, 0.75)"
   ]
  },
  {
   "cell_type": "markdown",
   "metadata": {},
   "source": [
    "## ข้อ 12 Flag factory\n",
    "### ข้อ 12.1 \n",
    "คุณเป็นผู้จัดการโรงงานผลิดธง (Flag Factory) คุณจ่ายค่าแรงพนักงานตามจำนวนธงที่ผลิตได้ใน 1 ชั่วโมง ตามตารางด้านล่างนี้\n",
    "\n",
    "| จำนวนธงที่ผลิตได้ใน 1 ชั่วโมง | ค่าแรง (ของชั่วโมงนี้) |\n",
    "|-------------------------|-------------------|\n",
    "| 0     | 0 | \n",
    "| 1-10  | 50 บาท |\n",
    "| 11-20  | 120 บาท |\n",
    "| >= 21  | 6.50 บาทต่อธง |\n",
    "\n",
    "เขียนฟังก์ชันในภาษา python ชื่อ hourly_pay ซึ่งรับ parameter 1 ตัว ได้แก่ จำนวนธงที่ผลิดได้ใน 1 ชั่วโมง แล้วให้ฟังก์ชันนี้คืนค่าเป็นค่าแรงที่จะได้รับในชั่วโมงนี้\n",
    "ตัวอย่าง\n",
    "```\n",
    ">>> hourly_pay(9) # ค่าแรงในชั่วโมงที่ผลิตได้ 9 ธง\n",
    "50\n",
    ">>> hourly_pay(25) # ค่าแรงในชั่วโมงที่ผลิตได้ 25 ธง\n",
    "162.5\n",
    "```\n",
    "\n"
   ]
  },
  {
   "cell_type": "code",
   "execution_count": 10,
   "metadata": {},
   "outputs": [],
   "source": [
    "def hourly_pay(flag):\n",
    "    # กำหนดค่าเริ่มต้นของค่าจ้างต่อชั่วโมง (pay) เป็น 0\n",
    "    pay = 0\n",
    "\n",
    "    # ตรวจสอบค่าของ flag เพื่อกำหนดค่าค่าจ้างต่อชั่วโมงตามเงื่อนไขที่กำหนด\n",
    "    if flag == 0:\n",
    "        pay = 0\n",
    "    elif flag >= 1 and flag <= 10:\n",
    "        pay = 50\n",
    "    elif flag >= 11 and flag <= 20:\n",
    "        pay = 120\n",
    "    elif flag >= 21:\n",
    "        pay = flag * 6.5\n",
    "\n",
    "    # คืนค่าค่าจ้างต่อชั่วโมง\n",
    "    return pay"
   ]
  },
  {
   "cell_type": "code",
   "execution_count": 12,
   "metadata": {},
   "outputs": [
    {
     "data": {
      "text/plain": [
       "162.5"
      ]
     },
     "execution_count": 12,
     "metadata": {},
     "output_type": "execute_result"
    }
   ],
   "source": [
    "# ทดสอบฟังก์ชัน hourly_pay()\n",
    "hourly_pay(25)"
   ]
  },
  {
   "cell_type": "markdown",
   "metadata": {},
   "source": [
    "### ข้อ 12.2\n",
    "\n",
    "เมื่อทำงานหลายชั่วโมงติดต่อกัน พนักงานส่วนใหญ่สามารถผลิตธงได้มากขึ้น ซึ่งแต่ละคนสามารถผลิตธงได้เพิ่มขึ้นเป็นจำนวนแตกต่างกัน เช่น\n",
    "\n",
    "นายแมว สามารถผลิตธงได้ 6 ธง ในชั่งโมงแรก และผลิตได้เพิ่มขึ้น 3 ธง ในแต่ละชั่วโมงที่ทำงาน ฉะนั้น\n",
    "- ชั่วโมงที่ 1 นายแมว ผลิตได้ 6 ธง\n",
    "- ชั่วโมงที่ 2 นายแมว ผลิตได้ 6+3 = 9 ธง\n",
    "- ชั่วโมงที่ 3 นายแมว ผลิตได้ 9+3 = 12 ธง\n",
    "- ชั่วโมงที่ 4 นายแมว ผลิตได้ 12+3 = 15 ธง\n",
    "- ชั่วโมงที่ 5 นายแมว ผลิตได้ 15+3 = 18 ธง\n",
    "- ...\n",
    "\n",
    "นายตู้ สามารถผลิตธงได้ 9 ธง ในชั่งโมงแรก แต่ไม่สามารถผลิตเพิ่มได้เมื่อทำงานหลายชั่วโมงติดต่อกัน ฉะนั้น\n",
    "- ชั่วโมงที่ 1 นายตู้ ผลิตได้ 9 ธง\n",
    "- ชั่วโมงที่ 2 นายตู้ ผลิตได้ 9 ธง\n",
    "- ชั่วโมงที่ 3 นายตู้ ผลิตได้ 9 ธง\n",
    "- ชั่วโมงที่ 3 นายตู้ ผลิตได้ 9 ธง\n",
    "- ...\n",
    "\n",
    "เขียนฟังก์ชันชื่อ daily_pay ซึ่งรับ parameter 3 ตัว ตามลำดับดังต่อไปนี้\n",
    "- จำนวนธงที่ผลิตได้ในชั่วโมงแรก\n",
    "- จำนวนธงที่สามารถผลิตเพิ่มได้ในแต่ละชั่วโมง\n",
    "- จำนวนชั่วโมงที่ทำงานในวันนี้\n",
    "\n",
    "ให้ฟังก์ชัน `daily_pay` คืนค่าเป็นค่าแรงที่จะได้รับทั้งหมดในวันนั้น\n",
    "\n",
    "ข้อกำหนด:  ห้ามใช้คำสั่ง `if` ในฟังก์ชัน `daily_pay` แต่สามารถเรียกใช้ฟังก์ชันจาก 11.1 ได้\n",
    "ตัวอย่าง\n",
    "```\n",
    ">>> daily_pay(6, 3, 5) # ตัวอย่างนายแมวด้านบน ทำงาน 5 ชั่วโมง\n",
    "460\n",
    ">>> daily_pay(9, 0, 4) # ตัวอย่างนายตู้ด้านบน ทำงาน 4 ชั่วโมง\n",
    "200\n",
    "```\n"
   ]
  },
  {
   "cell_type": "code",
   "execution_count": 13,
   "metadata": {},
   "outputs": [],
   "source": [
    "def daily_pay(first_flag, next_flag, hour):\n",
    "  \"\"\"\n",
    "  กระบวนการคิด\n",
    "  1. หาจำนวนธงในแต่ละชั่วโมง\n",
    "  2. หาจำนวนเงินที่ได้ในชั่วโมงนั้น\n",
    "  3. เก็บค่าจำนวนเงินแต่ละชั่วโมง\n",
    "  4. คืนค่าจำนวนเงินค่าแรงทั้งวัน\n",
    "  \"\"\"\n",
    "  \"\"\"\n",
    "  # 1st hour\n",
    "  flag = first_flag + next_flag(0)\n",
    "  pay = hourly_pay(flag)\n",
    "\n",
    "  # 2nd hour\n",
    "  flag = flag + next_flag\n",
    "  flag = first_flag + next_flag(1)\n",
    "  pay = hourly_pay(flag)\n",
    "\n",
    "  # 3rd hour\n",
    "  flag = flag + next_flag\n",
    "  flag = first_flag + next_flag + next_flag\n",
    "  flag = first_flag + next_flag(2)\n",
    "  pay = hourly_pay(flag)\n",
    "\n",
    "  # nth hour\n",
    "  flag = first_flag + next_flag(n-1)\n",
    "\n",
    "  for i in range(hour):\n",
    "    # i = 0,1,2,3,..., hour-1\n",
    "    # i = 0\n",
    "\n",
    "  \"\"\"\n",
    "  final_pay = 0\n",
    "  for i in range(hour):\n",
    "    # i = 0,1,2,3,..., hour-1\n",
    "    # i = 0\n",
    "    flag = first_flag + (next_flag*i)\n",
    "    pay = hourly_pay(flag)\n",
    "    final_pay = final_pay + pay\n",
    "  return final_pay\n"
   ]
  },
  {
   "cell_type": "code",
   "execution_count": 15,
   "metadata": {},
   "outputs": [
    {
     "data": {
      "text/plain": [
       "460"
      ]
     },
     "execution_count": 15,
     "metadata": {},
     "output_type": "execute_result"
    }
   ],
   "source": [
    "# ทดสอบฟังก์ชัน daily_pay()\n",
    "daily_pay(6, 3, 5)"
   ]
  },
  {
   "cell_type": "markdown",
   "metadata": {},
   "source": [
    "## ข้อ 13 - ดัชนีมวลกาย - BMI\n",
    "จงเขียนฟังก์ชันคำนวณค่า BMI สำหรับตรวจสอบภาวะไขมันและความอ้วน ที่รับ input เป็นน้ำหนักและส่วนสูง มีสูตรคำนวณคือ น้ำหนักตัว[Kg] / (ส่วนสูง[m] ยกกำลังสอง) มีหลักเกณฑ์การตรวจสอบภาวะไขมันดังนี้\n",
    "\n",
    "1. อ้วนมาก = 30.0 ขึ้นไป\n",
    "2. อ้วน = 25.0 - 29.9\n",
    "3. น้ำหนักปกติ  = 18.6 - 24\n",
    "4. ผอมเกินไป = น้อยกว่า 18.5\n",
    "\n",
    "ให้ฟังก์ชัน `compute_bmi()` return ค่า BMI และ print สภาวะไขมัน เช่น 'น้ำหนักปกติ' หรือ 'ผอมเกินไป'"
   ]
  },
  {
   "cell_type": "code",
   "execution_count": 16,
   "metadata": {},
   "outputs": [],
   "source": [
    "def compute_bmi(height, weight):\n",
    "    # แปลงความสูงจากเซนติเมตรเป็นเมตร\n",
    "    height_m = height / 100.0\n",
    "\n",
    "    # คำนวณ BMI\n",
    "    bmi = weight / (height_m ** 2)\n",
    "\n",
    "    # กำหนดหมวดหมู่ตามค่า BMI\n",
    "    if bmi >= 30.0:\n",
    "        classification = \"อ้วนมาก\"\n",
    "    elif bmi >= 25.0:\n",
    "        classification = \"อ้วน\"\n",
    "    elif bmi >= 18.6:\n",
    "        classification = \"น้ำหนักปกติ\"\n",
    "    else:\n",
    "        classification = \"ผอมเกินไป\"\n",
    "\n",
    "    # พิมพ์ค่า BMI และหมวดหมู่\n",
    "    print(classification)\n",
    "\n",
    "    return bmi"
   ]
  },
  {
   "cell_type": "code",
   "execution_count": 18,
   "metadata": {},
   "outputs": [
    {
     "name": "stdout",
     "output_type": "stream",
     "text": [
      "น้ำหนักปกติ\n"
     ]
    },
    {
     "data": {
      "text/plain": [
       "18.80920625149619"
      ]
     },
     "execution_count": 18,
     "metadata": {},
     "output_type": "execute_result"
    }
   ],
   "source": [
    "# ทดสอบฟังก์ชัน compute_bmi\n",
    "compute_bmi(171, 55)  # Output: \"น้ำหนักปกติ\" 18.80"
   ]
  }
 ],
 "metadata": {
  "colab": {
   "collapsed_sections": [],
   "name": "PC3 Variables Functions Modules.ipynb",
   "provenance": []
  },
  "kernelspec": {
   "display_name": "Python 3 (ipykernel)",
   "language": "python",
   "name": "python3"
  },
  "language_info": {
   "codemirror_mode": {
    "name": "ipython",
    "version": 3
   },
   "file_extension": ".py",
   "mimetype": "text/x-python",
   "name": "python",
   "nbconvert_exporter": "python",
   "pygments_lexer": "ipython3",
   "version": "3.9.13"
  }
 },
 "nbformat": 4,
 "nbformat_minor": 4
}
