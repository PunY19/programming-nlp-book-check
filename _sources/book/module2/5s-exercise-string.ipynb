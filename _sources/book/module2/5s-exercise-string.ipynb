{
 "cells": [
  {
   "cell_type": "markdown",
   "metadata": {},
   "source": [
    "# เฉลยแบบฝึกหัด: สตริง\n",
    "\n",
    "## โจทย์ปัญหาเรื่องสตริง"
   ]
  },
  {
   "cell_type": "markdown",
   "metadata": {},
   "source": [
    "#### ข้อ 1 - Prefix suffix\n",
    "จงเขียนโปรแกรมที่ detect ว่าคำมี prefix/suffix ที่กำลังหาหรือไม่\n",
    "ถ้ามี prefix/suffix นั้นไปจับกับหน่วยคำใด\n",
    "\n",
    "เช่น\n",
    "คำว่า 'ใจแตก' มี 'ใจ' เป็น prefix ที่เกาะกับหน่วยคำ '-แตก'\n",
    "```\n",
    "detect_prefix_suffix('ใจแตก', 'ใจ') --> '-แตก'\n",
    "```\n",
    "\n",
    "คำว่า 'เข็ญใจ' มี 'ใจ' เป็น suffix ที่เกาะกับหน่วยคำ 'เข็ญ-'\n",
    "```\n",
    "detect_prefix_suffix('เข็ญใจ', 'ใจ') --> 'เข็ญ-'\n",
    "```\n",
    "\n",
    "ถ้าไม่ได้เป็น prefix หรือ suffix ให้ return ''\n",
    "\n",
    "อย่าลืมเติม - ให้ถูกต้องด้วย ขีดหน้าคือ prefix ขีดหลังคือ suffix\n",
    "\n",
    "คำใบ้: แนะนำให้แก้โจทย์เล็กๆ ก่อน\n",
    "1. กรณีที่ไม่เป็น prefix suffix\n",
    "2. กรณีที่เป็น prefix\n",
    "3. กรณีที่เป็น suffix"
   ]
  },
  {
   "cell_type": "code",
   "execution_count": 1,
   "metadata": {},
   "outputs": [],
   "source": [
    "def detect_prefix_suffix(word, affix):\n",
    "    \"\"\"\n",
    "    ตัวอย่าง\n",
    "\n",
    "    >>> detect_prefix_suffix('หน้าเนื้อ', 'หน้า')\n",
    "    '-เนื้อ'\n",
    "    >>> detect_prefix_suffix('การเดินทาง', 'การ')\n",
    "    '-เดินทาง'\n",
    "    >>> detect_prefix_suffix('เหลือใจ', 'ใจ')\n",
    "    'เหลือ-'\n",
    "    >>> detect_prefix_suffix('ใจ', 'ใจ')\n",
    "    ''\n",
    "    >>> detect_prefix_suffix('หน้าเนื้อใจเสือ', 'ใจ')\n",
    "    ''\n",
    "    \"\"\"\n",
    "    if affix == word: # ถ้า affix เท่ากับ word\n",
    "        return '' # ไม่ต้องทำอะไร\n",
    "\n",
    "    elif word[:len(affix)] == affix: # ถ้า word ขึ้นต้นด้วย affix\n",
    "        return '-' + word[len(affix):] # ตัด affix ออกจาก word แล้วเติม - ไว้ข้างหน้า\n",
    "\n",
    "    elif word[-1 * len(affix):] == affix: # ถ้า word ลงท้ายด้วย affix\n",
    "        return word[:-len(affix)] + '-' # ตัด affix ออกจาก word แล้วเติม - ไว้ข้างหลัง\n",
    "\n",
    "    else: # ถ้า affix ไม่ใช่ prefix หรือ suffix ของ word\n",
    "        return ''"
   ]
  },
  {
   "cell_type": "code",
   "execution_count": 2,
   "metadata": {},
   "outputs": [
    {
     "name": "stdout",
     "output_type": "stream",
     "text": [
      "-เนื้อ\n",
      "-เดินทาง\n",
      "เหลือ-\n",
      "\n",
      "\n"
     ]
    }
   ],
   "source": [
    "print(detect_prefix_suffix('หน้าเนื้อ', 'หน้า'))\n",
    "print(detect_prefix_suffix('การเดินทาง', 'การ'))\n",
    "print(detect_prefix_suffix('เหลือใจ', 'ใจ'))\n",
    "print(detect_prefix_suffix('ใจ', 'ใจ'))\n",
    "print(detect_prefix_suffix('หน้าเนื้อใจเสือ', 'ใจ'))"
   ]
  },
  {
   "cell_type": "markdown",
   "metadata": {},
   "source": [
    "#### ข้อ 2 - Compound word\n",
    "จงเขียนฟังก์ชันที่มี input เป็นสตริงหนึ่งสตริง ฟังก์ชัน return `True` ถ้าสตริงสามารถถูกแบ่งออกมาเป็นคำสองคำย่อยได้ เช่น\n",
    "\n",
    "- headband สามารถถูกแบ่งเป็น head + band\n",
    "- warhead สามารถถูกแบ่งเป็น war + head\n",
    "- headset สามารถถูกแบ่งเป็น head + set\n",
    "\n",
    "โดยที่ให้เรามีฟังก์ชัน `is_word` ที่ return บูลีนบ่งบอกว่าสตริงเป็นคำที่อยู่ในพจนานุกรมหรือไม่ \n",
    "```\n",
    "is_word('head') --> True \n",
    "is_word('set') --> True \n",
    "is_word('filt') --> False\n",
    "```\n"
   ]
  },
  {
   "cell_type": "code",
   "execution_count": 3,
   "metadata": {},
   "outputs": [],
   "source": [
    "def is_word(word):\n",
    "\t\"\"\"is word a valid word?\n",
    "\t\n",
    "\tAssume four words in the vocabulary\n",
    "\t\"\"\"\n",
    "\treturn word in ['head', 'band', 'set', 'war']\n",
    "\n",
    "\t\n",
    "def splittable(word):\n",
    "\t\"\"\"\n",
    "\tตัวอย่าง\n",
    "\t>>> splittable('headband') \n",
    "\tTrue\n",
    "\t>>> splittable('warhead')\n",
    "\tTrue\n",
    "\t>>> splittable('bandid')\n",
    "\tFalse\n",
    "\t\"\"\"\n",
    "\t# แบ่ง word ออกเป็นสองส่วน โดยเริ่มจากส่วนหน้าที่ยาวที่สุด\n",
    "\tfor i in range(1, len(word)):\n",
    "\t\tfirst_half = word[:i] # ส่วนหน้า\n",
    "\t\tsecond_half = word[i:] # ส่วนท้าย\n",
    "\t\tprint('รอบที่ {}:\\n- ครึ่งหน้า: {}\\n- ครึ่งหลัง: {}'.format(i, first_half, second_half))\n",
    "\t\t# ถ้าส่วนหน้าเป็นคำที่ถูกต้อง และส่วนท้ายเป็นคำที่ถูกต้อง\n",
    "\t\tif is_word(first_half) and is_word(second_half):\n",
    "\t\t\treturn True # คืนค่า True\n",
    "\treturn False # คืนค่า False"
   ]
  },
  {
   "cell_type": "code",
   "execution_count": 4,
   "metadata": {},
   "outputs": [
    {
     "name": "stdout",
     "output_type": "stream",
     "text": [
      "รอบที่ 1:\n",
      "- ครึ่งหน้า: h\n",
      "- ครึ่งหลัง: eadband\n",
      "รอบที่ 2:\n",
      "- ครึ่งหน้า: he\n",
      "- ครึ่งหลัง: adband\n",
      "รอบที่ 3:\n",
      "- ครึ่งหน้า: hea\n",
      "- ครึ่งหลัง: dband\n",
      "รอบที่ 4:\n",
      "- ครึ่งหน้า: head\n",
      "- ครึ่งหลัง: band\n",
      "True\n",
      "รอบที่ 1:\n",
      "- ครึ่งหน้า: w\n",
      "- ครึ่งหลัง: arhead\n",
      "รอบที่ 2:\n",
      "- ครึ่งหน้า: wa\n",
      "- ครึ่งหลัง: rhead\n",
      "รอบที่ 3:\n",
      "- ครึ่งหน้า: war\n",
      "- ครึ่งหลัง: head\n",
      "True\n",
      "รอบที่ 1:\n",
      "- ครึ่งหน้า: b\n",
      "- ครึ่งหลัง: andid\n",
      "รอบที่ 2:\n",
      "- ครึ่งหน้า: ba\n",
      "- ครึ่งหลัง: ndid\n",
      "รอบที่ 3:\n",
      "- ครึ่งหน้า: ban\n",
      "- ครึ่งหลัง: did\n",
      "รอบที่ 4:\n",
      "- ครึ่งหน้า: band\n",
      "- ครึ่งหลัง: id\n",
      "รอบที่ 5:\n",
      "- ครึ่งหน้า: bandi\n",
      "- ครึ่งหลัง: d\n",
      "False\n"
     ]
    }
   ],
   "source": [
    "print(splittable('headband'))\n",
    "print(splittable('warhead'))\n",
    "print(splittable('bandid'))"
   ]
  },
  {
   "cell_type": "markdown",
   "metadata": {
    "id": "PZyorXmLaWLN",
    "tags": []
   },
   "source": [
    "#### ข้อ 3 - Reverse String\n",
    "เขียนฟังก์ชันชื่อ `reverse_string` ซึ่งรับ parameter 1 ตัวเป็น string (สมมุติว่าชื่อ `original_string`) แล้ว return ค่าเป็น string ซึ่งมีค่าเป็น string ย้อนกลับของ `original_string`\n",
    "\n",
    "**ตัวอย่าง**\n",
    "\n",
    "`reverse_string` รับ parameter เป็น _'Hello'_ จะต้อง return string ที่มีค่าเป็น _'olleH'_"
   ]
  },
  {
   "cell_type": "code",
   "execution_count": 7,
   "metadata": {
    "id": "O4Qgn38naWLO"
   },
   "outputs": [],
   "source": [
    "def reverse_string(text):\n",
    "    reversed_text = '' # สร้าง string ว่าง ไว้เก็บคำที่กลับหลัง\n",
    "    for i in range(len(text)-1, -1, -1):  # วนลูปตั้งแต่ตัวสุดท้ายจนถึงตัวแรก\n",
    "        reversed_text += text[i] # เพิ่มตัวอักษรจาก text ไปใน reversed_text\n",
    "    return reversed_text"
   ]
  },
  {
   "cell_type": "code",
   "execution_count": 8,
   "metadata": {},
   "outputs": [
    {
     "name": "stdout",
     "output_type": "stream",
     "text": [
      "olleH\n",
      "larutaN\n"
     ]
    }
   ],
   "source": [
    "print(reverse_string('Hello'))\n",
    "print(reverse_string('Natural'))"
   ]
  },
  {
   "cell_type": "markdown",
   "metadata": {
    "id": "ffL_WDWiaWLU"
   },
   "source": [
    "#### ข้อ 4 - Palindrome\n",
    "เขียนฟังก์ชันชื่อ `is_palindrome` ซึ่งรับ parameter 1 ตัวเป็น string แล้วเช็คว่า string นั้นเป็น palindrome หรือไม่ โดยถือว่าตัวอักษรตัวเล็กและตัวใหญ่เป็นคนละตัวอักษรกัน (case-sensitive)\n",
    "\n",
    "ถ้าใช่ ให้ return `True` แต่ถ้าไม่ใช่ ให้ return `False`\n",
    "\n",
    "string จะเป็น palindrome ก็ต่อเมื่ออ่าน string จากหน้าไปหลัง เหมือนกับการอ่านจากหลังไปหน้า\n",
    "\n",
    "**ตัวอย่าง**\n",
    "\n",
    "_'TENET'_ , _'civic'_  เป็น palindrome\n",
    "\n",
    "_'Hello'_ , _'AloHa'_ , _'Tenet'_ , _'ciVIC'_ ไม่เป็น palindrome"
   ]
  },
  {
   "cell_type": "code",
   "execution_count": 9,
   "metadata": {
    "id": "pE_OkG4caWLU"
   },
   "outputs": [],
   "source": [
    "def is_palindrome(word):\n",
    "    # create a reversed string\n",
    "    reversed_word = word[::-1] # หรือจะใช้วิธีแบบข้อ 3 ก็ได้ reverse_string(word)\n",
    "    # compare the reversed string with the original string\n",
    "    if word == reversed_word:\n",
    "        return True\n",
    "    else:\n",
    "        return False"
   ]
  },
  {
   "cell_type": "code",
   "execution_count": 10,
   "metadata": {},
   "outputs": [
    {
     "name": "stdout",
     "output_type": "stream",
     "text": [
      "True\n",
      "True\n",
      "False\n"
     ]
    }
   ],
   "source": [
    "print(is_palindrome('noon'))\n",
    "print(is_palindrome('TENET'))\n",
    "print(is_palindrome('Tenet'))"
   ]
  },
  {
   "cell_type": "markdown",
   "metadata": {
    "id": "jbOnuvAAaWLa"
   },
   "source": [
    "#### ข้อ 5 - Pig Latin\n",
    "\n",
    "ภาษา Pig Latin เป็นภาษาที่ใกล้เคียงภาษาอังกฤษมาก โดยการแปลงคำภาษาอังกฤษเป็นภาษา Pig Latin สามารถทำได้โดยนำตัวอักษรตัวแรกของคำไปไว้ด้านหลัง แล้วเติมตัว `a` ไว้ด้านท้ายสุด เช่น คำว่า `hello` แปลงเป็นภาษา Pig Latin ได้ว่า `elloha` หรือ คำว่า `sleep` แปลงเป็นภาษา Pig Latin ได้ว่า `leepsa`\n",
    "\n",
    "เขียนฟังก์ชัน `eng_to_pig_latin` ซึ่งรับคำศัพท์ภาษาอังกฤษ 1 คำเป็น parameter แล้ว return คำภาษา Pig Latin ของคำๆ นั้น พร้อมทั้งเขียนเงื่อนไขในการตรวจสอบว่าฟังก์ชันทำงานถูกต้องตามตัวอย่างหรือไม่"
   ]
  },
  {
   "cell_type": "code",
   "execution_count": 11,
   "metadata": {
    "id": "OnSznbrizHo6"
   },
   "outputs": [],
   "source": [
    "def eng_to_pig_latin(english_word):\n",
    "    first_letter = english_word[0] # ตัวอักษรตัวแรก\n",
    "    rest_of_word = english_word[1:] # ตัวอักษรที่เหลือ\n",
    "    pig_latin = rest_of_word + first_letter + 'a' # ต่อตัวอักษรที่เหลือ ตัวอักษรตัวแรก และ a\n",
    "\n",
    "    return pig_latin"
   ]
  },
  {
   "cell_type": "code",
   "execution_count": 12,
   "metadata": {},
   "outputs": [
    {
     "name": "stdout",
     "output_type": "stream",
     "text": [
      "elloha\n",
      "leepsa\n"
     ]
    }
   ],
   "source": [
    "print(eng_to_pig_latin('hello'))\n",
    "print(eng_to_pig_latin('sleep'))"
   ]
  },
  {
   "cell_type": "markdown",
   "metadata": {
    "id": "qJ1iuWzraWLf"
   },
   "source": [
    "### ข้อ 6 - Flip Language\n",
    "\n",
    "คุณกับเพื่อนได้คิดค้นโค้ดลับของคำศัพท์ภาษาอังกฤษ โดยการแปลงคำศัพท์ภาษาอังกฤษดังนี้\n",
    "\n",
    "1. ถ้าคำศัพท์มีความยาวเป็นเลขคู่ ให้นำครึ่งหลังของคำมาไว้ข้างหน้า แล้วนำครึ่งหน้าของคำไปไว้ข้างหลัง\n",
    "1. ถ้าคำศัพท์มีความยาวเป็นเลขคี่ ให้ตัดตัวอักษรตัวแรกออก แล้วนำคำที่เหลือสลับเหมือนคำศัพท์ที่มีความยาวเป็นเลขคู่ แล้วนำตัวอักษรตัวแรกที่ตัดออกไว้ด้านหน้าคำตามเดิม\n",
    "\n",
    "เขียนฟังก์ชัน `flip_string` ซึ่งรับคำศัพท์ภาษาอังกฤษ 1 คำเป็น parameter แล้ว return โค้ดลับของคำๆ นั้น พร้อมทั้งเขียนเงื่อนไขในการตรวจสอบว่าฟังก์ชันทำงานถูกต้องตามตัวอย่างหรือไม่\n",
    "\n",
    "**ตัวอย่าง**\n",
    "\n",
    "_'bear'_ แปลงเป็น _'arbe'_ <br>\n",
    "_'hello'_ แปลงเป็น _'hloel'_ <br>\n",
    "_'language'_ แปลงเป็น _'uagelang'_ <br>\n",
    "_'natural'_ แปลงเป็น _'nralatu'_ <br>"
   ]
  },
  {
   "cell_type": "code",
   "execution_count": 13,
   "metadata": {
    "id": "8xNhOXv-aWLf"
   },
   "outputs": [],
   "source": [
    "def flip_string(text_to_flip):\n",
    "    # หาความยาวของ text_to_flip\n",
    "    length = len(text_to_flip)\n",
    "\n",
    "    if length % 2 == 0: # ถ้าความยาวเป็นเลขคู่\n",
    "        middle = length // 2 # หาตำแหน่งกึ่งกลาง\n",
    "        first_half = text_to_flip[:middle] # ตัดคำตั้งแต่ตัวแรกจนถึงตำแหน่งกึ่งกลาง\n",
    "        second_half = text_to_flip[middle:] # ตัดคำตั้งแต่ตำแหน่งกึ่งกลางจนถึงตัวสุดท้าย\n",
    "        return second_half + first_half # ต่อคำตัวหลัง แล้วต่อคำตัวหน้า\n",
    "    else: # ถ้าความยาวเป็นเลขคี่\n",
    "        no_first_letter = text_to_flip[1:] # ตัดตัวอักษรตัวแรกออก\n",
    "        middle = len(no_first_letter) // 2 # หาตำแหน่งกึ่งกลาง\n",
    "        first_half = no_first_letter[:middle] # ตัดคำตั้งแต่ตัวแรกจนถึงตำแหน่งกึ่งกลาง\n",
    "        second_half = no_first_letter[middle:] # ตัดคำตั้งแต่ตำแหน่งกึ่งกลางจนถึงตัวสุดท้าย\n",
    "        first_letter = text_to_flip[0] # ตัวอักษรตัวแรก\n",
    "        return first_letter+second_half+first_half # ต่อตัวอักษรตัวแรก ต่อคำตัวหลัง แล้วต่อคำตัวหน้า"
   ]
  },
  {
   "cell_type": "code",
   "execution_count": 14,
   "metadata": {},
   "outputs": [
    {
     "name": "stdout",
     "output_type": "stream",
     "text": [
      "arbe\n",
      "hloel\n",
      "uagelang\n",
      "nralatu\n"
     ]
    }
   ],
   "source": [
    "print(flip_string('bear'))\n",
    "print(flip_string('hello'))\n",
    "print(flip_string('language'))\n",
    "print(flip_string('natural'))"
   ]
  },
  {
   "cell_type": "markdown",
   "metadata": {
    "id": "FO3Uk2mcaWLk"
   },
   "source": [
    "### ข้อ 7 - ไม่ 1 ไม่ 5\n",
    "\n",
    "จงหาผลรวมของจำนวนเต็มที่น้อยกว่า 100 และไม่มีเลข 1 กับ 5\n",
    "\n",
    "$2 + 3 + 4 + 6 + 7 + 8 + 9 + 20 + 22 + 23 + 24 + 26 \\cdots + 99$\n",
    "\n",
    "คำตอบคือ 3432\n",
    "\n",
    "**Hint:** เปลี่ยนเป็น str แล้วใช้ `in`"
   ]
  },
  {
   "cell_type": "code",
   "execution_count": 15,
   "metadata": {
    "id": "fmtt1EwnaWLl"
   },
   "outputs": [],
   "source": [
    "def sum_except15():\n",
    "    result = 0\n",
    "    for i in range(100): # วนลูปตั้งแต่ 0 ถึง 99\n",
    "        if \"1\" not in str(i) and \"5\" not in str(i): # ถ้าไม่มีเลข 1 หรือ 5 ใน i\n",
    "            result += i # บวก i เข้ากับ result\n",
    "    return result"
   ]
  },
  {
   "cell_type": "code",
   "execution_count": 16,
   "metadata": {},
   "outputs": [
    {
     "data": {
      "text/plain": [
       "3432"
      ]
     },
     "execution_count": 16,
     "metadata": {},
     "output_type": "execute_result"
    }
   ],
   "source": [
    "sum_except15()"
   ]
  },
  {
   "cell_type": "markdown",
   "metadata": {
    "id": "EchA6wQyaWLn"
   },
   "source": [
    "### ข้อ 8 - ไปรษณีย์\n",
    "\n",
    "ตอนนี้มี text data ที่มีชื่อเขตกับรหัสไปรษณีย์ ซึ่งเป็นหน้าตาแบบนี้\n",
    "\n",
    "~~~python\n",
    "data = 'Wattana 10110 Yannawa 10120 Dusit 10300'\n",
    "~~~\n",
    "\n",
    "แต่ข้อมูลดูยาก จงสร้างฟังก์ชั่น `postal_table()` ซึ่งแยกชื่อเขตกับรหัสไปรษณีย์ด้วย tab (`\\t`)\n",
    "\n",
    "~~~\n",
    "Wattana 10110\n",
    "Yannawa 10120\n",
    "Dusit   10300\n",
    "~~~"
   ]
  },
  {
   "cell_type": "code",
   "execution_count": 17,
   "metadata": {
    "id": "4a-tCYjoaWLn"
   },
   "outputs": [],
   "source": [
    "def postal_table(raw_text):\n",
    "    \"\"\"\n",
    "    1. add each character to new_string, if not space\n",
    "    2. replace space before postal code with tab \\t\n",
    "    3. replace space after postal code with newline \\n\n",
    "    \"\"\"\n",
    "    new_string = ''\n",
    "    for i in range(len(raw_text)): # วนลูปตั้งแต่ตัวแรกจนถึงตัวสุดท้าย\n",
    "        if raw_text[i] != ' ': # ถ้าไม่ใช่ space\n",
    "            new_string += raw_text[i] # เพิ่มตัวอักษรเข้าไปใน new_string\n",
    "        else:  # ถ้าเป็น space\n",
    "            if raw_text[i+1].isdigit(): # ถ้าตัวถัดไปเป็นตัวเลข\n",
    "                new_string += '\\t' # เพิ่ม tab ใน new_string\n",
    "            else:\n",
    "                new_string += '\\n' # เพิ่ม newline ใน new_string\n",
    "    return new_string"
   ]
  },
  {
   "cell_type": "code",
   "execution_count": 18,
   "metadata": {},
   "outputs": [
    {
     "name": "stdout",
     "output_type": "stream",
     "text": [
      "Wattana\t10110\n",
      "Yannawa\t10120\n",
      "Dusit\t10300\n"
     ]
    }
   ],
   "source": [
    "print(postal_table('Wattana 10110 Yannawa 10120 Dusit 10300'))"
   ]
  },
  {
   "cell_type": "markdown",
   "metadata": {
    "id": "XYblJd88aWLp"
   },
   "source": [
    "### ข้อ 9 - Am I a float?\n",
    "\n",
    "เรียกใช้ฟังก์ชัน `input` เพื่อรับค่าทางหน้าจอจากผู้ใช้ 1 ค่า แล้วแสดงผลทางหน้าจอว่าค่าที่ผู้ใช้ใส่มาเป็น `float` หรือไม่\n",
    "\n",
    "**Hint:** `float` จะมีจุดทศนิยม 1 จุด และทีเหลือเป็นตัวเลข แต่ว่าอาจจะเป็นค่าลบได้\n",
    "\n",
    "**ตัวอย่าง**\n",
    "\n",
    "|**input**|**output**|\n",
    "|:-:|:-:|\n",
    "|3.1415|True|\n",
    "|12|False|\n",
    "|-35.439145|True|\n",
    "|43BDgk|False|"
   ]
  },
  {
   "cell_type": "code",
   "execution_count": 19,
   "metadata": {
    "id": "Y2fStqxjaWLp"
   },
   "outputs": [],
   "source": [
    "def is_float():\n",
    "    user_input = input('Please enter the input: ') # รับ input จากผู้ใช้\n",
    "    print('User Input: '.format(user_input))\n",
    "    user_input = user_input.replace('-', '') # ลบ - ออกจาก user_input (ถ้ามี)\n",
    "    if user_input.count('.') == 1 and user_input.replace('.', '').isdigit(): # ถ้า user_input มี . 1 ตัว และเป็นตัวเลข\n",
    "        return True\n",
    "    else:\n",
    "        return False"
   ]
  },
  {
   "cell_type": "code",
   "execution_count": 20,
   "metadata": {},
   "outputs": [
    {
     "name": "stdout",
     "output_type": "stream",
     "text": [
      "User Input: \n"
     ]
    },
    {
     "data": {
      "text/plain": [
       "False"
      ]
     },
     "execution_count": 20,
     "metadata": {},
     "output_type": "execute_result"
    }
   ],
   "source": [
    "is_float()"
   ]
  },
  {
   "cell_type": "markdown",
   "metadata": {
    "id": "VVOkpIF8aWLw"
   },
   "source": [
    "### ข้อ 10 - Password generator\n",
    "\n",
    "ใน module `string` มีชุดตัวอักษรดังนี้ (ไม่ใช่ฟังก์ชั่น จึงไม่ต้องใส่วงเล็บ)\n",
    "\n",
    "~~~python\n",
    "import string\n",
    "\n",
    "string.ascii_letters\n",
    ">>>'abcdefghijklmnopqrstuvwxyzABCDEFGHIJKLMNOPQRSTUVWXYZ'\n",
    "\n",
    "string.digits\n",
    ">>>'0123456789'\n",
    "~~~\n",
    "\n",
    "จงสร้างฟังก์ชั่นที่สุ่มเลือก $n > 6$ ตัวจากชุดข้างบนนี้ให้เป็นรหัส\n",
    "\n",
    "รหัสต้องมีตัวอักษรภาษาอังกฤษอย่างน้อย 4 ตัว และรหัส 2 ตัวสุดท้ายต้องเป็นตัวเลข\n",
    "\n",
    "ให้ใช้คำสั่ง `random.choice(string.ascii_letters)` จะสุ่มเลือกตัวอักษร\n",
    "\n",
    "~~~python\n",
    "generate_password(8)\n",
    ">>>hdNaxd07\n",
    "~~~"
   ]
  },
  {
   "cell_type": "code",
   "execution_count": 30,
   "metadata": {
    "id": "34HMS83IaWLx"
   },
   "outputs": [],
   "source": [
    "import string, random\n",
    "def generate_password(n):\n",
    "    if n > 6:\n",
    "        num_char = n - 2 # จำนวนตัวอักษรที่เป็นตัวอักษรภาษาอังกฤษ\n",
    "        password = ''\n",
    "        for i in range(num_char): # สุ่มตัวอักษรภาษาอังกฤษ ตามจำนวนที่กำหนด\n",
    "            password += random.choice(string.ascii_letters) # เพิ่มตัวอักษรภาษาอังกฤษ\n",
    "        for i in range(2): # สุ่มตัวเลข จำนวน 2 ตัว\n",
    "            password += random.choice(string.digits) # เพิ่มตัวเลข\n",
    "        return password\n",
    "    else:\n",
    "        return 'Password must be at least 6 characters long'"
   ]
  },
  {
   "cell_type": "code",
   "execution_count": 31,
   "metadata": {},
   "outputs": [
    {
     "data": {
      "text/plain": [
       "'xgwfMO91'"
      ]
     },
     "execution_count": 31,
     "metadata": {},
     "output_type": "execute_result"
    }
   ],
   "source": [
    "generate_password(8)"
   ]
  },
  {
   "cell_type": "markdown",
   "metadata": {},
   "source": [
    "### ข้อ 11 - Past form\n",
    "#### ส่วนที่ 1 \n",
    "จงเขียนฟังก์ชันในการตรวจสอบว่าคำที่ได้รับมาเป็นกริยาที่เป็นรูป past form หรือไม่ โดยให้ใช้กฏง่าย ๆ ดังนี้\n",
    "\n",
    "- ห้ามขึ้นต้นด้วยตัวใหญ่ \n",
    "- ห้ามมีตัวเลขเลย\n",
    "- ต้องลงท้ายด้วย -ed"
   ]
  },
  {
   "cell_type": "code",
   "execution_count": 22,
   "metadata": {},
   "outputs": [],
   "source": [
    "def is_past_form(word):\n",
    "    \"\"\"\n",
    "    ตัวอย่าง\n",
    "    >>> is_past_form('pasted')\n",
    "    True\n",
    "    >>> is_past_form('brushed')\n",
    "    True\n",
    "    >>> is_past_form('SpotTed')\n",
    "    False\n",
    "    >>> is_past_form('ate')\n",
    "    False\n",
    "    >>> is_past_form('M34ed')\n",
    "    False\n",
    "    \"\"\"\n",
    "    # ถ้า word ลงท้ายด้วย ed และเป็นตัวอักษร และไม่ขึ้นต้นด้วยตัวพิมพ์ใหญ่\n",
    "    if word[-2:] == 'ed' and word.isalpha() and not word[0].isupper(): \n",
    "        return True\n",
    "    else:\n",
    "        return False"
   ]
  },
  {
   "cell_type": "code",
   "execution_count": 23,
   "metadata": {},
   "outputs": [
    {
     "name": "stdout",
     "output_type": "stream",
     "text": [
      "True\n",
      "True\n",
      "False\n",
      "False\n",
      "False\n"
     ]
    }
   ],
   "source": [
    "print(is_past_form('pasted'))\n",
    "print(is_past_form('brushed'))\n",
    "print(is_past_form('SpotTed'))\n",
    "print(is_past_form('ate'))\n",
    "print(is_past_form('M34ed'))"
   ]
  },
  {
   "cell_type": "markdown",
   "metadata": {},
   "source": [
    "#### ส่วนที่ 2\n",
    "\n",
    "คำกริยาภาษาอังกฤษที่เป็น past form มักจะลงท้ายด้วย -ed แต่ว่า -ed จะออกเสียงออกมาเป็นอย่างไรนั้นขึ้นอยู่กับพยัญชนะที่อยู่ข้างหลังสุดของหน่วยคำกริยา  โดยมีกฏดังนี้\n",
    "- กริยาที่ลงท้ายด้วย s sh ถ้าเปลี่ยนเป็น past form โดยการเติม -ed จะออกเสียงเป็น /t/  \n",
    "- กริยาที่ลงท้ายด้วย t d ถ้าเปลี่ยนเป็น past form โดยการเติม -ed จะออกเสียงเป็น /id/\n",
    "- กริยาอื่น ๆ ที่เหลือ ถ้าเปลี่ยนเป็น past form โดยการเติม -ed จะออกเสียงเป็น /d/\n",
    "\n",
    "ตัวอย่าง\n",
    "\n",
    "crashed → /t/\n",
    "\n",
    "missed → /t/\n",
    "\n",
    "wanted → /id/\n",
    "\n",
    "reminded → /id/\n",
    "\n",
    "scrubbed → /d/\n",
    "\n",
    "tuned → /d/\n",
    "\n",
    "จงเขียนฟังก์ชันที่รับคำเป็น input และ return ว่า -ed ออกเสียงเป็นอะไร (สำหรับกฏข้อแรก ไม่ต้องจัดการกับคำที่ลงท้ายด้วย k p ch x gh z เพื่อความง่าย)  ถ้าคำที่รับมาไม่ใช่ past form (ตามที่กำหนดไว้ในฟังก์ชันจาก part 1) ให้ return สตริงเปล่า \n"
   ]
  },
  {
   "cell_type": "code",
   "execution_count": 24,
   "metadata": {},
   "outputs": [],
   "source": [
    "def pronounce_ed(word):\n",
    "    \"\"\"\n",
    "    ตัวอย่าง\n",
    "    >>> pronounce_ed('SpotTed')\n",
    "    ''\n",
    "    >>> pronounce_ed('spotted')\n",
    "    '/id/'\n",
    "    >>> pronounce_ed('1254ed')\n",
    "    ''\n",
    "    >>> pronounce_ed('refreshed')\n",
    "    '/t/'\n",
    "    \"\"\"\n",
    "    if is_past_form(word): # ถ้า word เป็น past form\n",
    "        if word[-3] == 't' or word[-3] =='d': # ถ้า word ลงท้ายด้วย t หรือ d\n",
    "            return '/id/'\n",
    "        elif word[-3] == 's' or word[-4:-2] == 'sh': # ถ้า word ลงท้ายด้วย s หรือ sh\n",
    "            return '/t/'\n",
    "        else: # ถ้า word ลงท้ายด้วยอักษรอื่น\n",
    "            return '/d/'\n",
    "    else:\n",
    "        return ''"
   ]
  },
  {
   "cell_type": "code",
   "execution_count": 25,
   "metadata": {},
   "outputs": [
    {
     "name": "stdout",
     "output_type": "stream",
     "text": [
      "\n",
      "/id/\n",
      "\n",
      "/t/\n"
     ]
    }
   ],
   "source": [
    "print(pronounce_ed('SpotTed'))\n",
    "print(pronounce_ed('spotted'))\n",
    "print(pronounce_ed('1254ed'))\n",
    "print(pronounce_ed('refreshed'))"
   ]
  },
  {
   "cell_type": "markdown",
   "metadata": {},
   "source": [
    "### ข้อ 12 - ชื่อย่อ\n",
    "จงเขียนฟังก์ชัน `convert_to_initials` เปลี่ยนชื่อภาษาอังกฤษเป็นชื่อย่อสองตัวอักษรโดยนำตัวอักษรพิมพ์ใหญ่ 2 ตัวในชื่อแปลงมาเป็นชื่อย่อ ทั้งนี้ถ้าชื่อนั้นมีตัวอักษรพิมพ์ใหญ่น้อยกว่า 2 ตัว หรือมากกว่า 2 ตัวจะไม่สามารถแปลงได้และคืนค่า '' และ `print` ข้อความว่า 'Please enter valid name.'"
   ]
  },
  {
   "cell_type": "code",
   "execution_count": 26,
   "metadata": {},
   "outputs": [],
   "source": [
    "def initial_name(name):\n",
    "    \"\"\"\n",
    "    >>> initial_name('Mary Beth')\n",
    "    MB\n",
    "    >>> initial_name('Lara Jean')\n",
    "    LJ\n",
    "    >>> initial_name('Alexander')\n",
    "    Please enter valid name.\n",
    "    >>> initial_name('Mary McLeod')\n",
    "    Please enter valid name.\n",
    "    \"\"\"\n",
    "    initial = '' # สร้าง string ว่าง\n",
    "    for char in name: # วนลูปตั้งแต่ตัวแรกจนถึงตัวสุดท้าย\n",
    "        if char.isupper(): # ถ้าเป็นตัวพิมพ์ใหญ่\n",
    "            initial += char # เพิ่มตัวอักษรใน initial\n",
    "    if len(initial) == 2: # ถ้า initial มีความยาว 2\n",
    "        return initial # คืนค่า initial\n",
    "    else: # ถ้า initial ไม่มีความยาว 2\n",
    "        return 'Please enter valid name.'"
   ]
  },
  {
   "cell_type": "code",
   "execution_count": 27,
   "metadata": {},
   "outputs": [
    {
     "name": "stdout",
     "output_type": "stream",
     "text": [
      "MB\n",
      "LJ\n",
      "Please enter valid name.\n",
      "Please enter valid name.\n"
     ]
    }
   ],
   "source": [
    "print(initial_name('Mary Beth'))\n",
    "print(initial_name('Lara Jean'))\n",
    "print(initial_name('Alexander'))\n",
    "print(initial_name('Mary McLeod'))"
   ]
  },
  {
   "cell_type": "markdown",
   "metadata": {},
   "source": [
    "### ข้อ 13 - นับตัวสะกดแปลก\n",
    "ตัวอักษรภาษาอังกฤษนั้นมีทั้ง \"ตัวพิมพ์ใหญ่\" (uppercase) และ \"ตัวพิมพ์เล็ก\" (lowercase)\n",
    "โดยในสภาวะปกติ ตัวพิมพ์ใหญ่จะสามารถปรากฏได้เพียงตำแหน่งแรกของคำเท่านั้น\n",
    "จงเขียนฟังก์ชันชื่อ `count_anomalies` ที่รับ input เป็น string 1 ตัว\n",
    "แล้ว return จำนวนตัวอักษรพิมพ์ใหญ่ที่ปรากฏในตำแหน่งอื่น ๆ นอกเหนือจากตำแหน่งเริ่มต้น\n",
    "โดย input string นี้ประกอบไปด้วยตัวอักษรอังกฤษเท่านั้นและจะไม่มีช่องว่างอยู่ภายใน"
   ]
  },
  {
   "cell_type": "code",
   "execution_count": 28,
   "metadata": {},
   "outputs": [],
   "source": [
    "def count_anomalies(word):\n",
    "    \"\"\"\n",
    "    ตัวอย่าง input และ output ที่ถูกต้อง:\n",
    "    >>> num_anomalies(\"Hello\")\n",
    "    0\n",
    "    >>> num_anomalies(\"hello\")\n",
    "    0\n",
    "    >>> num_anomalies(\"hEllo\")\n",
    "    1\n",
    "    >>> num_anomalies(\"HeLLo\")\n",
    "    2\n",
    "    >>> num_anomalies(\"hELLo\")\n",
    "    3\n",
    "    >>> num_anomalies(\"HELLO\")\n",
    "    4\n",
    "    \"\"\"\n",
    "    num_anomalies = 0\n",
    "    for character in word[1:]: # วนลูปตั้งแต่ตัวที่ 2 จนถึงตัวสุดท้าย\n",
    "        if character.isupper(): # ถ้าเป็นตัวพิมพ์ใหญ่\n",
    "            num_anomalies += 1 # เพิ่มค่า num_anomalies ขึ้น 1\n",
    "    return num_anomalies"
   ]
  },
  {
   "cell_type": "code",
   "execution_count": 29,
   "metadata": {},
   "outputs": [
    {
     "name": "stdout",
     "output_type": "stream",
     "text": [
      "0\n",
      "0\n",
      "1\n",
      "2\n",
      "3\n",
      "4\n"
     ]
    }
   ],
   "source": [
    "print(count_anomalies(\"Hello\"))\n",
    "print(count_anomalies(\"hello\"))\n",
    "print(count_anomalies(\"hEllo\"))\n",
    "print(count_anomalies(\"HeLLo\"))\n",
    "print(count_anomalies(\"hELLo\"))\n",
    "print(count_anomalies(\"HELLO\"))"
   ]
  }
 ],
 "metadata": {
  "colab": {
   "collapsed_sections": [],
   "name": "PC4 Strings.ipynb",
   "provenance": []
  },
  "kernelspec": {
   "display_name": "Python 3.8.12",
   "language": "python",
   "name": "python3"
  },
  "language_info": {
   "codemirror_mode": {
    "name": "ipython",
    "version": 3
   },
   "file_extension": ".py",
   "mimetype": "text/x-python",
   "name": "python",
   "nbconvert_exporter": "python",
   "pygments_lexer": "ipython3",
   "version": "3.9.13"
  },
  "vscode": {
   "interpreter": {
    "hash": "34368ba4908ea1be08ba769dfb7764ab7f8ead2384ebb5604cb86637573696f7"
   }
  }
 },
 "nbformat": 4,
 "nbformat_minor": 4
}
