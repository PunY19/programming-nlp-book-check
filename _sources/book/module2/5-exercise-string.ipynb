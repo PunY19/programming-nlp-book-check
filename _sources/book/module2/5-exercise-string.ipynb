{
 "cells": [
  {
   "cell_type": "markdown",
   "metadata": {},
   "source": [
    "# แบบฝึกหัด: สตริง"
   ]
  },
  {
   "cell_type": "markdown",
   "metadata": {},
   "source": [
    "## ข้อ 1 - อุปสรรค ปัจจัย\n",
    "จงเขียนโปรแกรมที่ทำหน้าที่ตรวจสอบว่าคำมี \"อุปสรรค\" (prefix) หรือ \"ปัจจัย\" (suffix) ที่ระบุหรือไม่ และหากมี ให้แสดงหน่วยคำที่อุปสรรคหรือปัจจัยนั้นเกาะอยู่\n",
    "\n",
    "เช่น คำว่า 'ใจแตก' มี 'ใจ' เป็นอุปสรรคที่เชื่อมต่อกับหน่วยคำ '-แตก'\n",
    "```\n",
    "detect_prefix_suffix('ใจแตก', 'ใจ') --> '-แตก'\n",
    "```\n",
    "\n",
    "คำว่า 'เข็ญใจ' มี 'ใจ' เป็นปัจจัยที่เชื่อมต่อกับหน่วยคำ 'เข็ญ-'\n",
    "```\n",
    "detect_prefix_suffix('เข็ญใจ', 'ใจ') --> 'เข็ญ-'\n",
    "```\n",
    "\n",
    "หากคำที่ให้ไม่เป็นอุปสรรคหรือปัจจัย ให้คืนค่าเป็นช่องว่าง ('')\n",
    "\n",
    "หมายเหตุ: อย่าลืมเติมเครื่องหมายขีด (-) ให้ถูกต้อง โดยขีดหน้าคืออุปสรรค และขีดหลังคือปัจจัย\n",
    "\n",
    "คำใบ้: แนะนำให้แก้โจทย์เล็กๆ ก่อนสามโจทย์ได้แก่\n",
    "1. กรณีที่ไม่เป็น prefix และไม่เป็น suffix\n",
    "2. กรณีที่เป็น prefix\n",
    "3. กรณีที่เป็น suffix"
   ]
  },
  {
   "cell_type": "code",
   "execution_count": 1,
   "metadata": {},
   "outputs": [],
   "source": [
    "def detect_prefix_suffix(word, affix):\n",
    "    \"\"\"\n",
    "    ตัวอย่าง\n",
    "\n",
    "    >>> detect_prefix_suffix('หน้าเนื้อ', 'หน้า')\n",
    "    '-เนื้อ'\n",
    "    >>> detect_prefix_suffix('การเดินทาง', 'การ')\n",
    "    '-เดินทาง'\n",
    "    >>> detect_prefix_suffix('เหลือใจ', 'ใจ')\n",
    "    'เหลือ-'\n",
    "    >>> detect_prefix_suffix('ใจ', 'ใจ')\n",
    "    ''\n",
    "    >>> detect_prefix_suffix('หน้าเนื้อใจเสือ', 'ใจ')\n",
    "    ''\n",
    "    \"\"\"\n",
    "    return ''"
   ]
  },
  {
   "cell_type": "markdown",
   "metadata": {},
   "source": [
    "### ข้อ 2 - คำประสม\n",
    "จงเขียนฟังก์ชันที่รับข้อมูลเป็นสตริงหนึ่งชุด โดยฟังก์ชันจะคืนค่าเป็น `True`  หากสตริงนั้นสามารถแบ่งออกเป็นสองคำย่อยได้ เช่น\n",
    "\n",
    "- คำว่า 'headband' สามารถแบ่งออกเป็น 'head' และ 'band'\n",
    "- คำว่า 'warhead' สามารถแบ่งออกเป็น 'war' และ 'head'\n",
    "- คำว่า 'headset' สามารถแบ่งออกเป็น 'head' และ 'set'\n",
    "\n",
    "ทั้งนี้ มีฟังก์ชัน `is_word` สำหรับตรวจสอบว่าสตริงที่ส่งเข้าไปเป็นคำที่มีอยู่ในพจนานุกรมหรือไม่ โดยฟังก์ชันจะคืนค่าเป็นผลลัพธ์ในรูปแบบบูลีน\n",
    "```\n",
    "is_word('head') --> True \n",
    "is_word('set') --> True \n",
    "is_word('filt') --> False\n",
    "```\n"
   ]
  },
  {
   "cell_type": "code",
   "execution_count": null,
   "metadata": {},
   "outputs": [],
   "source": [
    "def is_word(word):\n",
    "\t\"\"\"is word a valid word?\n",
    "\t\n",
    "\tAssume four words in the vocabulary\n",
    "\t\"\"\"\n",
    "\treturn word in ['head', 'band', 'set', 'war']\n",
    "\n",
    "\t\n",
    "def splittable(word):\n",
    "\t\"\"\"\n",
    "\tตัวอย่าง\n",
    "\t>>> splittable('headband') \n",
    "\tTrue\n",
    "\t>>> splittable('warhead')\n",
    "\tTrue\n",
    "\t>>> splittable('bandid')\n",
    "\tFalse\n",
    "\t\"\"\"\n",
    "\treturn False"
   ]
  },
  {
   "cell_type": "markdown",
   "metadata": {
    "id": "PZyorXmLaWLN",
    "tags": []
   },
   "source": [
    "### ข้อ 3 - กลับด้านสตริง\n",
    "จงเขียนฟังก์ชันชื่อ `reverse_string` ซึ่งรับพารามิเตอร์ 1 ตัวเป็นสตริง (สมมติว่าชื่อ `original_string`) แล้วคืนค่าเป็นข้อความที่มีลำดับตัวอักษรกลับด้านจากข้อความต้นฉบับ `original_string`\n",
    "\n",
    "**ตัวอย่าง**\n",
    "\n",
    "`reverse_string` รับข้อมูลเป็นคำว่า _'Hello'_ จะต้องคืนค่าเป็น _'olleH'_"
   ]
  },
  {
   "cell_type": "code",
   "execution_count": null,
   "metadata": {
    "id": "O4Qgn38naWLO"
   },
   "outputs": [],
   "source": [
    "def reverse_string(text):\n",
    "    return ''"
   ]
  },
  {
   "cell_type": "markdown",
   "metadata": {
    "id": "ffL_WDWiaWLU"
   },
   "source": [
    "### ข้อ 4 - พาลินโดรม\n",
    "เขียนฟังก์ชันชื่อ `is_palindrome` ซึ่งรับพารามิเตอร์เป็นข้อความ 1 ชุด แล้วตรวจสอบว่าข้อความนั้นเป็นพาลินโดรมหรือไม่ โดยจะต้องถือว่าตัวอักษรพิมพ์เล็กและตัวอักษรพิมพ์ใหญ่เป็นคนละตัวอักษร (case-sensitive)\n",
    "\n",
    "พาลินโดรม หมายถึง ข้อความที่เมื่ออ่านจากซ้ายไปขวา จะเหมือนกับการอ่านจากขวาไปซ้ายทุกประการ\n",
    "ตัวอย่าง:\n",
    "\n",
    "- คำว่า 'TENET' และ 'civic' เป็นพาลินโดรม\n",
    "- คำว่า 'hello' และ 'aloha' ไม่เป็นพาลินโดรม\n",
    "- คำว่า 'radar' เป็นพาลินโดรม แต่ 'RaDar' ไม่ใช่พาลินโดรม เพราะตัวอักษร \"R\" และ \"r\" ถือว่าเป็นคนละตัวอักษร\n",
    "\n",
    "ฟังก์ชันจะทำการตรวจสอบว่าข้อความที่ได้รับเป็นพาลินโดรมหรือไม่ โดยตรวจสอบว่าข้อความต้นฉบับและข้อความที่ย้อนกลับมีค่าเหมือนกันหรือไม่ หากเหมือนกัน ให้คืนค่า `True` แต่ถ้าไม่เหมือนกัน ให้คืนค่า `False`"
   ]
  },
  {
   "cell_type": "code",
   "execution_count": null,
   "metadata": {
    "id": "pE_OkG4caWLU"
   },
   "outputs": [],
   "source": [
    "def is_palindrome(word):\n",
    "    pass"
   ]
  },
  {
   "cell_type": "markdown",
   "metadata": {
    "id": "jbOnuvAAaWLa"
   },
   "source": [
    "### ข้อ 5 - เกมส์พิกลาติน\n",
    "\n",
    "ภาษาพิกลาติน (Pig Latin) เป็นภาษาที่มีรูปแบบใกล้เคียงกับภาษาอังกฤษ โดยมีกฎในการแปลงคำดังนี้:\n",
    "\n",
    "1. ย้ายตัวอักษรตัวแรกของคำไปไว้ด้านท้ายสุด\n",
    "2. เติมตัวอักษร 'a' ที่ท้ายคำหลังจากการย้ายตัวอักษร\n",
    "\n",
    "**ตัวอย่าง**\n",
    "\n",
    "- คำว่า `hello` เมื่อแปลงเป็นภาษาพิกลาตินจะกลายเป็น `elloha`\n",
    "- คำว่า `sleep` เมื่อแปลงเป็นภาษาพิกลาตินจะกลายเป็น `leepsa`\n",
    "\n",
    "เขียนฟังก์ชัน `eng_to_pig_latin` ซึ่งรับคำศัพท์ภาษาอังกฤษ 1 คำเป็นพารามิเตอร์ แล้วคืนค่าคำภาษาพิกลาตินของคำ ๆ นั้น "
   ]
  },
  {
   "cell_type": "code",
   "execution_count": null,
   "metadata": {
    "id": "OnSznbrizHo6"
   },
   "outputs": [],
   "source": [
    "def eng_to_pig_latin(english_word):\n",
    "    return ''"
   ]
  },
  {
   "cell_type": "markdown",
   "metadata": {
    "id": "qJ1iuWzraWLf"
   },
   "source": [
    "### ข้อ 6 - ภาษาลับ\n",
    "\n",
    "คุณกับเพื่อนได้คิดค้นโค้ดลับของคำศัพท์ภาษาอังกฤษ โดยการแปลงคำศัพท์ภาษาอังกฤษดังนี้\n",
    "\n",
    "1. ถ้าคำศัพท์มีความยาวเป็นเลขคู่ ให้นำครึ่งหลังของคำมาไว้ข้างหน้า แล้วนำครึ่งหน้าของคำไปไว้ข้างหลัง\n",
    "1. ถ้าคำศัพท์มีความยาวเป็นเลขคี่ ให้ตัดตัวอักษรตัวแรกออก แล้วนำคำที่เหลือสลับเหมือนคำศัพท์ที่มีความยาวเป็นเลขคู่ แล้วนำตัวอักษรตัวแรกที่ตัดออกไว้ด้านหน้าคำตามเดิม\n",
    "\n",
    "เขียนฟังก์ชัน `flip_string` ซึ่งรับคำศัพท์ภาษาอังกฤษ 1 คำเป็น พารามิเตอร์ แล้วคืนค่าโค้ดลับของคำ ๆ นั้น \n",
    "\n",
    "**ตัวอย่าง**\n",
    "\n",
    "_'bear'_ แปลงเป็น _'arbe'_ <br>\n",
    "_'hello'_ แปลงเป็น _'hloel'_ <br>\n",
    "_'language'_ แปลงเป็น _'uagelang'_ <br>\n",
    "_'natural'_ แปลงเป็น _'nralatu'_ <br>"
   ]
  },
  {
   "cell_type": "code",
   "execution_count": null,
   "metadata": {
    "id": "8xNhOXv-aWLf"
   },
   "outputs": [],
   "source": [
    "def flip_string(text_to_flip):\n",
    "    pass"
   ]
  },
  {
   "cell_type": "markdown",
   "metadata": {
    "id": "FO3Uk2mcaWLk"
   },
   "source": [
    "### ข้อ 7 - ไม่ 1 ไม่ 5\n",
    "\n",
    "จงหาผลรวมของจำนวนเต็มที่น้อยกว่า 100 และไม่มีเลข 1 กับ 5\n",
    "\n",
    "$2 + 3 + 4 + 6 + 7 + 8 + 9 + 20 + 22 + 23 + 24 + 26 \\cdots + 99$\n",
    "\n",
    "คำตอบคือ 3432\n",
    "\n",
    "**คำใบ้:** เปลี่ยนเป็นสตริงแล้วใช้คำสั่ง `in`"
   ]
  },
  {
   "cell_type": "code",
   "execution_count": null,
   "metadata": {
    "id": "fmtt1EwnaWLl"
   },
   "outputs": [],
   "source": [
    "def sum_except15():\n",
    "    pass"
   ]
  },
  {
   "cell_type": "markdown",
   "metadata": {
    "id": "EchA6wQyaWLn"
   },
   "source": [
    "### ข้อ 8 - ไปรษณีย์\n",
    "\n",
    "จงเขียนฟังก์ชันชื่อ `postal_table` ซึ่งจะรับข้อมูลที่มีชื่อเขตและรหัสไปรษณีย์เรียงกันเป็นข้อความเดียวกัน โดยข้อมูลนี้ยังไม่ถูกจัดรูปแบบให้อ่านง่าย ฟังก์ชันนี้จะทำการแยกชื่อเขตออกจากรหัสไปรษณีย์ด้วยแท็บ (tab) ซึ่งแทนด้วยอักขระพิเศษ `\\t` และจากนั้นคืนค่าเป็นข้อความที่มีรูปแบบจัดให้อ่านง่ายตามตัวอย่าง\n",
    "\n",
    "**ตัวอย่าง**\n",
    "~~~python\n",
    "data = 'Wattana 10110 Yannawa 10120 Dusit 10300'\n",
    "~~~\n",
    "ผลลัพธ์ที่ต้องการจะเป็น\n",
    "~~~\n",
    "Wattana 10110\n",
    "Yannawa 10120\n",
    "Dusit   10300\n",
    "~~~"
   ]
  },
  {
   "cell_type": "code",
   "execution_count": null,
   "metadata": {
    "id": "4a-tCYjoaWLn"
   },
   "outputs": [],
   "source": [
    "def postal_table(raw_text):\n",
    "    \"\"\"\n",
    "    1. add each character to new_string, if not space\n",
    "    2. replace space before postal code with tab \\t\n",
    "    3. replace space after postal code with newline \\n\n",
    "    \"\"\"\n"
   ]
  },
  {
   "cell_type": "markdown",
   "metadata": {
    "id": "XYblJd88aWLp"
   },
   "source": [
    "### ข้อ 9 - ทศนิยม\n",
    "\n",
    "เรียกใช้ฟังก์ชัน `input` เพื่อรับค่าทางหน้าจอจากผู้ใช้ 1 ค่า แล้วแสดงผลทางหน้าจอว่าค่าที่ผู้ใช้ใส่มาเป็น `float` หรือไม่\n",
    "\n",
    "**คำใบ้:** `float` จะมีจุดทศนิยม 1 จุด และทีเหลือเป็นตัวเลข แต่ว่าอาจจะเป็นค่าลบได้\n",
    "\n",
    "**ตัวอย่าง**\n",
    "\n",
    "|**input**|**output**|\n",
    "|:-:|:-:|\n",
    "|3.1415|True|\n",
    "|12|False|\n",
    "|-35.439145|True|\n",
    "|43BDgk|False|"
   ]
  },
  {
   "cell_type": "code",
   "execution_count": 2,
   "metadata": {
    "id": "Y2fStqxjaWLp"
   },
   "outputs": [],
   "source": [
    "def is_float():\n",
    "    pass"
   ]
  },
  {
   "cell_type": "markdown",
   "metadata": {
    "id": "VVOkpIF8aWLw"
   },
   "source": [
    "### ข้อ 10 - สร้างรหัสผ่าน\n",
    "\n",
    "ในโมดูล `string` มีตัวแปรที่ชุดตัวอักษรดังนี้ (ไม่ใช่ฟังก์ชั่น จึงไม่ต้องใส่วงเล็บ)\n",
    "\n",
    "~~~python\n",
    "import string\n",
    "\n",
    "string.ascii_letters\n",
    ">>>'abcdefghijklmnopqrstuvwxyzABCDEFGHIJKLMNOPQRSTUVWXYZ'\n",
    "\n",
    "string.digits\n",
    ">>>'0123456789'\n",
    "~~~\n",
    "\n",
    "จงสร้างฟังก์ชันสุ่มเลือกรหัสผ่านจากตัวอักษรภาษาอังกฤษและตัวเลข รหัสต้องมีลักษณะดังนี้\n",
    "- ต้องมีตัวอักษรภาษาอังกฤษอย่างน้อย 4 ตัว\n",
    "- รหัส 2 ตัวสุดท้ายต้องเป็นตัวเลข\n",
    "- รหัสต้องมีความยาวอย่างน้อย 6 ตัว\n",
    "ผู้ใช้ฟังก์ชันนี้สามารถระบุความยาวของรหัสที่ต้องการได้ แต่ถ้าระบุความยาวมาต่ำกว่า 6 ตัวอักษร ให้ถือว่ารหัสที่ต้องการมีความยาว 6 ตัวอักษร\n",
    "\n",
    "โจทย์ข้อนี้จำเป็นต้องนำเข้าโมดูล `random` และใช้คำสั่ง `random.choice(x)` จะสุ่มเลือกตัวอักษรที่อยู่ในสตริง `x` "
   ]
  },
  {
   "cell_type": "code",
   "execution_count": 1,
   "metadata": {
    "id": "34HMS83IaWLx"
   },
   "outputs": [],
   "source": [
    "import string, random\n",
    "def generate_password(n):\n",
    "    pass"
   ]
  },
  {
   "cell_type": "markdown",
   "metadata": {},
   "source": [
    "### ข้อ 11 - รูปอดีต\n",
    "#### 11.1 ตรวจรูปอดีต\n",
    "\n",
    "จงเขียนฟังก์ชันในการตรวจสอบว่าคำภาษาอังกฤษที่ได้รับมาเป็นกริยาที่เป็นรูปอดีต (past form) หรือไม่ โดยให้ใช้กฎง่าย ๆ ดังนี้\n",
    "\n",
    "- ห้ามขึ้นต้นด้วยตัวใหญ่ \n",
    "- ห้ามมีตัวเลขเลย และ\n",
    "- ต้องลงท้ายด้วย ed"
   ]
  },
  {
   "cell_type": "code",
   "execution_count": null,
   "metadata": {},
   "outputs": [],
   "source": [
    "def is_past_form(word):\n",
    "    \"\"\"\n",
    "    ตัวอย่าง\n",
    "    >>> is_past_form('pasted')\n",
    "    True\n",
    "    >>> is_past_form('brushed')\n",
    "    True\n",
    "    >>> is_past_form('SpotTed')\n",
    "    False\n",
    "    >>> is_past_form('ate')\n",
    "    False\n",
    "    >>> is_past_form('M34ed')\n",
    "    False\n",
    "    \"\"\"\n",
    "    return False"
   ]
  },
  {
   "cell_type": "markdown",
   "metadata": {},
   "source": [
    "#### 11.2 ออกเสียง ed\n",
    "\n",
    "คำกริยาภาษาอังกฤษที่เป็นรูปอดีตมักจะลงท้ายด้วย -ed แต่ว่า -ed จะออกเสียงออกมาเป็นอย่างไรนั้นขึ้นอยู่กับพยัญชนะที่อยู่ข้างหลังสุดของหน่วยคำกริยา  โดยมีกฎดังนี้\n",
    "\n",
    "1. กริยาที่ลงท้ายด้วย s sh ถ้าเปลี่ยนเป็นรูปอดีตโดยการเติม -ed จะออกเสียงเป็น /t/  \n",
    "2. กริยาที่ลงท้ายด้วย t d ถ้าเปลี่ยนเป็นรูปอดีตโดยการเติม -ed จะออกเสียงเป็น /id/\n",
    "3. กริยาอื่น ๆ ที่เหลือ ถ้าเปลี่ยนเป็นรูปอดีตโดยการเติม -ed จะออกเสียงเป็น /d/\n",
    "\n",
    "**ตัวอย่าง**\n",
    "\n",
    "- crashed → /t/\n",
    "- missed → /t/\n",
    "- wanted → /id/\n",
    "- reminded → /id/\n",
    "- scrubbed → /d/\n",
    "- tuned → /d/\n",
    "\n",
    "จงเขียนฟังก์ชันที่รับคำภาษาอังกฤษเป็นพารามิเตอร์ และคืนค่าสตริงที่บอกว่า -ed ออกเสียงเป็นอะไร (สำหรับกฎข้อแรก ไม่ต้องคำนึงถึงคำที่ลงท้ายด้วย k p ch x gh z)  ถ้าคำที่รับมาไม่ใช่รูปอดีต (ตามที่กำหนดไว้ในฟังก์ชันจาก 11.1) ให้คืนค่าเป็นสตริงเปล่า \n"
   ]
  },
  {
   "cell_type": "code",
   "execution_count": null,
   "metadata": {},
   "outputs": [],
   "source": [
    "def pronounce_ed(word):\n",
    "    \"\"\"\n",
    "    ตัวอย่าง\n",
    "    >>> pronounce_ed('SpotTed')\n",
    "    ''\n",
    "    >>> pronounce_ed('spotted')\n",
    "    '/id/'\n",
    "    >>> pronounce_ed('1254ed')\n",
    "    ''\n",
    "    >>> pronounce_ed('refreshed')\n",
    "    '/t/'\n",
    "    \"\"\"\n",
    "    return ''"
   ]
  },
  {
   "cell_type": "markdown",
   "metadata": {},
   "source": [
    "### ข้อ 12 - ชื่อย่อ\n",
    "จงเขียนฟังก์ชัน `convert_to_initials` เปลี่ยนชื่อภาษาอังกฤษเป็นชื่อย่อสองตัวอักษรโดยนำตัวอักษรพิมพ์ใหญ่ 2 ตัวในชื่อแปลงมาเป็นชื่อย่อ ทั้งนี้ถ้าชื่อนั้นมีตัวอักษรพิมพ์ใหญ่น้อยกว่า 2 ตัว หรือมากกว่า 2 ตัวจะไม่สามารถแปลงได้และคืนค่า '' และ `print` ข้อความว่า 'Please enter valid name.'"
   ]
  },
  {
   "cell_type": "code",
   "execution_count": null,
   "metadata": {},
   "outputs": [],
   "source": [
    "def initial_name(name):\n",
    "    \"\"\"\n",
    "    >>> initial_name('Mary Beth')\n",
    "    MB\n",
    "    >>> initial_name('Lara Jean')\n",
    "    LJ\n",
    "    >>> initial_name('Alexander')\n",
    "    Please enter valid name.\n",
    "    >>> initial_name('Mary McLeod')\n",
    "    Please enter valid name.\n",
    "    \"\"\"\n",
    "    return ''"
   ]
  },
  {
   "cell_type": "markdown",
   "metadata": {},
   "source": [
    "### ข้อ 13 - นับตัวสะกดแปลก\n",
    "ตัวอักษรภาษาอังกฤษนั้นมีทั้ง \"ตัวพิมพ์ใหญ่\" (uppercase) และ \"ตัวพิมพ์เล็ก\" (lowercase)\n",
    "โดยในสภาวะปกติ ตัวพิมพ์ใหญ่จะสามารถปรากฏได้เพียงตำแหน่งแรกของคำเท่านั้น\n",
    "จงเขียนฟังก์ชันชื่อ `count_anomalies` ที่รับพารามิเตอร์เป็นสตริง 1 ตัว\n",
    "แล้วคืนค่าจำนวนตัวอักษรพิมพ์ใหญ่ที่ปรากฏในตำแหน่งอื่น ๆ นอกเหนือจากตำแหน่งเริ่มต้น\n",
    "โดยสตริงที่เป็นอินพุตประกอบไปด้วยตัวอักษรอังกฤษเท่านั้นและจะไม่มีช่องว่างอยู่ภายใน"
   ]
  },
  {
   "cell_type": "code",
   "execution_count": null,
   "metadata": {},
   "outputs": [],
   "source": [
    "def count_anomalies(word):\n",
    "    \"\"\"\n",
    "    ตัวอย่าง input และ output ที่ถูกต้อง:\n",
    "    >>> num_anomalies(\"Hello\")\n",
    "    0\n",
    "    >>> num_anomalies(\"hello\")\n",
    "    0\n",
    "    >>> num_anomalies(\"hEllo\")\n",
    "    1\n",
    "    >>> num_anomalies(\"HeLLo\")\n",
    "    2\n",
    "    >>> num_anomalies(\"hELLo\")\n",
    "    3\n",
    "    >>> num_anomalies(\"HELLO\")\n",
    "    4\n",
    "    \"\"\"\n",
    "    return 0"
   ]
  }
 ],
 "metadata": {
  "colab": {
   "collapsed_sections": [],
   "name": "PC4 Strings.ipynb",
   "provenance": []
  },
  "kernelspec": {
   "display_name": "Python 3.8.12",
   "language": "python",
   "name": "python3"
  },
  "language_info": {
   "codemirror_mode": {
    "name": "ipython",
    "version": 3
   },
   "file_extension": ".py",
   "mimetype": "text/x-python",
   "name": "python",
   "nbconvert_exporter": "python",
   "pygments_lexer": "ipython3",
   "version": "3.8.12"
  },
  "vscode": {
   "interpreter": {
    "hash": "34368ba4908ea1be08ba769dfb7764ab7f8ead2384ebb5604cb86637573696f7"
   }
  }
 },
 "nbformat": 4,
 "nbformat_minor": 4
}
