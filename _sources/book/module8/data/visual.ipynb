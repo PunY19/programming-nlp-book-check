{
 "cells": [
  {
   "cell_type": "code",
   "execution_count": 7,
   "metadata": {},
   "outputs": [],
   "source": [
    "import pandas as pd"
   ]
  },
  {
   "cell_type": "code",
   "execution_count": 8,
   "metadata": {},
   "outputs": [],
   "source": [
    "mydata = pd.DataFrame(\n",
    "    [{'student name': 'pang', 'age': 20,'graduated': True}, \n",
    "     {'student name': 'dream', 'age': 19, 'graduated': False},\n",
    "     {'student name':'tangmay', 'age': 19, 'graduated': True},\n",
    "    ]\n",
    ")"
   ]
  },
  {
   "cell_type": "code",
   "execution_count": 9,
   "metadata": {},
   "outputs": [
    {
     "data": {
      "text/plain": [
       "0     True\n",
       "1    False\n",
       "2     True\n",
       "Name: graduated, dtype: bool"
      ]
     },
     "execution_count": 9,
     "metadata": {},
     "output_type": "execute_result"
    }
   ],
   "source": [
    "mydata.graduated"
   ]
  },
  {
   "cell_type": "code",
   "execution_count": 10,
   "metadata": {},
   "outputs": [],
   "source": [
    "from zipfile import ZipFile\n",
    "import os\n",
    "\n",
    "# Define the path to the uploaded zip file and the extraction directory\n",
    "zip_file_path = '../../module7/data/Airline_review.csv.zip'\n",
    "\n",
    "# Read the csv file inside the zip file without extracting the file into the file system\n",
    "import pandas as pd\n",
    "with ZipFile(zip_file_path, 'r') as zip_ref:\n",
    "    with zip_ref.open('Airline_review.csv') as file:\n",
    "        # read csv file first column is index\n",
    "        df = pd.read_csv(file, index_col=0)\n",
    "        \n"
   ]
  },
  {
   "cell_type": "code",
   "execution_count": 11,
   "metadata": {},
   "outputs": [
    {
     "data": {
      "text/plain": [
       "Caribbean Airlines     100\n",
       "GoAir                  100\n",
       "Germanwings            100\n",
       "Philippine Airlines    100\n",
       "Bangkok Airways        100\n",
       "Garuda Indonesia       100\n",
       "Batik Air              100\n",
       "Swoop                  100\n",
       "Frontier Airlines      100\n",
       "Sunwing Airlines       100\n",
       "Name: Airline Name, dtype: int64"
      ]
     },
     "execution_count": 11,
     "metadata": {},
     "output_type": "execute_result"
    }
   ],
   "source": [
    "df['Airline Name'].value_counts().head(10)"
   ]
  },
  {
   "cell_type": "code",
   "execution_count": 12,
   "metadata": {},
   "outputs": [],
   "source": [
    "df.columns = ['Airline Name', 'Rating', 'Review_Title', 'Review Date',\n",
    "       'Verified', 'Review', 'Aircraft', 'Type Of Traveller', 'Seat Type',\n",
    "       'Route', 'Date Flown', 'Seat Comfort', 'Cabin Staff Service',\n",
    "       'Food & Beverages', 'Ground Service', 'Inflight Entertainment',\n",
    "       'Wifi & Connectivity', 'Value For Money', 'Recommended']"
   ]
  },
  {
   "cell_type": "code",
   "execution_count": 13,
   "metadata": {},
   "outputs": [],
   "source": [
    "cols=['Airline Name', 'Rating', 'Seat Type', 'Verified', 'Date Flown', 'Review']\n",
    "df = df[cols]"
   ]
  },
  {
   "cell_type": "code",
   "execution_count": 14,
   "metadata": {},
   "outputs": [
    {
     "data": {
      "text/html": [
       "<div>\n",
       "<style scoped>\n",
       "    .dataframe tbody tr th:only-of-type {\n",
       "        vertical-align: middle;\n",
       "    }\n",
       "\n",
       "    .dataframe tbody tr th {\n",
       "        vertical-align: top;\n",
       "    }\n",
       "\n",
       "    .dataframe thead th {\n",
       "        text-align: right;\n",
       "    }\n",
       "</style>\n",
       "<table border=\"1\" class=\"dataframe\">\n",
       "  <thead>\n",
       "    <tr style=\"text-align: right;\">\n",
       "      <th></th>\n",
       "      <th>Airline Name</th>\n",
       "      <th>Rating</th>\n",
       "      <th>Seat Type</th>\n",
       "      <th>Verified</th>\n",
       "      <th>Date Flown</th>\n",
       "      <th>Review</th>\n",
       "    </tr>\n",
       "  </thead>\n",
       "  <tbody>\n",
       "    <tr>\n",
       "      <th>5394</th>\n",
       "      <td>Bangkok Airways</td>\n",
       "      <td>1</td>\n",
       "      <td>Economy Class</td>\n",
       "      <td>True</td>\n",
       "      <td>April 2018</td>\n",
       "      <td>Chiang Mai to Bangkok. Horrible experience w...</td>\n",
       "    </tr>\n",
       "    <tr>\n",
       "      <th>5398</th>\n",
       "      <td>Bangkok Airways</td>\n",
       "      <td>5</td>\n",
       "      <td>Economy Class</td>\n",
       "      <td>True</td>\n",
       "      <td>February 2018</td>\n",
       "      <td>Siem Reap to Bangkok Suvarnabhumi. Overall, ...</td>\n",
       "    </tr>\n",
       "    <tr>\n",
       "      <th>5347</th>\n",
       "      <td>Bangkok Airways</td>\n",
       "      <td>6</td>\n",
       "      <td>Economy Class</td>\n",
       "      <td>False</td>\n",
       "      <td>January 2020</td>\n",
       "      <td>Bangkok to Mandalay. Bangkok Airways is good...</td>\n",
       "    </tr>\n",
       "    <tr>\n",
       "      <th>5395</th>\n",
       "      <td>Bangkok Airways</td>\n",
       "      <td>8</td>\n",
       "      <td>Economy Class</td>\n",
       "      <td>True</td>\n",
       "      <td>May 2018</td>\n",
       "      <td>Connecting from Dubai to Chiang Mai. Domestic...</td>\n",
       "    </tr>\n",
       "    <tr>\n",
       "      <th>10263</th>\n",
       "      <td>Garuda Indonesia</td>\n",
       "      <td>2</td>\n",
       "      <td>Economy Class</td>\n",
       "      <td>True</td>\n",
       "      <td>December 2019</td>\n",
       "      <td>Osaka to Jakarta. More I’m using Garuda Indo...</td>\n",
       "    </tr>\n",
       "    <tr>\n",
       "      <th>10267</th>\n",
       "      <td>Garuda Indonesia</td>\n",
       "      <td>9</td>\n",
       "      <td>Business Class</td>\n",
       "      <td>True</td>\n",
       "      <td>October 2019</td>\n",
       "      <td>Jakarta to YogyakartaFlying on Garuda Busine...</td>\n",
       "    </tr>\n",
       "    <tr>\n",
       "      <th>10216</th>\n",
       "      <td>Garuda Indonesia</td>\n",
       "      <td>1</td>\n",
       "      <td>First Class</td>\n",
       "      <td>True</td>\n",
       "      <td>June 2022</td>\n",
       "      <td>My family and I flew on Garuda Indonesia on ...</td>\n",
       "    </tr>\n",
       "    <tr>\n",
       "      <th>16019</th>\n",
       "      <td>Philippine Airlines</td>\n",
       "      <td>1</td>\n",
       "      <td>Economy Class</td>\n",
       "      <td>True</td>\n",
       "      <td>November 2022</td>\n",
       "      <td>The only airline that provides a direct flig...</td>\n",
       "    </tr>\n",
       "    <tr>\n",
       "      <th>16023</th>\n",
       "      <td>Philippine Airlines</td>\n",
       "      <td>4</td>\n",
       "      <td>Economy Class</td>\n",
       "      <td>True</td>\n",
       "      <td>October 2022</td>\n",
       "      <td>I regularly go to PI on business trips 2x a y...</td>\n",
       "    </tr>\n",
       "    <tr>\n",
       "      <th>15972</th>\n",
       "      <td>Philippine Airlines</td>\n",
       "      <td>4</td>\n",
       "      <td>Economy Class</td>\n",
       "      <td>False</td>\n",
       "      <td>May 2023</td>\n",
       "      <td>I just had bad flight because there was no AC...</td>\n",
       "    </tr>\n",
       "  </tbody>\n",
       "</table>\n",
       "</div>"
      ],
      "text/plain": [
       "              Airline Name Rating       Seat Type  Verified     Date Flown  \\\n",
       "5394       Bangkok Airways      1   Economy Class      True     April 2018   \n",
       "5398       Bangkok Airways      5   Economy Class      True  February 2018   \n",
       "5347       Bangkok Airways      6   Economy Class     False   January 2020   \n",
       "5395       Bangkok Airways      8   Economy Class      True       May 2018   \n",
       "10263     Garuda Indonesia      2   Economy Class      True  December 2019   \n",
       "10267     Garuda Indonesia      9  Business Class      True   October 2019   \n",
       "10216     Garuda Indonesia      1     First Class      True      June 2022   \n",
       "16019  Philippine Airlines      1   Economy Class      True  November 2022   \n",
       "16023  Philippine Airlines      4   Economy Class      True   October 2022   \n",
       "15972  Philippine Airlines      4   Economy Class     False       May 2023   \n",
       "\n",
       "                                                  Review  \n",
       "5394     Chiang Mai to Bangkok. Horrible experience w...  \n",
       "5398     Siem Reap to Bangkok Suvarnabhumi. Overall, ...  \n",
       "5347     Bangkok to Mandalay. Bangkok Airways is good...  \n",
       "5395    Connecting from Dubai to Chiang Mai. Domestic...  \n",
       "10263    Osaka to Jakarta. More I’m using Garuda Indo...  \n",
       "10267    Jakarta to YogyakartaFlying on Garuda Busine...  \n",
       "10216    My family and I flew on Garuda Indonesia on ...  \n",
       "16019    The only airline that provides a direct flig...  \n",
       "16023   I regularly go to PI on business trips 2x a y...  \n",
       "15972   I just had bad flight because there was no AC...  "
      ]
     },
     "execution_count": 14,
     "metadata": {},
     "output_type": "execute_result"
    }
   ],
   "source": [
    "# Sample review from the data 4 from Bangkok Airways 3 from Garuda Indonesia and 3 from Phillipine Airlines and then combine them into a single dataframe\n",
    "sample_reviews = pd.concat([df[df['Airline Name'] == 'Bangkok Airways'].sample(4, random_state=1),\n",
    "                                df[df['Airline Name'] == 'Garuda Indonesia'].sample(3, random_state=1),\n",
    "                                df[df['Airline Name'] == 'Philippine Airlines'].sample(3, random_state=1)])\n",
    "sample_reviews"
   ]
  },
  {
   "cell_type": "code",
   "execution_count": 15,
   "metadata": {},
   "outputs": [],
   "source": [
    "sample_reviews.to_clipboard()"
   ]
  },
  {
   "cell_type": "code",
   "execution_count": null,
   "metadata": {},
   "outputs": [],
   "source": []
  },
  {
   "cell_type": "code",
   "execution_count": null,
   "metadata": {},
   "outputs": [],
   "source": []
  }
 ],
 "metadata": {
  "kernelspec": {
   "display_name": "base",
   "language": "python",
   "name": "python3"
  },
  "language_info": {
   "codemirror_mode": {
    "name": "ipython",
    "version": 3
   },
   "file_extension": ".py",
   "mimetype": "text/x-python",
   "name": "python",
   "nbconvert_exporter": "python",
   "pygments_lexer": "ipython3",
   "version": "3.11.4"
  }
 },
 "nbformat": 4,
 "nbformat_minor": 2
}
