{
 "cells": [
  {
   "cell_type": "code",
   "execution_count": 2,
   "metadata": {
    "metadata": {}
   },
   "outputs": [],
   "source": [
    "import pandas as pd"
   ]
  },
  {
   "cell_type": "code",
   "execution_count": 3,
   "metadata": {
    "metadata": {}
   },
   "outputs": [],
   "source": [
    "mydata = pd.DataFrame(\n",
    "    [{'student name': 'pang', 'age': 20,'graduated': True}, \n",
    "     {'student name': 'dream', 'age': 19, 'graduated': False},\n",
    "     {'student name':'tangmay', 'age': 19, 'graduated': True},\n",
    "    ]\n",
    ")"
   ]
  },
  {
   "cell_type": "code",
   "execution_count": 4,
   "metadata": {
    "metadata": {}
   },
   "outputs": [
    {
     "data": {
      "text/plain": [
       "0     True\n",
       "1    False\n",
       "2     True\n",
       "Name: graduated, dtype: bool"
      ]
     },
     "execution_count": 4,
     "metadata": {},
     "output_type": "execute_result"
    }
   ],
   "source": [
    "mydata.graduated"
   ]
  },
  {
   "cell_type": "code",
   "execution_count": 5,
   "metadata": {
    "metadata": {}
   },
   "outputs": [],
   "source": [
    "from zipfile import ZipFile\n",
    "import os\n",
    "\n",
    "# Define the path to the uploaded zip file and the extraction directory\n",
    "zip_file_path = '../../module7/data/Airline_review.csv.zip'\n",
    "\n",
    "# Read the csv file inside the zip file without extracting the file into the file system\n",
    "import pandas as pd\n",
    "with ZipFile(zip_file_path, 'r') as zip_ref:\n",
    "    with zip_ref.open('Airline_review.csv') as file:\n",
    "        # read csv file first column is index\n",
    "        df = pd.read_csv(file, index_col=0)\n",
    "        \n"
   ]
  },
  {
   "cell_type": "code",
   "execution_count": 6,
   "metadata": {
    "metadata": {}
   },
   "outputs": [
    {
     "data": {
      "text/plain": [
       "Caribbean Airlines     100\n",
       "GoAir                  100\n",
       "Germanwings            100\n",
       "Philippine Airlines    100\n",
       "Bangkok Airways        100\n",
       "Garuda Indonesia       100\n",
       "Batik Air              100\n",
       "Swoop                  100\n",
       "Frontier Airlines      100\n",
       "Sunwing Airlines       100\n",
       "Name: Airline Name, dtype: int64"
      ]
     },
     "execution_count": 6,
     "metadata": {},
     "output_type": "execute_result"
    }
   ],
   "source": [
    "df['Airline Name'].value_counts().head(10)"
   ]
  },
  {
   "cell_type": "code",
   "execution_count": 7,
   "metadata": {
    "metadata": {}
   },
   "outputs": [],
   "source": [
    "df.columns = ['Airline Name', 'Rating', 'Review_Title', 'Review Date',\n",
    "       'Verified', 'Review', 'Aircraft', 'Type Of Traveller', 'Seat Type',\n",
    "       'Route', 'Date Flown', 'Seat Comfort', 'Cabin Staff Service',\n",
    "       'Food & Beverages', 'Ground Service', 'Inflight Entertainment',\n",
    "       'Wifi & Connectivity', 'Value For Money', 'Recommended']"
   ]
  },
  {
   "cell_type": "code",
   "execution_count": 8,
   "metadata": {
    "metadata": {}
   },
   "outputs": [],
   "source": [
    "cols=['Airline Name', 'Rating', 'Seat Type', 'Verified', 'Date Flown', 'Review']\n",
    "df = df[cols]"
   ]
  },
  {
   "cell_type": "code",
   "execution_count": 9,
   "metadata": {
    "metadata": {}
   },
   "outputs": [
    {
     "data": {
      "text/html": [
       "<div>\n",
       "<style scoped>\n",
       "    .dataframe tbody tr th:only-of-type {\n",
       "        vertical-align: middle;\n",
       "    }\n",
       "\n",
       "    .dataframe tbody tr th {\n",
       "        vertical-align: top;\n",
       "    }\n",
       "\n",
       "    .dataframe thead th {\n",
       "        text-align: right;\n",
       "    }\n",
       "</style>\n",
       "<table border=\"1\" class=\"dataframe\">\n",
       "  <thead>\n",
       "    <tr style=\"text-align: right;\">\n",
       "      <th></th>\n",
       "      <th>Airline Name</th>\n",
       "      <th>Rating</th>\n",
       "      <th>Seat Type</th>\n",
       "      <th>Verified</th>\n",
       "      <th>Date Flown</th>\n",
       "      <th>Review</th>\n",
       "    </tr>\n",
       "  </thead>\n",
       "  <tbody>\n",
       "    <tr>\n",
       "      <th>5394</th>\n",
       "      <td>Bangkok Airways</td>\n",
       "      <td>1</td>\n",
       "      <td>Economy Class</td>\n",
       "      <td>True</td>\n",
       "      <td>April 2018</td>\n",
       "      <td>Chiang Mai to Bangkok. Horrible experience w...</td>\n",
       "    </tr>\n",
       "    <tr>\n",
       "      <th>5398</th>\n",
       "      <td>Bangkok Airways</td>\n",
       "      <td>5</td>\n",
       "      <td>Economy Class</td>\n",
       "      <td>True</td>\n",
       "      <td>February 2018</td>\n",
       "      <td>Siem Reap to Bangkok Suvarnabhumi. Overall, ...</td>\n",
       "    </tr>\n",
       "    <tr>\n",
       "      <th>5347</th>\n",
       "      <td>Bangkok Airways</td>\n",
       "      <td>6</td>\n",
       "      <td>Economy Class</td>\n",
       "      <td>False</td>\n",
       "      <td>January 2020</td>\n",
       "      <td>Bangkok to Mandalay. Bangkok Airways is good...</td>\n",
       "    </tr>\n",
       "    <tr>\n",
       "      <th>5395</th>\n",
       "      <td>Bangkok Airways</td>\n",
       "      <td>8</td>\n",
       "      <td>Economy Class</td>\n",
       "      <td>True</td>\n",
       "      <td>May 2018</td>\n",
       "      <td>Connecting from Dubai to Chiang Mai. Domestic...</td>\n",
       "    </tr>\n",
       "    <tr>\n",
       "      <th>10263</th>\n",
       "      <td>Garuda Indonesia</td>\n",
       "      <td>2</td>\n",
       "      <td>Economy Class</td>\n",
       "      <td>True</td>\n",
       "      <td>December 2019</td>\n",
       "      <td>Osaka to Jakarta. More I’m using Garuda Indo...</td>\n",
       "    </tr>\n",
       "    <tr>\n",
       "      <th>10267</th>\n",
       "      <td>Garuda Indonesia</td>\n",
       "      <td>9</td>\n",
       "      <td>Business Class</td>\n",
       "      <td>True</td>\n",
       "      <td>October 2019</td>\n",
       "      <td>Jakarta to YogyakartaFlying on Garuda Busine...</td>\n",
       "    </tr>\n",
       "    <tr>\n",
       "      <th>10216</th>\n",
       "      <td>Garuda Indonesia</td>\n",
       "      <td>1</td>\n",
       "      <td>First Class</td>\n",
       "      <td>True</td>\n",
       "      <td>June 2022</td>\n",
       "      <td>My family and I flew on Garuda Indonesia on ...</td>\n",
       "    </tr>\n",
       "    <tr>\n",
       "      <th>16019</th>\n",
       "      <td>Philippine Airlines</td>\n",
       "      <td>1</td>\n",
       "      <td>Economy Class</td>\n",
       "      <td>True</td>\n",
       "      <td>November 2022</td>\n",
       "      <td>The only airline that provides a direct flig...</td>\n",
       "    </tr>\n",
       "    <tr>\n",
       "      <th>16023</th>\n",
       "      <td>Philippine Airlines</td>\n",
       "      <td>4</td>\n",
       "      <td>Economy Class</td>\n",
       "      <td>True</td>\n",
       "      <td>October 2022</td>\n",
       "      <td>I regularly go to PI on business trips 2x a y...</td>\n",
       "    </tr>\n",
       "    <tr>\n",
       "      <th>15972</th>\n",
       "      <td>Philippine Airlines</td>\n",
       "      <td>4</td>\n",
       "      <td>Economy Class</td>\n",
       "      <td>False</td>\n",
       "      <td>May 2023</td>\n",
       "      <td>I just had bad flight because there was no AC...</td>\n",
       "    </tr>\n",
       "  </tbody>\n",
       "</table>\n",
       "</div>"
      ],
      "text/plain": [
       "              Airline Name Rating       Seat Type  Verified     Date Flown  \\\n",
       "5394       Bangkok Airways      1   Economy Class      True     April 2018   \n",
       "5398       Bangkok Airways      5   Economy Class      True  February 2018   \n",
       "5347       Bangkok Airways      6   Economy Class     False   January 2020   \n",
       "5395       Bangkok Airways      8   Economy Class      True       May 2018   \n",
       "10263     Garuda Indonesia      2   Economy Class      True  December 2019   \n",
       "10267     Garuda Indonesia      9  Business Class      True   October 2019   \n",
       "10216     Garuda Indonesia      1     First Class      True      June 2022   \n",
       "16019  Philippine Airlines      1   Economy Class      True  November 2022   \n",
       "16023  Philippine Airlines      4   Economy Class      True   October 2022   \n",
       "15972  Philippine Airlines      4   Economy Class     False       May 2023   \n",
       "\n",
       "                                                  Review  \n",
       "5394     Chiang Mai to Bangkok. Horrible experience w...  \n",
       "5398     Siem Reap to Bangkok Suvarnabhumi. Overall, ...  \n",
       "5347     Bangkok to Mandalay. Bangkok Airways is good...  \n",
       "5395    Connecting from Dubai to Chiang Mai. Domestic...  \n",
       "10263    Osaka to Jakarta. More I’m using Garuda Indo...  \n",
       "10267    Jakarta to YogyakartaFlying on Garuda Busine...  \n",
       "10216    My family and I flew on Garuda Indonesia on ...  \n",
       "16019    The only airline that provides a direct flig...  \n",
       "16023   I regularly go to PI on business trips 2x a y...  \n",
       "15972   I just had bad flight because there was no AC...  "
      ]
     },
     "execution_count": 9,
     "metadata": {},
     "output_type": "execute_result"
    }
   ],
   "source": [
    "# Sample review from the data 4 from Bangkok Airways 3 from Garuda Indonesia and 3 from Phillipine Airlines and then combine them into a single dataframe\n",
    "sample_reviews = pd.concat([df[df['Airline Name'] == 'Bangkok Airways'].sample(4, random_state=1),\n",
    "                                df[df['Airline Name'] == 'Garuda Indonesia'].sample(3, random_state=1),\n",
    "                                df[df['Airline Name'] == 'Philippine Airlines'].sample(3, random_state=1)])\n",
    "sample_reviews"
   ]
  },
  {
   "cell_type": "code",
   "execution_count": 10,
   "metadata": {
    "metadata": {}
   },
   "outputs": [],
   "source": [
    "sample_reviews.to_clipboard()"
   ]
  },
  {
   "cell_type": "code",
   "execution_count": 11,
   "metadata": {
    "metadata": {}
   },
   "outputs": [],
   "source": [
    "sample_reviews['Rating'] = sample_reviews['Rating'].astype('int')"
   ]
  },
  {
   "cell_type": "code",
   "execution_count": 12,
   "metadata": {
    "metadata": {}
   },
   "outputs": [
    {
     "data": {
      "text/plain": [
       "Airline Name    object\n",
       "Rating           int64\n",
       "Seat Type       object\n",
       "Verified          bool\n",
       "Date Flown      object\n",
       "Review          object\n",
       "dtype: object"
      ]
     },
     "execution_count": 12,
     "metadata": {},
     "output_type": "execute_result"
    }
   ],
   "source": [
    "sample_reviews.dtypes"
   ]
  },
  {
   "cell_type": "code",
   "execution_count": 13,
   "metadata": {
    "metadata": {}
   },
   "outputs": [
    {
     "data": {
      "text/html": [
       "<div>\n",
       "<style scoped>\n",
       "    .dataframe tbody tr th:only-of-type {\n",
       "        vertical-align: middle;\n",
       "    }\n",
       "\n",
       "    .dataframe tbody tr th {\n",
       "        vertical-align: top;\n",
       "    }\n",
       "\n",
       "    .dataframe thead th {\n",
       "        text-align: right;\n",
       "    }\n",
       "</style>\n",
       "<table border=\"1\" class=\"dataframe\">\n",
       "  <thead>\n",
       "    <tr style=\"text-align: right;\">\n",
       "      <th></th>\n",
       "      <th>Rating</th>\n",
       "    </tr>\n",
       "  </thead>\n",
       "  <tbody>\n",
       "    <tr>\n",
       "      <th>count</th>\n",
       "      <td>10.000000</td>\n",
       "    </tr>\n",
       "    <tr>\n",
       "      <th>mean</th>\n",
       "      <td>4.100000</td>\n",
       "    </tr>\n",
       "    <tr>\n",
       "      <th>std</th>\n",
       "      <td>2.923088</td>\n",
       "    </tr>\n",
       "    <tr>\n",
       "      <th>min</th>\n",
       "      <td>1.000000</td>\n",
       "    </tr>\n",
       "    <tr>\n",
       "      <th>25%</th>\n",
       "      <td>1.250000</td>\n",
       "    </tr>\n",
       "    <tr>\n",
       "      <th>50%</th>\n",
       "      <td>4.000000</td>\n",
       "    </tr>\n",
       "    <tr>\n",
       "      <th>75%</th>\n",
       "      <td>5.750000</td>\n",
       "    </tr>\n",
       "    <tr>\n",
       "      <th>max</th>\n",
       "      <td>9.000000</td>\n",
       "    </tr>\n",
       "  </tbody>\n",
       "</table>\n",
       "</div>"
      ],
      "text/plain": [
       "          Rating\n",
       "count  10.000000\n",
       "mean    4.100000\n",
       "std     2.923088\n",
       "min     1.000000\n",
       "25%     1.250000\n",
       "50%     4.000000\n",
       "75%     5.750000\n",
       "max     9.000000"
      ]
     },
     "execution_count": 13,
     "metadata": {},
     "output_type": "execute_result"
    }
   ],
   "source": [
    "sample_reviews.describe()"
   ]
  },
  {
   "cell_type": "code",
   "execution_count": 14,
   "metadata": {
    "metadata": {}
   },
   "outputs": [],
   "source": [
    "\n",
    "import pandas as pd\n",
    "students = [{'student name': 'pang', 'age': 20}, \n",
    "     {'student name': 'dream', 'age': 19},\n",
    "     {'student name':'tangmay', 'age': 19}\n",
    "    ]\n",
    "df = pd.DataFrame(students)"
   ]
  },
  {
   "cell_type": "code",
   "execution_count": 15,
   "metadata": {
    "metadata": {}
   },
   "outputs": [
    {
     "data": {
      "text/plain": [
       "student name    dream\n",
       "age                19\n",
       "Name: 1, dtype: object"
      ]
     },
     "execution_count": 15,
     "metadata": {},
     "output_type": "execute_result"
    }
   ],
   "source": [
    "df.loc[1]"
   ]
  },
  {
   "cell_type": "code",
   "execution_count": 16,
   "metadata": {
    "metadata": {}
   },
   "outputs": [],
   "source": [
    "airline_reviews_small = pd.read_csv('airlines-reviews-small.csv')"
   ]
  },
  {
   "cell_type": "code",
   "execution_count": 17,
   "metadata": {
    "metadata": {}
   },
   "outputs": [
    {
     "data": {
      "text/plain": [
       "Airline Name                                      Bangkok Airways\n",
       "Rating                                                          9\n",
       "Seat Type                                                 Economy\n",
       "Verified                                                     True\n",
       "Date Flown                                              June 2019\n",
       "Review          Bangkok to Koh Samui. Easy Check-In, The Bangk...\n",
       "Name: 1, dtype: object"
      ]
     },
     "execution_count": 17,
     "metadata": {},
     "output_type": "execute_result"
    }
   ],
   "source": [
    "airline_reviews_small.iloc[1]"
   ]
  },
  {
   "cell_type": "code",
   "execution_count": 18,
   "metadata": {
    "metadata": {}
   },
   "outputs": [
    {
     "data": {
      "text/plain": [
       "0    6\n",
       "1    9\n",
       "2    1\n",
       "3    9\n",
       "4    1\n",
       "5    9\n",
       "6    9\n",
       "7    8\n",
       "8    7\n",
       "9    1\n",
       "Name: Rating, dtype: int64"
      ]
     },
     "execution_count": 18,
     "metadata": {},
     "output_type": "execute_result"
    }
   ],
   "source": [
    "airline_reviews_small['Rating']"
   ]
  },
  {
   "cell_type": "code",
   "execution_count": 19,
   "metadata": {
    "metadata": {}
   },
   "outputs": [
    {
     "data": {
      "text/plain": [
       "Index(['Airline Name', 'Rating', 'Seat Type', 'Verified', 'Date Flown',\n",
       "       'Review'],\n",
       "      dtype='object')"
      ]
     },
     "execution_count": 19,
     "metadata": {},
     "output_type": "execute_result"
    }
   ],
   "source": [
    "airline_reviews_small.columns"
   ]
  },
  {
   "cell_type": "code",
   "execution_count": 20,
   "metadata": {
    "metadata": {}
   },
   "outputs": [
    {
     "data": {
      "text/plain": [
       "Airline Name    object\n",
       "Rating           int64\n",
       "Seat Type       object\n",
       "Verified          bool\n",
       "Date Flown      object\n",
       "Review          object\n",
       "dtype: object"
      ]
     },
     "execution_count": 20,
     "metadata": {},
     "output_type": "execute_result"
    }
   ],
   "source": [
    "airline_reviews_small.dtypes"
   ]
  },
  {
   "cell_type": "code",
   "execution_count": 21,
   "metadata": {
    "metadata": {}
   },
   "outputs": [],
   "source": [
    "airline_reviews_small['Rating'] = airline_reviews_small['Rating'].astype('int64')\n",
    "airline_reviews_small['Seat Type'] = airline_reviews_small['Seat Type'].astype('category')\n",
    "airline_reviews_small['Date Flown'] = pd.to_datetime(airline_reviews_small['Date Flown'])"
   ]
  },
  {
   "cell_type": "code",
   "execution_count": 22,
   "metadata": {
    "metadata": {}
   },
   "outputs": [
    {
     "data": {
      "text/plain": [
       "Airline Name            object\n",
       "Rating                   int64\n",
       "Seat Type             category\n",
       "Verified                  bool\n",
       "Date Flown      datetime64[ns]\n",
       "Review                  object\n",
       "dtype: object"
      ]
     },
     "execution_count": 22,
     "metadata": {},
     "output_type": "execute_result"
    }
   ],
   "source": [
    "airline_reviews_small.dtypes"
   ]
  },
  {
   "cell_type": "code",
   "execution_count": 23,
   "metadata": {
    "metadata": {}
   },
   "outputs": [
    {
     "data": {
      "text/plain": [
       "Airline Name    0\n",
       "Rating          0\n",
       "Seat Type       0\n",
       "Verified        0\n",
       "Date Flown      0\n",
       "Review          0\n",
       "dtype: int64"
      ]
     },
     "execution_count": 23,
     "metadata": {},
     "output_type": "execute_result"
    }
   ],
   "source": [
    "\n",
    "airline_reviews_small.isnull().sum(axis=0)"
   ]
  },
  {
   "cell_type": "code",
   "execution_count": 24,
   "metadata": {
    "metadata": {}
   },
   "outputs": [],
   "source": [
    "df_missing = pd.read_csv('airlines-reviews-small-missing.csv')"
   ]
  },
  {
   "cell_type": "code",
   "execution_count": 25,
   "metadata": {
    "metadata": {}
   },
   "outputs": [
    {
     "data": {
      "text/html": [
       "<div>\n",
       "<style scoped>\n",
       "    .dataframe tbody tr th:only-of-type {\n",
       "        vertical-align: middle;\n",
       "    }\n",
       "\n",
       "    .dataframe tbody tr th {\n",
       "        vertical-align: top;\n",
       "    }\n",
       "\n",
       "    .dataframe thead th {\n",
       "        text-align: right;\n",
       "    }\n",
       "</style>\n",
       "<table border=\"1\" class=\"dataframe\">\n",
       "  <thead>\n",
       "    <tr style=\"text-align: right;\">\n",
       "      <th></th>\n",
       "      <th>Airline Name</th>\n",
       "      <th>Rating</th>\n",
       "      <th>Seat Type</th>\n",
       "      <th>Verified</th>\n",
       "      <th>Date Flown</th>\n",
       "      <th>Review</th>\n",
       "    </tr>\n",
       "  </thead>\n",
       "  <tbody>\n",
       "    <tr>\n",
       "      <th>0</th>\n",
       "      <td>Bangkok Airways</td>\n",
       "      <td>6.0</td>\n",
       "      <td>Economy</td>\n",
       "      <td>True</td>\n",
       "      <td>March 2019</td>\n",
       "      <td>For this flight I was connecting from a flight...</td>\n",
       "    </tr>\n",
       "    <tr>\n",
       "      <th>1</th>\n",
       "      <td>Bangkok Airways</td>\n",
       "      <td>9.0</td>\n",
       "      <td>Economy</td>\n",
       "      <td>True</td>\n",
       "      <td>June 2019</td>\n",
       "      <td>Bangkok to Koh Samui. Easy Check-In, The Bangk...</td>\n",
       "    </tr>\n",
       "    <tr>\n",
       "      <th>2</th>\n",
       "      <td>Bangkok Airways</td>\n",
       "      <td>NaN</td>\n",
       "      <td>NaN</td>\n",
       "      <td>False</td>\n",
       "      <td>November 2021</td>\n",
       "      <td>I just want to thank Bangkok Airways for their...</td>\n",
       "    </tr>\n",
       "    <tr>\n",
       "      <th>3</th>\n",
       "      <td>Bangkok Airways</td>\n",
       "      <td>9.0</td>\n",
       "      <td>Economy</td>\n",
       "      <td>False</td>\n",
       "      <td>April 2020</td>\n",
       "      <td>I especially want to thank Khun Guy at Krabi A...</td>\n",
       "    </tr>\n",
       "    <tr>\n",
       "      <th>4</th>\n",
       "      <td>Garuda Indonesia</td>\n",
       "      <td>1.0</td>\n",
       "      <td>Economy</td>\n",
       "      <td>True</td>\n",
       "      <td>July 2023</td>\n",
       "      <td>Flew on GA-682 Jakarta to Sorong. I was able t...</td>\n",
       "    </tr>\n",
       "    <tr>\n",
       "      <th>5</th>\n",
       "      <td>Garuda Indonesia</td>\n",
       "      <td>9.0</td>\n",
       "      <td>Business</td>\n",
       "      <td>True</td>\n",
       "      <td>NaN</td>\n",
       "      <td>Jakarta to Sorong. Check in was straight forwa...</td>\n",
       "    </tr>\n",
       "    <tr>\n",
       "      <th>6</th>\n",
       "      <td>Garuda Indonesia</td>\n",
       "      <td>9.0</td>\n",
       "      <td>Business</td>\n",
       "      <td>True</td>\n",
       "      <td>February 2020</td>\n",
       "      <td>Flew Jakarta-Sorong on GA862 the overnight fli...</td>\n",
       "    </tr>\n",
       "    <tr>\n",
       "      <th>7</th>\n",
       "      <td>Philippine Airlines</td>\n",
       "      <td>8.0</td>\n",
       "      <td>NaN</td>\n",
       "      <td>True</td>\n",
       "      <td>April 2023</td>\n",
       "      <td>This was the second flight in 7 days with this...</td>\n",
       "    </tr>\n",
       "    <tr>\n",
       "      <th>8</th>\n",
       "      <td>Philippine Airlines</td>\n",
       "      <td>7.0</td>\n",
       "      <td>Premium Economy</td>\n",
       "      <td>False</td>\n",
       "      <td>January 2023</td>\n",
       "      <td>Got Premium economy since they were the only a...</td>\n",
       "    </tr>\n",
       "    <tr>\n",
       "      <th>9</th>\n",
       "      <td>Philippine Airlines</td>\n",
       "      <td>1.0</td>\n",
       "      <td>Economy</td>\n",
       "      <td>True</td>\n",
       "      <td>July 2023</td>\n",
       "      <td>Miserable experience: very expensive, online b...</td>\n",
       "    </tr>\n",
       "  </tbody>\n",
       "</table>\n",
       "</div>"
      ],
      "text/plain": [
       "          Airline Name  Rating        Seat Type  Verified     Date Flown  \\\n",
       "0      Bangkok Airways     6.0          Economy      True     March 2019   \n",
       "1      Bangkok Airways     9.0          Economy      True      June 2019   \n",
       "2      Bangkok Airways     NaN              NaN     False  November 2021   \n",
       "3      Bangkok Airways     9.0          Economy     False     April 2020   \n",
       "4     Garuda Indonesia     1.0          Economy      True      July 2023   \n",
       "5     Garuda Indonesia     9.0         Business      True            NaN   \n",
       "6     Garuda Indonesia     9.0         Business      True  February 2020   \n",
       "7  Philippine Airlines     8.0              NaN      True     April 2023   \n",
       "8  Philippine Airlines     7.0  Premium Economy     False   January 2023   \n",
       "9  Philippine Airlines     1.0          Economy      True      July 2023   \n",
       "\n",
       "                                              Review  \n",
       "0  For this flight I was connecting from a flight...  \n",
       "1  Bangkok to Koh Samui. Easy Check-In, The Bangk...  \n",
       "2  I just want to thank Bangkok Airways for their...  \n",
       "3  I especially want to thank Khun Guy at Krabi A...  \n",
       "4  Flew on GA-682 Jakarta to Sorong. I was able t...  \n",
       "5  Jakarta to Sorong. Check in was straight forwa...  \n",
       "6  Flew Jakarta-Sorong on GA862 the overnight fli...  \n",
       "7  This was the second flight in 7 days with this...  \n",
       "8  Got Premium economy since they were the only a...  \n",
       "9  Miserable experience: very expensive, online b...  "
      ]
     },
     "execution_count": 25,
     "metadata": {},
     "output_type": "execute_result"
    }
   ],
   "source": [
    "df_missing\n"
   ]
  },
  {
   "cell_type": "code",
   "execution_count": 26,
   "metadata": {
    "metadata": {}
   },
   "outputs": [
    {
     "data": {
      "text/plain": [
       "0    0\n",
       "1    0\n",
       "2    2\n",
       "3    0\n",
       "4    0\n",
       "5    1\n",
       "6    0\n",
       "7    1\n",
       "8    0\n",
       "9    0\n",
       "dtype: int64"
      ]
     },
     "execution_count": 26,
     "metadata": {},
     "output_type": "execute_result"
    }
   ],
   "source": [
    "df_missing.isna().sum(axis=1)"
   ]
  },
  {
   "cell_type": "code",
   "execution_count": 27,
   "metadata": {
    "metadata": {}
   },
   "outputs": [
    {
     "data": {
      "text/plain": [
       "0    False\n",
       "1    False\n",
       "2     True\n",
       "3    False\n",
       "4    False\n",
       "5     True\n",
       "6    False\n",
       "7     True\n",
       "8    False\n",
       "9    False\n",
       "dtype: bool"
      ]
     },
     "execution_count": 27,
     "metadata": {},
     "output_type": "execute_result"
    }
   ],
   "source": [
    "# how many rows miss at least one column\n",
    "df_missing.isna().any(axis=1)"
   ]
  },
  {
   "cell_type": "code",
   "execution_count": 30,
   "metadata": {},
   "outputs": [
    {
     "data": {
      "text/plain": [
       "(7, 6)"
      ]
     },
     "execution_count": 30,
     "metadata": {},
     "output_type": "execute_result"
    }
   ],
   "source": [
    "df_missing.dropna().shape"
   ]
  },
  {
   "cell_type": "code",
   "execution_count": 29,
   "metadata": {},
   "outputs": [
    {
     "data": {
      "text/plain": [
       "(8, 6)"
      ]
     },
     "execution_count": 29,
     "metadata": {},
     "output_type": "execute_result"
    }
   ],
   "source": [
    "df_missing.dropna(subset=['Rating', 'Seat Type']).shape"
   ]
  },
  {
   "cell_type": "code",
   "execution_count": 31,
   "metadata": {},
   "outputs": [
    {
     "data": {
      "text/plain": [
       "(10, 6)"
      ]
     },
     "execution_count": 31,
     "metadata": {},
     "output_type": "execute_result"
    }
   ],
   "source": [
    "df_missing.shape"
   ]
  },
  {
   "cell_type": "code",
   "execution_count": null,
   "metadata": {},
   "outputs": [],
   "source": []
  }
 ],
 "metadata": {
  "kernelspec": {
   "display_name": "base",
   "language": "python",
   "name": "python3"
  },
  "language_info": {
   "codemirror_mode": {
    "name": "ipython",
    "version": 3
   },
   "file_extension": ".py",
   "mimetype": "text/x-python",
   "name": "python",
   "nbconvert_exporter": "python",
   "pygments_lexer": "ipython3",
   "version": "3.11.4"
  }
 },
 "nbformat": 4,
 "nbformat_minor": 2
}
