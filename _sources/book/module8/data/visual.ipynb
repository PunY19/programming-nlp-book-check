{
 "cells": [
  {
   "cell_type": "code",
   "execution_count": 47,
   "metadata": {
    "metadata": {}
   },
   "outputs": [],
   "source": [
    "import pandas as pd"
   ]
  },
  {
   "cell_type": "code",
   "execution_count": 48,
   "metadata": {
    "metadata": {}
   },
   "outputs": [],
   "source": [
    "mydata = pd.DataFrame(\n",
    "    [{'student name': 'pang', 'age': 20,'graduated': True}, \n",
    "     {'student name': 'dream', 'age': 19, 'graduated': False},\n",
    "     {'student name':'tangmay', 'age': 19, 'graduated': True},\n",
    "    ]\n",
    ")"
   ]
  },
  {
   "cell_type": "code",
   "execution_count": 49,
   "metadata": {
    "metadata": {}
   },
   "outputs": [
    {
     "data": {
      "text/plain": [
       "0     True\n",
       "1    False\n",
       "2     True\n",
       "Name: graduated, dtype: bool"
      ]
     },
     "execution_count": 49,
     "metadata": {},
     "output_type": "execute_result"
    }
   ],
   "source": [
    "mydata.graduated"
   ]
  },
  {
   "cell_type": "code",
   "execution_count": 50,
   "metadata": {
    "metadata": {}
   },
   "outputs": [],
   "source": [
    "from zipfile import ZipFile\n",
    "import os\n",
    "\n",
    "# Define the path to the uploaded zip file and the extraction directory\n",
    "zip_file_path = '../../module7/data/Airline_review.csv.zip'\n",
    "\n",
    "# Read the csv file inside the zip file without extracting the file into the file system\n",
    "import pandas as pd\n",
    "with ZipFile(zip_file_path, 'r') as zip_ref:\n",
    "    with zip_ref.open('Airline_review.csv') as file:\n",
    "        # read csv file first column is index\n",
    "        df = pd.read_csv(file, index_col=0)\n",
    "        \n"
   ]
  },
  {
   "cell_type": "code",
   "execution_count": 51,
   "metadata": {
    "metadata": {}
   },
   "outputs": [
    {
     "data": {
      "text/plain": [
       "Airline Name\n",
       "Caribbean Airlines     100\n",
       "GoAir                  100\n",
       "Germanwings            100\n",
       "Philippine Airlines    100\n",
       "Bangkok Airways        100\n",
       "Garuda Indonesia       100\n",
       "Batik Air              100\n",
       "Swoop                  100\n",
       "Frontier Airlines      100\n",
       "Sunwing Airlines       100\n",
       "Name: count, dtype: int64"
      ]
     },
     "execution_count": 51,
     "metadata": {},
     "output_type": "execute_result"
    }
   ],
   "source": [
    "df['Airline Name'].value_counts().head(10)"
   ]
  },
  {
   "cell_type": "code",
   "execution_count": 52,
   "metadata": {
    "metadata": {}
   },
   "outputs": [],
   "source": [
    "df.columns = ['Airline Name', 'Rating', 'Review_Title', 'Review Date',\n",
    "       'Verified', 'Review', 'Aircraft', 'Type Of Traveller', 'Seat Type',\n",
    "       'Route', 'Date Flown', 'Seat Comfort', 'Cabin Staff Service',\n",
    "       'Food & Beverages', 'Ground Service', 'Inflight Entertainment',\n",
    "       'Wifi & Connectivity', 'Value For Money', 'Recommended']"
   ]
  },
  {
   "cell_type": "code",
   "execution_count": 53,
   "metadata": {
    "metadata": {}
   },
   "outputs": [],
   "source": [
    "cols=['Airline Name', 'Rating', 'Seat Type', 'Verified', 'Date Flown', 'Review']\n",
    "df = df[cols]"
   ]
  },
  {
   "cell_type": "code",
   "execution_count": 54,
   "metadata": {
    "metadata": {}
   },
   "outputs": [
    {
     "data": {
      "text/html": [
       "<div>\n",
       "<style scoped>\n",
       "    .dataframe tbody tr th:only-of-type {\n",
       "        vertical-align: middle;\n",
       "    }\n",
       "\n",
       "    .dataframe tbody tr th {\n",
       "        vertical-align: top;\n",
       "    }\n",
       "\n",
       "    .dataframe thead th {\n",
       "        text-align: right;\n",
       "    }\n",
       "</style>\n",
       "<table border=\"1\" class=\"dataframe\">\n",
       "  <thead>\n",
       "    <tr style=\"text-align: right;\">\n",
       "      <th></th>\n",
       "      <th>Airline Name</th>\n",
       "      <th>Rating</th>\n",
       "      <th>Seat Type</th>\n",
       "      <th>Verified</th>\n",
       "      <th>Date Flown</th>\n",
       "      <th>Review</th>\n",
       "    </tr>\n",
       "  </thead>\n",
       "  <tbody>\n",
       "    <tr>\n",
       "      <th>5394</th>\n",
       "      <td>Bangkok Airways</td>\n",
       "      <td>1</td>\n",
       "      <td>Economy Class</td>\n",
       "      <td>True</td>\n",
       "      <td>April 2018</td>\n",
       "      <td>Chiang Mai to Bangkok. Horrible experience w...</td>\n",
       "    </tr>\n",
       "    <tr>\n",
       "      <th>5398</th>\n",
       "      <td>Bangkok Airways</td>\n",
       "      <td>5</td>\n",
       "      <td>Economy Class</td>\n",
       "      <td>True</td>\n",
       "      <td>February 2018</td>\n",
       "      <td>Siem Reap to Bangkok Suvarnabhumi. Overall, ...</td>\n",
       "    </tr>\n",
       "    <tr>\n",
       "      <th>5347</th>\n",
       "      <td>Bangkok Airways</td>\n",
       "      <td>6</td>\n",
       "      <td>Economy Class</td>\n",
       "      <td>False</td>\n",
       "      <td>January 2020</td>\n",
       "      <td>Bangkok to Mandalay. Bangkok Airways is good...</td>\n",
       "    </tr>\n",
       "    <tr>\n",
       "      <th>5395</th>\n",
       "      <td>Bangkok Airways</td>\n",
       "      <td>8</td>\n",
       "      <td>Economy Class</td>\n",
       "      <td>True</td>\n",
       "      <td>May 2018</td>\n",
       "      <td>Connecting from Dubai to Chiang Mai. Domestic...</td>\n",
       "    </tr>\n",
       "    <tr>\n",
       "      <th>10263</th>\n",
       "      <td>Garuda Indonesia</td>\n",
       "      <td>2</td>\n",
       "      <td>Economy Class</td>\n",
       "      <td>True</td>\n",
       "      <td>December 2019</td>\n",
       "      <td>Osaka to Jakarta. More I’m using Garuda Indo...</td>\n",
       "    </tr>\n",
       "    <tr>\n",
       "      <th>10267</th>\n",
       "      <td>Garuda Indonesia</td>\n",
       "      <td>9</td>\n",
       "      <td>Business Class</td>\n",
       "      <td>True</td>\n",
       "      <td>October 2019</td>\n",
       "      <td>Jakarta to YogyakartaFlying on Garuda Busine...</td>\n",
       "    </tr>\n",
       "    <tr>\n",
       "      <th>10216</th>\n",
       "      <td>Garuda Indonesia</td>\n",
       "      <td>1</td>\n",
       "      <td>First Class</td>\n",
       "      <td>True</td>\n",
       "      <td>June 2022</td>\n",
       "      <td>My family and I flew on Garuda Indonesia on ...</td>\n",
       "    </tr>\n",
       "    <tr>\n",
       "      <th>16019</th>\n",
       "      <td>Philippine Airlines</td>\n",
       "      <td>1</td>\n",
       "      <td>Economy Class</td>\n",
       "      <td>True</td>\n",
       "      <td>November 2022</td>\n",
       "      <td>The only airline that provides a direct flig...</td>\n",
       "    </tr>\n",
       "    <tr>\n",
       "      <th>16023</th>\n",
       "      <td>Philippine Airlines</td>\n",
       "      <td>4</td>\n",
       "      <td>Economy Class</td>\n",
       "      <td>True</td>\n",
       "      <td>October 2022</td>\n",
       "      <td>I regularly go to PI on business trips 2x a y...</td>\n",
       "    </tr>\n",
       "    <tr>\n",
       "      <th>15972</th>\n",
       "      <td>Philippine Airlines</td>\n",
       "      <td>4</td>\n",
       "      <td>Economy Class</td>\n",
       "      <td>False</td>\n",
       "      <td>May 2023</td>\n",
       "      <td>I just had bad flight because there was no AC...</td>\n",
       "    </tr>\n",
       "  </tbody>\n",
       "</table>\n",
       "</div>"
      ],
      "text/plain": [
       "              Airline Name Rating       Seat Type  Verified     Date Flown  \\\n",
       "5394       Bangkok Airways      1   Economy Class      True     April 2018   \n",
       "5398       Bangkok Airways      5   Economy Class      True  February 2018   \n",
       "5347       Bangkok Airways      6   Economy Class     False   January 2020   \n",
       "5395       Bangkok Airways      8   Economy Class      True       May 2018   \n",
       "10263     Garuda Indonesia      2   Economy Class      True  December 2019   \n",
       "10267     Garuda Indonesia      9  Business Class      True   October 2019   \n",
       "10216     Garuda Indonesia      1     First Class      True      June 2022   \n",
       "16019  Philippine Airlines      1   Economy Class      True  November 2022   \n",
       "16023  Philippine Airlines      4   Economy Class      True   October 2022   \n",
       "15972  Philippine Airlines      4   Economy Class     False       May 2023   \n",
       "\n",
       "                                                  Review  \n",
       "5394     Chiang Mai to Bangkok. Horrible experience w...  \n",
       "5398     Siem Reap to Bangkok Suvarnabhumi. Overall, ...  \n",
       "5347     Bangkok to Mandalay. Bangkok Airways is good...  \n",
       "5395    Connecting from Dubai to Chiang Mai. Domestic...  \n",
       "10263    Osaka to Jakarta. More I’m using Garuda Indo...  \n",
       "10267    Jakarta to YogyakartaFlying on Garuda Busine...  \n",
       "10216    My family and I flew on Garuda Indonesia on ...  \n",
       "16019    The only airline that provides a direct flig...  \n",
       "16023   I regularly go to PI on business trips 2x a y...  \n",
       "15972   I just had bad flight because there was no AC...  "
      ]
     },
     "execution_count": 54,
     "metadata": {},
     "output_type": "execute_result"
    }
   ],
   "source": [
    "# Sample review from the data 4 from Bangkok Airways 3 from Garuda Indonesia and 3 from Phillipine Airlines and then combine them into a single dataframe\n",
    "sample_reviews = pd.concat([df[df['Airline Name'] == 'Bangkok Airways'].sample(4, random_state=1),\n",
    "                                df[df['Airline Name'] == 'Garuda Indonesia'].sample(3, random_state=1),\n",
    "                                df[df['Airline Name'] == 'Philippine Airlines'].sample(3, random_state=1)])\n",
    "sample_reviews"
   ]
  },
  {
   "cell_type": "code",
   "execution_count": 55,
   "metadata": {
    "metadata": {}
   },
   "outputs": [],
   "source": [
    "sample_reviews.to_clipboard()"
   ]
  },
  {
   "cell_type": "code",
   "execution_count": 56,
   "metadata": {
    "metadata": {}
   },
   "outputs": [],
   "source": [
    "sample_reviews['Rating'] = sample_reviews['Rating'].astype('int')"
   ]
  },
  {
   "cell_type": "code",
   "execution_count": 57,
   "metadata": {
    "metadata": {}
   },
   "outputs": [
    {
     "data": {
      "text/plain": [
       "Airline Name    object\n",
       "Rating           int64\n",
       "Seat Type       object\n",
       "Verified          bool\n",
       "Date Flown      object\n",
       "Review          object\n",
       "dtype: object"
      ]
     },
     "execution_count": 57,
     "metadata": {},
     "output_type": "execute_result"
    }
   ],
   "source": [
    "sample_reviews.dtypes"
   ]
  },
  {
   "cell_type": "code",
   "execution_count": 58,
   "metadata": {
    "metadata": {}
   },
   "outputs": [
    {
     "data": {
      "text/html": [
       "<div>\n",
       "<style scoped>\n",
       "    .dataframe tbody tr th:only-of-type {\n",
       "        vertical-align: middle;\n",
       "    }\n",
       "\n",
       "    .dataframe tbody tr th {\n",
       "        vertical-align: top;\n",
       "    }\n",
       "\n",
       "    .dataframe thead th {\n",
       "        text-align: right;\n",
       "    }\n",
       "</style>\n",
       "<table border=\"1\" class=\"dataframe\">\n",
       "  <thead>\n",
       "    <tr style=\"text-align: right;\">\n",
       "      <th></th>\n",
       "      <th>Rating</th>\n",
       "    </tr>\n",
       "  </thead>\n",
       "  <tbody>\n",
       "    <tr>\n",
       "      <th>count</th>\n",
       "      <td>10.000000</td>\n",
       "    </tr>\n",
       "    <tr>\n",
       "      <th>mean</th>\n",
       "      <td>4.100000</td>\n",
       "    </tr>\n",
       "    <tr>\n",
       "      <th>std</th>\n",
       "      <td>2.923088</td>\n",
       "    </tr>\n",
       "    <tr>\n",
       "      <th>min</th>\n",
       "      <td>1.000000</td>\n",
       "    </tr>\n",
       "    <tr>\n",
       "      <th>25%</th>\n",
       "      <td>1.250000</td>\n",
       "    </tr>\n",
       "    <tr>\n",
       "      <th>50%</th>\n",
       "      <td>4.000000</td>\n",
       "    </tr>\n",
       "    <tr>\n",
       "      <th>75%</th>\n",
       "      <td>5.750000</td>\n",
       "    </tr>\n",
       "    <tr>\n",
       "      <th>max</th>\n",
       "      <td>9.000000</td>\n",
       "    </tr>\n",
       "  </tbody>\n",
       "</table>\n",
       "</div>"
      ],
      "text/plain": [
       "          Rating\n",
       "count  10.000000\n",
       "mean    4.100000\n",
       "std     2.923088\n",
       "min     1.000000\n",
       "25%     1.250000\n",
       "50%     4.000000\n",
       "75%     5.750000\n",
       "max     9.000000"
      ]
     },
     "execution_count": 58,
     "metadata": {},
     "output_type": "execute_result"
    }
   ],
   "source": [
    "sample_reviews.describe()"
   ]
  },
  {
   "cell_type": "code",
   "execution_count": 59,
   "metadata": {
    "metadata": {}
   },
   "outputs": [],
   "source": [
    "\n",
    "import pandas as pd\n",
    "students = [{'student name': 'pang', 'age': 20}, \n",
    "     {'student name': 'dream', 'age': 19},\n",
    "     {'student name':'tangmay', 'age': 19}\n",
    "    ]\n",
    "df = pd.DataFrame(students)"
   ]
  },
  {
   "cell_type": "code",
   "execution_count": 60,
   "metadata": {
    "metadata": {}
   },
   "outputs": [
    {
     "data": {
      "text/plain": [
       "student name    dream\n",
       "age                19\n",
       "Name: 1, dtype: object"
      ]
     },
     "execution_count": 60,
     "metadata": {},
     "output_type": "execute_result"
    }
   ],
   "source": [
    "df.loc[1]"
   ]
  },
  {
   "cell_type": "code",
   "execution_count": 61,
   "metadata": {
    "metadata": {}
   },
   "outputs": [],
   "source": [
    "airline_reviews_small = pd.read_csv('airlines-reviews-small.csv')"
   ]
  },
  {
   "cell_type": "code",
   "execution_count": 62,
   "metadata": {
    "metadata": {}
   },
   "outputs": [
    {
     "data": {
      "text/plain": [
       "Airline Name                                      Bangkok Airways\n",
       "Rating                                                          9\n",
       "Seat Type                                                 Economy\n",
       "Verified                                                     True\n",
       "Date Flown                                              June 2019\n",
       "Review          Bangkok to Koh Samui. Easy Check-In, The Bangk...\n",
       "Name: 1, dtype: object"
      ]
     },
     "execution_count": 62,
     "metadata": {},
     "output_type": "execute_result"
    }
   ],
   "source": [
    "airline_reviews_small.iloc[1]"
   ]
  },
  {
   "cell_type": "code",
   "execution_count": 63,
   "metadata": {
    "metadata": {}
   },
   "outputs": [
    {
     "data": {
      "text/plain": [
       "0    6\n",
       "1    9\n",
       "2    1\n",
       "3    9\n",
       "4    1\n",
       "5    9\n",
       "6    9\n",
       "7    8\n",
       "8    7\n",
       "9    1\n",
       "Name: Rating, dtype: int64"
      ]
     },
     "execution_count": 63,
     "metadata": {},
     "output_type": "execute_result"
    }
   ],
   "source": [
    "airline_reviews_small['Rating']"
   ]
  },
  {
   "cell_type": "code",
   "execution_count": 64,
   "metadata": {
    "metadata": {}
   },
   "outputs": [
    {
     "data": {
      "text/plain": [
       "Index(['Airline Name', 'Rating', 'Seat Type', 'Verified', 'Date Flown',\n",
       "       'Review'],\n",
       "      dtype='object')"
      ]
     },
     "execution_count": 64,
     "metadata": {},
     "output_type": "execute_result"
    }
   ],
   "source": [
    "airline_reviews_small.columns"
   ]
  },
  {
   "cell_type": "code",
   "execution_count": 65,
   "metadata": {
    "metadata": {}
   },
   "outputs": [
    {
     "data": {
      "text/plain": [
       "Airline Name    object\n",
       "Rating           int64\n",
       "Seat Type       object\n",
       "Verified          bool\n",
       "Date Flown      object\n",
       "Review          object\n",
       "dtype: object"
      ]
     },
     "execution_count": 65,
     "metadata": {},
     "output_type": "execute_result"
    }
   ],
   "source": [
    "airline_reviews_small.dtypes"
   ]
  },
  {
   "cell_type": "code",
   "execution_count": 66,
   "metadata": {},
   "outputs": [
    {
     "data": {
      "text/html": [
       "<div>\n",
       "<style scoped>\n",
       "    .dataframe tbody tr th:only-of-type {\n",
       "        vertical-align: middle;\n",
       "    }\n",
       "\n",
       "    .dataframe tbody tr th {\n",
       "        vertical-align: top;\n",
       "    }\n",
       "\n",
       "    .dataframe thead th {\n",
       "        text-align: right;\n",
       "    }\n",
       "</style>\n",
       "<table border=\"1\" class=\"dataframe\">\n",
       "  <thead>\n",
       "    <tr style=\"text-align: right;\">\n",
       "      <th></th>\n",
       "      <th>Airline Name</th>\n",
       "      <th>Rating</th>\n",
       "      <th>Seat Type</th>\n",
       "      <th>Verified</th>\n",
       "      <th>Date Flown</th>\n",
       "      <th>Review</th>\n",
       "    </tr>\n",
       "  </thead>\n",
       "  <tbody>\n",
       "    <tr>\n",
       "      <th>0</th>\n",
       "      <td>Bangkok Airways</td>\n",
       "      <td>6</td>\n",
       "      <td>Economy</td>\n",
       "      <td>True</td>\n",
       "      <td>March 2019</td>\n",
       "      <td>For this flight I was connecting from a flight...</td>\n",
       "    </tr>\n",
       "    <tr>\n",
       "      <th>1</th>\n",
       "      <td>Bangkok Airways</td>\n",
       "      <td>9</td>\n",
       "      <td>Economy</td>\n",
       "      <td>True</td>\n",
       "      <td>June 2019</td>\n",
       "      <td>Bangkok to Koh Samui. Easy Check-In, The Bangk...</td>\n",
       "    </tr>\n",
       "  </tbody>\n",
       "</table>\n",
       "</div>"
      ],
      "text/plain": [
       "      Airline Name  Rating Seat Type  Verified  Date Flown  \\\n",
       "0  Bangkok Airways       6   Economy      True  March 2019   \n",
       "1  Bangkok Airways       9   Economy      True   June 2019   \n",
       "\n",
       "                                              Review  \n",
       "0  For this flight I was connecting from a flight...  \n",
       "1  Bangkok to Koh Samui. Easy Check-In, The Bangk...  "
      ]
     },
     "execution_count": 66,
     "metadata": {},
     "output_type": "execute_result"
    }
   ],
   "source": [
    "airline_reviews_small.head(2)"
   ]
  },
  {
   "cell_type": "code",
   "execution_count": 67,
   "metadata": {
    "metadata": {}
   },
   "outputs": [
    {
     "name": "stderr",
     "output_type": "stream",
     "text": [
      "/var/folders/j7/mgs164kx5xx37ltn1q1f2_sw0000gp/T/ipykernel_86805/586347823.py:3: UserWarning: Could not infer format, so each element will be parsed individually, falling back to `dateutil`. To ensure parsing is consistent and as-expected, please specify a format.\n",
      "  airline_reviews_small['Date Flown'] = pd.to_datetime(airline_reviews_small['Date Flown'])\n"
     ]
    }
   ],
   "source": [
    "airline_reviews_small['Rating'] = airline_reviews_small['Rating'].astype('int64')\n",
    "airline_reviews_small['Seat Type'] = airline_reviews_small['Seat Type'].astype('category')\n",
    "airline_reviews_small['Date Flown'] = pd.to_datetime(airline_reviews_small['Date Flown'])"
   ]
  },
  {
   "cell_type": "code",
   "execution_count": 68,
   "metadata": {
    "metadata": {}
   },
   "outputs": [
    {
     "data": {
      "text/plain": [
       "Airline Name            object\n",
       "Rating                   int64\n",
       "Seat Type             category\n",
       "Verified                  bool\n",
       "Date Flown      datetime64[ns]\n",
       "Review                  object\n",
       "dtype: object"
      ]
     },
     "execution_count": 68,
     "metadata": {},
     "output_type": "execute_result"
    }
   ],
   "source": [
    "airline_reviews_small.dtypes"
   ]
  },
  {
   "cell_type": "code",
   "execution_count": 69,
   "metadata": {
    "metadata": {}
   },
   "outputs": [
    {
     "data": {
      "text/plain": [
       "Airline Name    0\n",
       "Rating          0\n",
       "Seat Type       0\n",
       "Verified        0\n",
       "Date Flown      0\n",
       "Review          0\n",
       "dtype: int64"
      ]
     },
     "execution_count": 69,
     "metadata": {},
     "output_type": "execute_result"
    }
   ],
   "source": [
    "\n",
    "airline_reviews_small.isnull().sum(axis=0)"
   ]
  },
  {
   "cell_type": "code",
   "execution_count": 70,
   "metadata": {
    "metadata": {}
   },
   "outputs": [],
   "source": [
    "df_missing = pd.read_csv('airlines-reviews-small-missing.csv')"
   ]
  },
  {
   "cell_type": "code",
   "execution_count": 71,
   "metadata": {
    "metadata": {}
   },
   "outputs": [
    {
     "data": {
      "text/html": [
       "<div>\n",
       "<style scoped>\n",
       "    .dataframe tbody tr th:only-of-type {\n",
       "        vertical-align: middle;\n",
       "    }\n",
       "\n",
       "    .dataframe tbody tr th {\n",
       "        vertical-align: top;\n",
       "    }\n",
       "\n",
       "    .dataframe thead th {\n",
       "        text-align: right;\n",
       "    }\n",
       "</style>\n",
       "<table border=\"1\" class=\"dataframe\">\n",
       "  <thead>\n",
       "    <tr style=\"text-align: right;\">\n",
       "      <th></th>\n",
       "      <th>Airline Name</th>\n",
       "      <th>Rating</th>\n",
       "      <th>Seat Type</th>\n",
       "      <th>Verified</th>\n",
       "      <th>Date Flown</th>\n",
       "      <th>Review</th>\n",
       "    </tr>\n",
       "  </thead>\n",
       "  <tbody>\n",
       "    <tr>\n",
       "      <th>0</th>\n",
       "      <td>Bangkok Airways</td>\n",
       "      <td>6.0</td>\n",
       "      <td>Economy</td>\n",
       "      <td>True</td>\n",
       "      <td>March 2019</td>\n",
       "      <td>For this flight I was connecting from a flight...</td>\n",
       "    </tr>\n",
       "    <tr>\n",
       "      <th>1</th>\n",
       "      <td>Bangkok Airways</td>\n",
       "      <td>9.0</td>\n",
       "      <td>Economy</td>\n",
       "      <td>True</td>\n",
       "      <td>June 2019</td>\n",
       "      <td>Bangkok to Koh Samui. Easy Check-In, The Bangk...</td>\n",
       "    </tr>\n",
       "    <tr>\n",
       "      <th>2</th>\n",
       "      <td>Bangkok Airways</td>\n",
       "      <td>NaN</td>\n",
       "      <td>NaN</td>\n",
       "      <td>False</td>\n",
       "      <td>November 2021</td>\n",
       "      <td>I just want to thank Bangkok Airways for their...</td>\n",
       "    </tr>\n",
       "    <tr>\n",
       "      <th>3</th>\n",
       "      <td>Bangkok Airways</td>\n",
       "      <td>9.0</td>\n",
       "      <td>Economy</td>\n",
       "      <td>False</td>\n",
       "      <td>April 2020</td>\n",
       "      <td>I especially want to thank Khun Guy at Krabi A...</td>\n",
       "    </tr>\n",
       "    <tr>\n",
       "      <th>4</th>\n",
       "      <td>Garuda Indonesia</td>\n",
       "      <td>1.0</td>\n",
       "      <td>Eco</td>\n",
       "      <td>True</td>\n",
       "      <td>July 2023</td>\n",
       "      <td>Flew on GA-682 Jakarta to Sorong. I was able t...</td>\n",
       "    </tr>\n",
       "    <tr>\n",
       "      <th>5</th>\n",
       "      <td>Garuda Indonesia</td>\n",
       "      <td>9.0</td>\n",
       "      <td>Business</td>\n",
       "      <td>True</td>\n",
       "      <td>NaN</td>\n",
       "      <td>Jakarta to Sorong. Check in was straight forwa...</td>\n",
       "    </tr>\n",
       "    <tr>\n",
       "      <th>6</th>\n",
       "      <td>Garuda Indonesia</td>\n",
       "      <td>9.0</td>\n",
       "      <td>Business</td>\n",
       "      <td>True</td>\n",
       "      <td>February 2020</td>\n",
       "      <td>Flew Jakarta-Sorong on GA862 the overnight fli...</td>\n",
       "    </tr>\n",
       "    <tr>\n",
       "      <th>7</th>\n",
       "      <td>Philippine Airlines</td>\n",
       "      <td>8.0</td>\n",
       "      <td>NaN</td>\n",
       "      <td>True</td>\n",
       "      <td>April 2023</td>\n",
       "      <td>This was the second flight in 7 days with this...</td>\n",
       "    </tr>\n",
       "    <tr>\n",
       "      <th>8</th>\n",
       "      <td>Philippine Airlines</td>\n",
       "      <td>7.0</td>\n",
       "      <td>Premium Economy</td>\n",
       "      <td>False</td>\n",
       "      <td>January 2023</td>\n",
       "      <td>Got Premium economy since they were the only a...</td>\n",
       "    </tr>\n",
       "    <tr>\n",
       "      <th>9</th>\n",
       "      <td>Philippine Airlines</td>\n",
       "      <td>11.0</td>\n",
       "      <td>Economy</td>\n",
       "      <td>True</td>\n",
       "      <td>July 2023</td>\n",
       "      <td>Miserable experience: very expensive, online b...</td>\n",
       "    </tr>\n",
       "  </tbody>\n",
       "</table>\n",
       "</div>"
      ],
      "text/plain": [
       "          Airline Name  Rating        Seat Type  Verified     Date Flown  \\\n",
       "0      Bangkok Airways     6.0          Economy      True     March 2019   \n",
       "1      Bangkok Airways     9.0          Economy      True      June 2019   \n",
       "2      Bangkok Airways     NaN              NaN     False  November 2021   \n",
       "3      Bangkok Airways     9.0          Economy     False     April 2020   \n",
       "4     Garuda Indonesia     1.0              Eco      True      July 2023   \n",
       "5     Garuda Indonesia     9.0         Business      True            NaN   \n",
       "6     Garuda Indonesia     9.0         Business      True  February 2020   \n",
       "7  Philippine Airlines     8.0              NaN      True     April 2023   \n",
       "8  Philippine Airlines     7.0  Premium Economy     False   January 2023   \n",
       "9  Philippine Airlines    11.0          Economy      True      July 2023   \n",
       "\n",
       "                                              Review  \n",
       "0  For this flight I was connecting from a flight...  \n",
       "1  Bangkok to Koh Samui. Easy Check-In, The Bangk...  \n",
       "2  I just want to thank Bangkok Airways for their...  \n",
       "3  I especially want to thank Khun Guy at Krabi A...  \n",
       "4  Flew on GA-682 Jakarta to Sorong. I was able t...  \n",
       "5  Jakarta to Sorong. Check in was straight forwa...  \n",
       "6  Flew Jakarta-Sorong on GA862 the overnight fli...  \n",
       "7  This was the second flight in 7 days with this...  \n",
       "8  Got Premium economy since they were the only a...  \n",
       "9  Miserable experience: very expensive, online b...  "
      ]
     },
     "execution_count": 71,
     "metadata": {},
     "output_type": "execute_result"
    }
   ],
   "source": [
    "df_missing\n"
   ]
  },
  {
   "cell_type": "code",
   "execution_count": 72,
   "metadata": {
    "metadata": {}
   },
   "outputs": [
    {
     "data": {
      "text/plain": [
       "0    0\n",
       "1    0\n",
       "2    2\n",
       "3    0\n",
       "4    0\n",
       "5    1\n",
       "6    0\n",
       "7    1\n",
       "8    0\n",
       "9    0\n",
       "dtype: int64"
      ]
     },
     "execution_count": 72,
     "metadata": {},
     "output_type": "execute_result"
    }
   ],
   "source": [
    "df_missing.isna().sum(axis=1)"
   ]
  },
  {
   "cell_type": "code",
   "execution_count": 73,
   "metadata": {
    "metadata": {}
   },
   "outputs": [
    {
     "data": {
      "text/plain": [
       "0    False\n",
       "1    False\n",
       "2     True\n",
       "3    False\n",
       "4    False\n",
       "5     True\n",
       "6    False\n",
       "7     True\n",
       "8    False\n",
       "9    False\n",
       "dtype: bool"
      ]
     },
     "execution_count": 73,
     "metadata": {},
     "output_type": "execute_result"
    }
   ],
   "source": [
    "# how many rows miss at least one column\n",
    "df_missing.isna().any(axis=1)"
   ]
  },
  {
   "cell_type": "code",
   "execution_count": 74,
   "metadata": {},
   "outputs": [
    {
     "data": {
      "text/plain": [
       "(7, 6)"
      ]
     },
     "execution_count": 74,
     "metadata": {},
     "output_type": "execute_result"
    }
   ],
   "source": [
    "df_missing.dropna().shape"
   ]
  },
  {
   "cell_type": "code",
   "execution_count": 75,
   "metadata": {},
   "outputs": [
    {
     "data": {
      "text/plain": [
       "(8, 6)"
      ]
     },
     "execution_count": 75,
     "metadata": {},
     "output_type": "execute_result"
    }
   ],
   "source": [
    "df_missing.dropna(subset=['Rating', 'Seat Type']).shape"
   ]
  },
  {
   "cell_type": "code",
   "execution_count": 76,
   "metadata": {},
   "outputs": [
    {
     "data": {
      "text/plain": [
       "(10, 6)"
      ]
     },
     "execution_count": 76,
     "metadata": {},
     "output_type": "execute_result"
    }
   ],
   "source": [
    "df_missing.shape"
   ]
  },
  {
   "cell_type": "code",
   "execution_count": 77,
   "metadata": {},
   "outputs": [
    {
     "data": {
      "text/html": [
       "<div>\n",
       "<style scoped>\n",
       "    .dataframe tbody tr th:only-of-type {\n",
       "        vertical-align: middle;\n",
       "    }\n",
       "\n",
       "    .dataframe tbody tr th {\n",
       "        vertical-align: top;\n",
       "    }\n",
       "\n",
       "    .dataframe thead th {\n",
       "        text-align: right;\n",
       "    }\n",
       "</style>\n",
       "<table border=\"1\" class=\"dataframe\">\n",
       "  <thead>\n",
       "    <tr style=\"text-align: right;\">\n",
       "      <th></th>\n",
       "      <th>Rating</th>\n",
       "    </tr>\n",
       "  </thead>\n",
       "  <tbody>\n",
       "    <tr>\n",
       "      <th>count</th>\n",
       "      <td>9.000000</td>\n",
       "    </tr>\n",
       "    <tr>\n",
       "      <th>mean</th>\n",
       "      <td>7.666667</td>\n",
       "    </tr>\n",
       "    <tr>\n",
       "      <th>std</th>\n",
       "      <td>2.872281</td>\n",
       "    </tr>\n",
       "    <tr>\n",
       "      <th>min</th>\n",
       "      <td>1.000000</td>\n",
       "    </tr>\n",
       "    <tr>\n",
       "      <th>25%</th>\n",
       "      <td>7.000000</td>\n",
       "    </tr>\n",
       "    <tr>\n",
       "      <th>50%</th>\n",
       "      <td>9.000000</td>\n",
       "    </tr>\n",
       "    <tr>\n",
       "      <th>75%</th>\n",
       "      <td>9.000000</td>\n",
       "    </tr>\n",
       "    <tr>\n",
       "      <th>max</th>\n",
       "      <td>11.000000</td>\n",
       "    </tr>\n",
       "  </tbody>\n",
       "</table>\n",
       "</div>"
      ],
      "text/plain": [
       "          Rating\n",
       "count   9.000000\n",
       "mean    7.666667\n",
       "std     2.872281\n",
       "min     1.000000\n",
       "25%     7.000000\n",
       "50%     9.000000\n",
       "75%     9.000000\n",
       "max    11.000000"
      ]
     },
     "execution_count": 77,
     "metadata": {},
     "output_type": "execute_result"
    }
   ],
   "source": [
    "df_missing.describe()"
   ]
  },
  {
   "cell_type": "code",
   "execution_count": 78,
   "metadata": {},
   "outputs": [
    {
     "data": {
      "text/plain": [
       "Airline Name         Rating  Seat Type        Verified  Date Flown     Review                                                                                                                                                                                                                                                                                                                                                                                                                                                                                                                                                                                                                                                                                                                                                                                                                                                                                                                                                                                                                                                                                                                                                                                                                                                                                                                                          \n",
       "Bangkok Airways      6.0     Economy          True      March 2019     For this flight I was connecting from a flight from London and when originally booked there was an over 3 hour transit time, however Bangkok Airways then cancelled this flight and we were booked on an earlier flight with only a 70 minute connection time. Our flight from London arrived late due to the Pakistan airspace restrictions and although we were met by a lady from Bangkok Airways and rushed across the airport we did not make the connection as the lady was not able to use any pressure to expedite the delay at transit immigration at security. However Bangkok Airways did get us on the later flight and the 4 hours in their lounge at BKK was ok! Once on board the A320 was quite tired and the seat cushions past their best. The flight arrived on time and they managed to serve a hot drink and a pastry in the 1 hour duration. In spite of the missed connection our luggage arrived on the flight so this was good!                                                                                                                                                                                                                                                                                                                                                                                            1\n",
       "                     9.0     Economy          False     April 2020     I especially want to thank Khun Guy at Krabi Airport Ticketing Office for her perseverance and commitment as a ground handling Staff with Bangkok Airways where she gave me extreme assistance. She's a true dedicated employee. I was booked from Krabi to Bkk & connecting SQ979 to S'pore on April 5th, I realized on the day before my departure, Bangkok Airways was grounded and not taking off to Bkk and I went directly to KBV Airport on April 5th early morning hoping to book a ThaiSmile flight to BKK which was departing at 4pm that same April 5th. Somehow, with sheer luck I managed to get a seat with the kind help of Guy knowing that ThaiSmile was also fully booked and that I'm on their 1st priority list. At the same time,  Guy also made sure that I'm checked in with ThaiSmile as I need to be in Bangkok to connect my SQ flight back home to S'pore. Simultaneously she also made arrangements for Bangkok Airways Staff at Suvarnabhumi Airport to assist me for check-in with SIA knowing that it was a time-factor that I needed to check-in ASAP as my SQ Departure time was 6.30pm & ThaiSmile arrival Bkk at 5.30pm as I had to clear Customs & Immigration that will consume some time. Overall I made it for my SQ-979 check-in on time with the help of Bangkok Airways Staff at Suvarnabhumi Airport.    1\n",
       "                                              True      June 2019      Bangkok to Koh Samui. Easy Check-In, The Bangkok Lounge (available to everyone) was crowded but still comfortable and the food and refreshments options plus WiFi are a bonus. Boarded on time via a bus, but was organized and efficient. Plane left bang on time and flight was 50 mins, in this time 4 crew still managed to serve a small hot lunch with hot beverages. Aircraft was clean comfortable but quite old. There is nothing not to like about Bangkok Airways, arriving in Koh Samui bags were out in 5 mins.                                                                                                                                                                                                                                                                                                                                                                                                                                                                                                                                                                                                                                                                                                                                                                                                                        1\n",
       "Garuda Indonesia     1.0     Eco              True      July 2023      Flew on GA-682 Jakarta to Sorong. I was able to check in at the SKY Priority desk and I was quickly escorted by the Garuda PSA Team member Yudi through security and into the Lounge. Soft drinks and snacks were provided in the lounge and staff were very helpful. When it came time for boarding Yudi also escorted me to the aircraft. Thank you Yudi, much appreciated. The flight itself was an overnight flight and was quite full, however the cabin crew managed to serve a meal and soft drinks and overall, they were very helpful and engaging in the typical warm and friendly Garuda-Indonesia way. We arrived in Sorong on time, and it took approx. 15 minutes for my baggage to come out, considering that early morning in Soring is very busy as many airlines arrive with 30 minutes of each other I found this a very acceptable time to wait. Overall, another good flight on Garuda-Indonesia.                                                                                                                                                                                                                                                                                                                                                                                                                              1\n",
       "                     9.0     Business         True      February 2020  Flew Jakarta-Sorong on GA862 the overnight flight. The check-in process was fast and efficient as was the security check. The lounge was quiet as it was late evening, however snacks and soft drinks were available in several area's within the lounge. The Boarding process was controlled and the cabin crew gave a very warm welcome upon boarding. We pulled back from the gate on schedule, however we had a long taxi to the runway, however that did not impact the arrival time in Sorong. Once airborne the cabin crew offered a selection of meals, however I opted for a sandwich. Prior to landing in the cabin crew again offered snacks and warm and cold drinks. Baggage was delivered very promptly i.e. approx. 5 minutes after arrival. Overall great flight.                                                                                                                                                                                                                                                                                                                                                                                                                                                                                                                                                                   1\n",
       "Philippine Airlines  7.0     Premium Economy  False     January 2023   Got Premium economy since they were the only available seats going to Manila. The seats are premium and comfortable for the less than 2 hour flight. Food service was so so.                                                                                                                                                                                                                                                                                                                                                                                                                                                                                                                                                                                                                                                                                                                                                                                                                                                                                                                                                                                                                                                                                                                                                                        1\n",
       "                     11.0    Economy          True      July 2023      Miserable experience: very expensive, online booking guides you to purchase 20kg allowance when it is included already. Asked for refund, no help. Never again                                                                                                                                                                                                                                                                                                                                                                                                                                                                                                                                                                                                                                                                                                                                                                                                                                                                                                                                                                                                                                                                                                                                                                                      1\n",
       "Name: count, dtype: int64"
      ]
     },
     "execution_count": 78,
     "metadata": {},
     "output_type": "execute_result"
    }
   ],
   "source": [
    "df_missing.value_counts()"
   ]
  },
  {
   "cell_type": "code",
   "execution_count": 96,
   "metadata": {},
   "outputs": [
    {
     "data": {
      "text/html": [
       "<div>\n",
       "<style scoped>\n",
       "    .dataframe tbody tr th:only-of-type {\n",
       "        vertical-align: middle;\n",
       "    }\n",
       "\n",
       "    .dataframe tbody tr th {\n",
       "        vertical-align: top;\n",
       "    }\n",
       "\n",
       "    .dataframe thead th {\n",
       "        text-align: right;\n",
       "    }\n",
       "</style>\n",
       "<table border=\"1\" class=\"dataframe\">\n",
       "  <thead>\n",
       "    <tr style=\"text-align: right;\">\n",
       "      <th></th>\n",
       "      <th>Airline Name</th>\n",
       "      <th>Rating</th>\n",
       "      <th>Seat Type</th>\n",
       "      <th>Verified</th>\n",
       "      <th>Date Flown</th>\n",
       "      <th>Review</th>\n",
       "    </tr>\n",
       "  </thead>\n",
       "  <tbody>\n",
       "    <tr>\n",
       "      <th>0</th>\n",
       "      <td>Bangkok Airways</td>\n",
       "      <td>6.0</td>\n",
       "      <td>Economy</td>\n",
       "      <td>True</td>\n",
       "      <td>March 2019</td>\n",
       "      <td>For this flight I was connecting from a flight...</td>\n",
       "    </tr>\n",
       "    <tr>\n",
       "      <th>1</th>\n",
       "      <td>Bangkok Airways</td>\n",
       "      <td>9.0</td>\n",
       "      <td>Economy</td>\n",
       "      <td>True</td>\n",
       "      <td>June 2019</td>\n",
       "      <td>Bangkok to Koh Samui. Easy Check-In, The Bangk...</td>\n",
       "    </tr>\n",
       "    <tr>\n",
       "      <th>3</th>\n",
       "      <td>Bangkok Airways</td>\n",
       "      <td>9.0</td>\n",
       "      <td>Economy</td>\n",
       "      <td>False</td>\n",
       "      <td>April 2020</td>\n",
       "      <td>I especially want to thank Khun Guy at Krabi A...</td>\n",
       "    </tr>\n",
       "    <tr>\n",
       "      <th>5</th>\n",
       "      <td>Garuda Indonesia</td>\n",
       "      <td>9.0</td>\n",
       "      <td>Business</td>\n",
       "      <td>True</td>\n",
       "      <td>NaN</td>\n",
       "      <td>Jakarta to Sorong. Check in was straight forwa...</td>\n",
       "    </tr>\n",
       "    <tr>\n",
       "      <th>6</th>\n",
       "      <td>Garuda Indonesia</td>\n",
       "      <td>9.0</td>\n",
       "      <td>Business</td>\n",
       "      <td>True</td>\n",
       "      <td>February 2020</td>\n",
       "      <td>Flew Jakarta-Sorong on GA862 the overnight fli...</td>\n",
       "    </tr>\n",
       "    <tr>\n",
       "      <th>7</th>\n",
       "      <td>Philippine Airlines</td>\n",
       "      <td>8.0</td>\n",
       "      <td>NaN</td>\n",
       "      <td>True</td>\n",
       "      <td>April 2023</td>\n",
       "      <td>This was the second flight in 7 days with this...</td>\n",
       "    </tr>\n",
       "    <tr>\n",
       "      <th>8</th>\n",
       "      <td>Philippine Airlines</td>\n",
       "      <td>7.0</td>\n",
       "      <td>Premium Economy</td>\n",
       "      <td>False</td>\n",
       "      <td>January 2023</td>\n",
       "      <td>Got Premium economy since they were the only a...</td>\n",
       "    </tr>\n",
       "    <tr>\n",
       "      <th>9</th>\n",
       "      <td>Philippine Airlines</td>\n",
       "      <td>10.0</td>\n",
       "      <td>Economy</td>\n",
       "      <td>True</td>\n",
       "      <td>July 2023</td>\n",
       "      <td>Miserable experience: very expensive, online b...</td>\n",
       "    </tr>\n",
       "  </tbody>\n",
       "</table>\n",
       "</div>"
      ],
      "text/plain": [
       "          Airline Name  Rating        Seat Type  Verified     Date Flown  \\\n",
       "0      Bangkok Airways     6.0          Economy      True     March 2019   \n",
       "1      Bangkok Airways     9.0          Economy      True      June 2019   \n",
       "3      Bangkok Airways     9.0          Economy     False     April 2020   \n",
       "5     Garuda Indonesia     9.0         Business      True            NaN   \n",
       "6     Garuda Indonesia     9.0         Business      True  February 2020   \n",
       "7  Philippine Airlines     8.0              NaN      True     April 2023   \n",
       "8  Philippine Airlines     7.0  Premium Economy     False   January 2023   \n",
       "9  Philippine Airlines    10.0          Economy      True      July 2023   \n",
       "\n",
       "                                              Review  \n",
       "0  For this flight I was connecting from a flight...  \n",
       "1  Bangkok to Koh Samui. Easy Check-In, The Bangk...  \n",
       "3  I especially want to thank Khun Guy at Krabi A...  \n",
       "5  Jakarta to Sorong. Check in was straight forwa...  \n",
       "6  Flew Jakarta-Sorong on GA862 the overnight fli...  \n",
       "7  This was the second flight in 7 days with this...  \n",
       "8  Got Premium economy since they were the only a...  \n",
       "9  Miserable experience: very expensive, online b...  "
      ]
     },
     "execution_count": 96,
     "metadata": {},
     "output_type": "execute_result"
    }
   ],
   "source": [
    "df_missing.loc[df_missing['Rating'] > 5,:]"
   ]
  },
  {
   "cell_type": "code",
   "execution_count": 80,
   "metadata": {},
   "outputs": [],
   "source": [
    "df_missing.loc[df_missing['Rating'] > 10, 'Rating'] = 10"
   ]
  },
  {
   "cell_type": "code",
   "execution_count": 81,
   "metadata": {},
   "outputs": [
    {
     "name": "stderr",
     "output_type": "stream",
     "text": [
      "/var/folders/j7/mgs164kx5xx37ltn1q1f2_sw0000gp/T/ipykernel_86805/85773604.py:1: FutureWarning: ChainedAssignmentError: behaviour will change in pandas 3.0!\n",
      "You are setting values through chained assignment. Currently this works in certain cases, but when using Copy-on-Write (which will become the default behaviour in pandas 3.0) this will never work to update the original DataFrame or Series, because the intermediate object on which we are setting values will behave as a copy.\n",
      "A typical example is when you are setting values in a column of a DataFrame, like:\n",
      "\n",
      "df[\"col\"][row_indexer] = value\n",
      "\n",
      "Use `df.loc[row_indexer, \"col\"] = values` instead, to perform the assignment in a single step and ensure this keeps updating the original `df`.\n",
      "\n",
      "See the caveats in the documentation: https://pandas.pydata.org/pandas-docs/stable/user_guide/indexing.html#returning-a-view-versus-a-copy\n",
      "\n",
      "  df_missing['Rating'][df_missing['Rating'] > 10] = 10\n",
      "/var/folders/j7/mgs164kx5xx37ltn1q1f2_sw0000gp/T/ipykernel_86805/85773604.py:1: SettingWithCopyWarning: \n",
      "A value is trying to be set on a copy of a slice from a DataFrame\n",
      "\n",
      "See the caveats in the documentation: https://pandas.pydata.org/pandas-docs/stable/user_guide/indexing.html#returning-a-view-versus-a-copy\n",
      "  df_missing['Rating'][df_missing['Rating'] > 10] = 10\n"
     ]
    }
   ],
   "source": [
    "df_missing['Rating'][df_missing['Rating'] > 10] = 10"
   ]
  },
  {
   "cell_type": "code",
   "execution_count": 82,
   "metadata": {},
   "outputs": [
    {
     "data": {
      "text/html": [
       "<div>\n",
       "<style scoped>\n",
       "    .dataframe tbody tr th:only-of-type {\n",
       "        vertical-align: middle;\n",
       "    }\n",
       "\n",
       "    .dataframe tbody tr th {\n",
       "        vertical-align: top;\n",
       "    }\n",
       "\n",
       "    .dataframe thead th {\n",
       "        text-align: right;\n",
       "    }\n",
       "</style>\n",
       "<table border=\"1\" class=\"dataframe\">\n",
       "  <thead>\n",
       "    <tr style=\"text-align: right;\">\n",
       "      <th></th>\n",
       "      <th>Rating</th>\n",
       "      <th>Review</th>\n",
       "    </tr>\n",
       "  </thead>\n",
       "  <tbody>\n",
       "    <tr>\n",
       "      <th>0</th>\n",
       "      <td>6.0</td>\n",
       "      <td>For this flight I was connecting from a flight...</td>\n",
       "    </tr>\n",
       "    <tr>\n",
       "      <th>1</th>\n",
       "      <td>9.0</td>\n",
       "      <td>Bangkok to Koh Samui. Easy Check-In, The Bangk...</td>\n",
       "    </tr>\n",
       "    <tr>\n",
       "      <th>2</th>\n",
       "      <td>NaN</td>\n",
       "      <td>I just want to thank Bangkok Airways for their...</td>\n",
       "    </tr>\n",
       "    <tr>\n",
       "      <th>3</th>\n",
       "      <td>9.0</td>\n",
       "      <td>I especially want to thank Khun Guy at Krabi A...</td>\n",
       "    </tr>\n",
       "    <tr>\n",
       "      <th>4</th>\n",
       "      <td>1.0</td>\n",
       "      <td>Flew on GA-682 Jakarta to Sorong. I was able t...</td>\n",
       "    </tr>\n",
       "    <tr>\n",
       "      <th>5</th>\n",
       "      <td>9.0</td>\n",
       "      <td>Jakarta to Sorong. Check in was straight forwa...</td>\n",
       "    </tr>\n",
       "    <tr>\n",
       "      <th>6</th>\n",
       "      <td>9.0</td>\n",
       "      <td>Flew Jakarta-Sorong on GA862 the overnight fli...</td>\n",
       "    </tr>\n",
       "    <tr>\n",
       "      <th>7</th>\n",
       "      <td>8.0</td>\n",
       "      <td>This was the second flight in 7 days with this...</td>\n",
       "    </tr>\n",
       "    <tr>\n",
       "      <th>8</th>\n",
       "      <td>7.0</td>\n",
       "      <td>Got Premium economy since they were the only a...</td>\n",
       "    </tr>\n",
       "    <tr>\n",
       "      <th>9</th>\n",
       "      <td>10.0</td>\n",
       "      <td>Miserable experience: very expensive, online b...</td>\n",
       "    </tr>\n",
       "  </tbody>\n",
       "</table>\n",
       "</div>"
      ],
      "text/plain": [
       "   Rating                                             Review\n",
       "0     6.0  For this flight I was connecting from a flight...\n",
       "1     9.0  Bangkok to Koh Samui. Easy Check-In, The Bangk...\n",
       "2     NaN  I just want to thank Bangkok Airways for their...\n",
       "3     9.0  I especially want to thank Khun Guy at Krabi A...\n",
       "4     1.0  Flew on GA-682 Jakarta to Sorong. I was able t...\n",
       "5     9.0  Jakarta to Sorong. Check in was straight forwa...\n",
       "6     9.0  Flew Jakarta-Sorong on GA862 the overnight fli...\n",
       "7     8.0  This was the second flight in 7 days with this...\n",
       "8     7.0  Got Premium economy since they were the only a...\n",
       "9    10.0  Miserable experience: very expensive, online b..."
      ]
     },
     "execution_count": 82,
     "metadata": {},
     "output_type": "execute_result"
    }
   ],
   "source": [
    "df_missing.loc[:,['Rating', 'Review']]"
   ]
  },
  {
   "cell_type": "code",
   "execution_count": 83,
   "metadata": {},
   "outputs": [
    {
     "data": {
      "text/html": [
       "<div>\n",
       "<style scoped>\n",
       "    .dataframe tbody tr th:only-of-type {\n",
       "        vertical-align: middle;\n",
       "    }\n",
       "\n",
       "    .dataframe tbody tr th {\n",
       "        vertical-align: top;\n",
       "    }\n",
       "\n",
       "    .dataframe thead th {\n",
       "        text-align: right;\n",
       "    }\n",
       "</style>\n",
       "<table border=\"1\" class=\"dataframe\">\n",
       "  <thead>\n",
       "    <tr style=\"text-align: right;\">\n",
       "      <th></th>\n",
       "      <th>Rating</th>\n",
       "      <th>Seat Type</th>\n",
       "    </tr>\n",
       "  </thead>\n",
       "  <tbody>\n",
       "    <tr>\n",
       "      <th>0</th>\n",
       "      <td>6.0</td>\n",
       "      <td>Economy</td>\n",
       "    </tr>\n",
       "    <tr>\n",
       "      <th>1</th>\n",
       "      <td>9.0</td>\n",
       "      <td>Economy</td>\n",
       "    </tr>\n",
       "    <tr>\n",
       "      <th>2</th>\n",
       "      <td>NaN</td>\n",
       "      <td>NaN</td>\n",
       "    </tr>\n",
       "    <tr>\n",
       "      <th>3</th>\n",
       "      <td>9.0</td>\n",
       "      <td>Economy</td>\n",
       "    </tr>\n",
       "    <tr>\n",
       "      <th>4</th>\n",
       "      <td>1.0</td>\n",
       "      <td>Eco</td>\n",
       "    </tr>\n",
       "    <tr>\n",
       "      <th>5</th>\n",
       "      <td>9.0</td>\n",
       "      <td>Business</td>\n",
       "    </tr>\n",
       "    <tr>\n",
       "      <th>6</th>\n",
       "      <td>9.0</td>\n",
       "      <td>Business</td>\n",
       "    </tr>\n",
       "    <tr>\n",
       "      <th>7</th>\n",
       "      <td>8.0</td>\n",
       "      <td>NaN</td>\n",
       "    </tr>\n",
       "    <tr>\n",
       "      <th>8</th>\n",
       "      <td>7.0</td>\n",
       "      <td>Premium Economy</td>\n",
       "    </tr>\n",
       "    <tr>\n",
       "      <th>9</th>\n",
       "      <td>10.0</td>\n",
       "      <td>Economy</td>\n",
       "    </tr>\n",
       "  </tbody>\n",
       "</table>\n",
       "</div>"
      ],
      "text/plain": [
       "   Rating        Seat Type\n",
       "0     6.0          Economy\n",
       "1     9.0          Economy\n",
       "2     NaN              NaN\n",
       "3     9.0          Economy\n",
       "4     1.0              Eco\n",
       "5     9.0         Business\n",
       "6     9.0         Business\n",
       "7     8.0              NaN\n",
       "8     7.0  Premium Economy\n",
       "9    10.0          Economy"
      ]
     },
     "execution_count": 83,
     "metadata": {},
     "output_type": "execute_result"
    }
   ],
   "source": [
    "df_missing.loc[:,'Rating':'Seat Type']"
   ]
  },
  {
   "cell_type": "code",
   "execution_count": 84,
   "metadata": {},
   "outputs": [
    {
     "data": {
      "text/plain": [
       "Airline Name\n",
       "Bangkok Airways        4\n",
       "Garuda Indonesia       3\n",
       "Philippine Airlines    3\n",
       "Name: count, dtype: int64"
      ]
     },
     "execution_count": 84,
     "metadata": {},
     "output_type": "execute_result"
    }
   ],
   "source": [
    "df_missing['Airline Name'].value_counts()"
   ]
  },
  {
   "cell_type": "code",
   "execution_count": 85,
   "metadata": {},
   "outputs": [
    {
     "data": {
      "text/plain": [
       "Seat Type\n",
       "Economy            4\n",
       "Business           2\n",
       "Eco                1\n",
       "Premium Economy    1\n",
       "Name: count, dtype: int64"
      ]
     },
     "execution_count": 85,
     "metadata": {},
     "output_type": "execute_result"
    }
   ],
   "source": [
    "df_missing['Seat Type'].value_counts()"
   ]
  },
  {
   "cell_type": "markdown",
   "metadata": {},
   "source": []
  },
  {
   "cell_type": "code",
   "execution_count": 98,
   "metadata": {},
   "outputs": [
    {
     "data": {
      "text/html": [
       "<div>\n",
       "<style scoped>\n",
       "    .dataframe tbody tr th:only-of-type {\n",
       "        vertical-align: middle;\n",
       "    }\n",
       "\n",
       "    .dataframe tbody tr th {\n",
       "        vertical-align: top;\n",
       "    }\n",
       "\n",
       "    .dataframe thead th {\n",
       "        text-align: right;\n",
       "    }\n",
       "</style>\n",
       "<table border=\"1\" class=\"dataframe\">\n",
       "  <thead>\n",
       "    <tr style=\"text-align: right;\">\n",
       "      <th></th>\n",
       "      <th>Airline Name</th>\n",
       "      <th>Rating</th>\n",
       "      <th>Date Flown</th>\n",
       "      <th>Review</th>\n",
       "    </tr>\n",
       "  </thead>\n",
       "  <tbody>\n",
       "    <tr>\n",
       "      <th>0</th>\n",
       "      <td>Bangkok Airways</td>\n",
       "      <td>6.0</td>\n",
       "      <td>March 2019</td>\n",
       "      <td>For this flight I was connecting from a flight...</td>\n",
       "    </tr>\n",
       "    <tr>\n",
       "      <th>1</th>\n",
       "      <td>Bangkok Airways</td>\n",
       "      <td>9.0</td>\n",
       "      <td>June 2019</td>\n",
       "      <td>Bangkok to Koh Samui. Easy Check-In, The Bangk...</td>\n",
       "    </tr>\n",
       "    <tr>\n",
       "      <th>2</th>\n",
       "      <td>Bangkok Airways</td>\n",
       "      <td>NaN</td>\n",
       "      <td>November 2021</td>\n",
       "      <td>I just want to thank Bangkok Airways for their...</td>\n",
       "    </tr>\n",
       "    <tr>\n",
       "      <th>3</th>\n",
       "      <td>Bangkok Airways</td>\n",
       "      <td>9.0</td>\n",
       "      <td>April 2020</td>\n",
       "      <td>I especially want to thank Khun Guy at Krabi A...</td>\n",
       "    </tr>\n",
       "    <tr>\n",
       "      <th>4</th>\n",
       "      <td>Garuda Indonesia</td>\n",
       "      <td>1.0</td>\n",
       "      <td>July 2023</td>\n",
       "      <td>Flew on GA-682 Jakarta to Sorong. I was able t...</td>\n",
       "    </tr>\n",
       "    <tr>\n",
       "      <th>5</th>\n",
       "      <td>Garuda Indonesia</td>\n",
       "      <td>9.0</td>\n",
       "      <td>NaN</td>\n",
       "      <td>Jakarta to Sorong. Check in was straight forwa...</td>\n",
       "    </tr>\n",
       "    <tr>\n",
       "      <th>6</th>\n",
       "      <td>Garuda Indonesia</td>\n",
       "      <td>9.0</td>\n",
       "      <td>February 2020</td>\n",
       "      <td>Flew Jakarta-Sorong on GA862 the overnight fli...</td>\n",
       "    </tr>\n",
       "    <tr>\n",
       "      <th>7</th>\n",
       "      <td>Philippine Airlines</td>\n",
       "      <td>8.0</td>\n",
       "      <td>April 2023</td>\n",
       "      <td>This was the second flight in 7 days with this...</td>\n",
       "    </tr>\n",
       "    <tr>\n",
       "      <th>8</th>\n",
       "      <td>Philippine Airlines</td>\n",
       "      <td>7.0</td>\n",
       "      <td>January 2023</td>\n",
       "      <td>Got Premium economy since they were the only a...</td>\n",
       "    </tr>\n",
       "    <tr>\n",
       "      <th>9</th>\n",
       "      <td>Philippine Airlines</td>\n",
       "      <td>10.0</td>\n",
       "      <td>July 2023</td>\n",
       "      <td>Miserable experience: very expensive, online b...</td>\n",
       "    </tr>\n",
       "  </tbody>\n",
       "</table>\n",
       "</div>"
      ],
      "text/plain": [
       "          Airline Name  Rating     Date Flown  \\\n",
       "0      Bangkok Airways     6.0     March 2019   \n",
       "1      Bangkok Airways     9.0      June 2019   \n",
       "2      Bangkok Airways     NaN  November 2021   \n",
       "3      Bangkok Airways     9.0     April 2020   \n",
       "4     Garuda Indonesia     1.0      July 2023   \n",
       "5     Garuda Indonesia     9.0            NaN   \n",
       "6     Garuda Indonesia     9.0  February 2020   \n",
       "7  Philippine Airlines     8.0     April 2023   \n",
       "8  Philippine Airlines     7.0   January 2023   \n",
       "9  Philippine Airlines    10.0      July 2023   \n",
       "\n",
       "                                              Review  \n",
       "0  For this flight I was connecting from a flight...  \n",
       "1  Bangkok to Koh Samui. Easy Check-In, The Bangk...  \n",
       "2  I just want to thank Bangkok Airways for their...  \n",
       "3  I especially want to thank Khun Guy at Krabi A...  \n",
       "4  Flew on GA-682 Jakarta to Sorong. I was able t...  \n",
       "5  Jakarta to Sorong. Check in was straight forwa...  \n",
       "6  Flew Jakarta-Sorong on GA862 the overnight fli...  \n",
       "7  This was the second flight in 7 days with this...  \n",
       "8  Got Premium economy since they were the only a...  \n",
       "9  Miserable experience: very expensive, online b...  "
      ]
     },
     "execution_count": 98,
     "metadata": {},
     "output_type": "execute_result"
    }
   ],
   "source": [
    "df_missing.drop(['Seat Type','Verified'],axis=1)"
   ]
  },
  {
   "cell_type": "code",
   "execution_count": 87,
   "metadata": {},
   "outputs": [],
   "source": [
    "import re \n",
    "def normalize(tweet):\n",
    "    # ถ้าเจอ [ก-์] สามตัวขึ้นไป ทำให้เหลือตัวเดียว\n",
    "    tweet = re.sub(r'([ก-์])\\1{2,}', r'\\1', tweet)\n",
    "    return tweet\n",
    "airline_reviews_small['Cleaned review'] = airline_reviews_small['Review'].apply(normalize)"
   ]
  },
  {
   "cell_type": "code",
   "execution_count": 89,
   "metadata": {},
   "outputs": [
    {
     "data": {
      "text/html": [
       "<div>\n",
       "<style scoped>\n",
       "    .dataframe tbody tr th:only-of-type {\n",
       "        vertical-align: middle;\n",
       "    }\n",
       "\n",
       "    .dataframe tbody tr th {\n",
       "        vertical-align: top;\n",
       "    }\n",
       "\n",
       "    .dataframe thead th {\n",
       "        text-align: right;\n",
       "    }\n",
       "</style>\n",
       "<table border=\"1\" class=\"dataframe\">\n",
       "  <thead>\n",
       "    <tr style=\"text-align: right;\">\n",
       "      <th></th>\n",
       "      <th>Airline Name</th>\n",
       "      <th>Rating</th>\n",
       "      <th>Seat Type</th>\n",
       "      <th>Verified</th>\n",
       "      <th>Date Flown</th>\n",
       "      <th>Review</th>\n",
       "      <th>Cleaned review</th>\n",
       "    </tr>\n",
       "  </thead>\n",
       "  <tbody>\n",
       "    <tr>\n",
       "      <th>0</th>\n",
       "      <td>Bangkok Airways</td>\n",
       "      <td>6</td>\n",
       "      <td>Economy</td>\n",
       "      <td>True</td>\n",
       "      <td>2019-03-01</td>\n",
       "      <td>For this flight I was connecting from a flight...</td>\n",
       "      <td>For this flight I was connecting from a flight...</td>\n",
       "    </tr>\n",
       "    <tr>\n",
       "      <th>1</th>\n",
       "      <td>Bangkok Airways</td>\n",
       "      <td>9</td>\n",
       "      <td>Economy</td>\n",
       "      <td>True</td>\n",
       "      <td>2019-06-01</td>\n",
       "      <td>Bangkok to Koh Samui. Easy Check-In, The Bangk...</td>\n",
       "      <td>Bangkok to Koh Samui. Easy Check-In, The Bangk...</td>\n",
       "    </tr>\n",
       "    <tr>\n",
       "      <th>2</th>\n",
       "      <td>Bangkok Airways</td>\n",
       "      <td>1</td>\n",
       "      <td>Economy</td>\n",
       "      <td>False</td>\n",
       "      <td>2021-11-01</td>\n",
       "      <td>I just want to thank Bangkok Airways for their...</td>\n",
       "      <td>I just want to thank Bangkok Airways for their...</td>\n",
       "    </tr>\n",
       "    <tr>\n",
       "      <th>3</th>\n",
       "      <td>Bangkok Airways</td>\n",
       "      <td>9</td>\n",
       "      <td>Economy</td>\n",
       "      <td>False</td>\n",
       "      <td>2020-04-01</td>\n",
       "      <td>I especially want to thank Khun Guy at Krabi A...</td>\n",
       "      <td>I especially want to thank Khun Guy at Krabi A...</td>\n",
       "    </tr>\n",
       "    <tr>\n",
       "      <th>4</th>\n",
       "      <td>Garuda Indonesia</td>\n",
       "      <td>1</td>\n",
       "      <td>Economy</td>\n",
       "      <td>True</td>\n",
       "      <td>2023-07-01</td>\n",
       "      <td>Flew on GA-682 Jakarta to Sorong. I was able t...</td>\n",
       "      <td>Flew on GA-682 Jakarta to Sorong. I was able t...</td>\n",
       "    </tr>\n",
       "    <tr>\n",
       "      <th>5</th>\n",
       "      <td>Garuda Indonesia</td>\n",
       "      <td>9</td>\n",
       "      <td>Business</td>\n",
       "      <td>True</td>\n",
       "      <td>2020-01-01</td>\n",
       "      <td>Jakarta to Sorong. Check in was straight forwa...</td>\n",
       "      <td>Jakarta to Sorong. Check in was straight forwa...</td>\n",
       "    </tr>\n",
       "    <tr>\n",
       "      <th>6</th>\n",
       "      <td>Garuda Indonesia</td>\n",
       "      <td>9</td>\n",
       "      <td>Business</td>\n",
       "      <td>True</td>\n",
       "      <td>2020-02-01</td>\n",
       "      <td>Flew Jakarta-Sorong on GA862 the overnight fli...</td>\n",
       "      <td>Flew Jakarta-Sorong on GA862 the overnight fli...</td>\n",
       "    </tr>\n",
       "    <tr>\n",
       "      <th>7</th>\n",
       "      <td>Philippine Airlines</td>\n",
       "      <td>8</td>\n",
       "      <td>Economy</td>\n",
       "      <td>True</td>\n",
       "      <td>2023-04-01</td>\n",
       "      <td>This was the second flight in 7 days with this...</td>\n",
       "      <td>This was the second flight in 7 days with this...</td>\n",
       "    </tr>\n",
       "    <tr>\n",
       "      <th>8</th>\n",
       "      <td>Philippine Airlines</td>\n",
       "      <td>7</td>\n",
       "      <td>Premium Economy</td>\n",
       "      <td>False</td>\n",
       "      <td>2023-01-01</td>\n",
       "      <td>Got Premium economy since they were the only a...</td>\n",
       "      <td>Got Premium economy since they were the only a...</td>\n",
       "    </tr>\n",
       "    <tr>\n",
       "      <th>9</th>\n",
       "      <td>Philippine Airlines</td>\n",
       "      <td>1</td>\n",
       "      <td>Economy</td>\n",
       "      <td>True</td>\n",
       "      <td>2023-07-01</td>\n",
       "      <td>Miserable experience: very expensive, online b...</td>\n",
       "      <td>Miserable experience: very expensive, online b...</td>\n",
       "    </tr>\n",
       "  </tbody>\n",
       "</table>\n",
       "</div>"
      ],
      "text/plain": [
       "          Airline Name  Rating        Seat Type  Verified Date Flown  \\\n",
       "0      Bangkok Airways       6          Economy      True 2019-03-01   \n",
       "1      Bangkok Airways       9          Economy      True 2019-06-01   \n",
       "2      Bangkok Airways       1          Economy     False 2021-11-01   \n",
       "3      Bangkok Airways       9          Economy     False 2020-04-01   \n",
       "4     Garuda Indonesia       1          Economy      True 2023-07-01   \n",
       "5     Garuda Indonesia       9         Business      True 2020-01-01   \n",
       "6     Garuda Indonesia       9         Business      True 2020-02-01   \n",
       "7  Philippine Airlines       8          Economy      True 2023-04-01   \n",
       "8  Philippine Airlines       7  Premium Economy     False 2023-01-01   \n",
       "9  Philippine Airlines       1          Economy      True 2023-07-01   \n",
       "\n",
       "                                              Review  \\\n",
       "0  For this flight I was connecting from a flight...   \n",
       "1  Bangkok to Koh Samui. Easy Check-In, The Bangk...   \n",
       "2  I just want to thank Bangkok Airways for their...   \n",
       "3  I especially want to thank Khun Guy at Krabi A...   \n",
       "4  Flew on GA-682 Jakarta to Sorong. I was able t...   \n",
       "5  Jakarta to Sorong. Check in was straight forwa...   \n",
       "6  Flew Jakarta-Sorong on GA862 the overnight fli...   \n",
       "7  This was the second flight in 7 days with this...   \n",
       "8  Got Premium economy since they were the only a...   \n",
       "9  Miserable experience: very expensive, online b...   \n",
       "\n",
       "                                      Cleaned review  \n",
       "0  For this flight I was connecting from a flight...  \n",
       "1  Bangkok to Koh Samui. Easy Check-In, The Bangk...  \n",
       "2  I just want to thank Bangkok Airways for their...  \n",
       "3  I especially want to thank Khun Guy at Krabi A...  \n",
       "4  Flew on GA-682 Jakarta to Sorong. I was able t...  \n",
       "5  Jakarta to Sorong. Check in was straight forwa...  \n",
       "6  Flew Jakarta-Sorong on GA862 the overnight fli...  \n",
       "7  This was the second flight in 7 days with this...  \n",
       "8  Got Premium economy since they were the only a...  \n",
       "9  Miserable experience: very expensive, online b...  "
      ]
     },
     "execution_count": 89,
     "metadata": {},
     "output_type": "execute_result"
    }
   ],
   "source": []
  },
  {
   "cell_type": "code",
   "execution_count": null,
   "metadata": {},
   "outputs": [],
   "source": []
  }
 ],
 "metadata": {
  "kernelspec": {
   "display_name": "base",
   "language": "python",
   "name": "python3"
  },
  "language_info": {
   "codemirror_mode": {
    "name": "ipython",
    "version": 3
   },
   "file_extension": ".py",
   "mimetype": "text/x-python",
   "name": "python",
   "nbconvert_exporter": "python",
   "pygments_lexer": "ipython3",
   "version": "3.11.4"
  }
 },
 "nbformat": 4,
 "nbformat_minor": 2
}
