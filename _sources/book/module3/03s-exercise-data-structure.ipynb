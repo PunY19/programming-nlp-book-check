{
 "cells": [
  {
   "cell_type": "markdown",
   "metadata": {
    "id": "6L6KUtgV3VT2"
   },
   "source": [
    "# เฉลยแบบฝึกหัด: โครงสร้างข้อมูล I\n",
    "\n",
    "## โจทย์เรื่องลิสต์"
   ]
  },
  {
   "cell_type": "markdown",
   "metadata": {},
   "source": [
    "### ข้อ 1. สลากกินแบ่ง"
   ]
  },
  {
   "cell_type": "code",
   "execution_count": 1,
   "metadata": {},
   "outputs": [],
   "source": [
    "def lottery_check(lottery_numbers, first, end2):\n",
    "    \"\"\"\n",
    "\n",
    "\tตัวอย่าง\n",
    "    >>> lottery_check(['613728'], '613728', '28')\n",
    "    [6005000, '613728']\n",
    "\n",
    "    >>> lottery_check(['382982', '428121'], '613728', '28')\n",
    "    [0]\n",
    "\n",
    "    >>> lottery_check(['382982', '417328', '012828'], '613728', '28')\n",
    "    [10000, '417328', '012828']\n",
    "\n",
    "    \"\"\"\n",
    "    prize = 0\n",
    "    winning_lotteries = []\n",
    "    for lottery in lottery_numbers:\n",
    "        # check first prize\n",
    "        if lottery == first:\n",
    "            prize = prize + 6000000\n",
    "            winning_lotteries.append(lottery)\n",
    "\n",
    "        # check last two digits\n",
    "        last_two_digits = lottery[-2:]\n",
    "        if last_two_digits == end2:\n",
    "            prize = prize + 5000\n",
    "            if lottery not in winning_lotteries:\n",
    "                winning_lotteries.append(lottery)\n",
    "    return [prize] + winning_lotteries\n",
    "    #result = [prize]\n",
    "    #result.extend(winning_lotteries)\n",
    "    #return result"
   ]
  },
  {
   "cell_type": "code",
   "execution_count": 22,
   "metadata": {},
   "outputs": [
    {
     "name": "stdout",
     "output_type": "stream",
     "text": [
      "[6005000, '613728']\n",
      "[0]\n",
      "[10000, '417328', '012828']\n"
     ]
    }
   ],
   "source": [
    "print(lottery_check(['613728'], '613728', '28'))\n",
    "# [6005000, '613728']\n",
    "\n",
    "print(lottery_check(['382982', '428121'], '613728', '28')\n",
    ")# [0]\n",
    "\n",
    "print(lottery_check(['382982', '417328', '012828'], '613728', '28')\n",
    ")# [10000, '417328', '012828']\n"
   ]
  },
  {
   "cell_type": "markdown",
   "metadata": {},
   "source": [
    "### ข้อ 2. ลิสต์อาหาร\n",
    "\n"
   ]
  },
  {
   "cell_type": "code",
   "execution_count": 21,
   "metadata": {},
   "outputs": [],
   "source": [
    "def select_ingredients(ingredients , prohibited):\n",
    "\tselect_ingredients = []\n",
    "\t# วนลูปเพื่อเข้าถึงสมาชิกแต่ละตัวในลิสต์วัตถุดิบอาหารที่เพื่อนจะทำ\n",
    "\tfor ingredient in ingredients:\n",
    "\t\t# ถ้าวัตถุดิบของอาหารนี้ไม่อยู่ในลิสต์ของวัตถุดิบที่เด็กไม่กินก็ใส่เข้าลิสต์ของวัตถุดิบที่สามารถใช้ได้\n",
    "\t\tif ingredient not in prohibited:\n",
    "\t\t\tselect_ingredients.append(ingredient)\n",
    "\treturn select_ingredients"
   ]
  },
  {
   "cell_type": "code",
   "execution_count": 18,
   "metadata": {},
   "outputs": [],
   "source": [
    "ingredients = ['คะน้า', 'กระเทียม', 'น้ำมันหอย', 'หมูกรอบ', 'น้ำปลา', 'พริกไทย', 'ปลาเค็ม']\n",
    "prohibited = ['น้ำปลา', 'กระเทียม', 'ปลาเค็ม', 'มะนาว']"
   ]
  },
  {
   "cell_type": "code",
   "execution_count": 20,
   "metadata": {},
   "outputs": [
    {
     "data": {
      "text/plain": [
       "['คะน้า', 'น้ำมันหอย', 'หมูกรอบ', 'พริกไทย']"
      ]
     },
     "execution_count": 20,
     "metadata": {},
     "output_type": "execute_result"
    }
   ],
   "source": [
    "select_ingredients(ingredients , prohibited)"
   ]
  },
  {
   "cell_type": "markdown",
   "metadata": {},
   "source": [
    "### ข้อ 3. a/an"
   ]
  },
  {
   "cell_type": "code",
   "execution_count": 2,
   "metadata": {},
   "outputs": [],
   "source": [
    "def correct_indefinite_article(sentence):\n",
    "  \"\"\"\n",
    "\tตัวอย่าง\n",
    "\t>>> correct_article('A elephant steps on an piece of wood in a forest')\n",
    "\t'An elephant steps on a piece of wood in a forest\n",
    "\t\"\"\"\n",
    "  result_list = []\n",
    "  # 1. ตัดคำ\n",
    "  words = sentence.split(' ')\n",
    "  # 2. iterate over words, using index\n",
    "  i = 0\n",
    "  while i <= (len(words) - 2):\n",
    "    word1 = words[i]\n",
    "    word2 = words[i+1]\n",
    "    # 3. check if word (word2) starts with vowel\n",
    "    first_letter = word2[0].lower()\n",
    "    # if first_letter == 'a' or first_letter == 'e' or first_letter == 'i' or first_letter == 'o' or first_letter == 'u':\n",
    "    if first_letter in 'aeiou':\n",
    "      # word2 starts with vowel\n",
    "      if word1 == 'an' or word1 == 'An':\n",
    "        pass\n",
    "      elif word1 == 'a' or word1 == 'A':\n",
    "        word1 = 'an'\n",
    "    else:\n",
    "      # word2 starts with consonant\n",
    "      if word1 == 'a' or word1 == 'A':\n",
    "        pass\n",
    "      elif word1 == 'an' or word1 == 'An':\n",
    "        word1 = 'a'\n",
    "    result_list.append(word1)\n",
    "    i = i + 1\n",
    "\n",
    "  result_list.append(words[len(words)-1])\n",
    "  result_string = ' '.join(result_list)\n",
    "  result_string = result_string.capitalize()\n",
    "\n",
    "  return result_string"
   ]
  },
  {
   "cell_type": "code",
   "execution_count": 3,
   "metadata": {},
   "outputs": [
    {
     "data": {
      "text/plain": [
       "'An elephant steps on a piece of wood in a forest'"
      ]
     },
     "execution_count": 3,
     "metadata": {},
     "output_type": "execute_result"
    }
   ],
   "source": [
    "correct_indefinite_article('A elephant steps on an piece of wood in a forest')"
   ]
  },
  {
   "cell_type": "markdown",
   "metadata": {
    "id": "JSuZnn9V3VT_"
   },
   "source": [
    "### ข้อ 4. ทำความสะอาดข้อมูล"
   ]
  },
  {
   "cell_type": "code",
   "execution_count": 4,
   "metadata": {
    "id": "5jYxwsYn3VUA"
   },
   "outputs": [],
   "source": [
    "def str_to_clean_list(text):\n",
    "  \"\"\" Turn English text into clean words\n",
    "\n",
    "\tExample:\n",
    "\t>>> str_to_clean_list(\"I will not give up on this. If I feel tired, I will take a rest.\")\n",
    "\t['I','will','not','give','up','on','this','If','I','feel','tired','I','will','take','a','rest']\n",
    "  \"\"\"\n",
    "  \"\"\"\n",
    "\tแนวทางการคิด\n",
    "\t1. ควรเอาเครื่องหมายวรรคตอนออกจากสตริงก่อน\n",
    "\t2. ใช้ method .split()\n",
    "  \"\"\"\n",
    "  # 1. remove punctutations\n",
    "  string_punc_removed = ''\n",
    "  for char in text:\n",
    "    if char in '.,!?:':\n",
    "      pass\n",
    "    else:\n",
    "      string_punc_removed = string_punc_removed + char\n",
    "\n",
    "  # 2. split\n",
    "  words = string_punc_removed.split(' ')\n",
    "  return words"
   ]
  },
  {
   "cell_type": "code",
   "execution_count": 5,
   "metadata": {},
   "outputs": [
    {
     "data": {
      "text/plain": [
       "['I',\n",
       " 'will',\n",
       " 'not',\n",
       " 'give',\n",
       " 'up',\n",
       " 'on',\n",
       " 'this',\n",
       " 'If',\n",
       " 'I',\n",
       " 'feel',\n",
       " 'tired',\n",
       " 'I',\n",
       " 'will',\n",
       " 'take',\n",
       " 'a',\n",
       " 'rest']"
      ]
     },
     "execution_count": 5,
     "metadata": {},
     "output_type": "execute_result"
    }
   ],
   "source": [
    "str_to_clean_list(\"I will not give up on this. If I feel tired, I will take a rest.\")"
   ]
  },
  {
   "cell_type": "markdown",
   "metadata": {
    "id": "GWmsiqWFmXrY"
   },
   "source": [
    "### ข้อ 5. ความยาวเฉลี่ยของคำ"
   ]
  },
  {
   "cell_type": "code",
   "execution_count": 7,
   "metadata": {
    "id": "kHhbw7tRmXra"
   },
   "outputs": [],
   "source": [
    "def compute_mean_number_of_words(text):\n",
    "  # remove punctuation and split\n",
    "  words = str_to_clean_list(text)\n",
    "\n",
    "  # วิธีที่ 1: for loop ปกติ\n",
    "  \"\"\"\n",
    "  word_length_list = []\n",
    "  for w in words:\n",
    "  word_length_list.append(len(w))\n",
    "  \"\"\"\n",
    "  # วิธีที่ 2: list comprehension\n",
    "  word_length_list = [len(w) for w in words]\n",
    "\n",
    "  # คำนวณผลรวมยาวความของคำ\n",
    "  total_word_length = sum(word_length_list)\n",
    "\n",
    "  # คำนวณค่าเฉลี่ยความยาวของคำ\n",
    "  average_word_length = total_word_length / len(words)\n",
    "  return average_word_length"
   ]
  },
  {
   "cell_type": "code",
   "execution_count": 8,
   "metadata": {},
   "outputs": [
    {
     "data": {
      "text/plain": [
       "2.875"
      ]
     },
     "execution_count": 8,
     "metadata": {},
     "output_type": "execute_result"
    }
   ],
   "source": [
    "compute_mean_number_of_words(\"I will not give up on this. If I feel tired, I will take a rest.\")"
   ]
  },
  {
   "cell_type": "markdown",
   "metadata": {
    "id": "oNFK24XW3VT7"
   },
   "source": [
    "### ข้อ 6. ตรวจข้อสอบ"
   ]
  },
  {
   "cell_type": "code",
   "execution_count": 42,
   "metadata": {
    "id": "gg2V5vgj3VT8"
   },
   "outputs": [],
   "source": [
    "def grade_exam(correct_list, answer_list):\n",
    "  \"\"\"\n",
    "    >>> check_exam(['a','b','d','a','c'], ['a','a','b','d','a'])\n",
    "    (1, [1, 0, 0, 0, 0])\n",
    "    >>> check_exam(['a','b','d','a','c'], ['a','b','d','a','c'])\n",
    "    (5, [1, 1, 1, 1, 1])\n",
    "  \"\"\"\n",
    "  i = 0\n",
    "  score = 0\n",
    "  # ใช้ while loop เพื่อให้สามารถวนลูปเข้าถึงสมาชิกของลิสต์ทั้งสองอันได้ในเวลาเดียวกันจะได้นำสมาชิกสองตัวมาเปรียบเทียบกันได้\n",
    "  while i < len(correct_list):\n",
    "      # ดึงคำตอบที่ถูกต้องและคำตอบของนักเรียนจากรายการตามลำดับ\n",
    "      correct_answer = correct_list[i]\n",
    "      student_answer = answer_list[i]\n",
    "      # เพิ่มคะแนนหากคำตอบของนักเรียนตรงกับคำตอบที่ถูกต้อง\n",
    "      if correct_answer == student_answer:\n",
    "          score += 1\n",
    "      # ไม่เพิ่มคะแนนหากคำตอบไม่ตรงกับคำตอบที่ถูกต้อง\n",
    "      else:\n",
    "          score += 0\n",
    "      i += 1\n",
    "\n",
    "  # คำนวณเปอร์เซ็นต์คะแนนที่ได้จากจำนวนคำตอบที่ถูกต้อง\n",
    "  percentage = score / len(correct_list) * 100\n",
    "  return percentage"
   ]
  },
  {
   "cell_type": "code",
   "execution_count": 40,
   "metadata": {},
   "outputs": [
    {
     "data": {
      "text/plain": [
       "20.0"
      ]
     },
     "execution_count": 40,
     "metadata": {},
     "output_type": "execute_result"
    }
   ],
   "source": [
    "grade_exam(['a','b','d','a','c'], ['a','a','b','d','a'])\n",
    "# (1, [1, 0, 0, 0, 0])"
   ]
  },
  {
   "cell_type": "code",
   "execution_count": 41,
   "metadata": {},
   "outputs": [
    {
     "data": {
      "text/plain": [
       "100.0"
      ]
     },
     "execution_count": 41,
     "metadata": {},
     "output_type": "execute_result"
    }
   ],
   "source": [
    "grade_exam(['a','b','d','a','c'], ['a','b','d','a','c'])\n",
    "# (5, [1, 1, 1, 1, 1])"
   ]
  },
  {
   "cell_type": "markdown",
   "metadata": {
    "id": "_CjTm-9P3VUG"
   },
   "source": [
    "### ข้อ 7. เปลี่ยนตัว"
   ]
  },
  {
   "cell_type": "code",
   "execution_count": 30,
   "metadata": {
    "id": "LYMD7sNQ3VUG"
   },
   "outputs": [],
   "source": [
    "# วิธีที่ 1\n",
    "def sub_name(old_guest, new_guest, guest_list):\n",
    "    # หาดัชนีของแขกเก่าใน guest_list\n",
    "    index = guest_list.index(old_guest)\n",
    "    # ลบชื่อแขกเก่าออกจาก guest_list\n",
    "    guest_list.remove(old_guest)\n",
    "    # แทรกชื่อแขกใหม่ลงใน guest_list ที่ดัชนีเดียวกับแขกเก่า\n",
    "    guest_list.insert(index, new_guest)\n"
   ]
  },
  {
   "cell_type": "code",
   "execution_count": 26,
   "metadata": {},
   "outputs": [
    {
     "name": "stdout",
     "output_type": "stream",
     "text": [
      "['Tony', 'Elan', 'Thomas', 'Bonus', 'Jane']\n"
     ]
    }
   ],
   "source": [
    "name_list = [\"Tony\", \"Elan\", \"Bee\", \"Bonus\", \"Jane\"]\n",
    "sub_name(\"Bee\", \"Thomas\", name_list)\n",
    "print(name_list)"
   ]
  },
  {
   "cell_type": "code",
   "execution_count": 29,
   "metadata": {},
   "outputs": [],
   "source": [
    "# วิธีที่ 2\n",
    "def sub_name(old_guest, new_guest, guest_list):\n",
    "    # 1. หาชื่อกับตำแหน่งของคนที่มาไม่ได้ => for loop โดยใช้ index\n",
    "    # 2. แทนชื่อของคนนั้นด้วยชื่อของคนมาได้แทน => ใช้ index ในการเปลี่ยน\n",
    "    # เช่น list = ['A', 'B', 'C'] สามารถเปลี่ยนค่าแรกของ list ได้โดย list[0] = 'D'\n",
    "\t\tfor i in range(len(guest_list)):\n",
    "\t\t\t\tif guest_list[i] == old_guest:\n",
    "\t\t\t\t\t\tguest_list[i] = new_guest\n",
    "\t\tprint(guest_list)"
   ]
  },
  {
   "cell_type": "markdown",
   "metadata": {
    "id": "LLZJUZjR3VUI"
   },
   "source": [
    "### ข้อ 8. คำนวณสถิติ"
   ]
  },
  {
   "cell_type": "code",
   "execution_count": 31,
   "metadata": {
    "id": "5eRHsEie3VUI"
   },
   "outputs": [],
   "source": [
    "# วิธีที่ 1\n",
    "def stats_summary(number_list):\n",
    "  min_stat = min(number_list)\n",
    "  max_stat = max(number_list)\n",
    "  range_stat = max_stat - min_stat\n",
    "  index_med = len(number_list) // 2\n",
    "  median = sorted(number_list)[index_med]\n",
    "  mean = sum(number_list) / len(number_list)\n",
    "  print (f'Min = {min_stat}\\nMax = {max_stat}\\nRange = {range_stat}\\nMedian = {median}\\nMean = {mean}')"
   ]
  },
  {
   "cell_type": "code",
   "execution_count": 32,
   "metadata": {},
   "outputs": [
    {
     "name": "stdout",
     "output_type": "stream",
     "text": [
      "Min = 4\n",
      "Max = 11\n",
      "Range = 7\n",
      "Median = 8\n",
      "Mean = 7.681818181818182\n"
     ]
    }
   ],
   "source": [
    "score_nlps = [6, 5, 10, 8, 7, 11, 5.5, 4, 8, 9, 11]\n",
    "stats_summary(score_nlps)\n",
    "# Min = 4\n",
    "# Max = 11\n",
    "# Range = 7\n",
    "# Median = 8\n",
    "# Mean = 7.68"
   ]
  },
  {
   "cell_type": "code",
   "execution_count": null,
   "metadata": {},
   "outputs": [],
   "source": [
    "# วิธีที่ 2\n",
    "def stats_summary(number_list):\n",
    "    sorted_list = sorted(number_list)\n",
    "    min = sorted_list[0]\n",
    "    max = sorted_list[-1]\n",
    "    range = max-min\n",
    "    median = sorted_list[len(number_list) // 2]\n",
    "    mean = sum(number_list) / len(number_list)\n",
    "    ### หรือสามารถหา mean ด้วยการ for loop อัปเดตค่าเข้าตัวแปรเรื่อย ๆ\n",
    "    summary = 0\n",
    "    for number in number_list:\n",
    "        summary += number\n",
    "    mean = summary / len(number_list)\n",
    "\n",
    "    print('Min = ', min)\n",
    "    print('Max = ' + str(max))\n",
    "    print(f'Range = {range}')\n",
    "    print(f'Median = {median}')\n",
    "    print(f'Mean = {mean}')"
   ]
  },
  {
   "cell_type": "markdown",
   "metadata": {},
   "source": [
    "### ข้อ 9. เลือกคำ"
   ]
  },
  {
   "cell_type": "code",
   "execution_count": 33,
   "metadata": {},
   "outputs": [],
   "source": [
    "# วิธีที่ 1\n",
    "def select_words_from_mask(word_list, mask_list):\n",
    "    \"\"\" Select words from a list\n",
    "\n",
    "    Example\n",
    "\n",
    "    >>> tokenized_sentence = ['She', 'went', 'to', 'eat', 'pizza', 'at', 'Huahin' ,'yesterday']\n",
    "    >>> mask = [0, 0, 0, 0, 1, 0, 1, 0]\n",
    "    >>> select_words_from_mask(tokenized_sentence, mask)\n",
    "    ['pizza', 'Huahin']\n",
    "    \"\"\"\n",
    "    \"\"\"\n",
    "    แนวทางการคิด\n",
    "    1. เช็คว่าใช่คำที่เราสนใจมั้ย\n",
    "    2. append เข้าไปในลิสต์ใหม่\n",
    "    3. return ลิสต์ใหม่\n",
    "    \"\"\"\n",
    "    result_list = []\n",
    "    for i in range(len(word_list)):\n",
    "      word = word_list[i]\n",
    "      mask = mask_list[i]\n",
    "      if mask == 0:\n",
    "        pass\n",
    "      else:\n",
    "        result_list.append(word)\n",
    "    return result_list"
   ]
  },
  {
   "cell_type": "code",
   "execution_count": 34,
   "metadata": {},
   "outputs": [
    {
     "data": {
      "text/plain": [
       "['pizza', 'Huahin']"
      ]
     },
     "execution_count": 34,
     "metadata": {},
     "output_type": "execute_result"
    }
   ],
   "source": [
    "tokenized_sentence = ['She', 'went', 'to', 'eat', 'pizza', 'at', 'Huahin' ,'yesterday']\n",
    "mask = [0, 0, 0, 0, 1, 0, 1, 0]\n",
    "select_words_from_mask(tokenized_sentence, mask)"
   ]
  },
  {
   "cell_type": "code",
   "execution_count": 35,
   "metadata": {},
   "outputs": [],
   "source": [
    "# วิธีที่ 2\n",
    "def select_words_from_mask(word_list, mask_list):\n",
    "    # create a list of interest words\n",
    "    result = []\n",
    "    for i in range(len(word_list)):\n",
    "      if mask_list[i] == 1:\n",
    "        result.append(word_list[i])\n",
    "    return result"
   ]
  },
  {
   "cell_type": "code",
   "execution_count": 36,
   "metadata": {},
   "outputs": [],
   "source": [
    "# วิธีที่ 3: for loop แบบ enumerate\n",
    "def select_words_from_mask(word_list, mask_list):\n",
    "    # create a list of interest words\n",
    "    result = []\n",
    "    for i, word in enumerate(word_list):\n",
    "      if mask_list[i] == 1:\n",
    "        result.append(word)\n",
    "    return result"
   ]
  },
  {
   "cell_type": "markdown",
   "metadata": {},
   "source": [
    "## โจทย์เรื่องดิกชันนารี"
   ]
  },
  {
   "cell_type": "markdown",
   "metadata": {},
   "source": [
    "### ข้อ 1. ตัดเกรด"
   ]
  },
  {
   "cell_type": "code",
   "execution_count": 1,
   "metadata": {},
   "outputs": [],
   "source": [
    "def assign_grades(midterm, final):\n",
    "    result_dict = {}\n",
    "\n",
    "    # หานักเรียนที่เข้าสอบกลางภาคหรือสอบปลายภาคเท่านั้น\n",
    "    for student in midterm.keys():\n",
    "        if student not in final.keys():\n",
    "            result_dict[student] = 'M'\n",
    "    for student in final.keys():\n",
    "        if student not in midterm.keys():\n",
    "            result_dict[student] = 'M'\n",
    "\n",
    "    # สำหรับนักเรียนที่เข้าสอบทั้งสองครั้ง\n",
    "    for student in midterm.keys():\n",
    "        if student in final.keys():\n",
    "            midterm_score = midterm[student]\n",
    "            final_score = final[student]\n",
    "            if midterm_score > 5 and final_score > 5:\n",
    "                result_dict[student] = 'A'\n",
    "            elif midterm_score > 5 or final_score > 5:\n",
    "                result_dict[student] = 'B'\n",
    "            elif midterm_score <= 5 and final_score <= 5:\n",
    "                result_dict[student] = 'C'\n",
    "\n",
    "    return result_dict\n"
   ]
  },
  {
   "cell_type": "code",
   "execution_count": 2,
   "metadata": {},
   "outputs": [
    {
     "data": {
      "text/plain": [
       "{'Daryl': 'M', 'Rick': 'A', 'Michonne': 'C', 'Carol': 'B'}"
      ]
     },
     "execution_count": 2,
     "metadata": {},
     "output_type": "execute_result"
    }
   ],
   "source": [
    "midterm = {'Rick': 5.5, 'Michonne': 2, 'Carol': 9, 'Daryl': 7}\n",
    "final = {'Rick': 6, 'Michonne': 5, 'Carol': 4}\n",
    "assign_grades(midterm, final)"
   ]
  },
  {
   "cell_type": "markdown",
   "metadata": {},
   "source": [
    "### ข้อ 2. Recode part 1\n"
   ]
  },
  {
   "cell_type": "code",
   "execution_count": 4,
   "metadata": {},
   "outputs": [],
   "source": [
    "def recode_word(word_list, word_to_index):\n",
    "    \"\"\"\n",
    "    This function takes a list of words and a dictionary that maps word to index\n",
    "    This function must return a tuple of (index list, updated dictionary)\n",
    "\n",
    "    ตัวอย่าง\n",
    "    >>> recode_word(['cat', 'mat', 'cat'], {'cat': 0, 'mat':1})\n",
    "    ([0, 1, 0], {'cat': 0, 'mat':1})\n",
    "\n",
    "    >>> recode_word(['cat', 'bat', 'mat', 'cat', 'eat'], {'cat': 0, 'mat':1})\n",
    "    ([0, 2, 1, 0, 3], {'cat': 0, 'mat':1, 'bat': 2, 'eat': 3})\n",
    "    \"\"\"\n",
    "    coded_word_list = []\n",
    "    for word in word_list:\n",
    "        # ตรวจสอบว่าคำอยู่ใน dict หรือไม่\n",
    "        if word in word_to_index.keys():\n",
    "            # ถ้าใช่ ใช้รหัสจาก dict\n",
    "            code = word_to_index[word]\n",
    "        else:\n",
    "            # หาค่ารหัสสูงสุดใน dict\n",
    "            max_code = max(word_to_index.values())\n",
    "            # สร้างรหัสใหม่โดยเพิ่ม 1 จากค่ารหัสสูงสุด\n",
    "            new_code = max_code + 1\n",
    "            # เพิ่มคำใหม่และรหัสใหม่เข้าใน dict\n",
    "            word_to_index[word] = new_code\n",
    "            code = word_to_index[word]\n",
    "        # เพิ่มรหัสลงในลิสต์รหัส\n",
    "        coded_word_list.append(code)\n",
    "    # คืน tuple ของรายการรหัสและ dict ที่อัปเดต\n",
    "    return (coded_word_list, word_to_index)\n"
   ]
  },
  {
   "cell_type": "code",
   "execution_count": 5,
   "metadata": {},
   "outputs": [
    {
     "data": {
      "text/plain": [
       "([0, 1, 0], {'cat': 0, 'mat': 1})"
      ]
     },
     "execution_count": 5,
     "metadata": {},
     "output_type": "execute_result"
    }
   ],
   "source": [
    "recode_word(['cat', 'mat', 'cat'], {'cat': 0, 'mat':1})"
   ]
  },
  {
   "cell_type": "code",
   "execution_count": 6,
   "metadata": {},
   "outputs": [
    {
     "data": {
      "text/plain": [
       "([0, 2, 1, 0, 3], {'cat': 0, 'mat': 1, 'bat': 2, 'eat': 3})"
      ]
     },
     "execution_count": 6,
     "metadata": {},
     "output_type": "execute_result"
    }
   ],
   "source": [
    "recode_word(['cat', 'bat', 'mat', 'cat', 'eat'], {'cat': 0, 'mat':1})"
   ]
  },
  {
   "cell_type": "markdown",
   "metadata": {},
   "source": [
    "### ข้อ 3. Recode part 2"
   ]
  },
  {
   "cell_type": "code",
   "execution_count": 7,
   "metadata": {},
   "outputs": [],
   "source": [
    "def inverse_recode(index_list, word_to_index):\n",
    "    \"\"\"\n",
    "    ตัวอย่าง\n",
    "    >>> inverse_recode([0, 2, 1, 0, 3], {'cat': 0, 'mat':1, 'bat': 2, 'eat': 3})\n",
    "    ['cat', 'bat', 'mat', 'cat', 'eat']\n",
    "    \"\"\"\n",
    "    result_list = []\n",
    "    \n",
    "    # วนลูปดัชนีแต่ละตัวในรายการ index_list\n",
    "    for index in index_list:\n",
    "        # หาคำที่มีค่าดัชนีเท่ากับดัชนีที่กำหนด\n",
    "        for key, value in word_to_index.items():\n",
    "            if value == index:\n",
    "                word = key\n",
    "        # เพิ่มคำลงในรายการผลลัพธ์\n",
    "        result_list.append(word)\n",
    "    # คืนค่ารายการคำที่แปลงกลับมาจากดัชนี\n",
    "    return result_list\n"
   ]
  },
  {
   "cell_type": "code",
   "execution_count": 8,
   "metadata": {},
   "outputs": [
    {
     "data": {
      "text/plain": [
       "['cat', 'bat', 'mat', 'cat', 'eat']"
      ]
     },
     "execution_count": 8,
     "metadata": {},
     "output_type": "execute_result"
    }
   ],
   "source": [
    "inverse_recode([0, 2, 1, 0, 3], {'cat': 0, 'mat':1, 'bat': 2, 'eat': 3})"
   ]
  },
  {
   "cell_type": "markdown",
   "metadata": {
    "id": "cj1LTnguXQa7"
   },
   "source": [
    "### ข้อ 4. "
   ]
  },
  {
   "cell_type": "code",
   "execution_count": 9,
   "metadata": {},
   "outputs": [],
   "source": [
    "def count_fruits(count1, count2):\n",
    "    \"\"\"\n",
    "    ตัวอย่าง\n",
    "    >>> count_fruits({\"apple\": 1, \"banana\": 2}, {\"apple\": 3, \"banana\": 4})\n",
    "    {\"apple\": 4, \"banana\": 6}\n",
    "    >>> count_fruits({\"apple\": 5, \"banana\": 7, \"papaya\": 9}, {\"apple\": 3, \"banana\": 5, \"papaya\": 7}) \n",
    "    {\"apple\": 8, \"banana\": 12, \"papaya\": 16}\n",
    "    \"\"\"\n",
    "    result_dict = {}\n",
    "    # วนลูปผ่านคีย์และค่าของรายการแรก\n",
    "    for key1, value1 in count1.items():\n",
    "        # หาค่าของผลไม้ในรายการที่สองโดยใช้คีย์จากรายการแรก\n",
    "        value2 = count2[key1]\n",
    "        # รวมค่าของผลไม้และเพิ่มเข้าใน result_dict\n",
    "        result_dict[key1] = value1 + value2\n",
    "    return result_dict"
   ]
  },
  {
   "cell_type": "code",
   "execution_count": 10,
   "metadata": {},
   "outputs": [
    {
     "data": {
      "text/plain": [
       "{'apple': 4, 'banana': 6}"
      ]
     },
     "execution_count": 10,
     "metadata": {},
     "output_type": "execute_result"
    }
   ],
   "source": [
    "count_fruits({\"apple\": 1, \"banana\": 2}, {\"apple\": 3, \"banana\": 4})"
   ]
  },
  {
   "cell_type": "code",
   "execution_count": 11,
   "metadata": {},
   "outputs": [
    {
     "data": {
      "text/plain": [
       "{'apple': 8, 'banana': 12, 'papaya': 16}"
      ]
     },
     "execution_count": 11,
     "metadata": {},
     "output_type": "execute_result"
    }
   ],
   "source": [
    "count_fruits({\"apple\": 5, \"banana\": 7, \"papaya\": 9}, {\"apple\": 3, \"banana\": 5, \"papaya\": 7}) "
   ]
  },
  {
   "cell_type": "markdown",
   "metadata": {
    "id": "xK_zR_QdXQaf"
   },
   "source": [
    "### ข้อ 5. สนุกกำลังสอง\n"
   ]
  },
  {
   "cell_type": "code",
   "execution_count": 12,
   "metadata": {
    "id": "fUb9HwUbXQaj"
   },
   "outputs": [],
   "source": [
    "def squared_dict(num):\n",
    "    # สร้าง dict เปล่าเพื่อเก็บค่าที่ต้องการเข้าไป\n",
    "    result = {}\n",
    "\n",
    "    # วนลูปผ่านตัวเลขที่รับมา\n",
    "    for i in range(num):\n",
    "        number = i + 1\n",
    "        # สร้างคีย์ใหม่โดยใช้ค่าดัชนีของตัวเลขที่วนลูปและคำนวณเลขยกกำลังสองแล้วใส่เป็นค่าของคีย์นั้น\n",
    "        # result[i+1]  = (i+1) ** 2\n",
    "        result[number] = number ** 2\n",
    "    return result"
   ]
  },
  {
   "cell_type": "code",
   "execution_count": 13,
   "metadata": {},
   "outputs": [
    {
     "data": {
      "text/plain": [
       "{1: 1, 2: 4, 3: 9, 4: 16, 5: 25}"
      ]
     },
     "execution_count": 13,
     "metadata": {},
     "output_type": "execute_result"
    }
   ],
   "source": [
    "squared_dict(5)"
   ]
  },
  {
   "cell_type": "markdown",
   "metadata": {
    "id": "qrLliswdXQaw"
   },
   "source": [
    "### ข้อ 6. สร้าง dictionary"
   ]
  },
  {
   "cell_type": "code",
   "execution_count": 15,
   "metadata": {
    "id": "aWNx3MOGXQay"
   },
   "outputs": [],
   "source": [
    "# วิธีที่ 1\n",
    "def make_en_th_dictionary(english_list, thai_list):\n",
    "    # สร้าง dict เปล่า\n",
    "    result = {}\n",
    "\n",
    "    # for loop index ไปบน list of english word\n",
    "    for i in range(len(english_list)):\n",
    "        english_word = english_list[i]\n",
    "        # get คำภาษาไทยโดยการเทียบ index\n",
    "        thai_word = thai_list[i]\n",
    "        # assign คำภาษาอังกฤษเป็น key, คำภาษาไทยเป็น value\n",
    "        result[english_word] = thai_word\n",
    "\n",
    "    return result"
   ]
  },
  {
   "cell_type": "code",
   "execution_count": 16,
   "metadata": {},
   "outputs": [],
   "source": [
    "# วิธีที่ 2\n",
    "def make_en_th_dictionary(english_list, thai_list):\n",
    "    result = {}\n",
    "    # for loop บน 2 list พร้อมกัน\n",
    "    for english_word, thai_word in zip(english_list, thai_list):\n",
    "        result[english_word] = thai_word\n",
    "    return result"
   ]
  },
  {
   "cell_type": "code",
   "execution_count": 17,
   "metadata": {},
   "outputs": [
    {
     "data": {
      "text/plain": [
       "{'computer': 'คอมพิวเตอร์', 'dog': 'หมา', 'floor': 'พื้น'}"
      ]
     },
     "execution_count": 17,
     "metadata": {},
     "output_type": "execute_result"
    }
   ],
   "source": [
    "english_list = ['computer', 'dog', 'floor']\n",
    "thai_list = ['คอมพิวเตอร์', 'หมา', 'พื้น']\n",
    "make_en_th_dictionary(english_list, thai_list)"
   ]
  },
  {
   "cell_type": "markdown",
   "metadata": {
    "id": "SKop0zx6JBhl"
   },
   "source": [
    "### ข้อ 7. Simplify"
   ]
  },
  {
   "cell_type": "code",
   "execution_count": 19,
   "metadata": {
    "id": "KOEd9jh6JBhm"
   },
   "outputs": [],
   "source": [
    "def simplify_eng(text):\n",
    "    censor_dict = {\n",
    "        'utilize': 'use',\n",
    "        'eulogize': 'praise',\n",
    "        'annihilate': 'destroy',\n",
    "        'apprise': 'warn',\n",
    "        'impending': 'upcoming'\n",
    "    }\n",
    "    \n",
    "    # แปลง text เป็น list of words\n",
    "    list_of_words = text.split(\" \")\n",
    "\n",
    "    # for loop index ไปบน list of english word\n",
    "    for i in range(len(list_of_words)):\n",
    "      # สร้างตัวแปร word จากการใช้ index บน ลิสต์\n",
    "      word =  list_of_words[i]\n",
    "      # เช็คว่า word อยู่ใน censor_dict ไหม\n",
    "      if word in censor_dict:\n",
    "        list_of_words[i] = censor_dict[word] # เอาคำที่ง่าย ไปแทนที่คำที่ยากในตำแหน่งบน list_of_words\n",
    "      else:\n",
    "        pass\n",
    "    return ' '.join(list_of_words) # ประกอบสมาชิกใน list ให้เป็น string"
   ]
  },
  {
   "cell_type": "code",
   "execution_count": 21,
   "metadata": {},
   "outputs": [
    {
     "data": {
      "text/plain": [
       "'I use chopsticks for eating'"
      ]
     },
     "execution_count": 21,
     "metadata": {},
     "output_type": "execute_result"
    }
   ],
   "source": [
    "text = 'I utilize chopsticks for eating'\n",
    "simplify_eng(text)"
   ]
  },
  {
   "cell_type": "markdown",
   "metadata": {},
   "source": [
    "## โจทย์เรื่องเซ็ต"
   ]
  },
  {
   "cell_type": "markdown",
   "metadata": {},
   "source": [
    "### ข้อ 1 - คำที่ไม่ซ้ำ"
   ]
  },
  {
   "cell_type": "code",
   "execution_count": 1,
   "metadata": {},
   "outputs": [],
   "source": [
    "def unique_words(text):\n",
    "    \"\"\"\n",
    "    >>> unique_words('hello world and practice makes perfect and hello world again')\n",
    "    'again|and|hello|makes|perfect|practice|world'\n",
    "    \"\"\"\n",
    "    tokens = text.split(\" \")  # แยกข้อความเป็น token ด้วยช่องว่าง\n",
    "    token_set = set(tokens)  # สร้างเซ็ตของ token ที่ไม่ซ้ำกัน\n",
    "    sort_words_list = sorted(list(token_set))  # เรียงลำดับคำและแปลงกลับเป็นลิสต์\n",
    "    sort_words = '|'.join(sort_words_list)  # รวมคำในลิสต์ด้วยเครื่องหมาย |\n",
    "    return sort_words"
   ]
  },
  {
   "cell_type": "code",
   "execution_count": 2,
   "metadata": {},
   "outputs": [
    {
     "data": {
      "text/plain": [
       "'again|and|hello|makes|perfect|practice|world'"
      ]
     },
     "execution_count": 2,
     "metadata": {},
     "output_type": "execute_result"
    }
   ],
   "source": [
    "text = 'hello world and practice makes perfect and hello world again'\n",
    "unique_words(text)"
   ]
  },
  {
   "cell_type": "markdown",
   "metadata": {},
   "source": [
    "### ข้อ 2 - ตัวอักษรที่ไม่ซ้ำ"
   ]
  },
  {
   "cell_type": "code",
   "execution_count": 3,
   "metadata": {},
   "outputs": [],
   "source": [
    "def is_all_distinct_characters(word):\n",
    "    \"\"\"\n",
    "    Examples:\n",
    "    >>> is_all_distinct_characters('abc')\n",
    "    True    \n",
    "    >>> is_all_distinct_characters('aA')\n",
    "    True\n",
    "    >>> is_all_distinct_characters('abca')\n",
    "    False\n",
    "    >>> is_all_distinct_characters('Alexander') # ตัว e ซ้ำ\n",
    "    False\n",
    "    \"\"\"\n",
    "    # นับจำนวนตัวอักษรเดิม\n",
    "    original_length = len(word)\n",
    "    unique_character_set = set()\n",
    "    # สร้างเซตเพื่อเก็บตัวอักษรที่ไม่ซ้ำกัน\n",
    "    for char in word:\n",
    "        unique_character_set.add(char)\n",
    "    # นับจำนวนตัวอักษรที่ไม่ซ้ำกัน\n",
    "    unique_length = len(unique_character_set)\n",
    "\n",
    "    # เปรียบเทียบจำนวนตัวอักษรเดิมและจำนวนตัวอักษรที่ไม่ซ้ำกัน\n",
    "    if original_length != unique_length:\n",
    "        return False\n",
    "    else:\n",
    "        return True"
   ]
  },
  {
   "cell_type": "code",
   "execution_count": 4,
   "metadata": {},
   "outputs": [
    {
     "name": "stdout",
     "output_type": "stream",
     "text": [
      "True\n",
      "True\n",
      "False\n",
      "False\n"
     ]
    }
   ],
   "source": [
    "print(is_all_distinct_characters('abc'))\n",
    "print(is_all_distinct_characters('aA'))\n",
    "print(is_all_distinct_characters('abca'))\n",
    "print(is_all_distinct_characters('Alexander'))"
   ]
  },
  {
   "cell_type": "markdown",
   "metadata": {},
   "source": [
    "### ข้อ 3 - สินค้าที่ร้านอื่นไม่มี"
   ]
  },
  {
   "cell_type": "code",
   "execution_count": 5,
   "metadata": {},
   "outputs": [],
   "source": [
    "def find_business_opportunities(storeA_items, storeB_items):\n",
    "    \"\"\"\n",
    "    \n",
    "    Examples:\n",
    "    >>> list1 = ['razor blade', 'soap', 'shampoo', 'liquid detergent', 'toothbrush']\n",
    "    >>> list2 = ['soap', 'conditioner', 'shampoo', 'toothpaste']\n",
    "    >>> find_business_opportunities(list1, list2)\n",
    "    ['razor blade', 'liquid detergent', 'toothbrush']\n",
    "    \"\"\"\n",
    "    # สร้างเซ็ตของสินค้าในร้าน A และร้าน B\n",
    "    items_A_set = set(storeA_items)\n",
    "    items_B_set = set(storeB_items)\n",
    "    # หาสินค้าที่มีเฉพาะในร้าน A โดยไม่มีในร้าน B\n",
    "    only_A_set = items_A_set - items_B_set\n",
    "    # แปลงกลับเป็นลิสต์และคืนค่า\n",
    "    return list(only_A_set)"
   ]
  },
  {
   "cell_type": "code",
   "execution_count": 6,
   "metadata": {},
   "outputs": [
    {
     "data": {
      "text/plain": [
       "['toothbrush', 'liquid detergent', 'razor blade']"
      ]
     },
     "execution_count": 6,
     "metadata": {},
     "output_type": "execute_result"
    }
   ],
   "source": [
    "list1 = ['razor blade', 'soap', 'shampoo', 'liquid detergent', 'toothbrush']\n",
    "list2 = ['soap', 'conditioner', 'shampoo', 'toothpaste']\n",
    "find_business_opportunities(list1, list2)"
   ]
  },
  {
   "cell_type": "markdown",
   "metadata": {},
   "source": [
    "### ข้อ 4 - Out of vocabulary"
   ]
  },
  {
   "cell_type": "code",
   "execution_count": 8,
   "metadata": {},
   "outputs": [],
   "source": [
    "# 1) แบบใช้ for loop ลงไปบน word_list\n",
    "def count_oov_words(word_list, vocab_set):\n",
    "  invocab_list = [w for w in word_list if w in vocab_set]\n",
    "  return len(word_list) - len(invocab_list)\n",
    "\n",
    "# 2) แปลง word_list ให้เป็นเซ็ต จากนั้นใช้เซ็ต operation แก้โจทย์\n",
    "def count_oov_words2(word_list, vocab_set):\n",
    "  word_set = set(word_list)\n",
    "  notinvocab_set = vocab_set.intersection(word_set)\n",
    "  return len(word_list) - len(notinvocab_set)"
   ]
  },
  {
   "cell_type": "code",
   "execution_count": 9,
   "metadata": {},
   "outputs": [
    {
     "name": "stdout",
     "output_type": "stream",
     "text": [
      "2\n",
      "2\n"
     ]
    }
   ],
   "source": [
    "word_list = ['cat','sun','dog','sea']\n",
    "vocab_set = {'cat','sun'}\n",
    "print(count_oov_words(word_list, vocab_set))\n",
    "print(count_oov_words2(word_list, vocab_set))"
   ]
  },
  {
   "cell_type": "markdown",
   "metadata": {},
   "source": [
    "### ข้อ 5 - Dinner\n"
   ]
  },
  {
   "cell_type": "code",
   "execution_count": 10,
   "metadata": {},
   "outputs": [],
   "source": [
    "# 1) แบบใช้ for loop ลงไปบน list\n",
    "def agree_dinner(list1, list2, list3):\n",
    "  agree_list = [item for item in list1 if (item in list2) and (item in list3)]\n",
    "  return agree_list\n",
    "\n",
    "# 2) แปลง list ให้เป็นเซ็ต จากนั้นใช้เซ็ต operation แก้โจทย์\n",
    "def agree_dinner2(list1, list2, list3):\n",
    "  agree_set = (set(list1).intersection(set(list2))).intersection(set(list3))\n",
    "  return list(agree_set)"
   ]
  },
  {
   "cell_type": "code",
   "execution_count": 11,
   "metadata": {},
   "outputs": [
    {
     "data": {
      "text/plain": [
       "['japanese', 'shabu']"
      ]
     },
     "execution_count": 11,
     "metadata": {},
     "output_type": "execute_result"
    }
   ],
   "source": [
    "agree_dinner2(\n",
    "  ['thai', 'chinese', 'japanese', 'shabu'],\n",
    "  ['shabu', 'japanese', 'yakiniku', 'italian'],\n",
    "  ['greek', 'shabu', 'chinese', 'japanese']\n",
    ")"
   ]
  }
 ],
 "metadata": {
  "colab": {
   "collapsed_sections": [],
   "name": "PC5 Lists.ipynb",
   "provenance": []
  },
  "kernelspec": {
   "display_name": "Python 3.8.12",
   "language": "python",
   "name": "python3"
  },
  "language_info": {
   "codemirror_mode": {
    "name": "ipython",
    "version": 3
   },
   "file_extension": ".py",
   "mimetype": "text/x-python",
   "name": "python",
   "nbconvert_exporter": "python",
   "pygments_lexer": "ipython3",
   "version": "3.9.13"
  },
  "vscode": {
   "interpreter": {
    "hash": "34368ba4908ea1be08ba769dfb7764ab7f8ead2384ebb5604cb86637573696f7"
   }
  }
 },
 "nbformat": 4,
 "nbformat_minor": 4
}
