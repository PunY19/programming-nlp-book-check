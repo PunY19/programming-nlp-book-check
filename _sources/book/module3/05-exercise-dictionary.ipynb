{
 "cells": [
  {
   "cell_type": "markdown",
   "metadata": {},
   "source": [
    "# โจทย์: ดิกชันนารี"
   ]
  },
  {
   "cell_type": "markdown",
   "metadata": {},
   "source": [
    "## ข้อ 1. ตัดเกรด\n",
    "เขียนฟังก์ชันที่ตัดเกรดให้กับนักเรียนโดยที่ดูจากคะแนนการสอบสองครั้งที่ผ่านมา คะแนนสอบแต่ละครั้งนั้นถูกเก็บในรูปของ dictionary ที่ key=ชื่อนักเรียน value=คะแนนสอบ 0-10 คะแนน ถ้านักเรียนไม่ได้เข้าสอบชื่อก็จะไม่ได้อยู่ใน dictionary  เรามีเกณฑ์การตัดเกรดง่ายๆ ดังนี้\n",
    "- นักเรียนที่สอบผ่านทั้งสองครั้ง (คะแนน > 5 ทั้งสองครั้ง) จะได้ A\n",
    "- นักเรียนที่สอบผ่านแค่ครั้งเดียว จะได้ B\n",
    "- นักเรียนที่สอบไม่ผ่านเลย จะได้ C\n",
    "- นักเรียนที่เข้าสอบไม่ครบทั้งสองครั้งจะได้ M \n",
    "\n",
    "Input: คะแนนสอบครั้งที่ 1 และ คะแนนสอบครั้งที่ 2 เป็น dictionary\n",
    "\n",
    "Output: dictionary ที่ key=ชื่อนักเรียนที่เข้าสอบอย่างน้อยหนึ่งครั้ง value=เกรด string A, B,C หรือ M\n",
    "\n",
    "ตัวอย่าง\n",
    "```\n",
    ">>> midterm = {'Rick': 5.5, 'Michonne': 2, 'Carol': 9, 'Daryl': 7}\n",
    ">>> final = {'Rick': 6, 'Michonne': 5, 'Carol': 4}  \n",
    ">>> assign_grades(midterm, final) \n",
    "{'Rick': 'A', 'Michonne':'C', 'Carol': 'B', 'Daryl': 'M'}\n",
    "```"
   ]
  },
  {
   "cell_type": "code",
   "execution_count": null,
   "metadata": {},
   "outputs": [],
   "source": [
    "def assign_grades(midterm, final):\n",
    "\treturn {}"
   ]
  },
  {
   "cell_type": "markdown",
   "metadata": {},
   "source": [
    "## ข้อ 2. Recode part 1\n",
    "หลายครั้งเวลาเราประมวลผลข้อมูลที่เป็นคำ เราต้องเปลี่ยนคำให้เป็นตัวเลข (เรียกว่า index)\n",
    "เพราะว่าตัวเลขกินพื้นที่น้อยกว่าและจัดเก็บได้ง่ายกว่าตัวหนังสือ จงเขียนฟังก์ชันที่เปลี่ยนคำใน list เป็น list of index โดยมองหา index จาก dictionary ที่กำหนดให้\n",
    "\n",
    "dictionary จะมีลักษณะดังนี้คือ ถ้ามี key อยู่ 3 ตัว value จะเป็น 0, 1, 2 และจะไม่ซ้ำกันเช่น\n",
    "```\n",
    "{'cat': 0, 'mat':1, 'care': 2}\n",
    "```\n",
    "\n",
    "ถ้าคำนั้นไม่อยู่ใน dictionary ให้เติมคำใหม่เข้าไปและหา index ที่ไม่ซ้ำกับคำอื่น เช่น\n",
    "ถ้าเจอคำว่า 'cow' เราต้องเพิ่มคู่ key-value เข้าไปในดิกชันนารีและให้ index ใหม่ เป็น\n",
    "```\n",
    "{'cat': 0, 'mat':1, 'care': 2, 'cow':3}\n",
    "```"
   ]
  },
  {
   "cell_type": "code",
   "execution_count": 1,
   "metadata": {},
   "outputs": [],
   "source": [
    "\n",
    "def recode_word(word_list, word_to_index):\n",
    "    \"\"\"\n",
    "    This function takes a list of words and a dictionary that maps word to index\n",
    "    This function must return a tuple of (index list, updated dictionary)\n",
    "\n",
    "    ตัวอย่าง\n",
    "    >>> recode_word(['cat', 'mat', 'cat'], {'cat': 0, 'mat':1})\n",
    "    ([0, 1, 0], {'cat': 0, 'mat':1})\n",
    "\n",
    "    >>> recode_word(['cat', 'bat', 'mat', 'cat', 'eat'], {'cat': 0, 'mat':1})\n",
    "    ([0, 2, 1, 0, 3], {'cat': 0, 'mat':1, 'bat': 2, 'eat': 3})\n",
    "    \"\"\"\n"
   ]
  },
  {
   "cell_type": "markdown",
   "metadata": {},
   "source": [
    "## ข้อ 3. Recode part 2\n",
    "เมื่อเวลาเราประมวลผลข้อมูลเสร็จแล้ว เราจะต้องการแปลงค่าที่เป็น index ของคำกลับไปเป็นคำเหมือนเดิม เช่น ถ้าดิกชันนารีจากคำไป index มีลักษณะดังนี้\n",
    "```\n",
    "{'cat': 0, 'mat':1, 'bat': 2, 'eat': 3}\n",
    "```\n",
    "และข้อมูลจัดเก็บอยู่ในลิสต์ดังนี้\n",
    "```\n",
    "[0, 2, 1, 0, 3]\n",
    "```\n",
    "เราต้องให้แปลงกลับไปเป็นคำเหมือนเดิม\n",
    "```\n",
    "['cat', 'bat', 'mat', 'cat', 'eat']\n",
    "```\n",
    "จงเขียนฟังก์ชันที่แปลงลิสต์ของ index ของคำมาเป็นลิสต์ของคำ โดยใช้ข้อมูลจากดิกชันนารี\n",
    "\n",
    "*คำใบ้* สังเกตว่าดิกชันนารีที่ให้มา key เป็นคำและ value เป็น index ทำให้เปิดหาได้ยาก เราจะต้องสร้างดิกอันใหม่ขึ้นมาหนึ่งอัน และนำ value มาเป็น key นำ key เป็น value โดยการวนซ้ำไปบน `.items()`"
   ]
  },
  {
   "cell_type": "code",
   "execution_count": null,
   "metadata": {},
   "outputs": [],
   "source": [
    "def inverse_recode(index_list, word_to_index):\n",
    "    \"\"\"\n",
    "    ตัวอย่าง\n",
    "    >>> inverse_recode([0, 2, 1, 0, 3], {'cat': 0, 'mat':1, 'bat': 2, 'eat': 3})\n",
    "    ['cat', 'bat', 'mat', 'cat', 'eat']\n",
    "    \"\"\"\n",
    "    return []"
   ]
  },
  {
   "cell_type": "markdown",
   "metadata": {
    "id": "cj1LTnguXQa7"
   },
   "source": [
    "## ข้อ 4. \n",
    "\n",
    "โนโน่เป็นคนชอบเขียนโปรแกรมและกินผลไม้มาก โนโน่เลยเก็บจำนวนผลไม้ที่มีในตู้เย็นไว้ใน python dictionary เช่น `{ \"apple\": 1, \"banana\": 2 }` คือมีแอปเปิ้ล 1 ลูก กล้วย 2 ลูก ต่อมา โนโน่ซื้อตู้เย็นมาอีกตู้ จึงมี dictionary อีกอันหนึ่งไว้เก็บจำนวนผลไม้\n",
    "\n",
    "โนโน่อยากรู้จำนวนผลไม้ที่มีทั้งหมด ช่วยโนโน่หน่อย เขียนฟังก์ชันที่รับ dictionary 2 ตัวเป็น parameters (คือ dictionary ที่แทนผลไม้ในตู้ที่ 1 และ 2 ตามลำดับ) และ return dictionary แสดงจำนวนผลไม้ทั้งหมด เช่น\n",
    "\n",
    "```python\n",
    ">>> count_fruits({\"apple\": 1, \"banana\": 2}, {\"apple\": 3, \"banana\": 4})\n",
    "{\"apple\": 4, \"banana\": 6}\n",
    ">>> count_fruits({\"apple\": 5, \"banana\": 7, \"papaya\": 9}, {\"apple\": 3, \"banana\": 5, \"papaya\": 7}) \n",
    "{\"apple\": 8, \"banana\": 12, \"papaya\": 16}\n",
    "```\n",
    "\n",
    "เพื่อความง่าย ให้ถือว่าชนิดของผลไม้ที่โนโน่มีในตู้เย็นเหมือนกันทั้งสองตู้ (ถ้าตู้แรกมีแอปเปิ้ล ตู้ที่สองก็มีด้วย ถ้าตู้ที่สองมีองุ่น ตู้แรกก็มีด้วย)"
   ]
  },
  {
   "cell_type": "code",
   "execution_count": null,
   "metadata": {},
   "outputs": [],
   "source": [
    "def count_fruits(count1, count2):\n",
    "    \"\"\"\n",
    "    ตัวอย่าง\n",
    "    >>> count_fruits({\"apple\": 1, \"banana\": 2}, {\"apple\": 3, \"banana\": 4})\n",
    "    {\"apple\": 4, \"banana\": 6}\n",
    "    >>> count_fruits({\"apple\": 5, \"banana\": 7, \"papaya\": 9}, {\"apple\": 3, \"banana\": 5, \"papaya\": 7}) \n",
    "    {\"apple\": 8, \"banana\": 12, \"papaya\": 16}\n",
    "    \"\"\"\n",
    "    return {}"
   ]
  },
  {
   "cell_type": "markdown",
   "metadata": {
    "id": "xK_zR_QdXQaf"
   },
   "source": [
    "## ข้อ 5. สนุกกำลังสอง\n",
    "\n",
    "เขียนฟังก์ชันที่รับค่า n แล้ว return dictionary ที่มี key ตั้งแต่ 1 ถึง n โดย value ของแต่ละตัวคือ key ยกกำลังสอง เช่น\n",
    "\n",
    "```python \n",
    "squared_dict(3)  \n",
    ">>> { 1: 1, 2: 4, 3: 9 }\n",
    "```\n",
    "\n",
    "```python\n",
    "squared_dict(5) \n",
    ">>> { 1: 1, 2: 4, 3: 9, 4: 16, 5: 25 }\n",
    "```"
   ]
  },
  {
   "cell_type": "code",
   "execution_count": null,
   "metadata": {
    "id": "fUb9HwUbXQaj"
   },
   "outputs": [],
   "source": [
    "def squared_dict(num):\n",
    "    return {}"
   ]
  },
  {
   "cell_type": "markdown",
   "metadata": {
    "id": "qrLliswdXQaw"
   },
   "source": [
    "## ข้อ 6. สร้าง dictionary\n",
    "สมมติว่าเรามี list ของคำศัพท์ และ list ของคำแปล\n",
    "\n",
    "```python\n",
    "english_list = ['computer', 'dog', 'floor']\n",
    "thai_list = ['คอมพิวเตอร์', 'หมา', 'พื้น']\n",
    "```\n",
    "\n",
    "เขียนฟังก์ชันที่สร้าง `dict` ที่ key คือคำภาษาอังกฤษ และ value คือคำแปลภาษาไทย\n",
    "\n",
    "```python\n",
    ">>> en_th_dict = make_en_th_dictionary(english_list, thai_list)\n",
    ">>> en_th_dict['dog']\n",
    "'หมา'\n",
    "```"
   ]
  },
  {
   "cell_type": "code",
   "execution_count": 2,
   "metadata": {
    "id": "aWNx3MOGXQay"
   },
   "outputs": [],
   "source": [
    "def make_en_th_dictionary(english_list, thai_list):\n",
    "    return {}"
   ]
  },
  {
   "cell_type": "markdown",
   "metadata": {
    "id": "SKop0zx6JBhl"
   },
   "source": [
    "## ข้อ 7. Simplify\n",
    "สมมติว่าเราต้องการทำให้ข้อความเข้าใจง่ายขึ้นโดยการแทนที่คำยากด้วยคำง่าย โดยเราจะเก็บคู่ของคำยาก คำง่ายไว้ใน ใน dictionary ดังนี้\n",
    "```\n",
    "censor_dict = {\n",
    "    'utilize': 'use',\n",
    "    'eulogize': 'praise',\n",
    "    'annihilate': 'destroy',\n",
    "    'apprise': 'warn',\n",
    "    'impending': 'upcoming'\n",
    "}\n",
    "```\n",
    "เขียนฟังก์ชั่นที่เปลี่ยน string ภาษาอังกฤษ เป็น string ที่คำยากถูกแทนด้วยคำง่ายที่อยู่ใน dictionary\n",
    "\n",
    "Hint:\n",
    "\n",
    "* เปลี่ยน `text` ให้เป็น list ก่อน\n",
    "* จากนั้นก็เช็คว่าคำในลิสต์อยู่ในดิกมั้ย ถ้าอยู่ก็แก้ไขลิสต์ตรงตำแหน่งนั้น (ใช้ `for i in range(len(...))`)"
   ]
  },
  {
   "cell_type": "code",
   "execution_count": null,
   "metadata": {
    "id": "KOEd9jh6JBhm"
   },
   "outputs": [],
   "source": [
    "def simplify_eng(text):\n",
    "    censor_dict = {\n",
    "        'utilize': 'use',\n",
    "        'eulogize': 'praise',\n",
    "        'annihilate': 'destroy',\n",
    "        'apprise': 'warn',\n",
    "        'impending': 'upcoming'\n",
    "    }\n",
    "    \n",
    "    return ''"
   ]
  }
 ],
 "metadata": {
  "colab": {
   "name": "PC6 Dictionary and Reading from Files.ipynb",
   "provenance": []
  },
  "kernelspec": {
   "display_name": "Python 3.8.12",
   "language": "python",
   "name": "python3"
  },
  "language_info": {
   "codemirror_mode": {
    "name": "ipython",
    "version": 3
   },
   "file_extension": ".py",
   "mimetype": "text/x-python",
   "name": "python",
   "nbconvert_exporter": "python",
   "pygments_lexer": "ipython3",
   "version": "3.8.12"
  },
  "vscode": {
   "interpreter": {
    "hash": "34368ba4908ea1be08ba769dfb7764ab7f8ead2384ebb5604cb86637573696f7"
   }
  }
 },
 "nbformat": 4,
 "nbformat_minor": 4
}
