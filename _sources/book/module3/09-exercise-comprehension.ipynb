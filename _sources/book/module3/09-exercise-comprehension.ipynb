{
 "cells": [
  {
   "cell_type": "markdown",
   "metadata": {
    "colab_type": "text",
    "id": "x6i8AiFVK97z"
   },
   "source": [
    "# โจทย์: Comprehension\n",
    "## ข้อ 1: List comprehension 1\n",
    "จงเปลี่ยนลิสต์ของชื่อให้เป็นลิสต์ที่มีแต่ชื่อภาษาอังกฤษ และชื่อภาษาอังกฤษจะต้องถูกเปลี่ยนเป็นชื่อที่ขึ้นต้นด้วยตัวใหญ่ที่เหลือตัวเล็กทั้งหมด ให้เขียนสองแบบ\n",
    "- แบบแรกให้เขียนโดยใช้ for loop ธรรมดา\n",
    "- แบบที่สองให้เขียนโดยใช้ list comprehension"
   ]
  },
  {
   "cell_type": "code",
   "execution_count": 1,
   "metadata": {
    "colab": {},
    "colab_type": "code",
    "id": "hLbv4ILOK-My"
   },
   "outputs": [],
   "source": [
    "names = ['aaron', 'leigH', 'เต้', 'jOHN']\n",
    "# For loop\n"
   ]
  },
  {
   "cell_type": "code",
   "execution_count": 2,
   "metadata": {
    "colab": {},
    "colab_type": "code",
    "id": "cGI5xMYx0XVl"
   },
   "outputs": [],
   "source": [
    "names = ['aaron', 'leigH', 'เต้', 'jOHN']\n",
    "# List comprehension"
   ]
  },
  {
   "cell_type": "markdown",
   "metadata": {
    "colab_type": "text",
    "id": "rBUHw5K-KSl6"
   },
   "source": [
    "## ข้อ 2: List comprehension 2\n",
    "Given a list of English words, **use list comprehension** to create a list of words that are all capitalized. You must also exclude words that are shorter than two characters."
   ]
  },
  {
   "cell_type": "code",
   "execution_count": 3,
   "metadata": {
    "colab": {},
    "colab_type": "code",
    "id": "anfXw7S3KTCR"
   },
   "outputs": [],
   "source": [
    "tokens = ['Fruit', 'flies', 'do', 'like', 'bananas', '.']\n"
   ]
  },
  {
   "cell_type": "markdown",
   "metadata": {
    "colab_type": "text",
    "id": "ccHIoiG1LPuG"
   },
   "source": [
    "## ข้อ 3: List comprehension 3\n",
    "เขียน List comprehension \n",
    "- input เป็นลิสต์ของคำ (strings) เช่น `['monKey', 'roach', 'Eve', 'oo', 'Jim']`\n",
    "- output ลิสต์ของคำทั้งหมดแต่ว่าให้เอาสระออกให้หมด เช่น `['mnKy', 'rch', 'v', '', 'Jm']`"
   ]
  },
  {
   "cell_type": "code",
   "execution_count": null,
   "metadata": {
    "colab": {},
    "colab_type": "code",
    "id": "Knvj9iZKLP-1"
   },
   "outputs": [],
   "source": [
    "word_list = ['monKey', 'roach', 'Eve', 'oo', 'Jim']\n"
   ]
  },
  {
   "cell_type": "markdown",
   "metadata": {
    "colab_type": "text",
    "id": "re6bHHcMMoAg"
   },
   "source": [
    "## ข้อ 4: Dictionary comprehension 1\n",
    "Given a list words, create a dictionary whose keys are a word and values are the length of the word. \n",
    "\n"
   ]
  },
  {
   "cell_type": "code",
   "execution_count": null,
   "metadata": {
    "colab": {},
    "colab_type": "code",
    "id": "r36dSI7cMnso"
   },
   "outputs": [],
   "source": [
    "tokens = ['Fruit', 'flies', 'like', 'bananas', '.']"
   ]
  },
  {
   "cell_type": "markdown",
   "metadata": {
    "colab_type": "text",
    "id": "yHCWVFhSNDCs"
   },
   "source": [
    "## ข้อ 5: Dictionary comprehension 2\n",
    "Given two lists of words that are translations of each other, create a dictionary whose key is an English and whose value is the French translation of that word. And keep only English words that are longer than 3 characters."
   ]
  },
  {
   "cell_type": "code",
   "execution_count": 4,
   "metadata": {
    "colab": {},
    "colab_type": "code",
    "id": "yB3m4nKTNDOH"
   },
   "outputs": [],
   "source": [
    "english_words = ['chair', 'pen', 'eraser', 'computer']\n",
    "french_words = ['chaise', 'stylo', 'gomme', 'ordinateur']\n"
   ]
  },
  {
   "cell_type": "markdown",
   "metadata": {
    "colab_type": "text",
    "id": "Aj94wgAgNhiP"
   },
   "source": [
    "## ข้อ 6: Dictionary comprehension 3\n",
    "จงเขียน dictionary comprehension \n",
    "\n",
    "- Input: ลิสต์ของคำ `['baby', 'baby', 'baby', 'oh', '...', 'baby', 'baby', 'no','!']`\n",
    "- Output: ดิกต์ที่มี key เป็นคำ และ value เป็นอันดับของคำตามความถี่ เช่น `{'baby': 1, 'oh': 2, '...': 3, 'no': 4, '!': 5}`\n",
    "\n",
    "Hint: ใช้ `Counter` นับคำก่อนหลังจากนั้นเขียน dict comprehension โดยใช้ `Counter.most_common` เป็น input\n"
   ]
  },
  {
   "cell_type": "code",
   "execution_count": 10,
   "metadata": {},
   "outputs": [],
   "source": [
    "word_list = ['baby', 'baby', 'baby', 'oh', '...', 'baby', 'baby', 'no','!']\n",
    "\n"
   ]
  }
 ],
 "metadata": {
  "colab": {
   "collapsed_sections": [
    "uWpuNZmvD79f"
   ],
   "name": "week15 python tricks.ipynb",
   "provenance": []
  },
  "kernelspec": {
   "display_name": "Python 3 (ipykernel)",
   "language": "python",
   "name": "python3"
  },
  "language_info": {
   "codemirror_mode": {
    "name": "ipython",
    "version": 3
   },
   "file_extension": ".py",
   "mimetype": "text/x-python",
   "name": "python",
   "nbconvert_exporter": "python",
   "pygments_lexer": "ipython3",
   "version": "3.8.12"
  },
  "vscode": {
   "interpreter": {
    "hash": "34368ba4908ea1be08ba769dfb7764ab7f8ead2384ebb5604cb86637573696f7"
   }
  }
 },
 "nbformat": 4,
 "nbformat_minor": 4
}
