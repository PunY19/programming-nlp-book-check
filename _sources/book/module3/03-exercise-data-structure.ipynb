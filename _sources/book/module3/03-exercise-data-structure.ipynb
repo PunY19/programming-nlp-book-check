{
 "cells": [
  {
   "cell_type": "markdown",
   "metadata": {
    "id": "6L6KUtgV3VT2"
   },
   "source": [
    "# แบบฝึกหัด: โครงสร้างข้อมูล I\n",
    "\n",
    "## โจทย์เรื่องลิสต์"
   ]
  },
  {
   "cell_type": "markdown",
   "metadata": {},
   "source": [
    "### ข้อ 1. สลากกินแบ่ง\n",
    "เขียนฟังก์ชันเพื่อตรวจสอบว่าสลากกินแบ่ง (lottery) ที่มีอยู่ (อาจมีมากกว่า 1 ใบ) ถูกรางวัลทั้งหมดเท่าไร\n",
    "โดยที่ฟังก์ชันจะรับข้อมูล 3 อย่าง ได้แก่\n",
    "1. เลขสลากที่มีทั้งหมด (เป็นลิสต์ของสตริง) สลากแต่ละใบมีเลข 6 หลัก\n",
    "2. เลขรางวัลที่ 1 ที่ออก (เป็นสตริง) สลากจะถูกรางวัลที่ 1 เมื่อตัวเลขสลากตรงกับเลขรางวัลที่ 1 ที่ออก รางวัลละ 6,000,000 บาท\n",
    "3. เลขรางวัลเลขท้าย 2 ตัวที่ออก(เป็นสตริง) \n",
    "\tสลากจะถูกรางวัลเลขท้าย 2 ตัว เมื่อเลข 2 ตัวท้ายของสลาก ตรงกับเลขรางวัลเลขท้าย 2 ตัวที่ออก รางวัลละ 5,000 บาท\n",
    "\n",
    "สลาก 1 เลข สามารถถูกทั้งรางวัลที่ 1 และรางวัลเลขท้าย 2 ตัวได้\n",
    "เช่น ถ้าเลขรางวัลที่ 1 คือ 613728 และเลขท้าย 2 ตัวที่ออกคือ 28 สลากเลข 613728 จะได้รับรางวัล \n",
    "\t6,000,000 + 5,000 = 6,005,000 บาท\n",
    "\n",
    "ให้ฟังก์ชัน return ค่าเป็น list โดยที่ค่าแรกใน list เป็นจำนวนเงินที่ได้รับรางวัลทั้งหมด (เป็น int)\n",
    "\tและค่าต่อๆ ไปใน list เป็นเลขสลากที่ถูกรางวัล (เป็น string, อาจมีมากกว่า 1 เลขสลากได้ หรือไม่มีสลากที่ถูกรางวัลเลยก็ได้)\n",
    "\n",
    "คำใบ้: \n",
    "- ไม่มีความจำเป็นที่จะต้องแปลงเลขสลาก เลขรางวัลที่ 1 เลขรางวัลเลขท้าย 2 ตัว จากสตริงเป็นเลข\n",
    "- ค่อยๆ แก้ทีละส่วนตามหลักการย่อยโจทย์ โจทย์ย่อย ๆ มีดังนี้\n",
    "\t2.1) คำนวณรางวัลที่ได้\n",
    "\t2.2) หาวิธีเก็บเลขสลากที่ถูกรางวัล\n",
    "\t2.3) สร้างลิสต์สุดท้ายตามโจทย์กำหนด\n",
    "- อย่าลืมว่าสลากใบเดียวสามารถถูกได้สองรางวัล"
   ]
  },
  {
   "cell_type": "code",
   "execution_count": 1,
   "metadata": {},
   "outputs": [],
   "source": [
    "def lottery_check(lottery_numbers, first, end2):\n",
    "    \"\"\"\n",
    "\n",
    "\tตัวอย่าง\n",
    "    >>> lottery_check(['613728'], '613728', '28')\n",
    "    [6005000, '613728']\n",
    "\n",
    "    >>> lottery_check(['382982', '428121'], '613728', '28')\n",
    "    [0]\n",
    "\n",
    "    >>> lottery_check(['382982', '417328', '012828'], '613728', '28')\n",
    "    [10000, '417328', '012828']\n",
    "\n",
    "    \"\"\"\n",
    "    return 0"
   ]
  },
  {
   "cell_type": "markdown",
   "metadata": {},
   "source": [
    "### ข้อ 2. ลิสต์อาหาร\n",
    "เพื่อนของคุณซึ่งเป็นผู้ชนะจากรายการ Master Top Iron Supercook Thailand ได้รับมอบหมายให้ไปทำอาหารให้เด็กนักเรียนโรงเรียน Sarasas Cadbury International แต่กลับโชคไม่ดีที่ว่าเด็กนักเรียนโรงเรียนนี้เป็นเด็กที่เลือกกินมาก เด็กแต่ละคนจะมี ลิสต์ของอาหารที่ตัวเองไม่กิน เพราะฉะนั้นเพื่อนของคุณจะต้องตรวจสอบวัตถุดิบของทุกจาน เพื่อเลือกสิ่งที่เด็กแต่ละคนไม่กินออก\n",
    "\n",
    "จงเขียนฟังก์ชัน `select_ingredients` ซึ่งรับ input ดังนี้\n",
    "1. ลิสต์ของวัตถุดิบของอาหารที่เพื่อนของคุณจะทำ\n",
    "2. ลิสต์ของวัตถุดิบที่เด็กไม่กิน \n",
    "ฟังก์ชันนี้จะต้อง return ลิสต์ของวัตถุดิบที่เพื่อนของคุณสามารถใช้ได้\n",
    "\n",
    "ตัวอย่าง\n",
    "```\n",
    ">>> ingredients = ['คะน้า', 'กระเทียม', 'น้ำมันหอย', 'หมูกรอบ', 'น้ำปลา', 'พริกไทย', 'ปลาเค็ม']\n",
    ">>> prohibited = ['น้ำปลา', 'กระเทียม', 'ปลาเค็ม', 'มะนาว']\n",
    ">>> select_ingredients(ingredients, prohibited)\n",
    "['คะน้า', 'น้ำมันหอย', 'หมูกรอบ', 'พริกไทย'] \n",
    "```\n",
    "\n"
   ]
  },
  {
   "cell_type": "code",
   "execution_count": null,
   "metadata": {},
   "outputs": [],
   "source": [
    "def select_ingredients(list1, list2):\n",
    "\treturn []"
   ]
  },
  {
   "cell_type": "markdown",
   "metadata": {},
   "source": [
    "### ข้อ 3. a/an\n",
    "เราเรียนกันมาแล้วว่า a ใช้นำหน้าคำที่ขึ้นต้นด้วยเสียงพยัญชนะ และ an ใช้นำหน้าคำที่ขึ้นต้นด้วยเสียงสระ \n",
    "\n",
    "จงเขียนฟังก์ชันที่รับสตริงเป็น input และ return สตริงที่มีแก้การใช้ a/an โดยให้ assume ว่า\n",
    "- สตริงที่ได้มายังไม่ถูกตัดเป็นคำ และแต่ละคำถูกแบ่งได้ด้วย space\n",
    "- สตริงที่ได้มาไม่มีเครื่องหมายวรรคตอน (punctuation) หรือตัวเลขใดๆ \n",
    "- ถ้าคำนำหน้าด้วยพยัญชนะให้ใช้ a ถ้าคำนำหน้าด้วย aeiou ให้ใช้ an\n",
    "- ให้แก้ a-->an หรือ an-->a อย่างเดียว โดยไม่ต้องหาที่เติม a/an/the/ เข้าไปในจุดใดเลย"
   ]
  },
  {
   "cell_type": "code",
   "execution_count": null,
   "metadata": {},
   "outputs": [],
   "source": [
    "def correct_indefinite_article(sentence):\n",
    "\t\"\"\"\n",
    "\tตัวอย่าง\n",
    "\t>>> correct_article('A elephant steps on an piece of wood in a forest')\n",
    "\t'An elephant steps on a piece of wood in a forest\n",
    "\t\"\"\"\n",
    "\treturn ''"
   ]
  },
  {
   "cell_type": "markdown",
   "metadata": {
    "id": "JSuZnn9V3VT_"
   },
   "source": [
    "### ข้อ 4. ทำความสะอาดข้อมูล\n",
    "เขียนฟังก์ชันที่รับสตริงประโยคภาษาอังกฤษ และ return ลิสต์ของคำในประโยคนั้น โดยไม่มีเครื่องหมายวรรคตอน (`.,!?:`)\n",
    "\n",
    "คำใบ้\n",
    "1) ควรเอาเครื่องหมายวรรคตอนออกจากสตริงก่อน\n",
    "2) ใช้ method `.split()`"
   ]
  },
  {
   "cell_type": "code",
   "execution_count": null,
   "metadata": {
    "id": "5jYxwsYn3VUA"
   },
   "outputs": [],
   "source": [
    "# Your code here\n",
    "def str_to_clean_list(text):\n",
    "\t\"\"\" Turn English text into clean words\n",
    "\t\n",
    "\tExample:\n",
    "\t>>> str_to_clean_list(\"I will not give up on this. If I feel tired, I will take a rest.\")\n",
    "\t['I','will','not','give','up','on','this','If','I','feel','tired','I','will','take','a','rest']\n",
    "\t\"\"\"\n",
    "\treturn []"
   ]
  },
  {
   "cell_type": "markdown",
   "metadata": {
    "id": "GWmsiqWFmXrY"
   },
   "source": [
    "### ข้อ 5. ความยาวเฉลี่ยของคำ\n",
    "เขียนฟังก์ชันหาความยาวเฉลี่ยของคำที่อยู่ในข้อความ โดยให้ใช้ฟังก์ชันจากข้อที่แล้วมาใช้ในการช่วยในการหาลิสต์ของคำทั้งหมดที่ไม่มีเครื่องหมายวรรคตอนอยู่เลย\n",
    "\n",
    "คำใบ้: ใช้คำสั่ง `sum()` ในการหาผลรวมของตัวเลขที่อยู่ในลิสต์ทั้งหมด"
   ]
  },
  {
   "cell_type": "code",
   "execution_count": null,
   "metadata": {
    "id": "kHhbw7tRmXra"
   },
   "outputs": [],
   "source": [
    "def compute_mean_number_of_words(text):\n",
    "    return 0"
   ]
  },
  {
   "cell_type": "markdown",
   "metadata": {
    "id": "oNFK24XW3VT7"
   },
   "source": [
    "### ข้อ 6. ตรวจข้อสอบ\n",
    "\n",
    "จงเขียนฟังก์ชันตรวจข้อสอบโดยรับค่า parameter 2 ตัว ได้แก่ ลิสต์ของเฉลยข้อสอบ และลิสต์ของคำตอบที่ต้องการตรวจในลำดับเดียวกัน ให้ข้อที่ถูกได้คะแนน 1 คะแนน หลังจากนั้นให้ฟังก์ชันคืนค่าเปอร์เซนต์ของข้อที่ตอบทั้งหมด"
   ]
  },
  {
   "cell_type": "code",
   "execution_count": null,
   "metadata": {
    "id": "gg2V5vgj3VT8"
   },
   "outputs": [],
   "source": [
    "def grade_exam(correct_list, answer_list):\n",
    "    \"\"\"\n",
    "    >>> check_exam(['a','b','d','a','c'], ['a','a','b','d','a'])\n",
    "    (1, [1, 0, 0, 0, 0])\n",
    "    >>> check_exam(['a','b','d','a','c'], ['a','b','d','a','c'])\n",
    "    (5, [1, 1, 1, 1, 1])\n",
    "    \"\"\"\n",
    "    return 0"
   ]
  },
  {
   "cell_type": "markdown",
   "metadata": {
    "id": "_CjTm-9P3VUG"
   },
   "source": [
    "### ข้อ 7. เปลี่ยนตัว\n",
    "สมมติว่าเรามีลิสต์ของแขกที่จะมาร่วมงานวันเกิด แต่ว่าแขกมักจะมีการเปลี่ยนตัวกระทันหันเนื่องจากอาจจะติดธุระมาไม่ได้ จงเขียนฟังก์ชันที่รับ 3 พารามิเตอร์\n",
    "1. ลิสต์ของสตริงที่ชื่อแขกทั้งหมดอยู่\n",
    "2. ชื่อแขกที่มาไม่ได้แล้ว\n",
    "3. ชื่อแขกที่จะมาแทน\n",
    "ฟังก์ชันจะแก้ลิสต์ของแขกแต่ว่าจะไม่ return อะไรเลย \n",
    "\n",
    "ตัวอย่าง\n",
    "```\n",
    ">>> name_list = [\"Tony\", \"Elan\", \"Bee\", \"Bonus\", \"Jane\"]\n",
    ">>> sub_name(\"Bee\", \"Thomas\", name_list)\n",
    ">>> print(name_list)\n",
    "[\"Tony\", \"Elan\", \"Thomas\", \"Bonus\", \"Jane\"]\n",
    "```"
   ]
  },
  {
   "cell_type": "code",
   "execution_count": null,
   "metadata": {
    "id": "LYMD7sNQ3VUG"
   },
   "outputs": [],
   "source": [
    "def sub_name(old_guest, new_guest, guest_list):\n",
    "\tpass"
   ]
  },
  {
   "cell_type": "markdown",
   "metadata": {
    "id": "LLZJUZjR3VUI"
   },
   "source": [
    "### ข้อ 8. คำนวณสถิติ\n",
    "เขียนฟังก์ชันที่รับลิสต์ของตัวเลขเข้ามาเป็น input และคำนวณหาค่าต่ำสุด สูงสุด เรนจ์ (สูงสุด - ต่ำสุด) ค่ามัธยฐาน และค่าเฉลี่ย โดย `print` ออกมาและไม่ return ค่าใด ๆ และเพ่ือทำให้โจทย์นี้ง่ายลง เราสามารถ assume ได้ว่าจำนวนสมาชิกของลิสต์เป็นเลขคี่ \n",
    "```\n",
    ">>> score_nlps = [6, 5, 10, 8, 7, 11, 5.5, 4, 8, 9, 11]\n",
    ">>> stats_summary(score_nlps)\n",
    "Min = 4\n",
    "Max = 11\n",
    "Range = 7\n",
    "Median = 8\n",
    "Mean = 7.68\n",
    "```\n",
    "**คำใบ้:** ควรใช้คำสั่ง `sorted(x)` ในการหามัธยฐาน"
   ]
  },
  {
   "cell_type": "code",
   "execution_count": null,
   "metadata": {
    "id": "5eRHsEie3VUI"
   },
   "outputs": [],
   "source": [
    "def stats_summary(number_list):\n",
    "\tprint ('')"
   ]
  },
  {
   "cell_type": "markdown",
   "metadata": {},
   "source": [
    "### ข้อ 9. เลือกคำ\n",
    "\n",
    "จงเขียน function หาคำที่สนใจ โดยกำหนดให้ function รับ parameter เข้ามา 2 ตัว\n",
    "1. list ของประโยคที่ถูกตัดคำแล้ว เช่น ['She', 'went', 'to', 'eat', 'pizza', 'at', 'Huahin' ,'yesterday']\n",
    "2. list ที่เป็นค่า 0 หรือ 1 เพื่อบอกว่าที่ตำแหน่งของคำนั้นเป็นคำที่เราสนใจหรือไม่ โดยที่ 0 คือไม่สนใจและ 1 คือสนใจ เช่น [0, 0, 0, 0, 1, 0, 1, 0]\n",
    "\n",
    "และคืนค่าออกมาเป็น list ที่มีแต่คำที่สนใจเท่านั้น"
   ]
  },
  {
   "cell_type": "code",
   "execution_count": null,
   "metadata": {},
   "outputs": [],
   "source": [
    "def select_words_from_mask(word_list, mask_list):\n",
    "    \"\"\" Select words from a list\n",
    "    \n",
    "    Example\n",
    "\n",
    "    >>> tokenized_sentence = ['She', 'went', 'to', 'eat', 'pizza', 'at', 'Huahin' ,'yesterday']\n",
    "    >>> mask = [0, 0, 0, 0, 1, 0, 1, 0]\n",
    "    >>> select_words_from_mask(tokenized_sentence, mask)\n",
    "    ['pizza', 'Huahin']\n",
    "    \"\"\"\n",
    "    return []"
   ]
  },
  {
   "cell_type": "markdown",
   "metadata": {},
   "source": [
    "## โจทย์เรื่องดิกชันนารี"
   ]
  },
  {
   "cell_type": "markdown",
   "metadata": {},
   "source": [
    "### ข้อ 1. ตัดเกรด\n",
    "เขียนฟังก์ชันที่ตัดเกรดให้กับนักเรียนโดยที่ดูจากคะแนนการสอบสองครั้งที่ผ่านมา คะแนนสอบแต่ละครั้งนั้นถูกเก็บในรูปของ dictionary ที่ key=ชื่อนักเรียน value=คะแนนสอบ 0-10 คะแนน ถ้านักเรียนไม่ได้เข้าสอบชื่อก็จะไม่ได้อยู่ใน dictionary  เรามีเกณฑ์การตัดเกรดง่ายๆ ดังนี้\n",
    "- นักเรียนที่สอบผ่านทั้งสองครั้ง (คะแนน > 5 ทั้งสองครั้ง) จะได้ A\n",
    "- นักเรียนที่สอบผ่านแค่ครั้งเดียว จะได้ B\n",
    "- นักเรียนที่สอบไม่ผ่านเลย จะได้ C\n",
    "- นักเรียนที่เข้าสอบไม่ครบทั้งสองครั้งจะได้ M \n",
    "\n",
    "Input: คะแนนสอบครั้งที่ 1 และ คะแนนสอบครั้งที่ 2 เป็น dictionary\n",
    "\n",
    "Output: dictionary ที่ key=ชื่อนักเรียนที่เข้าสอบอย่างน้อยหนึ่งครั้ง value=เกรด string A, B,C หรือ M\n",
    "\n",
    "ตัวอย่าง\n",
    "```\n",
    ">>> midterm = {'Rick': 5.5, 'Michonne': 2, 'Carol': 9, 'Daryl': 7}\n",
    ">>> final = {'Rick': 6, 'Michonne': 5, 'Carol': 4}  \n",
    ">>> assign_grades(midterm, final) \n",
    "{'Rick': 'A', 'Michonne':'C', 'Carol': 'B', 'Daryl': 'M'}\n",
    "```"
   ]
  },
  {
   "cell_type": "code",
   "execution_count": null,
   "metadata": {},
   "outputs": [],
   "source": [
    "def assign_grades(midterm, final):\n",
    "\treturn {}"
   ]
  },
  {
   "cell_type": "markdown",
   "metadata": {},
   "source": [
    "### ข้อ 2. Recode part 1\n",
    "หลายครั้งเวลาเราประมวลผลข้อมูลที่เป็นคำ เราต้องเปลี่ยนคำให้เป็นตัวเลข (เรียกว่า index)\n",
    "เพราะว่าตัวเลขกินพื้นที่น้อยกว่าและจัดเก็บได้ง่ายกว่าตัวหนังสือ จงเขียนฟังก์ชันที่เปลี่ยนคำใน list เป็น list of index โดยมองหา index จาก dictionary ที่กำหนดให้\n",
    "\n",
    "dictionary จะมีลักษณะดังนี้คือ ถ้ามี key อยู่ 3 ตัว value จะเป็น 0, 1, 2 และจะไม่ซ้ำกันเช่น\n",
    "```\n",
    "{'cat': 0, 'mat':1, 'care': 2}\n",
    "```\n",
    "\n",
    "ถ้าคำนั้นไม่อยู่ใน dictionary ให้เติมคำใหม่เข้าไปและหา index ที่ไม่ซ้ำกับคำอื่น เช่น\n",
    "ถ้าเจอคำว่า 'cow' เราต้องเพิ่มคู่ key-value เข้าไปในดิกชันนารีและให้ index ใหม่ เป็น\n",
    "```\n",
    "{'cat': 0, 'mat':1, 'care': 2, 'cow':3}\n",
    "```"
   ]
  },
  {
   "cell_type": "code",
   "execution_count": 1,
   "metadata": {},
   "outputs": [],
   "source": [
    "\n",
    "def recode_word(word_list, word_to_index):\n",
    "    \"\"\"\n",
    "    This function takes a list of words and a dictionary that maps word to index\n",
    "    This function must return a tuple of (index list, updated dictionary)\n",
    "\n",
    "    ตัวอย่าง\n",
    "    >>> recode_word(['cat', 'mat', 'cat'], {'cat': 0, 'mat':1})\n",
    "    ([0, 1, 0], {'cat': 0, 'mat':1})\n",
    "\n",
    "    >>> recode_word(['cat', 'bat', 'mat', 'cat', 'eat'], {'cat': 0, 'mat':1})\n",
    "    ([0, 2, 1, 0, 3], {'cat': 0, 'mat':1, 'bat': 2, 'eat': 3})\n",
    "    \"\"\"\n"
   ]
  },
  {
   "cell_type": "markdown",
   "metadata": {},
   "source": [
    "### ข้อ 3. Recode part 2\n",
    "เมื่อเวลาเราประมวลผลข้อมูลเสร็จแล้ว เราจะต้องการแปลงค่าที่เป็น index ของคำกลับไปเป็นคำเหมือนเดิม เช่น ถ้าดิกชันนารีจากคำไป index มีลักษณะดังนี้\n",
    "```\n",
    "{'cat': 0, 'mat':1, 'bat': 2, 'eat': 3}\n",
    "```\n",
    "และข้อมูลจัดเก็บอยู่ในลิสต์ดังนี้\n",
    "```\n",
    "[0, 2, 1, 0, 3]\n",
    "```\n",
    "เราต้องให้แปลงกลับไปเป็นคำเหมือนเดิม\n",
    "```\n",
    "['cat', 'bat', 'mat', 'cat', 'eat']\n",
    "```\n",
    "จงเขียนฟังก์ชันที่แปลงลิสต์ของ index ของคำมาเป็นลิสต์ของคำ โดยใช้ข้อมูลจากดิกชันนารี\n",
    "\n",
    "*คำใบ้* สังเกตว่าดิกชันนารีที่ให้มา key เป็นคำและ value เป็น index ทำให้เปิดหาได้ยาก เราจะต้องสร้างดิกอันใหม่ขึ้นมาหนึ่งอัน และนำ value มาเป็น key นำ key เป็น value โดยการวนซ้ำไปบน `.items()`"
   ]
  },
  {
   "cell_type": "code",
   "execution_count": null,
   "metadata": {},
   "outputs": [],
   "source": [
    "def inverse_recode(index_list, word_to_index):\n",
    "    \"\"\"\n",
    "    ตัวอย่าง\n",
    "    >>> inverse_recode([0, 2, 1, 0, 3], {'cat': 0, 'mat':1, 'bat': 2, 'eat': 3})\n",
    "    ['cat', 'bat', 'mat', 'cat', 'eat']\n",
    "    \"\"\"\n",
    "    return []"
   ]
  },
  {
   "cell_type": "markdown",
   "metadata": {
    "id": "cj1LTnguXQa7"
   },
   "source": [
    "### ข้อ 4. \n",
    "\n",
    "โนโน่เป็นคนชอบเขียนโปรแกรมและกินผลไม้มาก โนโน่เลยเก็บจำนวนผลไม้ที่มีในตู้เย็นไว้ใน python dictionary เช่น `{ \"apple\": 1, \"banana\": 2 }` คือมีแอปเปิ้ล 1 ลูก กล้วย 2 ลูก ต่อมา โนโน่ซื้อตู้เย็นมาอีกตู้ จึงมี dictionary อีกอันหนึ่งไว้เก็บจำนวนผลไม้\n",
    "\n",
    "โนโน่อยากรู้จำนวนผลไม้ที่มีทั้งหมด ช่วยโนโน่หน่อย เขียนฟังก์ชันที่รับ dictionary 2 ตัวเป็น parameters (คือ dictionary ที่แทนผลไม้ในตู้ที่ 1 และ 2 ตามลำดับ) และ return dictionary แสดงจำนวนผลไม้ทั้งหมด เช่น\n",
    "\n",
    "```python\n",
    ">>> count_fruits({\"apple\": 1, \"banana\": 2}, {\"apple\": 3, \"banana\": 4})\n",
    "{\"apple\": 4, \"banana\": 6}\n",
    ">>> count_fruits({\"apple\": 5, \"banana\": 7, \"papaya\": 9}, {\"apple\": 3, \"banana\": 5, \"papaya\": 7}) \n",
    "{\"apple\": 8, \"banana\": 12, \"papaya\": 16}\n",
    "```\n",
    "\n",
    "เพื่อความง่าย ให้ถือว่าชนิดของผลไม้ที่โนโน่มีในตู้เย็นเหมือนกันทั้งสองตู้ (ถ้าตู้แรกมีแอปเปิ้ล ตู้ที่สองก็มีด้วย ถ้าตู้ที่สองมีองุ่น ตู้แรกก็มีด้วย)"
   ]
  },
  {
   "cell_type": "code",
   "execution_count": null,
   "metadata": {},
   "outputs": [],
   "source": [
    "def count_fruits(count1, count2):\n",
    "    \"\"\"\n",
    "    ตัวอย่าง\n",
    "    >>> count_fruits({\"apple\": 1, \"banana\": 2}, {\"apple\": 3, \"banana\": 4})\n",
    "    {\"apple\": 4, \"banana\": 6}\n",
    "    >>> count_fruits({\"apple\": 5, \"banana\": 7, \"papaya\": 9}, {\"apple\": 3, \"banana\": 5, \"papaya\": 7}) \n",
    "    {\"apple\": 8, \"banana\": 12, \"papaya\": 16}\n",
    "    \"\"\"\n",
    "    return {}"
   ]
  },
  {
   "cell_type": "markdown",
   "metadata": {
    "id": "xK_zR_QdXQaf"
   },
   "source": [
    "### ข้อ 5. สนุกกำลังสอง\n",
    "\n",
    "เขียนฟังก์ชันที่รับค่า n แล้ว return dictionary ที่มี key ตั้งแต่ 1 ถึง n โดย value ของแต่ละตัวคือ key ยกกำลังสอง เช่น\n",
    "\n",
    "```python \n",
    "squared_dict(3)  \n",
    ">>> { 1: 1, 2: 4, 3: 9 }\n",
    "```\n",
    "\n",
    "```python\n",
    "squared_dict(5) \n",
    ">>> { 1: 1, 2: 4, 3: 9, 4: 16, 5: 25 }\n",
    "```"
   ]
  },
  {
   "cell_type": "code",
   "execution_count": null,
   "metadata": {
    "id": "fUb9HwUbXQaj"
   },
   "outputs": [],
   "source": [
    "def squared_dict(num):\n",
    "    return {}"
   ]
  },
  {
   "cell_type": "markdown",
   "metadata": {
    "id": "qrLliswdXQaw"
   },
   "source": [
    "### ข้อ 6. สร้าง dictionary\n",
    "สมมติว่าเรามี list ของคำศัพท์ และ list ของคำแปล\n",
    "\n",
    "```python\n",
    "english_list = ['computer', 'dog', 'floor']\n",
    "thai_list = ['คอมพิวเตอร์', 'หมา', 'พื้น']\n",
    "```\n",
    "\n",
    "เขียนฟังก์ชันที่สร้าง `dict` ที่ key คือคำภาษาอังกฤษ และ value คือคำแปลภาษาไทย\n",
    "\n",
    "```python\n",
    ">>> en_th_dict = make_en_th_dictionary(english_list, thai_list)\n",
    ">>> en_th_dict['dog']\n",
    "'หมา'\n",
    "```"
   ]
  },
  {
   "cell_type": "code",
   "execution_count": 2,
   "metadata": {
    "id": "aWNx3MOGXQay"
   },
   "outputs": [],
   "source": [
    "def make_en_th_dictionary(english_list, thai_list):\n",
    "    return {}"
   ]
  },
  {
   "cell_type": "markdown",
   "metadata": {
    "id": "SKop0zx6JBhl"
   },
   "source": [
    "### ข้อ 7. Simplify\n",
    "สมมติว่าเราต้องการทำให้ข้อความเข้าใจง่ายขึ้นโดยการแทนที่คำยากด้วยคำง่าย โดยเราจะเก็บคู่ของคำยาก คำง่ายไว้ใน ใน dictionary ดังนี้\n",
    "```\n",
    "censor_dict = {\n",
    "    'utilize': 'use',\n",
    "    'eulogize': 'praise',\n",
    "    'annihilate': 'destroy',\n",
    "    'apprise': 'warn',\n",
    "    'impending': 'upcoming'\n",
    "}\n",
    "```\n",
    "เขียนฟังก์ชั่นที่เปลี่ยน string ภาษาอังกฤษ เป็น string ที่คำยากถูกแทนด้วยคำง่ายที่อยู่ใน dictionary\n",
    "\n",
    "Hint:\n",
    "\n",
    "* เปลี่ยน `text` ให้เป็น list ก่อน\n",
    "* จากนั้นก็เช็คว่าคำในลิสต์อยู่ในดิกมั้ย ถ้าอยู่ก็แก้ไขลิสต์ตรงตำแหน่งนั้น (ใช้ `for i in range(len(...))`)"
   ]
  },
  {
   "cell_type": "code",
   "execution_count": null,
   "metadata": {
    "id": "KOEd9jh6JBhm"
   },
   "outputs": [],
   "source": [
    "def simplify_eng(text):\n",
    "    censor_dict = {\n",
    "        'utilize': 'use',\n",
    "        'eulogize': 'praise',\n",
    "        'annihilate': 'destroy',\n",
    "        'apprise': 'warn',\n",
    "        'impending': 'upcoming'\n",
    "    }\n",
    "    \n",
    "    return ''"
   ]
  },
  {
   "cell_type": "markdown",
   "metadata": {},
   "source": [
    "## โจทย์เรื่องเซ็ต"
   ]
  },
  {
   "cell_type": "markdown",
   "metadata": {},
   "source": [
    "### ข้อ 1 - คำที่ไม่ซ้ำ\n",
    "จงเขียนฟังก์ชันที่รับสตริงที่เป็นประโยคภาษาอังกฤษแบบไม่มีเครื่องหมายวรรคตอนใด ๆ (ยกเว้นช่องว่าง) และเป็นตัวพิมพ์เล็กทั้งหมด ให้ฟังก์ชันนี้ return คำทั้งหมดที่เจอในสตริง เรียงตามลำดับตัวอักษรรวมกันเป็นสตริงเดียวไม่มีคำที่ซ้ำ (duplicate) แต่ละคำถูกคั่นด้วย `|`"
   ]
  },
  {
   "cell_type": "code",
   "execution_count": null,
   "metadata": {},
   "outputs": [],
   "source": [
    "def unique_words(text):\n",
    "    \"\"\"\n",
    "    >>> unique_words('hello world and practice makes perfect and hello world again')\n",
    "    'again|and|hello|makes|perfect|practice|world'\n",
    "    \"\"\"\n",
    "    return ''"
   ]
  },
  {
   "cell_type": "markdown",
   "metadata": {},
   "source": [
    "### ข้อ 2 - ตัวอักษรที่ไม่ซ้ำ\n",
    "จงเขียนฟังก์ชันที่หาว่าสตริงที่ได้รับมามีตัวอักษรซ้ำกันบ้างหรือไม่ "
   ]
  },
  {
   "cell_type": "code",
   "execution_count": null,
   "metadata": {},
   "outputs": [],
   "source": [
    "def is_all_distinct_characters(word):\n",
    "    \"\"\"\n",
    "    Examples:\n",
    "    >>> is_all_distinct_characters('abc')\n",
    "    True    \n",
    "    >>> is_all_distinct_characters('aA')\n",
    "    True\n",
    "    >>> is_all_distinct_characters('abca')\n",
    "    False\n",
    "    >>> is_all_distinct_characters('Alexander') # ตัว e ซ้ำ\n",
    "    False\n",
    "    \"\"\"\n",
    "    return ''"
   ]
  },
  {
   "cell_type": "markdown",
   "metadata": {},
   "source": [
    "### ข้อ 3 - สินค้าที่ร้านอื่นไม่มี\n",
    "เขียนฟังก์ชันที่เปรียบเทียบรายการสินค้าของร้าน A กับร้าน B โดยให้หาว่าอะไรบ้างที่ร้าน A ขายแต่ร้าน B ไม่ได้ขาย ฟังก์ชันนี้รับ list ของสตริงที่แสดงรายการสินค้าจากร้าน A และอีก list แสดงรายการสินค้าของร้าน B ฟังก์ชันนี้ต้อง return list ของสินค้า"
   ]
  },
  {
   "cell_type": "code",
   "execution_count": null,
   "metadata": {},
   "outputs": [],
   "source": [
    "def find_business_opportunities(storeA_items, storeB_items):\n",
    "    \"\"\"\n",
    "    \n",
    "    Examples:\n",
    "    >>> list1 = ['razor blade', 'soap', 'shampoo', 'liquid detergent', 'toothbrush']\n",
    "    >>> list2 = ['soap', 'conditioner', 'shampoo', 'toothpaste']\n",
    "    >>> find_business_opportunities(list1, list2)\n",
    "    ['razor blade', 'liquid detergent', 'toothbrush']\n",
    "    \"\"\"\n",
    "    return []"
   ]
  },
  {
   "cell_type": "markdown",
   "metadata": {},
   "source": [
    "### ข้อ 4 - Out of vocabulary\n",
    "เขียนฟังก์ชันที่รับ list ของคำ (สตริง) และ vocabulary ซึ่งเป็นเซ็ตของสตริง ให้ฟังก์ชันนี้ return จำนวนคำในลิสต์ที่ไม่อยู่ใน vocabulary ได้รับมา\n",
    "\n",
    "ข้อนี้ให้ลองแก้สองวิธี\n",
    "\n",
    "1) แบบใช้ for loop ลงไปบน `word_list`\n",
    "2) แปลง `word_list` ให้เป็นเซ็ต จากนั้นใช้เซ็ต operation แก้โจทย์"
   ]
  },
  {
   "cell_type": "code",
   "execution_count": null,
   "metadata": {},
   "outputs": [],
   "source": [
    "def count_oov_words(word_list, vocab_set):\n",
    "    return 0"
   ]
  },
  {
   "cell_type": "markdown",
   "metadata": {},
   "source": [
    "### ข้อ 5 - Dinner\n",
    "\n",
    "เขียนฟังก์ชันชื่อ agree_dinner ที่รับ parameter เป็นชื่อ list จำนวน 3 list ซึ่งแต่ละ list จะเป็นประเภทของอาหารที่เพื่อนแต่ละคนอยากทาน ให้ฟังก์ชันนี้ return ค่าเป็น list ของประเภทอาหารที่ทุกคนอยากทาน โดยเรียงลำดับตามตัวอักษร เช่น\n",
    "```python\n",
    "agree_dinner(\n",
    "  ['thai', 'chinese', 'japanese', 'shabu'],\n",
    "  ['shabu', 'japanese', 'yakiniku', 'italian'],\n",
    "  ['greek', 'shabu', 'chinese', 'japanese']\n",
    ")\n",
    "```\n",
    "ฟังก์ชันต้อง return `['japanese', 'shabu']`"
   ]
  },
  {
   "cell_type": "code",
   "execution_count": null,
   "metadata": {},
   "outputs": [],
   "source": [
    "def agree_dinner(list1, list2, list3):\n",
    "    return []"
   ]
  }
 ],
 "metadata": {
  "colab": {
   "collapsed_sections": [],
   "name": "PC5 Lists.ipynb",
   "provenance": []
  },
  "kernelspec": {
   "display_name": "Python 3.8.12",
   "language": "python",
   "name": "python3"
  },
  "language_info": {
   "codemirror_mode": {
    "name": "ipython",
    "version": 3
   },
   "file_extension": ".py",
   "mimetype": "text/x-python",
   "name": "python",
   "nbconvert_exporter": "python",
   "pygments_lexer": "ipython3",
   "version": "3.8.12"
  },
  "vscode": {
   "interpreter": {
    "hash": "34368ba4908ea1be08ba769dfb7764ab7f8ead2384ebb5604cb86637573696f7"
   }
  }
 },
 "nbformat": 4,
 "nbformat_minor": 4
}
