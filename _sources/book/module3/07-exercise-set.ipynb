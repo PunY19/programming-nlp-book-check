{
 "cells": [
  {
   "cell_type": "markdown",
   "metadata": {},
   "source": [
    "# โจทย์: เซ็ต"
   ]
  },
  {
   "cell_type": "markdown",
   "metadata": {},
   "source": [
    "## ข้อ 1 - คำที่ไม่ซ้ำ\n",
    "จงเขียนฟังก์ชันที่รับสตริงที่เป็นประโยคภาษาอังกฤษแบบไม่มีเครื่องหมายวรรคตอนใด ๆ (ยกเว้นช่องว่าง) และเป็นตัวพิมพ์เล็กทั้งหมด ให้ฟังก์ชันนี้ return คำทั้งหมดที่เจอในสตริง เรียงตามลำดับตัวอักษรรวมกันเป็นสตริงเดียวไม่มีคำที่ซ้ำ (duplicate) แต่ละคำถูกคั่นด้วย `|`"
   ]
  },
  {
   "cell_type": "code",
   "execution_count": null,
   "metadata": {},
   "outputs": [],
   "source": [
    "def unique_words(text):\n",
    "    \"\"\"\n",
    "    >>> unique_words('hello world and practice makes perfect and hello world again')\n",
    "    'again|and|hello|makes|perfect|practice|world'\n",
    "    \"\"\"\n",
    "    return ''"
   ]
  },
  {
   "cell_type": "markdown",
   "metadata": {},
   "source": [
    "## ข้อ 2 - ตัวอักษรที่ไม่ซ้ำ\n",
    "จงเขียนฟังก์ชันที่หาว่าสตริงที่ได้รับมามีตัวอักษรซ้ำกันบ้างหรือไม่ "
   ]
  },
  {
   "cell_type": "code",
   "execution_count": null,
   "metadata": {},
   "outputs": [],
   "source": [
    "def is_all_distinct_characters(word):\n",
    "    \"\"\"\n",
    "    Examples:\n",
    "    >>> is_all_distinct_characters('abc')\n",
    "    True    \n",
    "    >>> is_all_distinct_characters('aA')\n",
    "    True\n",
    "    >>> is_all_distinct_characters('abca')\n",
    "    False\n",
    "    >>> is_all_distinct_characters('Alexander') # ตัว e ซ้ำ\n",
    "    False\n",
    "    \"\"\"\n",
    "    return ''"
   ]
  },
  {
   "cell_type": "markdown",
   "metadata": {},
   "source": [
    "## ข้อ 3 - สินค้าที่ร้านอื่นไม่มี\n",
    "เขียนฟังก์ชันที่เปรียบเทียบรายการสินค้าของร้าน A กับร้าน B โดยให้หาว่าอะไรบ้างที่ร้าน A ขายแต่ร้าน B ไม่ได้ขาย ฟังก์ชันนี้รับ list ของสตริงที่แสดงรายการสินค้าจากร้าน A และอีก list แสดงรายการสินค้าของร้าน B ฟังก์ชันนี้ต้อง return list ของสินค้า"
   ]
  },
  {
   "cell_type": "code",
   "execution_count": null,
   "metadata": {},
   "outputs": [],
   "source": [
    "def find_business_opportunities(storeA_items, storeB_items):\n",
    "    \"\"\"\n",
    "    \n",
    "    Examples:\n",
    "    >>> list1 = ['razor blade', 'soap', 'shampoo', 'liquid detergent', 'toothbrush']\n",
    "    >>> list2 = ['soap', 'conditioner', 'shampoo', 'toothpaste']\n",
    "    >>> find_business_opportunities(list1, list2)\n",
    "    ['razor blade', 'liquid detergent', 'toothbrush']\n",
    "    \"\"\"\n",
    "    return []"
   ]
  },
  {
   "cell_type": "markdown",
   "metadata": {},
   "source": [
    "## ข้อ 4 - Out of vocabulary\n",
    "เขียนฟังก์ชันที่รับ list ของคำ (สตริง) และ vocabulary ซึ่งเป็นเซ็ตของสตริง ให้ฟังก์ชันนี้ return จำนวนคำในลิสต์ที่ไม่อยู่ใน vocabulary ได้รับมา\n",
    "\n",
    "ข้อนี้ให้ลองแก้สองวิธี\n",
    "\n",
    "1) แบบใช้ for loop ลงไปบน `word_list`\n",
    "2) แปลง `word_list` ให้เป็นเซ็ต จากนั้นใช้เซ็ต operation แก้โจทย์"
   ]
  },
  {
   "cell_type": "code",
   "execution_count": null,
   "metadata": {},
   "outputs": [],
   "source": [
    "def count_oov_words(word_list, vocab_set):\n",
    "    return 0"
   ]
  },
  {
   "cell_type": "markdown",
   "metadata": {},
   "source": [
    "## ข้อ 5 - Dinner\n",
    "\n",
    "เขียนฟังก์ชันชื่อ agree_dinner ที่รับ parameter เป็นชื่อ list จำนวน 3 list ซึ่งแต่ละ list จะเป็นประเภทของอาหารที่เพื่อนแต่ละคนอยากทาน ให้ฟังก์ชันนี้ return ค่าเป็น list ของประเภทอาหารที่ทุกคนอยากทาน โดยเรียงลำดับตามตัวอักษร เช่น\n",
    "```python\n",
    "agree_dinner(\n",
    "  ['thai', 'chinese', 'japanese', 'shabu'],\n",
    "  ['shabu', 'japanese', 'yakiniku', 'italian'],\n",
    "  ['greek', 'shabu', 'chinese', 'japanese']\n",
    ")\n",
    "```\n",
    "ฟังก์ชันต้อง return `['japanese', 'shabu']`"
   ]
  },
  {
   "cell_type": "code",
   "execution_count": null,
   "metadata": {},
   "outputs": [],
   "source": [
    "def agree_dinner(list1, list2, list3):\n",
    "    return []"
   ]
  },
  {
   "cell_type": "markdown",
   "metadata": {},
   "source": [
    "## ข้อ 6 - Codeswitching\n",
    "Codeswitch เป็นปรากฏการณ์ทางภาษาศาสตร์อย่างหนึ่ง เกิดขึ้นเมื่อผู้พูดสองภาษา หรือสองสำเนียงปน ๆ กัน (เช่น การพูดไทยคำอังกฤษคำ เป็นต้น) เขียนฟังก์ชันที่นับว่าในลิสต์ของคำที่ได้มา มีคำที่สะกดด้วยตัวภาษาอังกฤษกีคำ และคำที่สะกดด้วยตัวภาษาไทยกี่คำ โดยให้คืนผลลัพท์เป็นดิกชันนารีที่ key เป็นรหัสภาษา (en สำหรับภาษาอังกฤษ และ th สำหรับภาษาไทย) และ value เป็นจำนวนคำของแต่ละภาษา"
   ]
  },
  {
   "cell_type": "code",
   "execution_count": null,
   "metadata": {},
   "outputs": [],
   "source": [
    "def count_en_th_words(word_list):\n",
    "    \"\"\"\n",
    "    \n",
    "    Example:\n",
    "    >>> count_en_th_words(['รองเท้า', 'ไม่', 'match', 'กับ', 'coat', 'เลย'])\n",
    "    {'en': 2, 'th': 4}\n",
    "    \"\"\"\n",
    "    return {}"
   ]
  }
 ],
 "metadata": {
  "language_info": {
   "name": "python"
  },
  "orig_nbformat": 4
 },
 "nbformat": 4,
 "nbformat_minor": 2
}
