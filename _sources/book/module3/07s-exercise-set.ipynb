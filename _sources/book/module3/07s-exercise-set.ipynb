{
 "cells": [
  {
   "cell_type": "markdown",
   "metadata": {},
   "source": [
    "# เฉลยโจทย์: เซ็ต"
   ]
  },
  {
   "cell_type": "markdown",
   "metadata": {},
   "source": [
    "## ข้อ 1 - คำที่ไม่ซ้ำ\n",
    "จงเขียนฟังก์ชันที่รับสตริงที่เป็นประโยคภาษาอังกฤษแบบไม่มีเครื่องหมายวรรคตอนใด ๆ (ยกเว้นช่องว่าง) และเป็นตัวพิมพ์เล็กทั้งหมด ให้ฟังก์ชันนี้ return คำทั้งหมดที่เจอในสตริง เรียงตามลำดับตัวอักษรรวมกันเป็นสตริงเดียวไม่มีคำที่ซ้ำ (duplicate) แต่ละคำถูกคั่นด้วย `|`"
   ]
  },
  {
   "cell_type": "code",
   "execution_count": 1,
   "metadata": {},
   "outputs": [],
   "source": [
    "def unique_words(text):\n",
    "    \"\"\"\n",
    "    >>> unique_words('hello world and practice makes perfect and hello world again')\n",
    "    'again|and|hello|makes|perfect|practice|world'\n",
    "    \"\"\"\n",
    "    tokens = text.split(\" \")  # แยกข้อความเป็น token ด้วยช่องว่าง\n",
    "    token_set = set(tokens)  # สร้างเซ็ตของ token ที่ไม่ซ้ำกัน\n",
    "    sort_words_list = sorted(list(token_set))  # เรียงลำดับคำและแปลงกลับเป็นลิสต์\n",
    "    sort_words = '|'.join(sort_words_list)  # รวมคำในลิสต์ด้วยเครื่องหมาย |\n",
    "    return sort_words"
   ]
  },
  {
   "cell_type": "code",
   "execution_count": 2,
   "metadata": {},
   "outputs": [
    {
     "data": {
      "text/plain": [
       "'again|and|hello|makes|perfect|practice|world'"
      ]
     },
     "execution_count": 2,
     "metadata": {},
     "output_type": "execute_result"
    }
   ],
   "source": [
    "text = 'hello world and practice makes perfect and hello world again'\n",
    "unique_words(text)"
   ]
  },
  {
   "cell_type": "markdown",
   "metadata": {},
   "source": [
    "## ข้อ 2 - ตัวอักษรที่ไม่ซ้ำ\n",
    "จงเขียนฟังก์ชันที่หาว่าสตริงที่ได้รับมามีตัวอักษรซ้ำกันบ้างหรือไม่ "
   ]
  },
  {
   "cell_type": "code",
   "execution_count": 3,
   "metadata": {},
   "outputs": [],
   "source": [
    "def is_all_distinct_characters(word):\n",
    "    \"\"\"\n",
    "    Examples:\n",
    "    >>> is_all_distinct_characters('abc')\n",
    "    True    \n",
    "    >>> is_all_distinct_characters('aA')\n",
    "    True\n",
    "    >>> is_all_distinct_characters('abca')\n",
    "    False\n",
    "    >>> is_all_distinct_characters('Alexander') # ตัว e ซ้ำ\n",
    "    False\n",
    "    \"\"\"\n",
    "    # นับจำนวนตัวอักษรเดิม\n",
    "    original_length = len(word)\n",
    "    unique_character_set = set()\n",
    "    # สร้างเซตเพื่อเก็บตัวอักษรที่ไม่ซ้ำกัน\n",
    "    for char in word:\n",
    "        unique_character_set.add(char)\n",
    "    # นับจำนวนตัวอักษรที่ไม่ซ้ำกัน\n",
    "    unique_length = len(unique_character_set)\n",
    "\n",
    "    # เปรียบเทียบจำนวนตัวอักษรเดิมและจำนวนตัวอักษรที่ไม่ซ้ำกัน\n",
    "    if original_length != unique_length:\n",
    "        return False\n",
    "    else:\n",
    "        return True"
   ]
  },
  {
   "cell_type": "code",
   "execution_count": 4,
   "metadata": {},
   "outputs": [
    {
     "name": "stdout",
     "output_type": "stream",
     "text": [
      "True\n",
      "True\n",
      "False\n",
      "False\n"
     ]
    }
   ],
   "source": [
    "print(is_all_distinct_characters('abc'))\n",
    "print(is_all_distinct_characters('aA'))\n",
    "print(is_all_distinct_characters('abca'))\n",
    "print(is_all_distinct_characters('Alexander'))"
   ]
  },
  {
   "cell_type": "markdown",
   "metadata": {},
   "source": [
    "## ข้อ 3 - สินค้าที่ร้านอื่นไม่มี\n",
    "เขียนฟังก์ชันที่เปรียบเทียบรายการสินค้าของร้าน A กับร้าน B โดยให้หาว่าอะไรบ้างที่ร้าน A ขายแต่ร้าน B ไม่ได้ขาย ฟังก์ชันนี้รับ list ของสตริงที่แสดงรายการสินค้าจากร้าน A และอีก list แสดงรายการสินค้าของร้าน B ฟังก์ชันนี้ต้อง return list ของสินค้า"
   ]
  },
  {
   "cell_type": "code",
   "execution_count": 5,
   "metadata": {},
   "outputs": [],
   "source": [
    "def find_business_opportunities(storeA_items, storeB_items):\n",
    "    \"\"\"\n",
    "    \n",
    "    Examples:\n",
    "    >>> list1 = ['razor blade', 'soap', 'shampoo', 'liquid detergent', 'toothbrush']\n",
    "    >>> list2 = ['soap', 'conditioner', 'shampoo', 'toothpaste']\n",
    "    >>> find_business_opportunities(list1, list2)\n",
    "    ['razor blade', 'liquid detergent', 'toothbrush']\n",
    "    \"\"\"\n",
    "    # สร้างเซ็ตของสินค้าในร้าน A และร้าน B\n",
    "    items_A_set = set(storeA_items)\n",
    "    items_B_set = set(storeB_items)\n",
    "    # หาสินค้าที่มีเฉพาะในร้าน A โดยไม่มีในร้าน B\n",
    "    only_A_set = items_A_set - items_B_set\n",
    "    # แปลงกลับเป็นลิสต์และคืนค่า\n",
    "    return list(only_A_set)"
   ]
  },
  {
   "cell_type": "code",
   "execution_count": 6,
   "metadata": {},
   "outputs": [
    {
     "data": {
      "text/plain": [
       "['toothbrush', 'liquid detergent', 'razor blade']"
      ]
     },
     "execution_count": 6,
     "metadata": {},
     "output_type": "execute_result"
    }
   ],
   "source": [
    "list1 = ['razor blade', 'soap', 'shampoo', 'liquid detergent', 'toothbrush']\n",
    "list2 = ['soap', 'conditioner', 'shampoo', 'toothpaste']\n",
    "find_business_opportunities(list1, list2)"
   ]
  },
  {
   "cell_type": "markdown",
   "metadata": {},
   "source": [
    "## ข้อ 4 - Out of vocabulary\n",
    "เขียนฟังก์ชันที่รับ list ของคำ (สตริง) และ vocabulary ซึ่งเป็นเซ็ตของสตริง ให้ฟังก์ชันนี้ return จำนวนคำในลิสต์ที่ไม่อยู่ใน vocabulary ได้รับมา\n",
    "\n",
    "ข้อนี้ให้ลองแก้สองวิธี\n",
    "\n",
    "1) แบบใช้ for loop ลงไปบน `word_list`\n",
    "2) แปลง `word_list` ให้เป็นเซ็ต จากนั้นใช้เซ็ต operation แก้โจทย์"
   ]
  },
  {
   "cell_type": "code",
   "execution_count": 8,
   "metadata": {},
   "outputs": [],
   "source": [
    "# 1) แบบใช้ for loop ลงไปบน word_list\n",
    "def count_oov_words(word_list, vocab_set):\n",
    "  invocab_list = [w for w in word_list if w in vocab_set]\n",
    "  return len(word_list) - len(invocab_list)\n",
    "\n",
    "# 2) แปลง word_list ให้เป็นเซ็ต จากนั้นใช้เซ็ต operation แก้โจทย์\n",
    "def count_oov_words2(word_list, vocab_set):\n",
    "  word_set = set(word_list)\n",
    "  notinvocab_set = vocab_set.intersection(word_set)\n",
    "  return len(word_list) - len(notinvocab_set)"
   ]
  },
  {
   "cell_type": "code",
   "execution_count": 9,
   "metadata": {},
   "outputs": [
    {
     "name": "stdout",
     "output_type": "stream",
     "text": [
      "2\n",
      "2\n"
     ]
    }
   ],
   "source": [
    "word_list = ['cat','sun','dog','sea']\n",
    "vocab_set = {'cat','sun'}\n",
    "print(count_oov_words(word_list, vocab_set))\n",
    "print(count_oov_words2(word_list, vocab_set))"
   ]
  },
  {
   "cell_type": "markdown",
   "metadata": {},
   "source": [
    "## ข้อ 5 - Dinner\n",
    "\n",
    "เขียนฟังก์ชันชื่อ agree_dinner ที่รับ parameter เป็นชื่อ list จำนวน 3 list ซึ่งแต่ละ list จะเป็นประเภทของอาหารที่เพื่อนแต่ละคนอยากทาน ให้ฟังก์ชันนี้ return ค่าเป็น list ของประเภทอาหารที่ทุกคนอยากทาน โดยเรียงลำดับตามตัวอักษร เช่น\n",
    "```python\n",
    "agree_dinner(\n",
    "  ['thai', 'chinese', 'japanese', 'shabu'],\n",
    "  ['shabu', 'japanese', 'yakiniku', 'italian'],\n",
    "  ['greek', 'shabu', 'chinese', 'japanese']\n",
    ")\n",
    "```\n",
    "ฟังก์ชันต้อง return `['japanese', 'shabu']`"
   ]
  },
  {
   "cell_type": "code",
   "execution_count": 10,
   "metadata": {},
   "outputs": [],
   "source": [
    "# 1) แบบใช้ for loop ลงไปบน list\n",
    "def agree_dinner(list1, list2, list3):\n",
    "  agree_list = [item for item in list1 if (item in list2) and (item in list3)]\n",
    "  return agree_list\n",
    "\n",
    "# 2) แปลง list ให้เป็นเซ็ต จากนั้นใช้เซ็ต operation แก้โจทย์\n",
    "def agree_dinner2(list1, list2, list3):\n",
    "  agree_set = (set(list1).intersection(set(list2))).intersection(set(list3))\n",
    "  return list(agree_set)"
   ]
  },
  {
   "cell_type": "code",
   "execution_count": 11,
   "metadata": {},
   "outputs": [
    {
     "data": {
      "text/plain": [
       "['japanese', 'shabu']"
      ]
     },
     "execution_count": 11,
     "metadata": {},
     "output_type": "execute_result"
    }
   ],
   "source": [
    "agree_dinner2(\n",
    "  ['thai', 'chinese', 'japanese', 'shabu'],\n",
    "  ['shabu', 'japanese', 'yakiniku', 'italian'],\n",
    "  ['greek', 'shabu', 'chinese', 'japanese']\n",
    ")"
   ]
  },
  {
   "cell_type": "markdown",
   "metadata": {},
   "source": [
    "## ข้อ 6 - Codeswitching\n",
    "Codeswitch เป็นปรากฏการณ์ทางภาษาศาสตร์อย่างหนึ่ง เกิดขึ้นเมื่อผู้พูดสองภาษา หรือสองสำเนียงปน ๆ กัน (เช่น การพูดไทยคำอังกฤษคำ เป็นต้น) เขียนฟังก์ชันที่นับว่าในลิสต์ของคำที่ได้มา มีคำที่สะกดด้วยตัวภาษาอังกฤษกีคำ และคำที่สะกดด้วยตัวภาษาไทยกี่คำ โดยให้คืนผลลัพท์เป็นดิกชันนารีที่ key เป็นรหัสภาษา (en สำหรับภาษาอังกฤษ และ th สำหรับภาษาไทย) และ value เป็นจำนวนคำของแต่ละภาษา"
   ]
  },
  {
   "cell_type": "code",
   "execution_count": 13,
   "metadata": {},
   "outputs": [],
   "source": [
    "import re # import โมดูล regular expression เพื่อใช้ในการหาคำ\n",
    "\n",
    "def count_en_th_words(word_list):\n",
    "    \"\"\"\n",
    "    \n",
    "    Example:\n",
    "    >>> count_en_th_words(['รองเท้า', 'ไม่', 'match', 'กับ', 'coat', 'เลย'])\n",
    "    {'en': 2, 'th': 4}\n",
    "    \"\"\"\n",
    "    # สร้าง dict ที่มีค่าเริ่มต้นของจำนวนคำภาษาอังกฤษและภาษาไทยเป็น 0\n",
    "    result_dict = {'en': 0, 'th': 0}\n",
    "    # วนลูปผ่านคำในรายการคำ\n",
    "    for w in word_list:\n",
    "        # ตรวจสอบว่าคำเป็นภาษาอังกฤษหรือไม่\n",
    "        if re.search('[a-zA-Z]', w):\n",
    "            # ถ้าใช่ เพิ่มจำนวนคำภาษาอังกฤษขึ้น 1\n",
    "            result_dict['en'] += 1\n",
    "        else:\n",
    "            # ถ้าไม่ใช่ เพิ่มจำนวนคำภาษาไทยขึ้น 1\n",
    "            result_dict['th'] += 1\n",
    "\n",
    "    return result_dict"
   ]
  },
  {
   "cell_type": "code",
   "execution_count": 14,
   "metadata": {},
   "outputs": [
    {
     "data": {
      "text/plain": [
       "{'en': 2, 'th': 4}"
      ]
     },
     "execution_count": 14,
     "metadata": {},
     "output_type": "execute_result"
    }
   ],
   "source": [
    "count_en_th_words(['รองเท้า', 'ไม่', 'match', 'กับ', 'coat', 'เลย'])"
   ]
  }
 ],
 "metadata": {
  "kernelspec": {
   "display_name": "base",
   "language": "python",
   "name": "python3"
  },
  "language_info": {
   "codemirror_mode": {
    "name": "ipython",
    "version": 3
   },
   "file_extension": ".py",
   "mimetype": "text/x-python",
   "name": "python",
   "nbconvert_exporter": "python",
   "pygments_lexer": "ipython3",
   "version": "3.9.13"
  },
  "orig_nbformat": 4
 },
 "nbformat": 4,
 "nbformat_minor": 2
}
