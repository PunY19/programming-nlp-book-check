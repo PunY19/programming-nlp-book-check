{
 "cells": [
  {
   "cell_type": "code",
   "execution_count": 2,
   "metadata": {},
   "outputs": [],
   "source": [
    "import openai\n",
    "#openai.api_key = \"รหัสกุญแจเอพีไอที่ได้จากการลงทะเบียน\"\n",
    "messages_so_far = [\n",
    "        {\"role\": \"system\", \"content\": \"You are a helpful assistant.\"},\n",
    "        {\"role\": \"user\", \"content\": \"Who founded Chulalongkorn University?\"}\n",
    "    ]\n",
    "response = openai.chat.completions.create(\n",
    "    model=\"gpt-4o\",\n",
    "    messages=messages_so_far,\n",
    ")"
   ]
  },
  {
   "cell_type": "code",
   "execution_count": null,
   "metadata": {},
   "outputs": [],
   "source": []
  },
  {
   "cell_type": "code",
   "execution_count": 11,
   "metadata": {},
   "outputs": [
    {
     "data": {
      "text/plain": [
       "{'id': 'chatcmpl-9oRXpIyt3P9bDguDmXE44oB6UG1nR',\n",
       " 'choices': [{'finish_reason': 'stop',\n",
       "   'index': 0,\n",
       "   'logprobs': None,\n",
       "   'message': {'content': 'Chulalongkorn University, the oldest university in Thailand, was founded by King Vajiravudh (Rama VI) in 1917. The university was named after his father, King Chulalongkorn (Rama V), who had initiated the idea of creating a modern education system in Thailand. King Chulalongkorn had established several institutions that laid the groundwork for the university, but it was his son, King Vajiravudh, who officially established the university as a higher education institution.',\n",
       "    'role': 'assistant'}}],\n",
       " 'created': 1721809309,\n",
       " 'model': 'gpt-4o-2024-05-13',\n",
       " 'object': 'chat.completion',\n",
       " 'system_fingerprint': 'fp_400f27fa1f',\n",
       " 'usage': {'completion_tokens': 105, 'prompt_tokens': 26, 'total_tokens': 131}}"
      ]
     },
     "execution_count": 11,
     "metadata": {},
     "output_type": "execute_result"
    }
   ],
   "source": [
    "response.to_dict()"
   ]
  },
  {
   "cell_type": "code",
   "execution_count": 12,
   "metadata": {},
   "outputs": [
    {
     "name": "stdout",
     "output_type": "stream",
     "text": [
      "Chulalongkorn University, the oldest university in Thailand, was founded by King Vajiravudh (Rama VI) in 1917. The university was named after his father, King Chulalongkorn (Rama V), who had initiated the idea of creating a modern education system in Thailand. King Chulalongkorn had established several institutions that laid the groundwork for the university, but it was his son, King Vajiravudh, who officially established the university as a higher education institution.\n"
     ]
    }
   ],
   "source": [
    "print(response.choices[0].message.content)"
   ]
  },
  {
   "cell_type": "code",
   "execution_count": 13,
   "metadata": {},
   "outputs": [],
   "source": [
    "messages_so_far.append(response.choices[0].message)"
   ]
  },
  {
   "cell_type": "code",
   "execution_count": 14,
   "metadata": {},
   "outputs": [
    {
     "data": {
      "text/plain": [
       "[{'role': 'system', 'content': 'You are a helpful assistant.'},\n",
       " {'role': 'user', 'content': 'Who founded Chulalongkorn University?'},\n",
       " ChatCompletionMessage(content='Chulalongkorn University, the oldest university in Thailand, was founded by King Vajiravudh (Rama VI) in 1917. The university was named after his father, King Chulalongkorn (Rama V), who had initiated the idea of creating a modern education system in Thailand. King Chulalongkorn had established several institutions that laid the groundwork for the university, but it was his son, King Vajiravudh, who officially established the university as a higher education institution.', role='assistant', function_call=None, tool_calls=None)]"
      ]
     },
     "execution_count": 14,
     "metadata": {},
     "output_type": "execute_result"
    }
   ],
   "source": [
    "messages_so_far"
   ]
  },
  {
   "cell_type": "code",
   "execution_count": 18,
   "metadata": {},
   "outputs": [],
   "source": [
    "new_messages = messages_so_far + [{\"role\": \"user\", \"content\": \"How big is it?\"}]"
   ]
  },
  {
   "cell_type": "code",
   "execution_count": 19,
   "metadata": {},
   "outputs": [],
   "source": [
    "response = openai.chat.completions.create(\n",
    "    model=\"gpt-4o\",\n",
    "    messages=new_messages,\n",
    ")"
   ]
  },
  {
   "cell_type": "code",
   "execution_count": 20,
   "metadata": {},
   "outputs": [
    {
     "data": {
      "text/plain": [
       "{'id': 'chatcmpl-9oRYv1d64X4W3QjBIB53QyTCx03hf',\n",
       " 'choices': [{'finish_reason': 'stop',\n",
       "   'index': 0,\n",
       "   'logprobs': None,\n",
       "   'message': {'content': \"Chulalongkorn University is located in Bangkok, Thailand, and covers a substantial area. The main campus spans approximately 456 acres (about 1.85 square kilometers) in the heart of the city's Pathum Wan District. The campus is known for its well-maintained grounds, historic buildings, and modern facilities. \\n\\nAdditionally, the university has fields in nearby areas that are used for agricultural studies and research, further contributing to its total land area. The main campus's central location and extensive grounds make it a prominent and significant educational landmark in Bangkok.\",\n",
       "    'role': 'assistant'}}],\n",
       " 'created': 1721809377,\n",
       " 'model': 'gpt-4o-2024-05-13',\n",
       " 'object': 'chat.completion',\n",
       " 'system_fingerprint': 'fp_400f27fa1f',\n",
       " 'usage': {'completion_tokens': 112,\n",
       "  'prompt_tokens': 144,\n",
       "  'total_tokens': 256}}"
      ]
     },
     "execution_count": 20,
     "metadata": {},
     "output_type": "execute_result"
    }
   ],
   "source": [
    "response.to_dict()"
   ]
  },
  {
   "cell_type": "code",
   "execution_count": 21,
   "metadata": {},
   "outputs": [
    {
     "data": {
      "text/plain": [
       "[{'role': 'system', 'content': 'You are a helpful assistant.'},\n",
       " {'role': 'user', 'content': 'Who founded Chulalongkorn University?'},\n",
       " ChatCompletionMessage(content='Chulalongkorn University, the oldest university in Thailand, was founded by King Vajiravudh (Rama VI) in 1917. The university was named after his father, King Chulalongkorn (Rama V), who had initiated the idea of creating a modern education system in Thailand. King Chulalongkorn had established several institutions that laid the groundwork for the university, but it was his son, King Vajiravudh, who officially established the university as a higher education institution.', role='assistant', function_call=None, tool_calls=None),\n",
       " {'role': 'user', 'content': 'How big is it?'}]"
      ]
     },
     "execution_count": 21,
     "metadata": {},
     "output_type": "execute_result"
    }
   ],
   "source": [
    "new_messages"
   ]
  },
  {
   "cell_type": "code",
   "execution_count": 23,
   "metadata": {},
   "outputs": [
    {
     "name": "stdout",
     "output_type": "stream",
     "text": [
      "Chulalongkorn University is located in Bangkok, Thailand, and covers a substantial area. The main campus spans approximately 456 acres (about 1.85 square kilometers) in the heart of the city's Pathum Wan District. The campus is known for its well-maintained grounds, historic buildings, and modern facilities. \n",
      "\n",
      "Additionally, the university has fields in nearby areas that are used for agricultural studies and research, further contributing to its total land area. The main campus's central location and extensive grounds make it a prominent and significant educational landmark in Bangkok.\n"
     ]
    }
   ],
   "source": [
    "print(response.choices[0].message.content)"
   ]
  },
  {
   "cell_type": "code",
   "execution_count": 3,
   "metadata": {},
   "outputs": [],
   "source": [
    "text = \"\"\"ร้านนี้อยู่แถวบรรทัดทอง จอดรถตรงสวนหลวงสแควร์แล้วเดินมานิดเดียวก็ถึงแล้ว คิวยาวมากกกกก ควรจะโหลดแอพคิวคิวแล้วก็กดจองคิว แล้วก็เดินไปกินอย่างอื่นก็ได้ สักประมาณชั่วโมงกว่า ๆ น่าจะพอได้ รอดูคิวบนแอพด้วยนะ ไม่งั้นเค้าข้าม มาร้านนี้ต้องมากินขนมปังปิ้งอยู่แล้ว เราลองเป็นเซ็ตที่เป็นขนมปังปิ้งหั่นแบบเต๋า ๆ แล้วก็เลือกได้ว่าราดด้วยอะไร สังขยาดังสุดนะ เลือกได้สองอย่าง แล้วก็ที่พลาดไม่ได้คือนมปั่น เพราะไม่หวานมาก แต่เย็นชื่นใจ ใครยืนรอหน้าร้านเข้าไปซื้อนมปั่นกินพลาง ๆ ไปก่อนก็ได้ ขนมปังปิ้งที่จริงก็ทั่วไปนะ แต่ว่ากินกับไอติม แล้วก็ราดสังขยาด้วยคือใช่มาก ฟินมาก คู่กับนมปั่นก็ยิ่งแจ่ม แนะนำให้มาสัก 4 คนกำลังดี อยู่ในร้านแล้วแอร์เย็น ลืมเหนื่อยที่ต้องรอนานเลย แนะนำมาก ต้องมากินอีกถ้ามากินข้าวแถวนี้\"\"\""
   ]
  },
  {
   "cell_type": "code",
   "execution_count": 27,
   "metadata": {},
   "outputs": [],
   "source": [
    "\n",
    "\n",
    "sum_prompt1 = f\"\"\"\n",
    "Summarize this text below:\n",
    "\n",
    "{text}\n",
    "\"\"\"\n",
    "messages = [\n",
    "        {\"role\": \"user\", \"content\": sum_prompt1}\n",
    "    ]\n",
    "response = openai.chat.completions.create(\n",
    "    model=\"gpt-4o\",\n",
    "    messages=messages,\n",
    ")"
   ]
  },
  {
   "cell_type": "code",
   "execution_count": 28,
   "metadata": {},
   "outputs": [
    {
     "name": "stdout",
     "output_type": "stream",
     "text": [
      "ร้านนี้ตั้งอยู่แถวบรรทัดทอง สามารถจอดรถที่สวนหลวงสแควร์แล้วเดินมาเพียงนิดเดียว คิวยาวมากแนะนำให้โหลดแอพคิวคิวเพื่อจองคิวและไปทำอย่างอื่นระหว่างรอ เวลากินควรลองขนมปังปิ้งที่เป็นไฮไลท์ของร้าน ขนมปังปิ้งมีแบบหั่นเต๋าและสามารถเลือกได้ว่าจะราดด้วยอะไร โดยสังขยาเป็นที่นิยม นอกจากนี้นมปั่นก็เป็นอีกหนึ่งเมนูที่แนะนำเพราะไม่หวานมาก แต่เย็นชื่นใจ เหมาะสำหรับการมาทานเป็นกลุ่มแนะนำประมาณ 4 คน ในร้านมีแอร์เย็นทำให้ลืมความเหน็ดเหนื่อยจากการรอคิว\n"
     ]
    }
   ],
   "source": [
    "print (response.choices[0].message.content)"
   ]
  },
  {
   "cell_type": "code",
   "execution_count": 29,
   "metadata": {},
   "outputs": [],
   "source": [
    "sum_prompt2 = \"\"\"\n",
    "Summarize this text below. The summary must be only about food. No more than 3 sentences. :\n",
    "\n",
    "ร้านนี้อยู่แถวบรรทัดทอง จอดรถตรงสวนหลวงสแควร์แล้วเดินมานิดเดียวก็ถึงแล้ว คิวยาวมากกกกก ควรจะโหลดแอพคิวคิวแล้วก็กดจองคิว แล้วก็เดินไปกินอย่างอื่นก็ได้ สักประมาณชั่วโมงกว่า ๆ น่าจะพอได้ รอดูคิวบนแอพด้วยนะ ไม่งั้นเค้าข้าม มาร้านนี้ต้องมากินขนมปังปิ้งอยู่แล้ว เราลองเป็นเซ็ตที่เป็นขนมปังปิ้งหั่นแบบเต๋า ๆ แล้วก็เลือกได้ว่าราดด้วยอะไร สังขยาดังสุดนะ เลือกได้สองอย่าง แล้วก็ที่พลาดไม่ได้คือนมปั่น เพราะไม่หวานมาก แต่เย็นชื่นใจ ใครยืนรอหน้าร้านเข้าไปซื้อนมปั่นกินพลาง ๆ ไปก่อนก็ได้ ขนมปังปิ้งที่จริงก็ทั่วไปนะ แต่ว่ากินกับไอติม แล้วก็ราดสังขยาด้วยคือใช่มาก ฟินมาก คู่กับนมปั่นก็ยิ่งแจ่ม แนะนำให้มาสัก 4 คนกำลังดี อยู่ในร้านแล้วแอร์เย็น ลืมเหนื่อยที่ต้องรอนานเลย แนะนำมาก ต้องมากินอีกถ้ามากินข้าวแถวนี้\n",
    "\"\"\"\n",
    "messages = [\n",
    "        {\"role\": \"user\", \"content\": sum_prompt2}\n",
    "    ]\n",
    "response = openai.chat.completions.create(\n",
    "    model=\"gpt-4o\",\n",
    "    messages=messages,\n",
    ")\n",
    "print(response.choices[0].message.content)"
   ]
  },
  {
   "cell_type": "code",
   "execution_count": 30,
   "metadata": {},
   "outputs": [
    {
     "name": "stdout",
     "output_type": "stream",
     "text": [
      "ร้านนี้มีขนมปังปิ้งหั่นเต๋าให้เลือกหลายตัวเลือกราดหน้า โดยสังขยาเป็นที่นิยมที่สุด นมปั่นไม่หวานมากแต่เย็นชื่นใจเหมาะสำหรับรอคิว. ขนมปังปิ้งราดสังขยาและกินคู่กับไอติมหรือนมปั่นทำให้ฟินมาก.\n"
     ]
    }
   ],
   "source": [
    "print(response.choices[0].message.content)"
   ]
  },
  {
   "cell_type": "code",
   "execution_count": 33,
   "metadata": {},
   "outputs": [
    {
     "name": "stdout",
     "output_type": "stream",
     "text": [
      "หมวดหมู่: ร้านอาหาร (restaurant)\n"
     ]
    }
   ],
   "source": [
    "categorization_prompt = f\"\"\"\n",
    "Categorize the review below into one of the following categories: restaurant, market, barbershop, bar, tourist attractions, or beauty products:\n",
    "\n",
    "{text}\n",
    "\"\"\"\n",
    "messages = [\n",
    "        {\"role\": \"user\", \"content\": categorization_prompt}\n",
    "    ]\n",
    "response = openai.chat.completions.create(\n",
    "    model=\"gpt-4o\",\n",
    "    messages=messages,\n",
    ")\n",
    "print(response.choices[0].message.content)"
   ]
  },
  {
   "cell_type": "code",
   "execution_count": 34,
   "metadata": {},
   "outputs": [
    {
     "name": "stdout",
     "output_type": "stream",
     "text": [
      "[restaurant]\n"
     ]
    }
   ],
   "source": [
    "categorization_prompt2 = f\"\"\"\n",
    "Categorize the review below into one of the following categories: restaurant, market, barbershop, bar, tourist attractions, or beauty products. The output must be one of the category names in []:\n",
    "\n",
    "{text}\n",
    "\"\"\"\n",
    "messages = [\n",
    "        {\"role\": \"user\", \"content\": categorization_prompt2}\n",
    "    ]\n",
    "response = openai.chat.completions.create(\n",
    "    model=\"gpt-4o\",\n",
    "    messages=messages,\n",
    ")\n",
    "print(response.choices[0].message.content)"
   ]
  },
  {
   "cell_type": "code",
   "execution_count": 9,
   "metadata": {},
   "outputs": [
    {
     "name": "stdout",
     "output_type": "stream",
     "text": [
      "```json\n",
      "{\n",
      "    \"food\": \"ร้านนี้ต้องมากินขนมปังปิ้งสังขยาและนมปั่นเย็นชื่นใจที่ไม่หวานมาก.\",\n",
      "    \"ambiance\": \"\"\n",
      "}\n",
      "```\n"
     ]
    }
   ],
   "source": [
    "sum_prompt3 = \"\"\"\n",
    "Summarize this text below. The summary must be only about food. No more than 1 sentence. The output must be in this raw JSON string dictionary. \n",
    "'{'food': summary about food only, \n",
    " 'ambiance': summary about ambiance only\n",
    "}'\n",
    "\n",
    "\n",
    "ร้านนี้อยู่แถวบรรทัดทอง จอดรถตรงสวนหลวงสแควร์แล้วเดินมานิดเดียวก็ถึงแล้ว คิวยาวมากกกกก ควรจะโหลดแอพคิวคิวแล้วก็กดจองคิว แล้วก็เดินไปกินอย่างอื่นก็ได้ สักประมาณชั่วโมงกว่า ๆ น่าจะพอได้ รอดูคิวบนแอพด้วยนะ ไม่งั้นเค้าข้าม มาร้านนี้ต้องมากินขนมปังปิ้งอยู่แล้ว เราลองเป็นเซ็ตที่เป็นขนมปังปิ้งหั่นแบบเต๋า ๆ แล้วก็เลือกได้ว่าราดด้วยอะไร สังขยาดังสุดนะ เลือกได้สองอย่าง แล้วก็ที่พลาดไม่ได้คือนมปั่น เพราะไม่หวานมาก แต่เย็นชื่นใจ ใครยืนรอหน้าร้านเข้าไปซื้อนมปั่นกินพลาง ๆ ไปก่อนก็ได้ ขนมปังปิ้งที่จริงก็ทั่วไปนะ แต่ว่ากินกับไอติม แล้วก็ราดสังขยาด้วยคือใช่มาก ฟินมาก คู่กับนมปั่นก็ยิ่งแจ่ม แนะนำให้มาสัก 4 คนกำลังดี อยู่ในร้านแล้วแอร์เย็น ลืมเหนื่อยที่ต้องรอนานเลย แนะนำมาก ต้องมากินอีกถ้ามากินข้าวแถวนี้\n",
    "\"\"\"\n",
    "messages = [\n",
    "        {\"role\": \"user\", \"content\": sum_prompt3}\n",
    "    ]\n",
    "response = openai.chat.completions.create(\n",
    "    model=\"gpt-4o\",\n",
    "    messages=messages,\n",
    ")\n",
    "print(response.choices[0].message.content)"
   ]
  },
  {
   "cell_type": "code",
   "execution_count": 7,
   "metadata": {},
   "outputs": [
    {
     "data": {
      "text/plain": [
       "'```json\\n{\\n    \"food\": \"ต้องมากินขนมปังปิ้งหั่นแบบเต๋า ๆ ที่สามารถเลือกราดด้วยสังขยาหรือไอติมและนมปั่นที่ไม่หวานมาก แต่เย็นชื่นใจ\",\\n    \"ambiance\": \"อยู่ในร้านแล้วแอร์เย็น ลืมเหนื่อยที่ต้องรอนานเลย\"\\n}\\n```'"
      ]
     },
     "execution_count": 7,
     "metadata": {},
     "output_type": "execute_result"
    }
   ],
   "source": [
    "response.choices[0].message.content"
   ]
  },
  {
   "cell_type": "code",
   "execution_count": null,
   "metadata": {},
   "outputs": [],
   "source": []
  }
 ],
 "metadata": {
  "kernelspec": {
   "display_name": "base",
   "language": "python",
   "name": "python3"
  },
  "language_info": {
   "codemirror_mode": {
    "name": "ipython",
    "version": 3
   },
   "file_extension": ".py",
   "mimetype": "text/x-python",
   "name": "python",
   "nbconvert_exporter": "python",
   "pygments_lexer": "ipython3",
   "version": "3.11.4"
  }
 },
 "nbformat": 4,
 "nbformat_minor": 2
}
