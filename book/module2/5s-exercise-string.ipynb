{
 "cells": [
  {
   "cell_type": "markdown",
   "metadata": {},
   "source": [
    "# เฉลยแบบฝึกหัด: สตริง\n",
    "\n",
    "## โจทย์ปัญหาเรื่องสตริง"
   ]
  },
  {
   "cell_type": "markdown",
   "metadata": {},
   "source": [
    "#### ข้อ 1"
   ]
  },
  {
   "cell_type": "code",
   "execution_count": 1,
   "metadata": {},
   "outputs": [],
   "source": [
    "def detect_prefix_suffix(word, affix):\n",
    "    \"\"\"\n",
    "    ตัวอย่าง\n",
    "\n",
    "    >>> detect_prefix_suffix('หน้าเนื้อ', 'หน้า')\n",
    "    '-เนื้อ'\n",
    "    >>> detect_prefix_suffix('การเดินทาง', 'การ')\n",
    "    '-เดินทาง'\n",
    "    >>> detect_prefix_suffix('เหลือใจ', 'ใจ')\n",
    "    'เหลือ-'\n",
    "    >>> detect_prefix_suffix('ใจ', 'ใจ')\n",
    "    ''\n",
    "    >>> detect_prefix_suffix('หน้าเนื้อใจเสือ', 'ใจ')\n",
    "    ''\n",
    "    \"\"\"\n",
    "    if affix == word: # ถ้า affix เท่ากับ word\n",
    "        return '' # ไม่ต้องทำอะไร\n",
    "\n",
    "    elif word[:len(affix)] == affix: # ถ้า word ขึ้นต้นด้วย affix\n",
    "        return '-' + word[len(affix):] # ตัด affix ออกจาก word แล้วเติม - ไว้ข้างหน้า\n",
    "\n",
    "    elif word[-1 * len(affix):] == affix: # ถ้า word ลงท้ายด้วย affix\n",
    "        return word[:-len(affix)] + '-' # ตัด affix ออกจาก word แล้วเติม - ไว้ข้างหลัง\n",
    "\n",
    "    else: # ถ้า affix ไม่ใช่ prefix หรือ suffix ของ word\n",
    "        return ''"
   ]
  },
  {
   "cell_type": "code",
   "execution_count": 2,
   "metadata": {},
   "outputs": [
    {
     "name": "stdout",
     "output_type": "stream",
     "text": [
      "-เนื้อ\n",
      "-เดินทาง\n",
      "เหลือ-\n",
      "\n",
      "\n"
     ]
    }
   ],
   "source": [
    "print(detect_prefix_suffix('หน้าเนื้อ', 'หน้า'))\n",
    "print(detect_prefix_suffix('การเดินทาง', 'การ'))\n",
    "print(detect_prefix_suffix('เหลือใจ', 'ใจ'))\n",
    "print(detect_prefix_suffix('ใจ', 'ใจ'))\n",
    "print(detect_prefix_suffix('หน้าเนื้อใจเสือ', 'ใจ'))"
   ]
  },
  {
   "cell_type": "markdown",
   "metadata": {},
   "source": [
    "#### ข้อ 2\n"
   ]
  },
  {
   "cell_type": "code",
   "execution_count": 3,
   "metadata": {},
   "outputs": [],
   "source": [
    "def is_word(word):\n",
    "\t\"\"\"is word a valid word?\n",
    "\t\n",
    "\tAssume four words in the vocabulary\n",
    "\t\"\"\"\n",
    "\treturn word in ['head', 'band', 'set', 'war']\n",
    "\n",
    "\t\n",
    "def splittable(word):\n",
    "\t\"\"\"\n",
    "\tตัวอย่าง\n",
    "\t>>> splittable('headband') \n",
    "\tTrue\n",
    "\t>>> splittable('warhead')\n",
    "\tTrue\n",
    "\t>>> splittable('bandid')\n",
    "\tFalse\n",
    "\t\"\"\"\n",
    "\t# แบ่ง word ออกเป็นสองส่วน โดยเริ่มจากส่วนหน้าที่ยาวที่สุด\n",
    "\tfor i in range(1, len(word)):\n",
    "\t\tfirst_half = word[:i] # ส่วนหน้า\n",
    "\t\tsecond_half = word[i:] # ส่วนท้าย\n",
    "\t\t# ถ้าส่วนหน้าเป็นคำที่ถูกต้อง และส่วนท้ายเป็นคำที่ถูกต้อง\n",
    "\t\tif is_word(first_half) and is_word(second_half):\n",
    "\t\t\treturn True # คืนค่า True\n",
    "\treturn False # คืนค่า False"
   ]
  },
  {
   "cell_type": "markdown",
   "metadata": {
    "id": "PZyorXmLaWLN",
    "tags": []
   },
   "source": [
    "#### ข้อ 3"
   ]
  },
  {
   "cell_type": "code",
   "execution_count": 7,
   "metadata": {
    "id": "O4Qgn38naWLO"
   },
   "outputs": [],
   "source": [
    "def reverse_string(text):\n",
    "    reversed_text = '' # สร้าง string ว่าง ไว้เก็บคำที่กลับหลัง\n",
    "    for i in range(len(text)-1, -1, -1):  # วนลูปตั้งแต่ตัวสุดท้ายจนถึงตัวแรก\n",
    "        reversed_text += text[i] # เพิ่มตัวอักษรจาก text ไปใน reversed_text\n",
    "    return reversed_text"
   ]
  },
  {
   "cell_type": "code",
   "execution_count": 8,
   "metadata": {},
   "outputs": [
    {
     "name": "stdout",
     "output_type": "stream",
     "text": [
      "olleH\n",
      "larutaN\n"
     ]
    }
   ],
   "source": [
    "print(reverse_string('Hello'))\n",
    "print(reverse_string('Natural'))"
   ]
  },
  {
   "cell_type": "markdown",
   "metadata": {
    "id": "ffL_WDWiaWLU"
   },
   "source": [
    "#### ข้อ 4"
   ]
  },
  {
   "cell_type": "code",
   "execution_count": 9,
   "metadata": {
    "id": "pE_OkG4caWLU"
   },
   "outputs": [],
   "source": [
    "def is_palindrome(word):\n",
    "    # create a reversed string\n",
    "    reversed_word = word[::-1] # หรือจะใช้วิธีแบบข้อ 3 ก็ได้ reverse_string(word)\n",
    "    # compare the reversed string with the original string\n",
    "    if word == reversed_word:\n",
    "        return True\n",
    "    else:\n",
    "        return False"
   ]
  },
  {
   "cell_type": "code",
   "execution_count": 10,
   "metadata": {},
   "outputs": [
    {
     "name": "stdout",
     "output_type": "stream",
     "text": [
      "True\n",
      "True\n",
      "False\n"
     ]
    }
   ],
   "source": [
    "print(is_palindrome('noon'))\n",
    "print(is_palindrome('TENET'))\n",
    "print(is_palindrome('Tenet'))"
   ]
  },
  {
   "cell_type": "markdown",
   "metadata": {
    "id": "jbOnuvAAaWLa"
   },
   "source": [
    "#### ข้อ 5"
   ]
  },
  {
   "cell_type": "code",
   "execution_count": 11,
   "metadata": {
    "id": "OnSznbrizHo6"
   },
   "outputs": [],
   "source": [
    "def eng_to_pig_latin(english_word):\n",
    "    first_letter = english_word[0] # ตัวอักษรตัวแรก\n",
    "    rest_of_word = english_word[1:] # ตัวอักษรที่เหลือ\n",
    "    pig_latin = rest_of_word + first_letter + 'a' # ต่อตัวอักษรที่เหลือ ตัวอักษรตัวแรก และ a\n",
    "    return pig_latin"
   ]
  },
  {
   "cell_type": "code",
   "execution_count": 12,
   "metadata": {},
   "outputs": [
    {
     "name": "stdout",
     "output_type": "stream",
     "text": [
      "elloha\n",
      "leepsa\n"
     ]
    }
   ],
   "source": [
    "print(eng_to_pig_latin('hello'))\n",
    "print(eng_to_pig_latin('sleep'))"
   ]
  },
  {
   "cell_type": "markdown",
   "metadata": {
    "id": "qJ1iuWzraWLf"
   },
   "source": [
    "### ข้อ 6"
   ]
  },
  {
   "cell_type": "code",
   "execution_count": 13,
   "metadata": {
    "id": "8xNhOXv-aWLf"
   },
   "outputs": [],
   "source": [
    "def flip_string(text_to_flip):\n",
    "    # หาความยาวของ text_to_flip\n",
    "    length = len(text_to_flip)\n",
    "\n",
    "    if length % 2 == 0: # ถ้าความยาวเป็นเลขคู่\n",
    "        middle = length // 2 # หาตำแหน่งกึ่งกลาง\n",
    "        first_half = text_to_flip[:middle] # ตัดคำตั้งแต่ตัวแรกจนถึงตำแหน่งกึ่งกลาง\n",
    "        second_half = text_to_flip[middle:] # ตัดคำตั้งแต่ตำแหน่งกึ่งกลางจนถึงตัวสุดท้าย\n",
    "        return second_half + first_half # ต่อคำตัวหลัง แล้วต่อคำตัวหน้า\n",
    "    else: # ถ้าความยาวเป็นเลขคี่\n",
    "        no_first_letter = text_to_flip[1:] # ตัดตัวอักษรตัวแรกออก\n",
    "        middle = len(no_first_letter) // 2 # หาตำแหน่งกึ่งกลาง\n",
    "        first_half = no_first_letter[:middle] # ตัดคำตั้งแต่ตัวแรกจนถึงตำแหน่งกึ่งกลาง\n",
    "        second_half = no_first_letter[middle:] # ตัดคำตั้งแต่ตำแหน่งกึ่งกลางจนถึงตัวสุดท้าย\n",
    "        first_letter = text_to_flip[0] # ตัวอักษรตัวแรก\n",
    "        return first_letter+second_half+first_half # ต่อตัวอักษรตัวแรก ต่อคำตัวหลัง แล้วต่อคำตัวหน้า"
   ]
  },
  {
   "cell_type": "code",
   "execution_count": 14,
   "metadata": {},
   "outputs": [
    {
     "name": "stdout",
     "output_type": "stream",
     "text": [
      "arbe\n",
      "hloel\n",
      "uagelang\n",
      "nralatu\n"
     ]
    }
   ],
   "source": [
    "print(flip_string('bear'))\n",
    "print(flip_string('hello'))\n",
    "print(flip_string('language'))\n",
    "print(flip_string('natural'))"
   ]
  },
  {
   "cell_type": "markdown",
   "metadata": {
    "id": "FO3Uk2mcaWLk"
   },
   "source": [
    "### ข้อ 7"
   ]
  },
  {
   "cell_type": "code",
   "execution_count": 15,
   "metadata": {
    "id": "fmtt1EwnaWLl"
   },
   "outputs": [],
   "source": [
    "def sum_except15():\n",
    "    result = 0\n",
    "    for i in range(100): # วนลูปตั้งแต่ 0 ถึง 99\n",
    "        if \"1\" not in str(i) and \"5\" not in str(i): # ถ้าไม่มีเลข 1 หรือ 5 ใน i\n",
    "            result += i # บวก i เข้ากับ result\n",
    "    return result"
   ]
  },
  {
   "cell_type": "markdown",
   "metadata": {
    "id": "EchA6wQyaWLn"
   },
   "source": [
    "### ข้อ 8"
   ]
  },
  {
   "cell_type": "code",
   "execution_count": 17,
   "metadata": {
    "id": "4a-tCYjoaWLn"
   },
   "outputs": [],
   "source": [
    "def postal_table(raw_text):\n",
    "    new_string = ''\n",
    "    for i in range(len(raw_text)): # วนลูปตั้งแต่ตัวแรกจนถึงตัวสุดท้าย\n",
    "        if raw_text[i] != ' ': # ถ้าไม่ใช่ space\n",
    "            new_string += raw_text[i] # เพิ่มตัวอักษรเข้าไปใน new_string\n",
    "        else:  # ถ้าเป็น space\n",
    "            if raw_text[i+1].isdigit(): # ถ้าตัวถัดไปเป็นตัวเลข\n",
    "                new_string += '\\t' # เพิ่ม tab ใน new_string\n",
    "            else:\n",
    "                new_string += '\\n' # เพิ่ม newline ใน new_string\n",
    "    return new_string"
   ]
  },
  {
   "cell_type": "code",
   "execution_count": 18,
   "metadata": {},
   "outputs": [
    {
     "name": "stdout",
     "output_type": "stream",
     "text": [
      "Wattana\t10110\n",
      "Yannawa\t10120\n",
      "Dusit\t10300\n"
     ]
    }
   ],
   "source": [
    "print(postal_table('Wattana 10110 Yannawa 10120 Dusit 10300'))"
   ]
  },
  {
   "cell_type": "markdown",
   "metadata": {
    "id": "XYblJd88aWLp"
   },
   "source": [
    "### ข้อ 9"
   ]
  },
  {
   "cell_type": "code",
   "execution_count": 19,
   "metadata": {
    "id": "Y2fStqxjaWLp"
   },
   "outputs": [],
   "source": [
    "def is_float():\n",
    "    user_input = input('Please enter the input: ') # รับ input จากผู้ใช้\n",
    "    print('User Input: '.format(user_input))\n",
    "    user_input = user_input.replace('-', '') # ลบ - ออกจาก user_input (ถ้ามี)\n",
    "    if user_input.count('.') == 1 and user_input.replace('.', '').isdigit(): # ถ้า user_input มี . 1 ตัว และเป็นตัวเลข\n",
    "        return True\n",
    "    else:\n",
    "        return False"
   ]
  },
  {
   "cell_type": "markdown",
   "metadata": {
    "id": "VVOkpIF8aWLw"
   },
   "source": [
    "### ข้อ 10"
   ]
  },
  {
   "cell_type": "code",
   "execution_count": 30,
   "metadata": {
    "id": "34HMS83IaWLx"
   },
   "outputs": [],
   "source": [
    "import string, random\n",
    "def generate_password(n):\n",
    "    if n < 6:\n",
    "        n = 6\n",
    "    num_char = n - 2 # จำนวนตัวอักษรที่เป็นตัวอักษรภาษาอังกฤษ\n",
    "    password = ''\n",
    "    for i in range(num_char): # สุ่มตัวอักษรภาษาอังกฤษ ตามจำนวนที่กำหนด\n",
    "        password += random.choice(string.ascii_letters) # เพิ่มตัวอักษรภาษาอังกฤษ\n",
    "    for i in range(2): # สุ่มตัวเลข จำนวน 2 ตัว\n",
    "        password += random.choice(string.digits) # เพิ่มตัวเลข\n",
    "    return password"
   ]
  },
  {
   "cell_type": "markdown",
   "metadata": {},
   "source": [
    "### ข้อ 11\n",
    "#### 11.1"
   ]
  },
  {
   "cell_type": "code",
   "execution_count": 22,
   "metadata": {},
   "outputs": [],
   "source": [
    "def is_past_form(word):\n",
    "    \"\"\"\n",
    "    ตัวอย่าง\n",
    "    >>> is_past_form('pasted')\n",
    "    True\n",
    "    >>> is_past_form('brushed')\n",
    "    True\n",
    "    >>> is_past_form('SpotTed')\n",
    "    False\n",
    "    >>> is_past_form('ate')\n",
    "    False\n",
    "    >>> is_past_form('M34ed')\n",
    "    False\n",
    "    \"\"\"\n",
    "    # ถ้า word ลงท้ายด้วย ed และเป็นตัวอักษร และไม่ขึ้นต้นด้วยตัวพิมพ์ใหญ่\n",
    "    if word[-2:] == 'ed' and word.isalpha() and not word[0].isupper(): \n",
    "        return True\n",
    "    else:\n",
    "        return False"
   ]
  },
  {
   "cell_type": "code",
   "execution_count": 23,
   "metadata": {},
   "outputs": [
    {
     "name": "stdout",
     "output_type": "stream",
     "text": [
      "True\n",
      "True\n",
      "False\n",
      "False\n",
      "False\n"
     ]
    }
   ],
   "source": [
    "print(is_past_form('pasted'))\n",
    "print(is_past_form('brushed'))\n",
    "print(is_past_form('SpotTed'))\n",
    "print(is_past_form('ate'))\n",
    "print(is_past_form('M34ed'))"
   ]
  },
  {
   "cell_type": "markdown",
   "metadata": {},
   "source": [
    "#### 11.2"
   ]
  },
  {
   "cell_type": "code",
   "execution_count": 24,
   "metadata": {},
   "outputs": [],
   "source": [
    "def pronounce_ed(word):\n",
    "    \"\"\"\n",
    "    ตัวอย่าง\n",
    "    >>> pronounce_ed('SpotTed')\n",
    "    ''\n",
    "    >>> pronounce_ed('spotted')\n",
    "    '/id/'\n",
    "    >>> pronounce_ed('1254ed')\n",
    "    ''\n",
    "    >>> pronounce_ed('refreshed')\n",
    "    '/t/'\n",
    "    \"\"\"\n",
    "    if is_past_form(word): # ถ้า word เป็น past form\n",
    "        if word[-3] == 't' or word[-3] =='d': # ถ้า word ลงท้ายด้วย t หรือ d\n",
    "            return '/id/'\n",
    "        elif word[-3] == 's' or word[-4:-2] == 'sh': # ถ้า word ลงท้ายด้วย s หรือ sh\n",
    "            return '/t/'\n",
    "        else: # ถ้า word ลงท้ายด้วยอักษรอื่น\n",
    "            return '/d/'\n",
    "    else:\n",
    "        return ''"
   ]
  },
  {
   "cell_type": "code",
   "execution_count": 25,
   "metadata": {},
   "outputs": [
    {
     "name": "stdout",
     "output_type": "stream",
     "text": [
      "\n",
      "/id/\n",
      "\n",
      "/t/\n"
     ]
    }
   ],
   "source": [
    "print(pronounce_ed('SpotTed'))\n",
    "print(pronounce_ed('spotted'))\n",
    "print(pronounce_ed('1254ed'))\n",
    "print(pronounce_ed('refreshed'))"
   ]
  },
  {
   "cell_type": "markdown",
   "metadata": {},
   "source": [
    "### ข้อ 12"
   ]
  },
  {
   "cell_type": "code",
   "execution_count": 26,
   "metadata": {},
   "outputs": [],
   "source": [
    "def initial_name(name):\n",
    "    \"\"\"\n",
    "    >>> initial_name('Mary Beth')\n",
    "    MB\n",
    "    >>> initial_name('Lara Jean')\n",
    "    LJ\n",
    "    >>> initial_name('Alexander')\n",
    "    Please enter valid name.\n",
    "    >>> initial_name('Mary McLeod')\n",
    "    Please enter valid name.\n",
    "    \"\"\"\n",
    "    initial = '' # สร้าง string ว่าง\n",
    "    for char in name: # วนลูปตั้งแต่ตัวแรกจนถึงตัวสุดท้าย\n",
    "        if char.isupper(): # ถ้าเป็นตัวพิมพ์ใหญ่\n",
    "            initial += char # เพิ่มตัวอักษรใน initial\n",
    "    if len(initial) == 2: # ถ้า initial มีความยาว 2\n",
    "        return initial # คืนค่า initial\n",
    "    else: # ถ้า initial ไม่มีความยาว 2\n",
    "        return 'Please enter valid name.'"
   ]
  },
  {
   "cell_type": "code",
   "execution_count": 27,
   "metadata": {},
   "outputs": [
    {
     "name": "stdout",
     "output_type": "stream",
     "text": [
      "MB\n",
      "LJ\n",
      "Please enter valid name.\n",
      "Please enter valid name.\n"
     ]
    }
   ],
   "source": [
    "print(initial_name('Mary Beth'))\n",
    "print(initial_name('Lara Jean'))\n",
    "print(initial_name('Alexander'))\n",
    "print(initial_name('Mary McLeod'))"
   ]
  },
  {
   "cell_type": "markdown",
   "metadata": {},
   "source": [
    "### ข้อ 13"
   ]
  },
  {
   "cell_type": "code",
   "execution_count": 28,
   "metadata": {},
   "outputs": [],
   "source": [
    "def count_anomalies(word):\n",
    "    \"\"\"\n",
    "    ตัวอย่าง input และ output ที่ถูกต้อง:\n",
    "    >>> num_anomalies(\"Hello\")\n",
    "    0\n",
    "    >>> num_anomalies(\"hello\")\n",
    "    0\n",
    "    >>> num_anomalies(\"hEllo\")\n",
    "    1\n",
    "    >>> num_anomalies(\"HeLLo\")\n",
    "    2\n",
    "    >>> num_anomalies(\"hELLo\")\n",
    "    3\n",
    "    >>> num_anomalies(\"HELLO\")\n",
    "    4\n",
    "    \"\"\"\n",
    "    num_anomalies = 0\n",
    "    for character in word[1:]: # วนลูปตั้งแต่ตัวที่ 2 จนถึงตัวสุดท้าย\n",
    "        if character.isupper(): # ถ้าเป็นตัวพิมพ์ใหญ่\n",
    "            num_anomalies += 1 # เพิ่มค่า num_anomalies ขึ้น 1\n",
    "    return num_anomalies"
   ]
  },
  {
   "cell_type": "code",
   "execution_count": 29,
   "metadata": {},
   "outputs": [
    {
     "name": "stdout",
     "output_type": "stream",
     "text": [
      "0\n",
      "0\n",
      "1\n",
      "2\n",
      "3\n",
      "4\n"
     ]
    }
   ],
   "source": [
    "print(count_anomalies(\"Hello\"))\n",
    "print(count_anomalies(\"hello\"))\n",
    "print(count_anomalies(\"hEllo\"))\n",
    "print(count_anomalies(\"HeLLo\"))\n",
    "print(count_anomalies(\"hELLo\"))\n",
    "print(count_anomalies(\"HELLO\"))"
   ]
  }
 ],
 "metadata": {
  "colab": {
   "collapsed_sections": [],
   "name": "PC4 Strings.ipynb",
   "provenance": []
  },
  "kernelspec": {
   "display_name": "Python 3.8.12",
   "language": "python",
   "name": "python3"
  },
  "language_info": {
   "codemirror_mode": {
    "name": "ipython",
    "version": 3
   },
   "file_extension": ".py",
   "mimetype": "text/x-python",
   "name": "python",
   "nbconvert_exporter": "python",
   "pygments_lexer": "ipython3",
   "version": "3.9.13"
  },
  "vscode": {
   "interpreter": {
    "hash": "34368ba4908ea1be08ba769dfb7764ab7f8ead2384ebb5604cb86637573696f7"
   }
  }
 },
 "nbformat": 4,
 "nbformat_minor": 4
}
